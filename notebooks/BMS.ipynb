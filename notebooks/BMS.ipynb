{
 "cells": [
  {
   "cell_type": "markdown",
   "id": "0304061b",
   "metadata": {},
   "source": [
    "Imports and Setup"
   ]
  },
  {
   "cell_type": "code",
   "execution_count": 22,
   "id": "12a6e810",
   "metadata": {},
   "outputs": [
    {
     "name": "stdout",
     "output_type": "stream",
     "text": [
      "Raw data directory exists: C:\\Users\\aknin\\Desktop\\MLproject-main\\datacleaned\n",
      "Files in raw_data_directory: ['updated_modified_cleaned_549_C20DisCh.csv', 'updated_modified_cleaned_549_Dis_0p5C.csv', 'updated_modified_cleaned_549_Dis_2C.csv', 'updated_modified_cleaned_551_Cap_1C.csv', 'updated_modified_cleaned_551_Charge1.csv', 'updated_modified_cleaned_551_Charge2.csv', 'updated_modified_cleaned_551_Charge3.csv', 'updated_modified_cleaned_551_Charge4.csv', 'updated_modified_cleaned_551_Charge5.csv', 'updated_modified_cleaned_551_Charge6.csv', 'updated_modified_cleaned_551_Charge7.csv', 'updated_modified_cleaned_551_Charge8.csv', 'updated_modified_cleaned_551_HWFET.csv', 'updated_modified_cleaned_551_LA92.csv', 'updated_modified_cleaned_551_Mixed1.csv', 'updated_modified_cleaned_551_Mixed2.csv', 'updated_modified_cleaned_551_UDDS.csv', 'updated_modified_cleaned_551_US06.csv', 'updated_modified_cleaned_552_Cap_1C.csv', 'updated_modified_cleaned_552_Charge10.csv', 'updated_modified_cleaned_552_Charge11.csv', 'updated_modified_cleaned_552_Charge12.csv', 'updated_modified_cleaned_552_Charge13.csv', 'updated_modified_cleaned_552_Charge14.csv', 'updated_modified_cleaned_552_Charge15.csv', 'updated_modified_cleaned_552_Charge16.csv', 'updated_modified_cleaned_552_Charge9.csv', 'updated_modified_cleaned_552_Mixed3.csv', 'updated_modified_cleaned_552_Mixed4.csv', 'updated_modified_cleaned_552_Mixed5.csv', 'updated_modified_cleaned_552_Mixed7.csv', 'updated_modified_cleaned_552_Mixed8.csv', 'updated_modified_cleaned_552_PausCycl.csv', 'updated_modified_cleaned_555_C20DisCh.csv', 'updated_modified_cleaned_555_Dis_0p5C.csv', 'updated_modified_cleaned_555_Dis_2C.csv', 'updated_modified_cleaned_555_HPPC.csv', 'updated_modified_cleaned_556_Charge1.csv', 'updated_modified_cleaned_556_Charge2.csv', 'updated_modified_cleaned_556_Charge3.csv', 'updated_modified_cleaned_556_Charge4.csv', 'updated_modified_cleaned_556_Charge5.csv', 'updated_modified_cleaned_556_Charge6.csv', 'updated_modified_cleaned_556_Charge7.csv', 'updated_modified_cleaned_556_Charge8.csv', 'updated_modified_cleaned_556_HWFET.csv', 'updated_modified_cleaned_556_LA92.csv', 'updated_modified_cleaned_556_Mixed2.csv', 'updated_modified_cleaned_556_UDDS.csv', 'updated_modified_cleaned_556_US06.csv', 'updated_modified_cleaned_557_Cap_1C.csv', 'updated_modified_cleaned_557_Charge10.csv', 'updated_modified_cleaned_557_Charge9.csv', 'updated_modified_cleaned_557_Mixed3.csv', 'updated_modified_cleaned_562_Charge10.csv', 'updated_modified_cleaned_562_Charge11.csv', 'updated_modified_cleaned_562_Charge12.csv', 'updated_modified_cleaned_562_Charge13.csv', 'updated_modified_cleaned_562_Charge14.csv', 'updated_modified_cleaned_562_Charge15.csv', 'updated_modified_cleaned_562_Charge16.csv', 'updated_modified_cleaned_562_Mixed4.csv', 'updated_modified_cleaned_562_Mixed5.csv', 'updated_modified_cleaned_562_Mixed6.csv', 'updated_modified_cleaned_562_Mixed7.csv', 'updated_modified_cleaned_562_Mixed8.csv', 'updated_modified_cleaned_562_PausCycl.csv', 'updated_modified_cleaned_567_Charge6.csv', 'updated_modified_cleaned_567_Charge7.csv', 'updated_modified_cleaned_567_Charge8.csv', 'updated_modified_cleaned_567_Mixed2.csv', 'updated_modified_cleaned_567_US06.csv', 'updated_modified_cleaned_571_Cap_1C.csv', 'updated_modified_cleaned_571_Charge10.csv', 'updated_modified_cleaned_571_Charge11.csv', 'updated_modified_cleaned_571_Charge12.csv', 'updated_modified_cleaned_571_Charge13.csv', 'updated_modified_cleaned_571_Charge14.csv', 'updated_modified_cleaned_571_Charge15.csv', 'updated_modified_cleaned_571_Charge16.csv', 'updated_modified_cleaned_571_Mixed4.csv', 'updated_modified_cleaned_571_Mixed5.csv', 'updated_modified_cleaned_571_Mixed6.csv', 'updated_modified_cleaned_571_Mixed7.csv', 'updated_modified_cleaned_571_PausCycl.csv', 'updated_modified_cleaned_575_C20DisCh.csv', 'updated_modified_cleaned_575_Dis_0p5C.csv', 'updated_modified_cleaned_575_Dis_2C.csv', 'updated_modified_cleaned_575_HPPC.csv', 'updated_modified_cleaned_576_Cap_1C.csv', 'updated_modified_cleaned_576_Charge1.csv', 'updated_modified_cleaned_576_Charge2.csv', 'updated_modified_cleaned_576_Charge3.csv', 'updated_modified_cleaned_576_Charge4.csv', 'updated_modified_cleaned_576_HWFET.csv', 'updated_modified_cleaned_576_UDDS.csv', 'updated_modified_cleaned_582_LA92.csv', 'updated_modified_cleaned_585_Dis_0p5C.csv', 'updated_modified_cleaned_585_Dis_2C.csv', 'updated_modified_cleaned_585_HPPC.csv', 'updated_modified_cleaned_589_Cap_1C.csv', 'updated_modified_cleaned_589_Charge1.csv', 'updated_modified_cleaned_589_Charge2.csv', 'updated_modified_cleaned_589_Charge3.csv', 'updated_modified_cleaned_589_Charge4.csv', 'updated_modified_cleaned_589_Charge5.csv', 'updated_modified_cleaned_589_Charge6.csv', 'updated_modified_cleaned_589_Charge7.csv', 'updated_modified_cleaned_589_Charge8.csv', 'updated_modified_cleaned_589_HWFET.csv', 'updated_modified_cleaned_589_LA92.csv', 'updated_modified_cleaned_589_Mixed2.csv', 'updated_modified_cleaned_589_UDDS.csv', 'updated_modified_cleaned_589_US06.csv', 'updated_modified_cleaned_590_Charge10.csv', 'updated_modified_cleaned_590_Charge11.csv', 'updated_modified_cleaned_590_Charge12.csv', 'updated_modified_cleaned_590_Charge13.csv', 'updated_modified_cleaned_590_Charge14.csv', 'updated_modified_cleaned_590_Charge15.csv', 'updated_modified_cleaned_590_Charge16.csv', 'updated_modified_cleaned_590_Mixed4.csv', 'updated_modified_cleaned_590_Mixed5.csv', 'updated_modified_cleaned_590_Mixed6.csv', 'updated_modified_cleaned_590_Mixed7.csv', 'updated_modified_cleaned_590_Mixed8.csv', 'updated_modified_cleaned_590_PausCycl.csv', 'updated_modified_cleaned_593_C20DisCh.csv', 'updated_modified_cleaned_593_Dis_0p5C.csv', 'updated_modified_cleaned_593_Dis_2C.csv', 'updated_modified_cleaned_596_Cap_1C.csv', 'updated_modified_cleaned_596_Charge1.csv', 'updated_modified_cleaned_596_Charge2.csv', 'updated_modified_cleaned_596_Charge3.csv', 'updated_modified_cleaned_596_Charge4.csv', 'updated_modified_cleaned_596_Charge5.csv', 'updated_modified_cleaned_596_HWFET.csv', 'updated_modified_cleaned_596_LA92.csv', 'updated_modified_cleaned_601_Charge6.csv', 'updated_modified_cleaned_601_Charge7.csv', 'updated_modified_cleaned_601_Charge8.csv', 'updated_modified_cleaned_601_Mixed1.csv', 'updated_modified_cleaned_601_Mixed2.csv', 'updated_modified_cleaned_601_US06.csv', 'updated_modified_cleaned_602_Cap_1C.csv', 'updated_modified_cleaned_602_Charge10.csv', 'updated_modified_cleaned_602_Charge11.csv', 'updated_modified_cleaned_602_Charge12.csv', 'updated_modified_cleaned_602_Charge17.csv', 'updated_modified_cleaned_602_Mixed5.csv', 'updated_modified_cleaned_604_Charge10.csv', 'updated_modified_cleaned_604_Charge13.csv', 'updated_modified_cleaned_604_Charge14.csv', 'updated_modified_cleaned_604_Charge15.csv', 'updated_modified_cleaned_604_Charge16.csv', 'updated_modified_cleaned_604_Charge17.csv', 'updated_modified_cleaned_604_Charge9.csv', 'updated_modified_cleaned_604_Mixed3.csv', 'updated_modified_cleaned_604_Mixed6.csv', 'updated_modified_cleaned_604_Mixed7.csv', 'updated_modified_cleaned_604_Mixed8.csv', 'updated_modified_cleaned_604_PausCycl.csv', 'updated_modified_cleaned_607_C20DisCh.csv', 'updated_modified_cleaned_607_Dis_0p5C.csv', 'updated_modified_cleaned_607_Dis_2C.csv', 'updated_modified_cleaned_607_HPPC.csv', 'updated_modified_cleaned_610_Cap_1C.csv', 'updated_modified_cleaned_610_Charge1.csv', 'updated_modified_cleaned_610_Charge2.csv', 'updated_modified_cleaned_610_Charge3.csv', 'updated_modified_cleaned_610_Charge4.csv', 'updated_modified_cleaned_610_Charge5.csv', 'updated_modified_cleaned_610_Charge6.csv', 'updated_modified_cleaned_610_Charge7.csv', 'updated_modified_cleaned_610_Charge8.csv', 'updated_modified_cleaned_610_HWFET.csv', 'updated_modified_cleaned_610_LA92.csv', 'updated_modified_cleaned_610_Mixed1.csv', 'updated_modified_cleaned_610_Mixed2.csv', 'updated_modified_cleaned_610_UDDS.csv', 'updated_modified_cleaned_610_US06.csv', 'updated_modified_cleaned_611_Cap_1C.csv', 'updated_modified_cleaned_611_Charge10.csv', 'updated_modified_cleaned_611_Charge11.csv', 'updated_modified_cleaned_611_Charge12.csv', 'updated_modified_cleaned_611_Charge13.csv', 'updated_modified_cleaned_611_Charge14.csv', 'updated_modified_cleaned_611_Charge15.csv', 'updated_modified_cleaned_611_Charge17.csv', 'updated_modified_cleaned_611_Charge9.csv', 'updated_modified_cleaned_611_Mixed3.csv', 'updated_modified_cleaned_611_Mixed4.csv', 'updated_modified_cleaned_611_Mixed5.csv', 'updated_modified_cleaned_611_Mixed6.csv', 'updated_modified_cleaned_611_Mixed7.csv', 'updated_modified_cleaned_611_Mixed8.csv', 'updated_modified_cleaned_611_PausCycl.csv']\n",
      "CSV files found: 197\n",
      "Sample CSV files: ['updated_modified_cleaned_549_C20DisCh.csv', 'updated_modified_cleaned_549_Dis_0p5C.csv', 'updated_modified_cleaned_549_Dis_2C.csv', 'updated_modified_cleaned_551_Cap_1C.csv', 'updated_modified_cleaned_551_Charge1.csv']\n",
      "Directories set up successfully.\n"
     ]
    }
   ],
   "source": [
    "# Import libraries\n",
    "import sys\n",
    "import os\n",
    "import pandas as pd\n",
    "import matplotlib.pyplot as plt\n",
    "from scipy.interpolate import interp1d\n",
    "from tqdm import tqdm\n",
    "import logging\n",
    "\n",
    "# Set up logging to a file\n",
    "logging.basicConfig(\n",
    "    filename=\"processing_log.log\",\n",
    "    level=logging.INFO,\n",
    "    format=\"%(asctime)s %(levelname)s:%(message)s\",\n",
    ")\n",
    "\n",
    "# Define column names for the DataFrame\n",
    "timestamp_col = \"Timestamp\"\n",
    "time_col = \"Time [min]\"\n",
    "time_col_s = \"Time [s]\"\n",
    "voltage_col = \"Voltage [V]\"\n",
    "current_col = \"Current [A]\"\n",
    "temperature_col = \"Temperature [degC]\"\n",
    "capacity_col = \"Capacity [Ah]\"\n",
    "capacity_cc_col = \"Cumulative_Capacity_Ah\"\n",
    "soc_col = \"SOC [-]\"\n",
    "\n",
    "# Define directory paths\n",
    "# Update this path to your datacleaned folder\n",
    "raw_data_directory = r\"C:\\Users\\aknin\\Desktop\\MLproject-main\\datacleaned\"\n",
    "parsed_data_directory = r\"C:\\Users\\aknin\\Desktop\\MLproject-main\\Dataset\\BMS_parsed\"\n",
    "processed_data_directory = r\"C:\\Users\\aknin\\Desktop\\MLproject-main\\Dataset\\BMS_processed\"\n",
    "parsed_plots_directory = r\"C:\\Users\\aknin\\Desktop\\MLproject-main\\Dataset\\BMS_parsed_plots\"\n",
    "processed_plots_directory = r\"C:\\Users\\aknin\\Desktop\\MLproject-main\\Dataset\\BMS_processed_plots\"\n",
    "\n",
    "# Create directories if they don't exist\n",
    "os.makedirs(parsed_data_directory, exist_ok=True)\n",
    "os.makedirs(processed_data_directory, exist_ok=True)\n",
    "os.makedirs(parsed_plots_directory, exist_ok=True)\n",
    "os.makedirs(processed_plots_directory, exist_ok=True)\n",
    "\n",
    "# Debug: Check if raw_data_directory exists and list its contents\n",
    "if os.path.exists(raw_data_directory):\n",
    "    print(f\"Raw data directory exists: {raw_data_directory}\")\n",
    "    all_files = os.listdir(raw_data_directory)\n",
    "    print(f\"Files in raw_data_directory: {all_files}\")\n",
    "    csv_files_debug = [f for f in all_files if f.lower().endswith(\".csv\")]\n",
    "    print(f\"CSV files found: {len(csv_files_debug)}\")\n",
    "    if csv_files_debug:\n",
    "        print(f\"Sample CSV files: {csv_files_debug[:5]}\")\n",
    "    else:\n",
    "        print(\"No files with '.csv' extension found.\")\n",
    "else:\n",
    "    print(f\"Error: Raw data directory does not exist: {raw_data_directory}\")\n",
    "\n",
    "print(\"Directories set up successfully.\")"
   ]
  },
  {
   "cell_type": "markdown",
   "id": "c6f32720",
   "metadata": {},
   "source": [
    "**Define Helper Functions**\n",
    "\n",
    "This cell defines all the functions needed for parsing, processing, and plotting the data. These are the same as in the original script, but we’ll add the Time Stamp update functionality to parse_raw_data."
   ]
  },
  {
   "cell_type": "code",
   "execution_count": 29,
   "id": "7bf7750c",
   "metadata": {},
   "outputs": [
    {
     "name": "stdout",
     "output_type": "stream",
     "text": [
      "Helper functions defined.\n"
     ]
    }
   ],
   "source": [
    "# Function to parse raw data and update Time Stamp to 5/9/2025 with robust handling\n",
    "def parse_raw_data(file_path: str) -> pd.DataFrame:\n",
    "    with open(file_path) as f:\n",
    "        lines = f.readlines()\n",
    "\n",
    "    # Find the header row with \"Time Stamp\"\n",
    "    column_index = lines.index(next(filter(lambda l: \"Time Stamp\" in l, lines)))\n",
    "    column_line = lines[column_index].strip().split(\",\")\n",
    "    data_lines = [l.strip().split(\",\") for l in lines[column_index + 1:] if l.strip()]  # Skip empty lines\n",
    "\n",
    "    if not data_lines:\n",
    "        logging.error(f\"No data rows found in {file_path}\")\n",
    "        return pd.DataFrame()  # Return empty DataFrame if no data\n",
    "\n",
    "    abs_timestamp_data = []\n",
    "    timestamp_data_seconds = []\n",
    "    voltage_data = []\n",
    "    current_data = []\n",
    "    temperature_data = []\n",
    "    capacity_data = []\n",
    "\n",
    "    # Define expected columns with fallback indices\n",
    "    timestamp_idx = column_line.index(\"Time Stamp\")\n",
    "    prog_time_idx = column_line.index(\"Prog Time\")\n",
    "    voltage_idx = column_line.index(\"Voltage\")\n",
    "    current_idx = column_line.index(\"Current\")\n",
    "    temperature_idx = column_line.index(\"Temperature\")\n",
    "    capacity_idx = column_line.index(\"Capacity\")\n",
    "\n",
    "    for l in data_lines:\n",
    "        try:\n",
    "            # Parse Time Stamp\n",
    "            original_timestamp = pd.Timestamp(l[timestamp_idx])\n",
    "            updated_timestamp = original_timestamp.replace(year=2025, month=5, day=9)\n",
    "            abs_timestamp_data.append(updated_timestamp)\n",
    "        except (ValueError, IndexError) as e:\n",
    "            logging.warning(f\"Failed to parse Time Stamp in {file_path}: {e}\")\n",
    "            abs_timestamp_data.append(pd.NaT)\n",
    "\n",
    "        # Parse Prog Time\n",
    "        try:\n",
    "            timestamp_str = [float(s) for s in l[prog_time_idx].split(\":\")]\n",
    "            timestamp_seconds = (\n",
    "                timestamp_str[0] * 3600 + timestamp_str[1] * 60 + timestamp_str[2]\n",
    "            )\n",
    "            timestamp_data_seconds.append(timestamp_seconds)\n",
    "        except (ValueError, IndexError) as e:\n",
    "            logging.warning(f\"Failed to parse Prog Time in {file_path}: {e}\")\n",
    "            timestamp_data_seconds.append(0)\n",
    "\n",
    "        # Parse numeric columns with error handling\n",
    "        try:\n",
    "            voltage = float(l[voltage_idx]) if l[voltage_idx] else float('nan')\n",
    "        except (ValueError, IndexError) as e:\n",
    "            logging.warning(f\"Invalid Voltage in {file_path}: {l[voltage_idx] if l[voltage_idx] else 'empty'} - {e}\")\n",
    "            voltage = float('nan')\n",
    "        voltage_data.append(voltage)\n",
    "\n",
    "        try:\n",
    "            current = float(l[current_idx]) if l[current_idx] else float('nan')\n",
    "        except (ValueError, IndexError) as e:\n",
    "            logging.warning(f\"Invalid Current in {file_path}: {l[current_idx] if l[current_idx] else 'empty'} - {e}\")\n",
    "            current = float('nan')\n",
    "        current_data.append(current)\n",
    "\n",
    "        try:\n",
    "            temperature = float(l[temperature_idx]) if l[temperature_idx] else float('nan')\n",
    "        except (ValueError, IndexError) as e:\n",
    "            logging.warning(f\"Invalid Temperature in {file_path}: {l[temperature_idx] if l[temperature_idx] else 'empty'} - {e}\")\n",
    "            temperature = float('nan')\n",
    "        temperature_data.append(temperature)\n",
    "\n",
    "        try:\n",
    "            capacity = float(l[capacity_idx]) if l[capacity_idx] else float('nan')\n",
    "        except (ValueError, IndexError) as e:\n",
    "            logging.warning(f\"Invalid Capacity in {file_path}: {l[capacity_idx] if l[capacity_idx] else 'empty'} - {e}\")\n",
    "            capacity = float('nan')\n",
    "        capacity_data.append(capacity)\n",
    "\n",
    "    # Create a DataFrame with the parsed data\n",
    "    df = pd.DataFrame(\n",
    "        {\n",
    "            timestamp_col: abs_timestamp_data,\n",
    "            time_col: [\n",
    "                (t - timestamp_data_seconds[0]) / 60 for t in timestamp_data_seconds\n",
    "            ],  # Time in minutes\n",
    "            time_col_s: [\n",
    "                (t - timestamp_data_seconds[0]) for t in timestamp_data_seconds\n",
    "            ],  # Time in seconds\n",
    "            voltage_col: voltage_data,\n",
    "            current_col: current_data,\n",
    "            temperature_col: temperature_data,\n",
    "            capacity_col: capacity_data,\n",
    "        }\n",
    "    )\n",
    "\n",
    "    # Drop rows with NaN in all critical columns (optional, adjust as needed)\n",
    "    df = df.dropna(how='all').reset_index(drop=True)\n",
    "\n",
    "    return df\n",
    "\n",
    "# Function to generate and save plots\n",
    "def generate_and_save_plot(\n",
    "    data_df: pd.DataFrame,\n",
    "    save_file_path: str,\n",
    "    fig_title: str = \"\",\n",
    "    plot_soc: bool = False,\n",
    ") -> None:\n",
    "    num_plots = 5 if plot_soc else 4\n",
    "    fig, axs = plt.subplots(num_plots, 1, figsize=(10, num_plots * 2.5))\n",
    "\n",
    "    axs[0].plot(data_df[time_col], data_df[voltage_col], label=\"Voltage\")\n",
    "    axs[1].plot(data_df[time_col], data_df[current_col], label=\"Current\")\n",
    "    axs[2].plot(data_df[time_col], data_df[temperature_col], label=\"Temperature\")\n",
    "    axs[3].plot(data_df[time_col], data_df[capacity_col], label=\"Capacity\")\n",
    "    if plot_soc and soc_col in data_df.columns and not data_df[soc_col].isna().all():\n",
    "        axs[4].plot(data_df[time_col], data_df[soc_col], label=\"SoC\")\n",
    "\n",
    "    for ax in axs:\n",
    "        ax.legend()\n",
    "        ax.set_xlabel(time_col)\n",
    "        ax.set_ylabel(\"Value\")\n",
    "\n",
    "    fig.suptitle(fig_title)\n",
    "    plt.tight_layout(rect=[0, 0.03, 1, 0.95])\n",
    "    fig.savefig(save_file_path, format=\"pdf\")\n",
    "    plt.close(fig)\n",
    "\n",
    "# Function to create pseudo OCV-SOC interpolation functions\n",
    "def get_pOCV_SOC_interp_fn(file_path: str) -> tuple:\n",
    "    df = pd.read_csv(file_path)\n",
    "\n",
    "    # Process discharge data\n",
    "    df_discharge = df[df[current_col] < 0].copy()\n",
    "    df_discharge[capacity_col] = (\n",
    "        df_discharge[capacity_col] - df_discharge[capacity_col].iloc[0]\n",
    "    )\n",
    "    df_discharge[soc_col] = 1 - abs(\n",
    "        df_discharge[capacity_col] / df_discharge[capacity_col].iloc[-1]\n",
    "    )\n",
    "    max_voltage_discharge = df_discharge[voltage_col].max()\n",
    "    df_discharge = df_discharge[df_discharge[voltage_col] <= max_voltage_discharge]\n",
    "    discharge_interp = interp1d(\n",
    "        df_discharge[voltage_col],\n",
    "        df_discharge[soc_col],\n",
    "        bounds_error=False,\n",
    "        fill_value=\"extrapolate\",\n",
    "    )\n",
    "\n",
    "    # Process charge data\n",
    "    df_charge = df[df[current_col] > 0].copy()\n",
    "    df_charge[capacity_col] = df_charge[capacity_col] - df_charge[capacity_col].iloc[0]\n",
    "    df_charge[soc_col] = abs(df_charge[capacity_col]) / df_charge[capacity_col].iloc[-1]\n",
    "    max_voltage_charge = df_charge[voltage_col].max()\n",
    "    df_charge = df_charge[df_charge[voltage_col] <= max_voltage_charge]\n",
    "    charge_interp = interp1d(\n",
    "        df_charge[voltage_col],\n",
    "        df_charge[soc_col],\n",
    "        bounds_error=False,\n",
    "        fill_value=\"extrapolate\",\n",
    "    )\n",
    "\n",
    "    return charge_interp, discharge_interp\n",
    "\n",
    "# Function to get maximum capacities from a C20 file\n",
    "def get_max_capacities(c20_file_path):\n",
    "    df_c20 = pd.read_csv(c20_file_path)\n",
    "\n",
    "    # Find the index where the discharge phase ends and the charge phase begins\n",
    "    charge_start_index = df_c20[df_c20[current_col] > 0].index[0]\n",
    "\n",
    "    # Split the DataFrame into discharge and charge phases\n",
    "    df_discharge = df_c20.iloc[:charge_start_index]\n",
    "    df_charge = df_c20.iloc[charge_start_index:]\n",
    "\n",
    "    # Calculate max capacities for discharge and charge phases\n",
    "    max_discharge_capacity = (\n",
    "        df_discharge[capacity_col].max() - df_discharge[capacity_col].min()\n",
    "    )\n",
    "    max_charge_capacity = df_charge[capacity_col].max() - df_charge[capacity_col].min()\n",
    "\n",
    "    return max_charge_capacity, max_discharge_capacity\n",
    "\n",
    "# Function to get initial SoC\n",
    "def get_initial_soc(df, charge_soc_fn, discharge_soc_fn, current_col, voltage_col):\n",
    "    if df.empty or voltage_col not in df.columns or df[voltage_col].empty:\n",
    "        return 0.5  # Default SoC if data is invalid\n",
    "    initial_voltage = df[voltage_col].iloc[0]\n",
    "\n",
    "    # Find the index of the first non-zero current\n",
    "    first_non_zero_index = df[df[current_col] != 0].index[0] if not df[df[current_col] != 0].empty else 0\n",
    "    first_non_zero_current = df[current_col].iloc[first_non_zero_index] if first_non_zero_index < len(df) else 0\n",
    "\n",
    "    # Determine SoC based on the sign of the first non-zero current\n",
    "    if first_non_zero_current < 0:\n",
    "        return discharge_soc_fn(initial_voltage) if callable(discharge_soc_fn) else 0.5\n",
    "    else:\n",
    "        return charge_soc_fn(initial_voltage) if callable(charge_soc_fn) else 0.5\n",
    "\n",
    "# Function to check for missing C20 files\n",
    "def check_missing_c20_files(directory: str):\n",
    "    c20_file = next((f for f in os.listdir(directory) if \"C20\" in f), None)\n",
    "    missing_files = []\n",
    "    if not c20_file:\n",
    "        missing_files.append(f\"C20 SOC data file missing in directory: {directory}\")\n",
    "    return missing_files\n",
    "\n",
    "print(\"Helper functions defined.\")"
   ]
  },
  {
   "cell_type": "code",
   "execution_count": 14,
   "id": "9eea0897",
   "metadata": {},
   "outputs": [
    {
     "name": "stdout",
     "output_type": "stream",
     "text": [
      "Temperature folders found: []\n"
     ]
    },
    {
     "name": "stderr",
     "output_type": "stream",
     "text": [
      "Processing C20 files: 0it [00:00, ?it/s]\n"
     ]
    }
   ],
   "source": [
    "# Function to process C20 files for a given temperature\n",
    "def process_c20_files(T):\n",
    "    try:\n",
    "        logging.info(f\"Starting processing C20 files for: {T}\")\n",
    "\n",
    "        # Ensure directories exist\n",
    "        parsed_dir = os.path.join(parsed_data_directory, T)\n",
    "        os.makedirs(parsed_dir, exist_ok=True)\n",
    "\n",
    "        # Find a C20 file in the raw data directory for the specified temperature\n",
    "        raw_dir = os.path.join(raw_data_directory, T)\n",
    "        c20_file = next((f for f in os.listdir(raw_dir) if \"C20\" in f), None)\n",
    "\n",
    "        if c20_file:\n",
    "            raw_c20_file_path = os.path.join(raw_dir, c20_file)\n",
    "            df = parse_raw_data(raw_c20_file_path)\n",
    "\n",
    "            # Save parsed C20 data\n",
    "            parsed_c20_file_path = os.path.join(\n",
    "                parsed_dir, c20_file.split(\".csv\")[0] + \"_parsed.csv\"\n",
    "            )\n",
    "            df.to_csv(parsed_c20_file_path, index=False)\n",
    "            print(f\"Saved parsed C20 file: {parsed_c20_file_path}\")\n",
    "        else:\n",
    "            logging.warning(f\"No C20 file found for temperature: {T}\")\n",
    "            print(f\"No C20 file found for temperature: {T}\")\n",
    "\n",
    "        logging.info(f\"Completed processing C20 files for: {T}\")\n",
    "        return 1  # Return 1 on successful completion\n",
    "\n",
    "    except Exception as e:\n",
    "        logging.error(f\"Error processing C20 files for: {T} - {e}\")\n",
    "        print(f\"Error processing C20 files for: {T} - {e}\")\n",
    "        return 0  # Return 0 on error\n",
    "\n",
    "# List all temperature subfolders (e.g., 0degC, 25degC)\n",
    "temperatures = [folder for folder in os.listdir(raw_data_directory) if \"degC\" in folder]\n",
    "print(f\"Temperature folders found: {temperatures}\")\n",
    "\n",
    "# Process C20 files for each temperature\n",
    "for T in tqdm(temperatures, desc=\"Processing C20 files\"):\n",
    "    result = process_c20_files(T)\n",
    "    if result == 0:\n",
    "        print(f\"Failed to process C20 file for temperature: {T}\")"
   ]
  },
  {
   "cell_type": "markdown",
   "id": "393a6d59",
   "metadata": {},
   "source": [
    "Process All Files"
   ]
  },
  {
   "cell_type": "code",
   "execution_count": 21,
   "id": "3892cc43",
   "metadata": {},
   "outputs": [
    {
     "name": "stdout",
     "output_type": "stream",
     "text": [
      "All files in directory: ['updated_modified_cleaned_549_C20DisCh.csv', 'updated_modified_cleaned_549_Dis_0p5C.csv', 'updated_modified_cleaned_549_Dis_2C.csv', 'updated_modified_cleaned_551_Cap_1C.csv', 'updated_modified_cleaned_551_Charge1.csv', 'updated_modified_cleaned_551_Charge2.csv', 'updated_modified_cleaned_551_Charge3.csv', 'updated_modified_cleaned_551_Charge4.csv', 'updated_modified_cleaned_551_Charge5.csv', 'updated_modified_cleaned_551_Charge6.csv', 'updated_modified_cleaned_551_Charge7.csv', 'updated_modified_cleaned_551_Charge8.csv', 'updated_modified_cleaned_551_HWFET.csv', 'updated_modified_cleaned_551_LA92.csv', 'updated_modified_cleaned_551_Mixed1.csv', 'updated_modified_cleaned_551_Mixed2.csv', 'updated_modified_cleaned_551_UDDS.csv', 'updated_modified_cleaned_551_US06.csv', 'updated_modified_cleaned_552_Cap_1C.csv', 'updated_modified_cleaned_552_Charge10.csv', 'updated_modified_cleaned_552_Charge11.csv', 'updated_modified_cleaned_552_Charge12.csv', 'updated_modified_cleaned_552_Charge13.csv', 'updated_modified_cleaned_552_Charge14.csv', 'updated_modified_cleaned_552_Charge15.csv', 'updated_modified_cleaned_552_Charge16.csv', 'updated_modified_cleaned_552_Charge9.csv', 'updated_modified_cleaned_552_Mixed3.csv', 'updated_modified_cleaned_552_Mixed4.csv', 'updated_modified_cleaned_552_Mixed5.csv', 'updated_modified_cleaned_552_Mixed7.csv', 'updated_modified_cleaned_552_Mixed8.csv', 'updated_modified_cleaned_552_PausCycl.csv', 'updated_modified_cleaned_555_C20DisCh.csv', 'updated_modified_cleaned_555_Dis_0p5C.csv', 'updated_modified_cleaned_555_Dis_2C.csv', 'updated_modified_cleaned_555_HPPC.csv', 'updated_modified_cleaned_556_Charge1.csv', 'updated_modified_cleaned_556_Charge2.csv', 'updated_modified_cleaned_556_Charge3.csv', 'updated_modified_cleaned_556_Charge4.csv', 'updated_modified_cleaned_556_Charge5.csv', 'updated_modified_cleaned_556_Charge6.csv', 'updated_modified_cleaned_556_Charge7.csv', 'updated_modified_cleaned_556_Charge8.csv', 'updated_modified_cleaned_556_HWFET.csv', 'updated_modified_cleaned_556_LA92.csv', 'updated_modified_cleaned_556_Mixed2.csv', 'updated_modified_cleaned_556_UDDS.csv', 'updated_modified_cleaned_556_US06.csv', 'updated_modified_cleaned_557_Cap_1C.csv', 'updated_modified_cleaned_557_Charge10.csv', 'updated_modified_cleaned_557_Charge9.csv', 'updated_modified_cleaned_557_Mixed3.csv', 'updated_modified_cleaned_562_Charge10.csv', 'updated_modified_cleaned_562_Charge11.csv', 'updated_modified_cleaned_562_Charge12.csv', 'updated_modified_cleaned_562_Charge13.csv', 'updated_modified_cleaned_562_Charge14.csv', 'updated_modified_cleaned_562_Charge15.csv', 'updated_modified_cleaned_562_Charge16.csv', 'updated_modified_cleaned_562_Mixed4.csv', 'updated_modified_cleaned_562_Mixed5.csv', 'updated_modified_cleaned_562_Mixed6.csv', 'updated_modified_cleaned_562_Mixed7.csv', 'updated_modified_cleaned_562_Mixed8.csv', 'updated_modified_cleaned_562_PausCycl.csv', 'updated_modified_cleaned_567_Charge6.csv', 'updated_modified_cleaned_567_Charge7.csv', 'updated_modified_cleaned_567_Charge8.csv', 'updated_modified_cleaned_567_Mixed2.csv', 'updated_modified_cleaned_567_US06.csv', 'updated_modified_cleaned_571_Cap_1C.csv', 'updated_modified_cleaned_571_Charge10.csv', 'updated_modified_cleaned_571_Charge11.csv', 'updated_modified_cleaned_571_Charge12.csv', 'updated_modified_cleaned_571_Charge13.csv', 'updated_modified_cleaned_571_Charge14.csv', 'updated_modified_cleaned_571_Charge15.csv', 'updated_modified_cleaned_571_Charge16.csv', 'updated_modified_cleaned_571_Mixed4.csv', 'updated_modified_cleaned_571_Mixed5.csv', 'updated_modified_cleaned_571_Mixed6.csv', 'updated_modified_cleaned_571_Mixed7.csv', 'updated_modified_cleaned_571_PausCycl.csv', 'updated_modified_cleaned_575_C20DisCh.csv', 'updated_modified_cleaned_575_Dis_0p5C.csv', 'updated_modified_cleaned_575_Dis_2C.csv', 'updated_modified_cleaned_575_HPPC.csv', 'updated_modified_cleaned_576_Cap_1C.csv', 'updated_modified_cleaned_576_Charge1.csv', 'updated_modified_cleaned_576_Charge2.csv', 'updated_modified_cleaned_576_Charge3.csv', 'updated_modified_cleaned_576_Charge4.csv', 'updated_modified_cleaned_576_HWFET.csv', 'updated_modified_cleaned_576_UDDS.csv', 'updated_modified_cleaned_582_LA92.csv', 'updated_modified_cleaned_585_Dis_0p5C.csv', 'updated_modified_cleaned_585_Dis_2C.csv', 'updated_modified_cleaned_585_HPPC.csv', 'updated_modified_cleaned_589_Cap_1C.csv', 'updated_modified_cleaned_589_Charge1.csv', 'updated_modified_cleaned_589_Charge2.csv', 'updated_modified_cleaned_589_Charge3.csv', 'updated_modified_cleaned_589_Charge4.csv', 'updated_modified_cleaned_589_Charge5.csv', 'updated_modified_cleaned_589_Charge6.csv', 'updated_modified_cleaned_589_Charge7.csv', 'updated_modified_cleaned_589_Charge8.csv', 'updated_modified_cleaned_589_HWFET.csv', 'updated_modified_cleaned_589_LA92.csv', 'updated_modified_cleaned_589_Mixed2.csv', 'updated_modified_cleaned_589_UDDS.csv', 'updated_modified_cleaned_589_US06.csv', 'updated_modified_cleaned_590_Charge10.csv', 'updated_modified_cleaned_590_Charge11.csv', 'updated_modified_cleaned_590_Charge12.csv', 'updated_modified_cleaned_590_Charge13.csv', 'updated_modified_cleaned_590_Charge14.csv', 'updated_modified_cleaned_590_Charge15.csv', 'updated_modified_cleaned_590_Charge16.csv', 'updated_modified_cleaned_590_Mixed4.csv', 'updated_modified_cleaned_590_Mixed5.csv', 'updated_modified_cleaned_590_Mixed6.csv', 'updated_modified_cleaned_590_Mixed7.csv', 'updated_modified_cleaned_590_Mixed8.csv', 'updated_modified_cleaned_590_PausCycl.csv', 'updated_modified_cleaned_593_C20DisCh.csv', 'updated_modified_cleaned_593_Dis_0p5C.csv', 'updated_modified_cleaned_593_Dis_2C.csv', 'updated_modified_cleaned_596_Cap_1C.csv', 'updated_modified_cleaned_596_Charge1.csv', 'updated_modified_cleaned_596_Charge2.csv', 'updated_modified_cleaned_596_Charge3.csv', 'updated_modified_cleaned_596_Charge4.csv', 'updated_modified_cleaned_596_Charge5.csv', 'updated_modified_cleaned_596_HWFET.csv', 'updated_modified_cleaned_596_LA92.csv', 'updated_modified_cleaned_601_Charge6.csv', 'updated_modified_cleaned_601_Charge7.csv', 'updated_modified_cleaned_601_Charge8.csv', 'updated_modified_cleaned_601_Mixed1.csv', 'updated_modified_cleaned_601_Mixed2.csv', 'updated_modified_cleaned_601_US06.csv', 'updated_modified_cleaned_602_Cap_1C.csv', 'updated_modified_cleaned_602_Charge10.csv', 'updated_modified_cleaned_602_Charge11.csv', 'updated_modified_cleaned_602_Charge12.csv', 'updated_modified_cleaned_602_Charge17.csv', 'updated_modified_cleaned_602_Mixed5.csv', 'updated_modified_cleaned_604_Charge10.csv', 'updated_modified_cleaned_604_Charge13.csv', 'updated_modified_cleaned_604_Charge14.csv', 'updated_modified_cleaned_604_Charge15.csv', 'updated_modified_cleaned_604_Charge16.csv', 'updated_modified_cleaned_604_Charge17.csv', 'updated_modified_cleaned_604_Charge9.csv', 'updated_modified_cleaned_604_Mixed3.csv', 'updated_modified_cleaned_604_Mixed6.csv', 'updated_modified_cleaned_604_Mixed7.csv', 'updated_modified_cleaned_604_Mixed8.csv', 'updated_modified_cleaned_604_PausCycl.csv', 'updated_modified_cleaned_607_C20DisCh.csv', 'updated_modified_cleaned_607_Dis_0p5C.csv', 'updated_modified_cleaned_607_Dis_2C.csv', 'updated_modified_cleaned_607_HPPC.csv', 'updated_modified_cleaned_610_Cap_1C.csv', 'updated_modified_cleaned_610_Charge1.csv', 'updated_modified_cleaned_610_Charge2.csv', 'updated_modified_cleaned_610_Charge3.csv', 'updated_modified_cleaned_610_Charge4.csv', 'updated_modified_cleaned_610_Charge5.csv', 'updated_modified_cleaned_610_Charge6.csv', 'updated_modified_cleaned_610_Charge7.csv', 'updated_modified_cleaned_610_Charge8.csv', 'updated_modified_cleaned_610_HWFET.csv', 'updated_modified_cleaned_610_LA92.csv', 'updated_modified_cleaned_610_Mixed1.csv', 'updated_modified_cleaned_610_Mixed2.csv', 'updated_modified_cleaned_610_UDDS.csv', 'updated_modified_cleaned_610_US06.csv', 'updated_modified_cleaned_611_Cap_1C.csv', 'updated_modified_cleaned_611_Charge10.csv', 'updated_modified_cleaned_611_Charge11.csv', 'updated_modified_cleaned_611_Charge12.csv', 'updated_modified_cleaned_611_Charge13.csv', 'updated_modified_cleaned_611_Charge14.csv', 'updated_modified_cleaned_611_Charge15.csv', 'updated_modified_cleaned_611_Charge17.csv', 'updated_modified_cleaned_611_Charge9.csv', 'updated_modified_cleaned_611_Mixed3.csv', 'updated_modified_cleaned_611_Mixed4.csv', 'updated_modified_cleaned_611_Mixed5.csv', 'updated_modified_cleaned_611_Mixed6.csv', 'updated_modified_cleaned_611_Mixed7.csv', 'updated_modified_cleaned_611_Mixed8.csv', 'updated_modified_cleaned_611_PausCycl.csv']\n",
      "Total files to process: 197\n",
      "Sample CSV files: ['updated_modified_cleaned_549_C20DisCh', 'updated_modified_cleaned_549_Dis_0p5C', 'updated_modified_cleaned_549_Dis_2C', 'updated_modified_cleaned_551_Cap_1C', 'updated_modified_cleaned_551_Charge1']\n"
     ]
    },
    {
     "name": "stderr",
     "output_type": "stream",
     "text": [
      "Processing files:   1%|          | 1/197 [00:05<17:56,  5.49s/it]"
     ]
    },
    {
     "name": "stdout",
     "output_type": "stream",
     "text": [
      "Processed and saved: C:\\Users\\aknin\\Desktop\\MLproject-main\\Dataset\\BMS_processed\\updated_modified_cleaned_549_C20DisCh_processed.csv\n"
     ]
    },
    {
     "name": "stderr",
     "output_type": "stream",
     "text": [
      "Processing files:   1%|          | 2/197 [00:06<09:27,  2.91s/it]"
     ]
    },
    {
     "name": "stdout",
     "output_type": "stream",
     "text": [
      "Processed and saved: C:\\Users\\aknin\\Desktop\\MLproject-main\\Dataset\\BMS_processed\\updated_modified_cleaned_549_Dis_0p5C_processed.csv\n"
     ]
    },
    {
     "name": "stderr",
     "output_type": "stream",
     "text": [
      "Processing files:   2%|▏         | 3/197 [00:07<07:02,  2.18s/it]"
     ]
    },
    {
     "name": "stdout",
     "output_type": "stream",
     "text": [
      "Processed and saved: C:\\Users\\aknin\\Desktop\\MLproject-main\\Dataset\\BMS_processed\\updated_modified_cleaned_549_Dis_2C_processed.csv\n"
     ]
    },
    {
     "name": "stderr",
     "output_type": "stream",
     "text": [
      "Processing files:   2%|▏         | 4/197 [00:09<05:51,  1.82s/it]"
     ]
    },
    {
     "name": "stdout",
     "output_type": "stream",
     "text": [
      "Processed and saved: C:\\Users\\aknin\\Desktop\\MLproject-main\\Dataset\\BMS_processed\\updated_modified_cleaned_551_Cap_1C_processed.csv\n"
     ]
    },
    {
     "name": "stderr",
     "output_type": "stream",
     "text": [
      "Processing files:   3%|▎         | 5/197 [00:10<05:28,  1.71s/it]"
     ]
    },
    {
     "name": "stdout",
     "output_type": "stream",
     "text": [
      "Processed and saved: C:\\Users\\aknin\\Desktop\\MLproject-main\\Dataset\\BMS_processed\\updated_modified_cleaned_551_Charge1_processed.csv\n"
     ]
    },
    {
     "name": "stderr",
     "output_type": "stream",
     "text": [
      "Processing files:   3%|▎         | 6/197 [00:11<04:54,  1.54s/it]"
     ]
    },
    {
     "name": "stdout",
     "output_type": "stream",
     "text": [
      "Processed and saved: C:\\Users\\aknin\\Desktop\\MLproject-main\\Dataset\\BMS_processed\\updated_modified_cleaned_551_Charge2_processed.csv\n"
     ]
    },
    {
     "name": "stderr",
     "output_type": "stream",
     "text": [
      "Processing files:   4%|▎         | 7/197 [00:13<04:26,  1.40s/it]"
     ]
    },
    {
     "name": "stdout",
     "output_type": "stream",
     "text": [
      "Processed and saved: C:\\Users\\aknin\\Desktop\\MLproject-main\\Dataset\\BMS_processed\\updated_modified_cleaned_551_Charge3_processed.csv\n"
     ]
    },
    {
     "name": "stderr",
     "output_type": "stream",
     "text": [
      "Processing files:   4%|▍         | 8/197 [00:14<04:26,  1.41s/it]"
     ]
    },
    {
     "name": "stdout",
     "output_type": "stream",
     "text": [
      "Processed and saved: C:\\Users\\aknin\\Desktop\\MLproject-main\\Dataset\\BMS_processed\\updated_modified_cleaned_551_Charge4_processed.csv\n"
     ]
    },
    {
     "name": "stderr",
     "output_type": "stream",
     "text": [
      "Processing files:   5%|▍         | 9/197 [00:15<04:25,  1.41s/it]"
     ]
    },
    {
     "name": "stdout",
     "output_type": "stream",
     "text": [
      "Processed and saved: C:\\Users\\aknin\\Desktop\\MLproject-main\\Dataset\\BMS_processed\\updated_modified_cleaned_551_Charge5_processed.csv\n"
     ]
    },
    {
     "name": "stderr",
     "output_type": "stream",
     "text": [
      "Processing files:   5%|▌         | 10/197 [00:17<04:15,  1.36s/it]"
     ]
    },
    {
     "name": "stdout",
     "output_type": "stream",
     "text": [
      "Processed and saved: C:\\Users\\aknin\\Desktop\\MLproject-main\\Dataset\\BMS_processed\\updated_modified_cleaned_551_Charge6_processed.csv\n"
     ]
    },
    {
     "name": "stderr",
     "output_type": "stream",
     "text": [
      "Processing files:   6%|▌         | 11/197 [00:18<04:13,  1.36s/it]"
     ]
    },
    {
     "name": "stdout",
     "output_type": "stream",
     "text": [
      "Processed and saved: C:\\Users\\aknin\\Desktop\\MLproject-main\\Dataset\\BMS_processed\\updated_modified_cleaned_551_Charge7_processed.csv\n"
     ]
    },
    {
     "name": "stderr",
     "output_type": "stream",
     "text": [
      "Processing files:   6%|▌         | 12/197 [00:19<04:13,  1.37s/it]"
     ]
    },
    {
     "name": "stdout",
     "output_type": "stream",
     "text": [
      "Processed and saved: C:\\Users\\aknin\\Desktop\\MLproject-main\\Dataset\\BMS_processed\\updated_modified_cleaned_551_Charge8_processed.csv\n"
     ]
    },
    {
     "name": "stderr",
     "output_type": "stream",
     "text": [
      "Processing files:   7%|▋         | 13/197 [00:21<04:10,  1.36s/it]"
     ]
    },
    {
     "name": "stdout",
     "output_type": "stream",
     "text": [
      "Error processing: updated_modified_cleaned_551_HWFET - index 0 is out of bounds for axis 0 with size 0\n"
     ]
    },
    {
     "name": "stderr",
     "output_type": "stream",
     "text": [
      "Processing files:   7%|▋         | 14/197 [01:01<39:39, 13.00s/it]"
     ]
    },
    {
     "name": "stdout",
     "output_type": "stream",
     "text": [
      "Processed and saved: C:\\Users\\aknin\\Desktop\\MLproject-main\\Dataset\\BMS_processed\\updated_modified_cleaned_551_LA92_processed.csv\n"
     ]
    },
    {
     "name": "stderr",
     "output_type": "stream",
     "text": [
      "Processing files:   8%|▊         | 15/197 [01:32<56:03, 18.48s/it]"
     ]
    },
    {
     "name": "stdout",
     "output_type": "stream",
     "text": [
      "Processed and saved: C:\\Users\\aknin\\Desktop\\MLproject-main\\Dataset\\BMS_processed\\updated_modified_cleaned_551_Mixed1_processed.csv\n"
     ]
    },
    {
     "name": "stderr",
     "output_type": "stream",
     "text": [
      "Processing files:   8%|▊         | 16/197 [02:03<1:07:16, 22.30s/it]"
     ]
    },
    {
     "name": "stdout",
     "output_type": "stream",
     "text": [
      "Processed and saved: C:\\Users\\aknin\\Desktop\\MLproject-main\\Dataset\\BMS_processed\\updated_modified_cleaned_551_Mixed2_processed.csv\n"
     ]
    },
    {
     "name": "stderr",
     "output_type": "stream",
     "text": [
      "Processing files:   9%|▊         | 17/197 [03:07<1:44:27, 34.82s/it]"
     ]
    },
    {
     "name": "stdout",
     "output_type": "stream",
     "text": [
      "Processed and saved: C:\\Users\\aknin\\Desktop\\MLproject-main\\Dataset\\BMS_processed\\updated_modified_cleaned_551_UDDS_processed.csv\n"
     ]
    },
    {
     "name": "stderr",
     "output_type": "stream",
     "text": [
      "Processing files:   9%|▉         | 18/197 [03:23<1:27:20, 29.28s/it]"
     ]
    },
    {
     "name": "stdout",
     "output_type": "stream",
     "text": [
      "Processed and saved: C:\\Users\\aknin\\Desktop\\MLproject-main\\Dataset\\BMS_processed\\updated_modified_cleaned_551_US06_processed.csv\n"
     ]
    },
    {
     "name": "stderr",
     "output_type": "stream",
     "text": [
      "Processing files:  10%|▉         | 19/197 [03:25<1:02:04, 20.93s/it]"
     ]
    },
    {
     "name": "stdout",
     "output_type": "stream",
     "text": [
      "Processed and saved: C:\\Users\\aknin\\Desktop\\MLproject-main\\Dataset\\BMS_processed\\updated_modified_cleaned_552_Cap_1C_processed.csv\n"
     ]
    },
    {
     "name": "stderr",
     "output_type": "stream",
     "text": [
      "Processing files:  10%|█         | 20/197 [03:26<44:25, 15.06s/it]  "
     ]
    },
    {
     "name": "stdout",
     "output_type": "stream",
     "text": [
      "Processed and saved: C:\\Users\\aknin\\Desktop\\MLproject-main\\Dataset\\BMS_processed\\updated_modified_cleaned_552_Charge10_processed.csv\n"
     ]
    },
    {
     "name": "stderr",
     "output_type": "stream",
     "text": [
      "Processing files:  11%|█         | 21/197 [03:31<35:31, 12.11s/it]"
     ]
    },
    {
     "name": "stdout",
     "output_type": "stream",
     "text": [
      "Processed and saved: C:\\Users\\aknin\\Desktop\\MLproject-main\\Dataset\\BMS_processed\\updated_modified_cleaned_552_Charge11_processed.csv\n"
     ]
    },
    {
     "name": "stderr",
     "output_type": "stream",
     "text": [
      "Processing files:  11%|█         | 22/197 [03:36<29:01,  9.95s/it]"
     ]
    },
    {
     "name": "stdout",
     "output_type": "stream",
     "text": [
      "Processed and saved: C:\\Users\\aknin\\Desktop\\MLproject-main\\Dataset\\BMS_processed\\updated_modified_cleaned_552_Charge12_processed.csv\n"
     ]
    },
    {
     "name": "stderr",
     "output_type": "stream",
     "text": [
      "Processing files:  12%|█▏        | 23/197 [03:40<23:33,  8.13s/it]"
     ]
    },
    {
     "name": "stdout",
     "output_type": "stream",
     "text": [
      "Processed and saved: C:\\Users\\aknin\\Desktop\\MLproject-main\\Dataset\\BMS_processed\\updated_modified_cleaned_552_Charge13_processed.csv\n"
     ]
    },
    {
     "name": "stderr",
     "output_type": "stream",
     "text": [
      "Processing files:  12%|█▏        | 24/197 [03:44<19:36,  6.80s/it]"
     ]
    },
    {
     "name": "stdout",
     "output_type": "stream",
     "text": [
      "Processed and saved: C:\\Users\\aknin\\Desktop\\MLproject-main\\Dataset\\BMS_processed\\updated_modified_cleaned_552_Charge14_processed.csv\n"
     ]
    },
    {
     "name": "stderr",
     "output_type": "stream",
     "text": [
      "Processing files:  13%|█▎        | 25/197 [03:47<16:07,  5.63s/it]"
     ]
    },
    {
     "name": "stdout",
     "output_type": "stream",
     "text": [
      "Processed and saved: C:\\Users\\aknin\\Desktop\\MLproject-main\\Dataset\\BMS_processed\\updated_modified_cleaned_552_Charge15_processed.csv\n"
     ]
    },
    {
     "name": "stderr",
     "output_type": "stream",
     "text": [
      "Processing files:  13%|█▎        | 26/197 [03:50<13:59,  4.91s/it]"
     ]
    },
    {
     "name": "stdout",
     "output_type": "stream",
     "text": [
      "Processed and saved: C:\\Users\\aknin\\Desktop\\MLproject-main\\Dataset\\BMS_processed\\updated_modified_cleaned_552_Charge16_processed.csv\n"
     ]
    },
    {
     "name": "stderr",
     "output_type": "stream",
     "text": [
      "Processing files:  14%|█▎        | 27/197 [03:52<11:51,  4.19s/it]"
     ]
    },
    {
     "name": "stdout",
     "output_type": "stream",
     "text": [
      "Processed and saved: C:\\Users\\aknin\\Desktop\\MLproject-main\\Dataset\\BMS_processed\\updated_modified_cleaned_552_Charge9_processed.csv\n"
     ]
    },
    {
     "name": "stderr",
     "output_type": "stream",
     "text": [
      "Processing files:  14%|█▍        | 28/197 [04:29<39:26, 14.00s/it]"
     ]
    },
    {
     "name": "stdout",
     "output_type": "stream",
     "text": [
      "Processed and saved: C:\\Users\\aknin\\Desktop\\MLproject-main\\Dataset\\BMS_processed\\updated_modified_cleaned_552_Mixed3_processed.csv\n"
     ]
    },
    {
     "name": "stderr",
     "output_type": "stream",
     "text": [
      "Processing files:  15%|█▍        | 29/197 [05:08<59:50, 21.37s/it]"
     ]
    },
    {
     "name": "stdout",
     "output_type": "stream",
     "text": [
      "Processed and saved: C:\\Users\\aknin\\Desktop\\MLproject-main\\Dataset\\BMS_processed\\updated_modified_cleaned_552_Mixed4_processed.csv\n"
     ]
    },
    {
     "name": "stderr",
     "output_type": "stream",
     "text": [
      "Processing files:  15%|█▌        | 30/197 [05:36<1:05:12, 23.43s/it]"
     ]
    },
    {
     "name": "stdout",
     "output_type": "stream",
     "text": [
      "Processed and saved: C:\\Users\\aknin\\Desktop\\MLproject-main\\Dataset\\BMS_processed\\updated_modified_cleaned_552_Mixed5_processed.csv\n"
     ]
    },
    {
     "name": "stderr",
     "output_type": "stream",
     "text": [
      "Processing files:  16%|█▌        | 31/197 [06:05<1:09:28, 25.11s/it]"
     ]
    },
    {
     "name": "stdout",
     "output_type": "stream",
     "text": [
      "Processed and saved: C:\\Users\\aknin\\Desktop\\MLproject-main\\Dataset\\BMS_processed\\updated_modified_cleaned_552_Mixed7_processed.csv\n"
     ]
    },
    {
     "name": "stderr",
     "output_type": "stream",
     "text": [
      "Processing files:  16%|█▌        | 32/197 [06:39<1:16:07, 27.68s/it]"
     ]
    },
    {
     "name": "stdout",
     "output_type": "stream",
     "text": [
      "Processed and saved: C:\\Users\\aknin\\Desktop\\MLproject-main\\Dataset\\BMS_processed\\updated_modified_cleaned_552_Mixed8_processed.csv\n"
     ]
    },
    {
     "name": "stderr",
     "output_type": "stream",
     "text": [
      "Processing files:  17%|█▋        | 33/197 [07:03<1:12:37, 26.57s/it]"
     ]
    },
    {
     "name": "stdout",
     "output_type": "stream",
     "text": [
      "Processed and saved: C:\\Users\\aknin\\Desktop\\MLproject-main\\Dataset\\BMS_processed\\updated_modified_cleaned_552_PausCycl_processed.csv\n"
     ]
    },
    {
     "name": "stderr",
     "output_type": "stream",
     "text": [
      "Processing files:  17%|█▋        | 34/197 [07:05<52:12, 19.22s/it]  "
     ]
    },
    {
     "name": "stdout",
     "output_type": "stream",
     "text": [
      "Processed and saved: C:\\Users\\aknin\\Desktop\\MLproject-main\\Dataset\\BMS_processed\\updated_modified_cleaned_555_C20DisCh_processed.csv\n"
     ]
    },
    {
     "name": "stderr",
     "output_type": "stream",
     "text": [
      "Processing files:  18%|█▊        | 35/197 [07:06<37:19, 13.82s/it]"
     ]
    },
    {
     "name": "stdout",
     "output_type": "stream",
     "text": [
      "Processed and saved: C:\\Users\\aknin\\Desktop\\MLproject-main\\Dataset\\BMS_processed\\updated_modified_cleaned_555_Dis_0p5C_processed.csv\n"
     ]
    },
    {
     "name": "stderr",
     "output_type": "stream",
     "text": [
      "Processing files:  18%|█▊        | 36/197 [07:08<27:14, 10.15s/it]"
     ]
    },
    {
     "name": "stdout",
     "output_type": "stream",
     "text": [
      "Processed and saved: C:\\Users\\aknin\\Desktop\\MLproject-main\\Dataset\\BMS_processed\\updated_modified_cleaned_555_Dis_2C_processed.csv\n"
     ]
    },
    {
     "name": "stderr",
     "output_type": "stream",
     "text": [
      "Processing files:  19%|█▉        | 37/197 [07:26<33:25, 12.53s/it]"
     ]
    },
    {
     "name": "stdout",
     "output_type": "stream",
     "text": [
      "Processed and saved: C:\\Users\\aknin\\Desktop\\MLproject-main\\Dataset\\BMS_processed\\updated_modified_cleaned_555_HPPC_processed.csv\n"
     ]
    },
    {
     "name": "stderr",
     "output_type": "stream",
     "text": [
      "Processing files:  19%|█▉        | 38/197 [07:27<24:23,  9.21s/it]"
     ]
    },
    {
     "name": "stdout",
     "output_type": "stream",
     "text": [
      "Processed and saved: C:\\Users\\aknin\\Desktop\\MLproject-main\\Dataset\\BMS_processed\\updated_modified_cleaned_556_Charge1_processed.csv\n"
     ]
    },
    {
     "name": "stderr",
     "output_type": "stream",
     "text": [
      "Processing files:  20%|█▉        | 39/197 [07:28<17:51,  6.78s/it]"
     ]
    },
    {
     "name": "stdout",
     "output_type": "stream",
     "text": [
      "Processed and saved: C:\\Users\\aknin\\Desktop\\MLproject-main\\Dataset\\BMS_processed\\updated_modified_cleaned_556_Charge2_processed.csv\n"
     ]
    },
    {
     "name": "stderr",
     "output_type": "stream",
     "text": [
      "Processing files:  20%|██        | 40/197 [07:30<13:29,  5.15s/it]"
     ]
    },
    {
     "name": "stdout",
     "output_type": "stream",
     "text": [
      "Processed and saved: C:\\Users\\aknin\\Desktop\\MLproject-main\\Dataset\\BMS_processed\\updated_modified_cleaned_556_Charge3_processed.csv\n"
     ]
    },
    {
     "name": "stderr",
     "output_type": "stream",
     "text": [
      "Processing files:  21%|██        | 41/197 [07:31<10:35,  4.08s/it]"
     ]
    },
    {
     "name": "stdout",
     "output_type": "stream",
     "text": [
      "Processed and saved: C:\\Users\\aknin\\Desktop\\MLproject-main\\Dataset\\BMS_processed\\updated_modified_cleaned_556_Charge4_processed.csv\n"
     ]
    },
    {
     "name": "stderr",
     "output_type": "stream",
     "text": [
      "Processing files:  21%|██▏       | 42/197 [07:32<08:17,  3.21s/it]"
     ]
    },
    {
     "name": "stdout",
     "output_type": "stream",
     "text": [
      "Processed and saved: C:\\Users\\aknin\\Desktop\\MLproject-main\\Dataset\\BMS_processed\\updated_modified_cleaned_556_Charge5_processed.csv\n"
     ]
    },
    {
     "name": "stderr",
     "output_type": "stream",
     "text": [
      "Processing files:  22%|██▏       | 43/197 [07:34<06:46,  2.64s/it]"
     ]
    },
    {
     "name": "stdout",
     "output_type": "stream",
     "text": [
      "Processed and saved: C:\\Users\\aknin\\Desktop\\MLproject-main\\Dataset\\BMS_processed\\updated_modified_cleaned_556_Charge6_processed.csv\n"
     ]
    },
    {
     "name": "stderr",
     "output_type": "stream",
     "text": [
      "Processing files:  22%|██▏       | 44/197 [07:35<05:45,  2.26s/it]"
     ]
    },
    {
     "name": "stdout",
     "output_type": "stream",
     "text": [
      "Processed and saved: C:\\Users\\aknin\\Desktop\\MLproject-main\\Dataset\\BMS_processed\\updated_modified_cleaned_556_Charge7_processed.csv\n"
     ]
    },
    {
     "name": "stderr",
     "output_type": "stream",
     "text": [
      "Processing files:  23%|██▎       | 45/197 [07:36<04:55,  1.94s/it]"
     ]
    },
    {
     "name": "stdout",
     "output_type": "stream",
     "text": [
      "Processed and saved: C:\\Users\\aknin\\Desktop\\MLproject-main\\Dataset\\BMS_processed\\updated_modified_cleaned_556_Charge8_processed.csv\n"
     ]
    },
    {
     "name": "stderr",
     "output_type": "stream",
     "text": [
      "Processing files:  23%|██▎       | 46/197 [07:59<20:50,  8.28s/it]"
     ]
    },
    {
     "name": "stdout",
     "output_type": "stream",
     "text": [
      "Processed and saved: C:\\Users\\aknin\\Desktop\\MLproject-main\\Dataset\\BMS_processed\\updated_modified_cleaned_556_HWFET_processed.csv\n"
     ]
    },
    {
     "name": "stderr",
     "output_type": "stream",
     "text": [
      "Processing files:  24%|██▍       | 47/197 [08:38<43:11, 17.28s/it]"
     ]
    },
    {
     "name": "stdout",
     "output_type": "stream",
     "text": [
      "Processed and saved: C:\\Users\\aknin\\Desktop\\MLproject-main\\Dataset\\BMS_processed\\updated_modified_cleaned_556_LA92_processed.csv\n"
     ]
    },
    {
     "name": "stderr",
     "output_type": "stream",
     "text": [
      "Processing files:  24%|██▍       | 48/197 [09:11<54:40, 22.02s/it]"
     ]
    },
    {
     "name": "stdout",
     "output_type": "stream",
     "text": [
      "Processed and saved: C:\\Users\\aknin\\Desktop\\MLproject-main\\Dataset\\BMS_processed\\updated_modified_cleaned_556_Mixed2_processed.csv\n"
     ]
    },
    {
     "name": "stderr",
     "output_type": "stream",
     "text": [
      "Processing files:  25%|██▍       | 49/197 [10:17<1:27:10, 35.34s/it]"
     ]
    },
    {
     "name": "stdout",
     "output_type": "stream",
     "text": [
      "Processed and saved: C:\\Users\\aknin\\Desktop\\MLproject-main\\Dataset\\BMS_processed\\updated_modified_cleaned_556_UDDS_processed.csv\n"
     ]
    },
    {
     "name": "stderr",
     "output_type": "stream",
     "text": [
      "Processing files:  25%|██▌       | 50/197 [10:35<1:13:36, 30.05s/it]"
     ]
    },
    {
     "name": "stdout",
     "output_type": "stream",
     "text": [
      "Processed and saved: C:\\Users\\aknin\\Desktop\\MLproject-main\\Dataset\\BMS_processed\\updated_modified_cleaned_556_US06_processed.csv\n"
     ]
    },
    {
     "name": "stderr",
     "output_type": "stream",
     "text": [
      "Processing files:  26%|██▌       | 51/197 [10:37<52:21, 21.52s/it]  "
     ]
    },
    {
     "name": "stdout",
     "output_type": "stream",
     "text": [
      "Processed and saved: C:\\Users\\aknin\\Desktop\\MLproject-main\\Dataset\\BMS_processed\\updated_modified_cleaned_557_Cap_1C_processed.csv\n"
     ]
    },
    {
     "name": "stderr",
     "output_type": "stream",
     "text": [
      "Processing files:  26%|██▋       | 52/197 [10:37<36:49, 15.24s/it]"
     ]
    },
    {
     "name": "stdout",
     "output_type": "stream",
     "text": [
      "Error processing: updated_modified_cleaned_557_Charge10 - index 0 is out of bounds for axis 0 with size 0\n"
     ]
    },
    {
     "name": "stderr",
     "output_type": "stream",
     "text": [
      "Processing files:  27%|██▋       | 53/197 [10:39<26:35, 11.08s/it]"
     ]
    },
    {
     "name": "stdout",
     "output_type": "stream",
     "text": [
      "Processed and saved: C:\\Users\\aknin\\Desktop\\MLproject-main\\Dataset\\BMS_processed\\updated_modified_cleaned_557_Charge9_processed.csv\n"
     ]
    },
    {
     "name": "stderr",
     "output_type": "stream",
     "text": [
      "Processing files:  27%|██▋       | 54/197 [11:07<38:57, 16.34s/it]"
     ]
    },
    {
     "name": "stdout",
     "output_type": "stream",
     "text": [
      "Processed and saved: C:\\Users\\aknin\\Desktop\\MLproject-main\\Dataset\\BMS_processed\\updated_modified_cleaned_557_Mixed3_processed.csv\n"
     ]
    },
    {
     "name": "stderr",
     "output_type": "stream",
     "text": [
      "Processing files:  28%|██▊       | 55/197 [11:09<28:05, 11.87s/it]"
     ]
    },
    {
     "name": "stdout",
     "output_type": "stream",
     "text": [
      "Processed and saved: C:\\Users\\aknin\\Desktop\\MLproject-main\\Dataset\\BMS_processed\\updated_modified_cleaned_562_Charge10_processed.csv\n"
     ]
    },
    {
     "name": "stderr",
     "output_type": "stream",
     "text": [
      "Processing files:  28%|██▊       | 56/197 [11:10<20:27,  8.70s/it]"
     ]
    },
    {
     "name": "stdout",
     "output_type": "stream",
     "text": [
      "Processed and saved: C:\\Users\\aknin\\Desktop\\MLproject-main\\Dataset\\BMS_processed\\updated_modified_cleaned_562_Charge11_processed.csv\n"
     ]
    },
    {
     "name": "stderr",
     "output_type": "stream",
     "text": [
      "Processing files:  29%|██▉       | 57/197 [11:12<15:34,  6.68s/it]"
     ]
    },
    {
     "name": "stdout",
     "output_type": "stream",
     "text": [
      "Processed and saved: C:\\Users\\aknin\\Desktop\\MLproject-main\\Dataset\\BMS_processed\\updated_modified_cleaned_562_Charge12_processed.csv\n"
     ]
    },
    {
     "name": "stderr",
     "output_type": "stream",
     "text": [
      "Processing files:  29%|██▉       | 58/197 [11:13<11:42,  5.05s/it]"
     ]
    },
    {
     "name": "stdout",
     "output_type": "stream",
     "text": [
      "Processed and saved: C:\\Users\\aknin\\Desktop\\MLproject-main\\Dataset\\BMS_processed\\updated_modified_cleaned_562_Charge13_processed.csv\n"
     ]
    },
    {
     "name": "stderr",
     "output_type": "stream",
     "text": [
      "Processing files:  30%|██▉       | 59/197 [11:15<09:16,  4.03s/it]"
     ]
    },
    {
     "name": "stdout",
     "output_type": "stream",
     "text": [
      "Processed and saved: C:\\Users\\aknin\\Desktop\\MLproject-main\\Dataset\\BMS_processed\\updated_modified_cleaned_562_Charge14_processed.csv\n"
     ]
    },
    {
     "name": "stderr",
     "output_type": "stream",
     "text": [
      "Processing files:  30%|███       | 60/197 [11:16<07:23,  3.23s/it]"
     ]
    },
    {
     "name": "stdout",
     "output_type": "stream",
     "text": [
      "Processed and saved: C:\\Users\\aknin\\Desktop\\MLproject-main\\Dataset\\BMS_processed\\updated_modified_cleaned_562_Charge15_processed.csv\n"
     ]
    },
    {
     "name": "stderr",
     "output_type": "stream",
     "text": [
      "Processing files:  31%|███       | 61/197 [11:17<06:03,  2.67s/it]"
     ]
    },
    {
     "name": "stdout",
     "output_type": "stream",
     "text": [
      "Processed and saved: C:\\Users\\aknin\\Desktop\\MLproject-main\\Dataset\\BMS_processed\\updated_modified_cleaned_562_Charge16_processed.csv\n"
     ]
    },
    {
     "name": "stderr",
     "output_type": "stream",
     "text": [
      "Processing files:  31%|███▏      | 62/197 [11:23<08:08,  3.62s/it]"
     ]
    },
    {
     "name": "stdout",
     "output_type": "stream",
     "text": [
      "Processed and saved: C:\\Users\\aknin\\Desktop\\MLproject-main\\Dataset\\BMS_processed\\updated_modified_cleaned_562_Mixed4_processed.csv\n"
     ]
    },
    {
     "name": "stderr",
     "output_type": "stream",
     "text": [
      "Processing files:  32%|███▏      | 63/197 [11:30<09:51,  4.42s/it]"
     ]
    },
    {
     "name": "stdout",
     "output_type": "stream",
     "text": [
      "Processed and saved: C:\\Users\\aknin\\Desktop\\MLproject-main\\Dataset\\BMS_processed\\updated_modified_cleaned_562_Mixed5_processed.csv\n"
     ]
    },
    {
     "name": "stderr",
     "output_type": "stream",
     "text": [
      "Processing files:  32%|███▏      | 64/197 [11:35<10:43,  4.84s/it]"
     ]
    },
    {
     "name": "stdout",
     "output_type": "stream",
     "text": [
      "Processed and saved: C:\\Users\\aknin\\Desktop\\MLproject-main\\Dataset\\BMS_processed\\updated_modified_cleaned_562_Mixed6_processed.csv\n"
     ]
    },
    {
     "name": "stderr",
     "output_type": "stream",
     "text": [
      "Processing files:  33%|███▎      | 65/197 [11:40<10:18,  4.68s/it]"
     ]
    },
    {
     "name": "stdout",
     "output_type": "stream",
     "text": [
      "Processed and saved: C:\\Users\\aknin\\Desktop\\MLproject-main\\Dataset\\BMS_processed\\updated_modified_cleaned_562_Mixed7_processed.csv\n"
     ]
    },
    {
     "name": "stderr",
     "output_type": "stream",
     "text": [
      "Processing files:  34%|███▎      | 66/197 [11:47<11:49,  5.42s/it]"
     ]
    },
    {
     "name": "stdout",
     "output_type": "stream",
     "text": [
      "Processed and saved: C:\\Users\\aknin\\Desktop\\MLproject-main\\Dataset\\BMS_processed\\updated_modified_cleaned_562_Mixed8_processed.csv\n"
     ]
    },
    {
     "name": "stderr",
     "output_type": "stream",
     "text": [
      "Processing files:  34%|███▍      | 67/197 [11:52<11:24,  5.27s/it]"
     ]
    },
    {
     "name": "stdout",
     "output_type": "stream",
     "text": [
      "Processed and saved: C:\\Users\\aknin\\Desktop\\MLproject-main\\Dataset\\BMS_processed\\updated_modified_cleaned_562_PausCycl_processed.csv\n"
     ]
    },
    {
     "name": "stderr",
     "output_type": "stream",
     "text": [
      "Processing files:  35%|███▍      | 68/197 [11:53<08:54,  4.14s/it]"
     ]
    },
    {
     "name": "stdout",
     "output_type": "stream",
     "text": [
      "Processed and saved: C:\\Users\\aknin\\Desktop\\MLproject-main\\Dataset\\BMS_processed\\updated_modified_cleaned_567_Charge6_processed.csv\n"
     ]
    },
    {
     "name": "stderr",
     "output_type": "stream",
     "text": [
      "Processing files:  35%|███▌      | 69/197 [11:55<07:01,  3.29s/it]"
     ]
    },
    {
     "name": "stdout",
     "output_type": "stream",
     "text": [
      "Processed and saved: C:\\Users\\aknin\\Desktop\\MLproject-main\\Dataset\\BMS_processed\\updated_modified_cleaned_567_Charge7_processed.csv\n"
     ]
    },
    {
     "name": "stderr",
     "output_type": "stream",
     "text": [
      "Processing files:  36%|███▌      | 70/197 [11:56<05:46,  2.73s/it]"
     ]
    },
    {
     "name": "stdout",
     "output_type": "stream",
     "text": [
      "Processed and saved: C:\\Users\\aknin\\Desktop\\MLproject-main\\Dataset\\BMS_processed\\updated_modified_cleaned_567_Charge8_processed.csv\n"
     ]
    },
    {
     "name": "stderr",
     "output_type": "stream",
     "text": [
      "Processing files:  36%|███▌      | 71/197 [12:28<24:28, 11.66s/it]"
     ]
    },
    {
     "name": "stdout",
     "output_type": "stream",
     "text": [
      "Processed and saved: C:\\Users\\aknin\\Desktop\\MLproject-main\\Dataset\\BMS_processed\\updated_modified_cleaned_567_Mixed2_processed.csv\n"
     ]
    },
    {
     "name": "stderr",
     "output_type": "stream",
     "text": [
      "Processing files:  37%|███▋      | 72/197 [12:46<28:13, 13.55s/it]"
     ]
    },
    {
     "name": "stdout",
     "output_type": "stream",
     "text": [
      "Processed and saved: C:\\Users\\aknin\\Desktop\\MLproject-main\\Dataset\\BMS_processed\\updated_modified_cleaned_567_US06_processed.csv\n"
     ]
    },
    {
     "name": "stderr",
     "output_type": "stream",
     "text": [
      "Processing files:  37%|███▋      | 73/197 [12:48<20:28,  9.91s/it]"
     ]
    },
    {
     "name": "stdout",
     "output_type": "stream",
     "text": [
      "Processed and saved: C:\\Users\\aknin\\Desktop\\MLproject-main\\Dataset\\BMS_processed\\updated_modified_cleaned_571_Cap_1C_processed.csv\n"
     ]
    },
    {
     "name": "stderr",
     "output_type": "stream",
     "text": [
      "Processing files:  38%|███▊      | 74/197 [12:49<15:00,  7.32s/it]"
     ]
    },
    {
     "name": "stdout",
     "output_type": "stream",
     "text": [
      "Processed and saved: C:\\Users\\aknin\\Desktop\\MLproject-main\\Dataset\\BMS_processed\\updated_modified_cleaned_571_Charge10_processed.csv\n"
     ]
    },
    {
     "name": "stderr",
     "output_type": "stream",
     "text": [
      "Processing files:  38%|███▊      | 75/197 [12:51<11:16,  5.54s/it]"
     ]
    },
    {
     "name": "stdout",
     "output_type": "stream",
     "text": [
      "Processed and saved: C:\\Users\\aknin\\Desktop\\MLproject-main\\Dataset\\BMS_processed\\updated_modified_cleaned_571_Charge11_processed.csv\n"
     ]
    },
    {
     "name": "stderr",
     "output_type": "stream",
     "text": [
      "Processing files:  39%|███▊      | 76/197 [12:52<08:38,  4.28s/it]"
     ]
    },
    {
     "name": "stdout",
     "output_type": "stream",
     "text": [
      "Processed and saved: C:\\Users\\aknin\\Desktop\\MLproject-main\\Dataset\\BMS_processed\\updated_modified_cleaned_571_Charge12_processed.csv\n"
     ]
    },
    {
     "name": "stderr",
     "output_type": "stream",
     "text": [
      "Processing files:  39%|███▉      | 77/197 [12:53<06:49,  3.41s/it]"
     ]
    },
    {
     "name": "stdout",
     "output_type": "stream",
     "text": [
      "Processed and saved: C:\\Users\\aknin\\Desktop\\MLproject-main\\Dataset\\BMS_processed\\updated_modified_cleaned_571_Charge13_processed.csv\n"
     ]
    },
    {
     "name": "stderr",
     "output_type": "stream",
     "text": [
      "Processing files:  40%|███▉      | 78/197 [12:55<05:43,  2.88s/it]"
     ]
    },
    {
     "name": "stdout",
     "output_type": "stream",
     "text": [
      "Processed and saved: C:\\Users\\aknin\\Desktop\\MLproject-main\\Dataset\\BMS_processed\\updated_modified_cleaned_571_Charge14_processed.csv\n"
     ]
    },
    {
     "name": "stderr",
     "output_type": "stream",
     "text": [
      "Processing files:  40%|████      | 79/197 [12:56<04:46,  2.43s/it]"
     ]
    },
    {
     "name": "stdout",
     "output_type": "stream",
     "text": [
      "Processed and saved: C:\\Users\\aknin\\Desktop\\MLproject-main\\Dataset\\BMS_processed\\updated_modified_cleaned_571_Charge15_processed.csv\n"
     ]
    },
    {
     "name": "stderr",
     "output_type": "stream",
     "text": [
      "Processing files:  41%|████      | 80/197 [12:57<04:01,  2.06s/it]"
     ]
    },
    {
     "name": "stdout",
     "output_type": "stream",
     "text": [
      "Processed and saved: C:\\Users\\aknin\\Desktop\\MLproject-main\\Dataset\\BMS_processed\\updated_modified_cleaned_571_Charge16_processed.csv\n"
     ]
    },
    {
     "name": "stderr",
     "output_type": "stream",
     "text": [
      "Processing files:  41%|████      | 81/197 [13:31<22:26, 11.60s/it]"
     ]
    },
    {
     "name": "stdout",
     "output_type": "stream",
     "text": [
      "Processed and saved: C:\\Users\\aknin\\Desktop\\MLproject-main\\Dataset\\BMS_processed\\updated_modified_cleaned_571_Mixed4_processed.csv\n"
     ]
    },
    {
     "name": "stderr",
     "output_type": "stream",
     "text": [
      "Processing files:  42%|████▏     | 82/197 [14:00<32:01, 16.70s/it]"
     ]
    },
    {
     "name": "stdout",
     "output_type": "stream",
     "text": [
      "Processed and saved: C:\\Users\\aknin\\Desktop\\MLproject-main\\Dataset\\BMS_processed\\updated_modified_cleaned_571_Mixed5_processed.csv\n"
     ]
    },
    {
     "name": "stderr",
     "output_type": "stream",
     "text": [
      "Processing files:  42%|████▏     | 83/197 [14:31<39:37, 20.86s/it]"
     ]
    },
    {
     "name": "stdout",
     "output_type": "stream",
     "text": [
      "Processed and saved: C:\\Users\\aknin\\Desktop\\MLproject-main\\Dataset\\BMS_processed\\updated_modified_cleaned_571_Mixed6_processed.csv\n"
     ]
    },
    {
     "name": "stderr",
     "output_type": "stream",
     "text": [
      "Processing files:  43%|████▎     | 84/197 [15:00<44:00, 23.37s/it]"
     ]
    },
    {
     "name": "stdout",
     "output_type": "stream",
     "text": [
      "Processed and saved: C:\\Users\\aknin\\Desktop\\MLproject-main\\Dataset\\BMS_processed\\updated_modified_cleaned_571_Mixed7_processed.csv\n"
     ]
    },
    {
     "name": "stderr",
     "output_type": "stream",
     "text": [
      "Processing files:  43%|████▎     | 85/197 [15:12<37:19, 20.00s/it]"
     ]
    },
    {
     "name": "stdout",
     "output_type": "stream",
     "text": [
      "Processed and saved: C:\\Users\\aknin\\Desktop\\MLproject-main\\Dataset\\BMS_processed\\updated_modified_cleaned_571_PausCycl_processed.csv\n"
     ]
    },
    {
     "name": "stderr",
     "output_type": "stream",
     "text": [
      "Processing files:  44%|████▎     | 86/197 [15:14<27:08, 14.67s/it]"
     ]
    },
    {
     "name": "stdout",
     "output_type": "stream",
     "text": [
      "Processed and saved: C:\\Users\\aknin\\Desktop\\MLproject-main\\Dataset\\BMS_processed\\updated_modified_cleaned_575_C20DisCh_processed.csv\n"
     ]
    },
    {
     "name": "stderr",
     "output_type": "stream",
     "text": [
      "Processing files:  44%|████▍     | 87/197 [15:16<19:40, 10.73s/it]"
     ]
    },
    {
     "name": "stdout",
     "output_type": "stream",
     "text": [
      "Processed and saved: C:\\Users\\aknin\\Desktop\\MLproject-main\\Dataset\\BMS_processed\\updated_modified_cleaned_575_Dis_0p5C_processed.csv\n"
     ]
    },
    {
     "name": "stderr",
     "output_type": "stream",
     "text": [
      "Processing files:  45%|████▍     | 88/197 [15:17<14:25,  7.94s/it]"
     ]
    },
    {
     "name": "stdout",
     "output_type": "stream",
     "text": [
      "Processed and saved: C:\\Users\\aknin\\Desktop\\MLproject-main\\Dataset\\BMS_processed\\updated_modified_cleaned_575_Dis_2C_processed.csv\n"
     ]
    },
    {
     "name": "stderr",
     "output_type": "stream",
     "text": [
      "Processing files:  45%|████▌     | 89/197 [15:36<20:12, 11.23s/it]"
     ]
    },
    {
     "name": "stdout",
     "output_type": "stream",
     "text": [
      "Processed and saved: C:\\Users\\aknin\\Desktop\\MLproject-main\\Dataset\\BMS_processed\\updated_modified_cleaned_575_HPPC_processed.csv\n"
     ]
    },
    {
     "name": "stderr",
     "output_type": "stream",
     "text": [
      "Processing files:  46%|████▌     | 90/197 [15:38<14:51,  8.33s/it]"
     ]
    },
    {
     "name": "stdout",
     "output_type": "stream",
     "text": [
      "Processed and saved: C:\\Users\\aknin\\Desktop\\MLproject-main\\Dataset\\BMS_processed\\updated_modified_cleaned_576_Cap_1C_processed.csv\n"
     ]
    },
    {
     "name": "stderr",
     "output_type": "stream",
     "text": [
      "Processing files:  46%|████▌     | 91/197 [15:39<10:59,  6.22s/it]"
     ]
    },
    {
     "name": "stdout",
     "output_type": "stream",
     "text": [
      "Processed and saved: C:\\Users\\aknin\\Desktop\\MLproject-main\\Dataset\\BMS_processed\\updated_modified_cleaned_576_Charge1_processed.csv\n"
     ]
    },
    {
     "name": "stderr",
     "output_type": "stream",
     "text": [
      "Processing files:  47%|████▋     | 92/197 [15:40<08:28,  4.85s/it]"
     ]
    },
    {
     "name": "stdout",
     "output_type": "stream",
     "text": [
      "Processed and saved: C:\\Users\\aknin\\Desktop\\MLproject-main\\Dataset\\BMS_processed\\updated_modified_cleaned_576_Charge2_processed.csv\n"
     ]
    },
    {
     "name": "stderr",
     "output_type": "stream",
     "text": [
      "Processing files:  47%|████▋     | 93/197 [15:42<06:43,  3.88s/it]"
     ]
    },
    {
     "name": "stdout",
     "output_type": "stream",
     "text": [
      "Processed and saved: C:\\Users\\aknin\\Desktop\\MLproject-main\\Dataset\\BMS_processed\\updated_modified_cleaned_576_Charge3_processed.csv\n"
     ]
    },
    {
     "name": "stderr",
     "output_type": "stream",
     "text": [
      "Processing files:  48%|████▊     | 94/197 [15:44<05:23,  3.14s/it]"
     ]
    },
    {
     "name": "stdout",
     "output_type": "stream",
     "text": [
      "Processed and saved: C:\\Users\\aknin\\Desktop\\MLproject-main\\Dataset\\BMS_processed\\updated_modified_cleaned_576_Charge4_processed.csv\n"
     ]
    },
    {
     "name": "stderr",
     "output_type": "stream",
     "text": [
      "Processing files:  48%|████▊     | 95/197 [16:06<15:13,  8.96s/it]"
     ]
    },
    {
     "name": "stdout",
     "output_type": "stream",
     "text": [
      "Processed and saved: C:\\Users\\aknin\\Desktop\\MLproject-main\\Dataset\\BMS_processed\\updated_modified_cleaned_576_HWFET_processed.csv\n"
     ]
    },
    {
     "name": "stderr",
     "output_type": "stream",
     "text": [
      "Processing files:  49%|████▊     | 96/197 [17:18<46:38, 27.71s/it]"
     ]
    },
    {
     "name": "stdout",
     "output_type": "stream",
     "text": [
      "Processed and saved: C:\\Users\\aknin\\Desktop\\MLproject-main\\Dataset\\BMS_processed\\updated_modified_cleaned_576_UDDS_processed.csv\n"
     ]
    },
    {
     "name": "stderr",
     "output_type": "stream",
     "text": [
      "Processing files:  49%|████▉     | 97/197 [17:31<39:09, 23.50s/it]"
     ]
    },
    {
     "name": "stdout",
     "output_type": "stream",
     "text": [
      "Error processing: updated_modified_cleaned_582_LA92 - could not convert string to float: ''\n"
     ]
    },
    {
     "name": "stderr",
     "output_type": "stream",
     "text": [
      "Processing files:  50%|████▉     | 98/197 [17:33<27:54, 16.91s/it]"
     ]
    },
    {
     "name": "stdout",
     "output_type": "stream",
     "text": [
      "Processed and saved: C:\\Users\\aknin\\Desktop\\MLproject-main\\Dataset\\BMS_processed\\updated_modified_cleaned_585_Dis_0p5C_processed.csv\n"
     ]
    },
    {
     "name": "stderr",
     "output_type": "stream",
     "text": [
      "Processing files:  50%|█████     | 99/197 [17:34<20:08, 12.33s/it]"
     ]
    },
    {
     "name": "stdout",
     "output_type": "stream",
     "text": [
      "Processed and saved: C:\\Users\\aknin\\Desktop\\MLproject-main\\Dataset\\BMS_processed\\updated_modified_cleaned_585_Dis_2C_processed.csv\n"
     ]
    },
    {
     "name": "stderr",
     "output_type": "stream",
     "text": [
      "Processing files:  51%|█████     | 100/197 [17:55<23:45, 14.70s/it]"
     ]
    },
    {
     "name": "stdout",
     "output_type": "stream",
     "text": [
      "Processed and saved: C:\\Users\\aknin\\Desktop\\MLproject-main\\Dataset\\BMS_processed\\updated_modified_cleaned_585_HPPC_processed.csv\n"
     ]
    },
    {
     "name": "stderr",
     "output_type": "stream",
     "text": [
      "Processing files:  51%|█████▏    | 101/197 [17:57<17:25, 10.89s/it]"
     ]
    },
    {
     "name": "stdout",
     "output_type": "stream",
     "text": [
      "Processed and saved: C:\\Users\\aknin\\Desktop\\MLproject-main\\Dataset\\BMS_processed\\updated_modified_cleaned_589_Cap_1C_processed.csv\n"
     ]
    },
    {
     "name": "stderr",
     "output_type": "stream",
     "text": [
      "Processing files:  52%|█████▏    | 102/197 [17:58<12:52,  8.13s/it]"
     ]
    },
    {
     "name": "stdout",
     "output_type": "stream",
     "text": [
      "Processed and saved: C:\\Users\\aknin\\Desktop\\MLproject-main\\Dataset\\BMS_processed\\updated_modified_cleaned_589_Charge1_processed.csv\n"
     ]
    },
    {
     "name": "stderr",
     "output_type": "stream",
     "text": [
      "Processing files:  52%|█████▏    | 103/197 [18:00<09:56,  6.34s/it]"
     ]
    },
    {
     "name": "stdout",
     "output_type": "stream",
     "text": [
      "Processed and saved: C:\\Users\\aknin\\Desktop\\MLproject-main\\Dataset\\BMS_processed\\updated_modified_cleaned_589_Charge2_processed.csv\n"
     ]
    },
    {
     "name": "stderr",
     "output_type": "stream",
     "text": [
      "Processing files:  53%|█████▎    | 104/197 [18:03<08:00,  5.16s/it]"
     ]
    },
    {
     "name": "stdout",
     "output_type": "stream",
     "text": [
      "Processed and saved: C:\\Users\\aknin\\Desktop\\MLproject-main\\Dataset\\BMS_processed\\updated_modified_cleaned_589_Charge3_processed.csv\n"
     ]
    },
    {
     "name": "stderr",
     "output_type": "stream",
     "text": [
      "Processing files:  53%|█████▎    | 105/197 [18:05<06:44,  4.39s/it]"
     ]
    },
    {
     "name": "stdout",
     "output_type": "stream",
     "text": [
      "Processed and saved: C:\\Users\\aknin\\Desktop\\MLproject-main\\Dataset\\BMS_processed\\updated_modified_cleaned_589_Charge4_processed.csv\n"
     ]
    },
    {
     "name": "stderr",
     "output_type": "stream",
     "text": [
      "Processing files:  54%|█████▍    | 106/197 [18:07<05:23,  3.56s/it]"
     ]
    },
    {
     "name": "stdout",
     "output_type": "stream",
     "text": [
      "Processed and saved: C:\\Users\\aknin\\Desktop\\MLproject-main\\Dataset\\BMS_processed\\updated_modified_cleaned_589_Charge5_processed.csv\n"
     ]
    },
    {
     "name": "stderr",
     "output_type": "stream",
     "text": [
      "Processing files:  54%|█████▍    | 107/197 [18:09<04:42,  3.14s/it]"
     ]
    },
    {
     "name": "stdout",
     "output_type": "stream",
     "text": [
      "Processed and saved: C:\\Users\\aknin\\Desktop\\MLproject-main\\Dataset\\BMS_processed\\updated_modified_cleaned_589_Charge6_processed.csv\n"
     ]
    },
    {
     "name": "stderr",
     "output_type": "stream",
     "text": [
      "Processing files:  55%|█████▍    | 108/197 [18:12<04:17,  2.89s/it]"
     ]
    },
    {
     "name": "stdout",
     "output_type": "stream",
     "text": [
      "Processed and saved: C:\\Users\\aknin\\Desktop\\MLproject-main\\Dataset\\BMS_processed\\updated_modified_cleaned_589_Charge7_processed.csv\n"
     ]
    },
    {
     "name": "stderr",
     "output_type": "stream",
     "text": [
      "Processing files:  55%|█████▌    | 109/197 [18:13<03:44,  2.55s/it]"
     ]
    },
    {
     "name": "stdout",
     "output_type": "stream",
     "text": [
      "Processed and saved: C:\\Users\\aknin\\Desktop\\MLproject-main\\Dataset\\BMS_processed\\updated_modified_cleaned_589_Charge8_processed.csv\n"
     ]
    },
    {
     "name": "stderr",
     "output_type": "stream",
     "text": [
      "Processing files:  56%|█████▌    | 110/197 [18:38<13:29,  9.31s/it]"
     ]
    },
    {
     "name": "stdout",
     "output_type": "stream",
     "text": [
      "Processed and saved: C:\\Users\\aknin\\Desktop\\MLproject-main\\Dataset\\BMS_processed\\updated_modified_cleaned_589_HWFET_processed.csv\n"
     ]
    },
    {
     "name": "stderr",
     "output_type": "stream",
     "text": [
      "Processing files:  56%|█████▋    | 111/197 [19:20<27:21, 19.09s/it]"
     ]
    },
    {
     "name": "stdout",
     "output_type": "stream",
     "text": [
      "Processed and saved: C:\\Users\\aknin\\Desktop\\MLproject-main\\Dataset\\BMS_processed\\updated_modified_cleaned_589_LA92_processed.csv\n"
     ]
    },
    {
     "name": "stderr",
     "output_type": "stream",
     "text": [
      "Processing files:  57%|█████▋    | 112/197 [19:55<33:30, 23.65s/it]"
     ]
    },
    {
     "name": "stdout",
     "output_type": "stream",
     "text": [
      "Processed and saved: C:\\Users\\aknin\\Desktop\\MLproject-main\\Dataset\\BMS_processed\\updated_modified_cleaned_589_Mixed2_processed.csv\n"
     ]
    },
    {
     "name": "stderr",
     "output_type": "stream",
     "text": [
      "Processing files:  57%|█████▋    | 113/197 [21:01<50:59, 36.42s/it]"
     ]
    },
    {
     "name": "stdout",
     "output_type": "stream",
     "text": [
      "Processed and saved: C:\\Users\\aknin\\Desktop\\MLproject-main\\Dataset\\BMS_processed\\updated_modified_cleaned_589_UDDS_processed.csv\n"
     ]
    },
    {
     "name": "stderr",
     "output_type": "stream",
     "text": [
      "Processing files:  58%|█████▊    | 114/197 [21:18<42:24, 30.66s/it]"
     ]
    },
    {
     "name": "stdout",
     "output_type": "stream",
     "text": [
      "Processed and saved: C:\\Users\\aknin\\Desktop\\MLproject-main\\Dataset\\BMS_processed\\updated_modified_cleaned_589_US06_processed.csv\n"
     ]
    },
    {
     "name": "stderr",
     "output_type": "stream",
     "text": [
      "Processing files:  58%|█████▊    | 115/197 [21:20<30:02, 21.98s/it]"
     ]
    },
    {
     "name": "stdout",
     "output_type": "stream",
     "text": [
      "Processed and saved: C:\\Users\\aknin\\Desktop\\MLproject-main\\Dataset\\BMS_processed\\updated_modified_cleaned_590_Charge10_processed.csv\n"
     ]
    },
    {
     "name": "stderr",
     "output_type": "stream",
     "text": [
      "Processing files:  59%|█████▉    | 116/197 [21:21<21:22, 15.83s/it]"
     ]
    },
    {
     "name": "stdout",
     "output_type": "stream",
     "text": [
      "Processed and saved: C:\\Users\\aknin\\Desktop\\MLproject-main\\Dataset\\BMS_processed\\updated_modified_cleaned_590_Charge11_processed.csv\n"
     ]
    },
    {
     "name": "stderr",
     "output_type": "stream",
     "text": [
      "Processing files:  59%|█████▉    | 117/197 [21:23<15:30, 11.64s/it]"
     ]
    },
    {
     "name": "stdout",
     "output_type": "stream",
     "text": [
      "Processed and saved: C:\\Users\\aknin\\Desktop\\MLproject-main\\Dataset\\BMS_processed\\updated_modified_cleaned_590_Charge12_processed.csv\n"
     ]
    },
    {
     "name": "stderr",
     "output_type": "stream",
     "text": [
      "Processing files:  60%|█████▉    | 118/197 [21:25<11:23,  8.65s/it]"
     ]
    },
    {
     "name": "stdout",
     "output_type": "stream",
     "text": [
      "Processed and saved: C:\\Users\\aknin\\Desktop\\MLproject-main\\Dataset\\BMS_processed\\updated_modified_cleaned_590_Charge13_processed.csv\n"
     ]
    },
    {
     "name": "stderr",
     "output_type": "stream",
     "text": [
      "Processing files:  60%|██████    | 119/197 [21:27<08:36,  6.62s/it]"
     ]
    },
    {
     "name": "stdout",
     "output_type": "stream",
     "text": [
      "Processed and saved: C:\\Users\\aknin\\Desktop\\MLproject-main\\Dataset\\BMS_processed\\updated_modified_cleaned_590_Charge14_processed.csv\n"
     ]
    },
    {
     "name": "stderr",
     "output_type": "stream",
     "text": [
      "Processing files:  61%|██████    | 120/197 [21:29<06:41,  5.21s/it]"
     ]
    },
    {
     "name": "stdout",
     "output_type": "stream",
     "text": [
      "Processed and saved: C:\\Users\\aknin\\Desktop\\MLproject-main\\Dataset\\BMS_processed\\updated_modified_cleaned_590_Charge15_processed.csv\n"
     ]
    },
    {
     "name": "stderr",
     "output_type": "stream",
     "text": [
      "Processing files:  61%|██████▏   | 121/197 [21:30<05:13,  4.12s/it]"
     ]
    },
    {
     "name": "stdout",
     "output_type": "stream",
     "text": [
      "Processed and saved: C:\\Users\\aknin\\Desktop\\MLproject-main\\Dataset\\BMS_processed\\updated_modified_cleaned_590_Charge16_processed.csv\n"
     ]
    },
    {
     "name": "stderr",
     "output_type": "stream",
     "text": [
      "Processing files:  62%|██████▏   | 122/197 [21:58<13:55, 11.14s/it]"
     ]
    },
    {
     "name": "stdout",
     "output_type": "stream",
     "text": [
      "Processed and saved: C:\\Users\\aknin\\Desktop\\MLproject-main\\Dataset\\BMS_processed\\updated_modified_cleaned_590_Mixed4_processed.csv\n"
     ]
    },
    {
     "name": "stderr",
     "output_type": "stream",
     "text": [
      "Processing files:  62%|██████▏   | 123/197 [22:25<19:46, 16.04s/it]"
     ]
    },
    {
     "name": "stdout",
     "output_type": "stream",
     "text": [
      "Processed and saved: C:\\Users\\aknin\\Desktop\\MLproject-main\\Dataset\\BMS_processed\\updated_modified_cleaned_590_Mixed5_processed.csv\n"
     ]
    },
    {
     "name": "stderr",
     "output_type": "stream",
     "text": [
      "Processing files:  63%|██████▎   | 124/197 [22:53<23:44, 19.51s/it]"
     ]
    },
    {
     "name": "stdout",
     "output_type": "stream",
     "text": [
      "Processed and saved: C:\\Users\\aknin\\Desktop\\MLproject-main\\Dataset\\BMS_processed\\updated_modified_cleaned_590_Mixed6_processed.csv\n"
     ]
    },
    {
     "name": "stderr",
     "output_type": "stream",
     "text": [
      "Processing files:  63%|██████▎   | 125/197 [23:19<26:00, 21.68s/it]"
     ]
    },
    {
     "name": "stdout",
     "output_type": "stream",
     "text": [
      "Processed and saved: C:\\Users\\aknin\\Desktop\\MLproject-main\\Dataset\\BMS_processed\\updated_modified_cleaned_590_Mixed7_processed.csv\n"
     ]
    },
    {
     "name": "stderr",
     "output_type": "stream",
     "text": [
      "Processing files:  64%|██████▍   | 126/197 [23:55<30:26, 25.72s/it]"
     ]
    },
    {
     "name": "stdout",
     "output_type": "stream",
     "text": [
      "Processed and saved: C:\\Users\\aknin\\Desktop\\MLproject-main\\Dataset\\BMS_processed\\updated_modified_cleaned_590_Mixed8_processed.csv\n"
     ]
    },
    {
     "name": "stderr",
     "output_type": "stream",
     "text": [
      "Processing files:  64%|██████▍   | 127/197 [24:10<26:14, 22.49s/it]"
     ]
    },
    {
     "name": "stdout",
     "output_type": "stream",
     "text": [
      "Processed and saved: C:\\Users\\aknin\\Desktop\\MLproject-main\\Dataset\\BMS_processed\\updated_modified_cleaned_590_PausCycl_processed.csv\n"
     ]
    },
    {
     "name": "stderr",
     "output_type": "stream",
     "text": [
      "Processing files:  65%|██████▍   | 128/197 [24:13<19:12, 16.70s/it]"
     ]
    },
    {
     "name": "stdout",
     "output_type": "stream",
     "text": [
      "Processed and saved: C:\\Users\\aknin\\Desktop\\MLproject-main\\Dataset\\BMS_processed\\updated_modified_cleaned_593_C20DisCh_processed.csv\n"
     ]
    },
    {
     "name": "stderr",
     "output_type": "stream",
     "text": [
      "Processing files:  65%|██████▌   | 129/197 [24:16<14:16, 12.60s/it]"
     ]
    },
    {
     "name": "stdout",
     "output_type": "stream",
     "text": [
      "Processed and saved: C:\\Users\\aknin\\Desktop\\MLproject-main\\Dataset\\BMS_processed\\updated_modified_cleaned_593_Dis_0p5C_processed.csv\n"
     ]
    },
    {
     "name": "stderr",
     "output_type": "stream",
     "text": [
      "Processing files:  66%|██████▌   | 130/197 [24:17<10:20,  9.25s/it]"
     ]
    },
    {
     "name": "stdout",
     "output_type": "stream",
     "text": [
      "Processed and saved: C:\\Users\\aknin\\Desktop\\MLproject-main\\Dataset\\BMS_processed\\updated_modified_cleaned_593_Dis_2C_processed.csv\n"
     ]
    },
    {
     "name": "stderr",
     "output_type": "stream",
     "text": [
      "Processing files:  66%|██████▋   | 131/197 [24:19<07:33,  6.87s/it]"
     ]
    },
    {
     "name": "stdout",
     "output_type": "stream",
     "text": [
      "Processed and saved: C:\\Users\\aknin\\Desktop\\MLproject-main\\Dataset\\BMS_processed\\updated_modified_cleaned_596_Cap_1C_processed.csv\n"
     ]
    },
    {
     "name": "stderr",
     "output_type": "stream",
     "text": [
      "Processing files:  67%|██████▋   | 132/197 [24:21<06:00,  5.55s/it]"
     ]
    },
    {
     "name": "stdout",
     "output_type": "stream",
     "text": [
      "Processed and saved: C:\\Users\\aknin\\Desktop\\MLproject-main\\Dataset\\BMS_processed\\updated_modified_cleaned_596_Charge1_processed.csv\n"
     ]
    },
    {
     "name": "stderr",
     "output_type": "stream",
     "text": [
      "Processing files:  68%|██████▊   | 133/197 [24:22<04:35,  4.31s/it]"
     ]
    },
    {
     "name": "stdout",
     "output_type": "stream",
     "text": [
      "Processed and saved: C:\\Users\\aknin\\Desktop\\MLproject-main\\Dataset\\BMS_processed\\updated_modified_cleaned_596_Charge2_processed.csv\n"
     ]
    },
    {
     "name": "stderr",
     "output_type": "stream",
     "text": [
      "Processing files:  68%|██████▊   | 134/197 [24:24<03:41,  3.51s/it]"
     ]
    },
    {
     "name": "stdout",
     "output_type": "stream",
     "text": [
      "Processed and saved: C:\\Users\\aknin\\Desktop\\MLproject-main\\Dataset\\BMS_processed\\updated_modified_cleaned_596_Charge3_processed.csv\n"
     ]
    },
    {
     "name": "stderr",
     "output_type": "stream",
     "text": [
      "Processing files:  69%|██████▊   | 135/197 [24:26<02:58,  2.89s/it]"
     ]
    },
    {
     "name": "stdout",
     "output_type": "stream",
     "text": [
      "Processed and saved: C:\\Users\\aknin\\Desktop\\MLproject-main\\Dataset\\BMS_processed\\updated_modified_cleaned_596_Charge4_processed.csv\n"
     ]
    },
    {
     "name": "stderr",
     "output_type": "stream",
     "text": [
      "Processing files:  69%|██████▉   | 136/197 [24:27<02:30,  2.46s/it]"
     ]
    },
    {
     "name": "stdout",
     "output_type": "stream",
     "text": [
      "Processed and saved: C:\\Users\\aknin\\Desktop\\MLproject-main\\Dataset\\BMS_processed\\updated_modified_cleaned_596_Charge5_processed.csv\n"
     ]
    },
    {
     "name": "stderr",
     "output_type": "stream",
     "text": [
      "Processing files:  70%|██████▉   | 137/197 [24:47<07:48,  7.81s/it]"
     ]
    },
    {
     "name": "stdout",
     "output_type": "stream",
     "text": [
      "Processed and saved: C:\\Users\\aknin\\Desktop\\MLproject-main\\Dataset\\BMS_processed\\updated_modified_cleaned_596_HWFET_processed.csv\n"
     ]
    },
    {
     "name": "stderr",
     "output_type": "stream",
     "text": [
      "Processing files:  70%|███████   | 138/197 [25:17<14:13, 14.47s/it]"
     ]
    },
    {
     "name": "stdout",
     "output_type": "stream",
     "text": [
      "Processed and saved: C:\\Users\\aknin\\Desktop\\MLproject-main\\Dataset\\BMS_processed\\updated_modified_cleaned_596_LA92_processed.csv\n"
     ]
    },
    {
     "name": "stderr",
     "output_type": "stream",
     "text": [
      "Processing files:  71%|███████   | 139/197 [25:19<10:12, 10.56s/it]"
     ]
    },
    {
     "name": "stdout",
     "output_type": "stream",
     "text": [
      "Processed and saved: C:\\Users\\aknin\\Desktop\\MLproject-main\\Dataset\\BMS_processed\\updated_modified_cleaned_601_Charge6_processed.csv\n"
     ]
    },
    {
     "name": "stderr",
     "output_type": "stream",
     "text": [
      "Processing files:  71%|███████   | 140/197 [25:20<07:22,  7.77s/it]"
     ]
    },
    {
     "name": "stdout",
     "output_type": "stream",
     "text": [
      "Processed and saved: C:\\Users\\aknin\\Desktop\\MLproject-main\\Dataset\\BMS_processed\\updated_modified_cleaned_601_Charge7_processed.csv\n"
     ]
    },
    {
     "name": "stderr",
     "output_type": "stream",
     "text": [
      "Processing files:  72%|███████▏  | 141/197 [25:21<05:25,  5.82s/it]"
     ]
    },
    {
     "name": "stdout",
     "output_type": "stream",
     "text": [
      "Processed and saved: C:\\Users\\aknin\\Desktop\\MLproject-main\\Dataset\\BMS_processed\\updated_modified_cleaned_601_Charge8_processed.csv\n"
     ]
    },
    {
     "name": "stderr",
     "output_type": "stream",
     "text": [
      "Processing files:  72%|███████▏  | 142/197 [25:48<11:06, 12.11s/it]"
     ]
    },
    {
     "name": "stdout",
     "output_type": "stream",
     "text": [
      "Processed and saved: C:\\Users\\aknin\\Desktop\\MLproject-main\\Dataset\\BMS_processed\\updated_modified_cleaned_601_Mixed1_processed.csv\n"
     ]
    },
    {
     "name": "stderr",
     "output_type": "stream",
     "text": [
      "Processing files:  73%|███████▎  | 143/197 [26:18<15:41, 17.43s/it]"
     ]
    },
    {
     "name": "stdout",
     "output_type": "stream",
     "text": [
      "Processed and saved: C:\\Users\\aknin\\Desktop\\MLproject-main\\Dataset\\BMS_processed\\updated_modified_cleaned_601_Mixed2_processed.csv\n"
     ]
    },
    {
     "name": "stderr",
     "output_type": "stream",
     "text": [
      "Processing files:  73%|███████▎  | 144/197 [26:31<14:14, 16.12s/it]"
     ]
    },
    {
     "name": "stdout",
     "output_type": "stream",
     "text": [
      "Processed and saved: C:\\Users\\aknin\\Desktop\\MLproject-main\\Dataset\\BMS_processed\\updated_modified_cleaned_601_US06_processed.csv\n"
     ]
    },
    {
     "name": "stderr",
     "output_type": "stream",
     "text": [
      "Processing files:  74%|███████▎  | 145/197 [26:32<10:06, 11.66s/it]"
     ]
    },
    {
     "name": "stdout",
     "output_type": "stream",
     "text": [
      "Processed and saved: C:\\Users\\aknin\\Desktop\\MLproject-main\\Dataset\\BMS_processed\\updated_modified_cleaned_602_Cap_1C_processed.csv\n"
     ]
    },
    {
     "name": "stderr",
     "output_type": "stream",
     "text": [
      "Processing files:  74%|███████▍  | 146/197 [26:33<07:13,  8.51s/it]"
     ]
    },
    {
     "name": "stdout",
     "output_type": "stream",
     "text": [
      "Processed and saved: C:\\Users\\aknin\\Desktop\\MLproject-main\\Dataset\\BMS_processed\\updated_modified_cleaned_602_Charge10_processed.csv\n"
     ]
    },
    {
     "name": "stderr",
     "output_type": "stream",
     "text": [
      "Processing files:  75%|███████▍  | 147/197 [26:34<05:14,  6.30s/it]"
     ]
    },
    {
     "name": "stdout",
     "output_type": "stream",
     "text": [
      "Processed and saved: C:\\Users\\aknin\\Desktop\\MLproject-main\\Dataset\\BMS_processed\\updated_modified_cleaned_602_Charge11_processed.csv\n"
     ]
    },
    {
     "name": "stderr",
     "output_type": "stream",
     "text": [
      "Processing files:  75%|███████▌  | 148/197 [26:36<03:58,  4.86s/it]"
     ]
    },
    {
     "name": "stdout",
     "output_type": "stream",
     "text": [
      "Processed and saved: C:\\Users\\aknin\\Desktop\\MLproject-main\\Dataset\\BMS_processed\\updated_modified_cleaned_602_Charge12_processed.csv\n"
     ]
    },
    {
     "name": "stderr",
     "output_type": "stream",
     "text": [
      "Processing files:  76%|███████▌  | 149/197 [26:37<03:01,  3.77s/it]"
     ]
    },
    {
     "name": "stdout",
     "output_type": "stream",
     "text": [
      "Processed and saved: C:\\Users\\aknin\\Desktop\\MLproject-main\\Dataset\\BMS_processed\\updated_modified_cleaned_602_Charge17_processed.csv\n"
     ]
    },
    {
     "name": "stderr",
     "output_type": "stream",
     "text": [
      "Processing files:  76%|███████▌  | 150/197 [27:00<07:28,  9.55s/it]"
     ]
    },
    {
     "name": "stdout",
     "output_type": "stream",
     "text": [
      "Processed and saved: C:\\Users\\aknin\\Desktop\\MLproject-main\\Dataset\\BMS_processed\\updated_modified_cleaned_602_Mixed5_processed.csv\n"
     ]
    },
    {
     "name": "stderr",
     "output_type": "stream",
     "text": [
      "Processing files:  77%|███████▋  | 151/197 [27:02<05:27,  7.12s/it]"
     ]
    },
    {
     "name": "stdout",
     "output_type": "stream",
     "text": [
      "Processed and saved: C:\\Users\\aknin\\Desktop\\MLproject-main\\Dataset\\BMS_processed\\updated_modified_cleaned_604_Charge10_processed.csv\n"
     ]
    },
    {
     "name": "stderr",
     "output_type": "stream",
     "text": [
      "Processing files:  77%|███████▋  | 152/197 [27:03<03:59,  5.33s/it]"
     ]
    },
    {
     "name": "stdout",
     "output_type": "stream",
     "text": [
      "Processed and saved: C:\\Users\\aknin\\Desktop\\MLproject-main\\Dataset\\BMS_processed\\updated_modified_cleaned_604_Charge13_processed.csv\n"
     ]
    },
    {
     "name": "stderr",
     "output_type": "stream",
     "text": [
      "Processing files:  78%|███████▊  | 153/197 [27:04<02:59,  4.07s/it]"
     ]
    },
    {
     "name": "stdout",
     "output_type": "stream",
     "text": [
      "Processed and saved: C:\\Users\\aknin\\Desktop\\MLproject-main\\Dataset\\BMS_processed\\updated_modified_cleaned_604_Charge14_processed.csv\n"
     ]
    },
    {
     "name": "stderr",
     "output_type": "stream",
     "text": [
      "Processing files:  78%|███████▊  | 154/197 [27:05<02:18,  3.22s/it]"
     ]
    },
    {
     "name": "stdout",
     "output_type": "stream",
     "text": [
      "Processed and saved: C:\\Users\\aknin\\Desktop\\MLproject-main\\Dataset\\BMS_processed\\updated_modified_cleaned_604_Charge15_processed.csv\n"
     ]
    },
    {
     "name": "stderr",
     "output_type": "stream",
     "text": [
      "Processing files:  79%|███████▊  | 155/197 [27:06<01:48,  2.58s/it]"
     ]
    },
    {
     "name": "stdout",
     "output_type": "stream",
     "text": [
      "Processed and saved: C:\\Users\\aknin\\Desktop\\MLproject-main\\Dataset\\BMS_processed\\updated_modified_cleaned_604_Charge16_processed.csv\n"
     ]
    },
    {
     "name": "stderr",
     "output_type": "stream",
     "text": [
      "Processing files:  79%|███████▉  | 156/197 [27:07<01:26,  2.12s/it]"
     ]
    },
    {
     "name": "stdout",
     "output_type": "stream",
     "text": [
      "Processed and saved: C:\\Users\\aknin\\Desktop\\MLproject-main\\Dataset\\BMS_processed\\updated_modified_cleaned_604_Charge17_processed.csv\n"
     ]
    },
    {
     "name": "stderr",
     "output_type": "stream",
     "text": [
      "Processing files:  80%|███████▉  | 157/197 [27:09<01:12,  1.82s/it]"
     ]
    },
    {
     "name": "stdout",
     "output_type": "stream",
     "text": [
      "Processed and saved: C:\\Users\\aknin\\Desktop\\MLproject-main\\Dataset\\BMS_processed\\updated_modified_cleaned_604_Charge9_processed.csv\n"
     ]
    },
    {
     "name": "stderr",
     "output_type": "stream",
     "text": [
      "Processing files:  80%|████████  | 158/197 [27:33<05:41,  8.76s/it]"
     ]
    },
    {
     "name": "stdout",
     "output_type": "stream",
     "text": [
      "Processed and saved: C:\\Users\\aknin\\Desktop\\MLproject-main\\Dataset\\BMS_processed\\updated_modified_cleaned_604_Mixed3_processed.csv\n"
     ]
    },
    {
     "name": "stderr",
     "output_type": "stream",
     "text": [
      "Processing files:  81%|████████  | 159/197 [28:05<09:53, 15.62s/it]"
     ]
    },
    {
     "name": "stdout",
     "output_type": "stream",
     "text": [
      "Processed and saved: C:\\Users\\aknin\\Desktop\\MLproject-main\\Dataset\\BMS_processed\\updated_modified_cleaned_604_Mixed6_processed.csv\n"
     ]
    },
    {
     "name": "stderr",
     "output_type": "stream",
     "text": [
      "Processing files:  81%|████████  | 160/197 [28:32<11:46, 19.08s/it]"
     ]
    },
    {
     "name": "stdout",
     "output_type": "stream",
     "text": [
      "Processed and saved: C:\\Users\\aknin\\Desktop\\MLproject-main\\Dataset\\BMS_processed\\updated_modified_cleaned_604_Mixed7_processed.csv\n"
     ]
    },
    {
     "name": "stderr",
     "output_type": "stream",
     "text": [
      "Processing files:  82%|████████▏ | 161/197 [29:07<14:12, 23.67s/it]"
     ]
    },
    {
     "name": "stdout",
     "output_type": "stream",
     "text": [
      "Processed and saved: C:\\Users\\aknin\\Desktop\\MLproject-main\\Dataset\\BMS_processed\\updated_modified_cleaned_604_Mixed8_processed.csv\n"
     ]
    },
    {
     "name": "stderr",
     "output_type": "stream",
     "text": [
      "Processing files:  82%|████████▏ | 162/197 [29:19<11:46, 20.19s/it]"
     ]
    },
    {
     "name": "stdout",
     "output_type": "stream",
     "text": [
      "Processed and saved: C:\\Users\\aknin\\Desktop\\MLproject-main\\Dataset\\BMS_processed\\updated_modified_cleaned_604_PausCycl_processed.csv\n"
     ]
    },
    {
     "name": "stderr",
     "output_type": "stream",
     "text": [
      "Processing files:  83%|████████▎ | 163/197 [29:21<08:21, 14.76s/it]"
     ]
    },
    {
     "name": "stdout",
     "output_type": "stream",
     "text": [
      "Processed and saved: C:\\Users\\aknin\\Desktop\\MLproject-main\\Dataset\\BMS_processed\\updated_modified_cleaned_607_C20DisCh_processed.csv\n"
     ]
    },
    {
     "name": "stderr",
     "output_type": "stream",
     "text": [
      "Processing files:  83%|████████▎ | 164/197 [29:22<05:55, 10.77s/it]"
     ]
    },
    {
     "name": "stdout",
     "output_type": "stream",
     "text": [
      "Processed and saved: C:\\Users\\aknin\\Desktop\\MLproject-main\\Dataset\\BMS_processed\\updated_modified_cleaned_607_Dis_0p5C_processed.csv\n"
     ]
    },
    {
     "name": "stderr",
     "output_type": "stream",
     "text": [
      "Processing files:  84%|████████▍ | 165/197 [29:24<04:20,  8.13s/it]"
     ]
    },
    {
     "name": "stdout",
     "output_type": "stream",
     "text": [
      "Processed and saved: C:\\Users\\aknin\\Desktop\\MLproject-main\\Dataset\\BMS_processed\\updated_modified_cleaned_607_Dis_2C_processed.csv\n"
     ]
    },
    {
     "name": "stderr",
     "output_type": "stream",
     "text": [
      "Processing files:  84%|████████▍ | 166/197 [29:42<05:45, 11.16s/it]"
     ]
    },
    {
     "name": "stdout",
     "output_type": "stream",
     "text": [
      "Processed and saved: C:\\Users\\aknin\\Desktop\\MLproject-main\\Dataset\\BMS_processed\\updated_modified_cleaned_607_HPPC_processed.csv\n"
     ]
    },
    {
     "name": "stderr",
     "output_type": "stream",
     "text": [
      "Processing files:  85%|████████▍ | 167/197 [29:44<04:08,  8.30s/it]"
     ]
    },
    {
     "name": "stdout",
     "output_type": "stream",
     "text": [
      "Processed and saved: C:\\Users\\aknin\\Desktop\\MLproject-main\\Dataset\\BMS_processed\\updated_modified_cleaned_610_Cap_1C_processed.csv\n"
     ]
    },
    {
     "name": "stderr",
     "output_type": "stream",
     "text": [
      "Processing files:  85%|████████▌ | 168/197 [29:46<03:04,  6.37s/it]"
     ]
    },
    {
     "name": "stdout",
     "output_type": "stream",
     "text": [
      "Processed and saved: C:\\Users\\aknin\\Desktop\\MLproject-main\\Dataset\\BMS_processed\\updated_modified_cleaned_610_Charge1_processed.csv\n"
     ]
    },
    {
     "name": "stderr",
     "output_type": "stream",
     "text": [
      "Processing files:  86%|████████▌ | 169/197 [29:47<02:16,  4.88s/it]"
     ]
    },
    {
     "name": "stdout",
     "output_type": "stream",
     "text": [
      "Processed and saved: C:\\Users\\aknin\\Desktop\\MLproject-main\\Dataset\\BMS_processed\\updated_modified_cleaned_610_Charge2_processed.csv\n"
     ]
    },
    {
     "name": "stderr",
     "output_type": "stream",
     "text": [
      "Processing files:  86%|████████▋ | 170/197 [29:49<01:46,  3.96s/it]"
     ]
    },
    {
     "name": "stdout",
     "output_type": "stream",
     "text": [
      "Processed and saved: C:\\Users\\aknin\\Desktop\\MLproject-main\\Dataset\\BMS_processed\\updated_modified_cleaned_610_Charge3_processed.csv\n"
     ]
    },
    {
     "name": "stderr",
     "output_type": "stream",
     "text": [
      "Processing files:  87%|████████▋ | 171/197 [29:51<01:22,  3.18s/it]"
     ]
    },
    {
     "name": "stdout",
     "output_type": "stream",
     "text": [
      "Processed and saved: C:\\Users\\aknin\\Desktop\\MLproject-main\\Dataset\\BMS_processed\\updated_modified_cleaned_610_Charge4_processed.csv\n"
     ]
    },
    {
     "name": "stderr",
     "output_type": "stream",
     "text": [
      "Processing files:  87%|████████▋ | 172/197 [29:52<01:05,  2.62s/it]"
     ]
    },
    {
     "name": "stdout",
     "output_type": "stream",
     "text": [
      "Processed and saved: C:\\Users\\aknin\\Desktop\\MLproject-main\\Dataset\\BMS_processed\\updated_modified_cleaned_610_Charge5_processed.csv\n"
     ]
    },
    {
     "name": "stderr",
     "output_type": "stream",
     "text": [
      "Processing files:  88%|████████▊ | 173/197 [29:53<00:53,  2.23s/it]"
     ]
    },
    {
     "name": "stdout",
     "output_type": "stream",
     "text": [
      "Processed and saved: C:\\Users\\aknin\\Desktop\\MLproject-main\\Dataset\\BMS_processed\\updated_modified_cleaned_610_Charge6_processed.csv\n"
     ]
    },
    {
     "name": "stderr",
     "output_type": "stream",
     "text": [
      "Processing files:  88%|████████▊ | 174/197 [29:55<00:46,  2.03s/it]"
     ]
    },
    {
     "name": "stdout",
     "output_type": "stream",
     "text": [
      "Processed and saved: C:\\Users\\aknin\\Desktop\\MLproject-main\\Dataset\\BMS_processed\\updated_modified_cleaned_610_Charge7_processed.csv\n"
     ]
    },
    {
     "name": "stderr",
     "output_type": "stream",
     "text": [
      "Processing files:  89%|████████▉ | 175/197 [29:57<00:44,  2.03s/it]"
     ]
    },
    {
     "name": "stdout",
     "output_type": "stream",
     "text": [
      "Processed and saved: C:\\Users\\aknin\\Desktop\\MLproject-main\\Dataset\\BMS_processed\\updated_modified_cleaned_610_Charge8_processed.csv\n"
     ]
    },
    {
     "name": "stderr",
     "output_type": "stream",
     "text": [
      "Processing files:  89%|████████▉ | 176/197 [30:36<04:34, 13.07s/it]"
     ]
    },
    {
     "name": "stdout",
     "output_type": "stream",
     "text": [
      "Processed and saved: C:\\Users\\aknin\\Desktop\\MLproject-main\\Dataset\\BMS_processed\\updated_modified_cleaned_610_HWFET_processed.csv\n"
     ]
    },
    {
     "name": "stderr",
     "output_type": "stream",
     "text": [
      "Processing files:  90%|████████▉ | 177/197 [30:59<05:24, 16.23s/it]"
     ]
    },
    {
     "name": "stdout",
     "output_type": "stream",
     "text": [
      "Processed and saved: C:\\Users\\aknin\\Desktop\\MLproject-main\\Dataset\\BMS_processed\\updated_modified_cleaned_610_LA92_processed.csv\n"
     ]
    },
    {
     "name": "stderr",
     "output_type": "stream",
     "text": [
      "Processing files:  90%|█████████ | 178/197 [31:21<05:37, 17.79s/it]"
     ]
    },
    {
     "name": "stdout",
     "output_type": "stream",
     "text": [
      "Processed and saved: C:\\Users\\aknin\\Desktop\\MLproject-main\\Dataset\\BMS_processed\\updated_modified_cleaned_610_Mixed1_processed.csv\n"
     ]
    },
    {
     "name": "stderr",
     "output_type": "stream",
     "text": [
      "Processing files:  91%|█████████ | 179/197 [31:42<05:39, 18.88s/it]"
     ]
    },
    {
     "name": "stdout",
     "output_type": "stream",
     "text": [
      "Processed and saved: C:\\Users\\aknin\\Desktop\\MLproject-main\\Dataset\\BMS_processed\\updated_modified_cleaned_610_Mixed2_processed.csv\n"
     ]
    },
    {
     "name": "stderr",
     "output_type": "stream",
     "text": [
      "Processing files:  91%|█████████▏| 180/197 [32:20<06:59, 24.67s/it]"
     ]
    },
    {
     "name": "stdout",
     "output_type": "stream",
     "text": [
      "Processed and saved: C:\\Users\\aknin\\Desktop\\MLproject-main\\Dataset\\BMS_processed\\updated_modified_cleaned_610_UDDS_processed.csv\n"
     ]
    },
    {
     "name": "stderr",
     "output_type": "stream",
     "text": [
      "Processing files:  92%|█████████▏| 181/197 [32:35<05:48, 21.78s/it]"
     ]
    },
    {
     "name": "stdout",
     "output_type": "stream",
     "text": [
      "Processed and saved: C:\\Users\\aknin\\Desktop\\MLproject-main\\Dataset\\BMS_processed\\updated_modified_cleaned_610_US06_processed.csv\n"
     ]
    },
    {
     "name": "stderr",
     "output_type": "stream",
     "text": [
      "Processing files:  92%|█████████▏| 182/197 [32:37<03:55, 15.72s/it]"
     ]
    },
    {
     "name": "stdout",
     "output_type": "stream",
     "text": [
      "Processed and saved: C:\\Users\\aknin\\Desktop\\MLproject-main\\Dataset\\BMS_processed\\updated_modified_cleaned_611_Cap_1C_processed.csv\n"
     ]
    },
    {
     "name": "stderr",
     "output_type": "stream",
     "text": [
      "Processing files:  93%|█████████▎| 183/197 [32:38<02:39, 11.41s/it]"
     ]
    },
    {
     "name": "stdout",
     "output_type": "stream",
     "text": [
      "Processed and saved: C:\\Users\\aknin\\Desktop\\MLproject-main\\Dataset\\BMS_processed\\updated_modified_cleaned_611_Charge10_processed.csv\n"
     ]
    },
    {
     "name": "stderr",
     "output_type": "stream",
     "text": [
      "Processing files:  93%|█████████▎| 184/197 [32:40<01:49,  8.44s/it]"
     ]
    },
    {
     "name": "stdout",
     "output_type": "stream",
     "text": [
      "Processed and saved: C:\\Users\\aknin\\Desktop\\MLproject-main\\Dataset\\BMS_processed\\updated_modified_cleaned_611_Charge11_processed.csv\n"
     ]
    },
    {
     "name": "stderr",
     "output_type": "stream",
     "text": [
      "Processing files:  94%|█████████▍| 185/197 [32:41<01:15,  6.29s/it]"
     ]
    },
    {
     "name": "stdout",
     "output_type": "stream",
     "text": [
      "Processed and saved: C:\\Users\\aknin\\Desktop\\MLproject-main\\Dataset\\BMS_processed\\updated_modified_cleaned_611_Charge12_processed.csv\n"
     ]
    },
    {
     "name": "stderr",
     "output_type": "stream",
     "text": [
      "Processing files:  94%|█████████▍| 186/197 [32:42<00:53,  4.85s/it]"
     ]
    },
    {
     "name": "stdout",
     "output_type": "stream",
     "text": [
      "Processed and saved: C:\\Users\\aknin\\Desktop\\MLproject-main\\Dataset\\BMS_processed\\updated_modified_cleaned_611_Charge13_processed.csv\n"
     ]
    },
    {
     "name": "stderr",
     "output_type": "stream",
     "text": [
      "Processing files:  95%|█████████▍| 187/197 [32:44<00:37,  3.77s/it]"
     ]
    },
    {
     "name": "stdout",
     "output_type": "stream",
     "text": [
      "Processed and saved: C:\\Users\\aknin\\Desktop\\MLproject-main\\Dataset\\BMS_processed\\updated_modified_cleaned_611_Charge14_processed.csv\n"
     ]
    },
    {
     "name": "stderr",
     "output_type": "stream",
     "text": [
      "Processing files:  95%|█████████▌| 188/197 [32:45<00:27,  3.02s/it]"
     ]
    },
    {
     "name": "stdout",
     "output_type": "stream",
     "text": [
      "Processed and saved: C:\\Users\\aknin\\Desktop\\MLproject-main\\Dataset\\BMS_processed\\updated_modified_cleaned_611_Charge15_processed.csv\n"
     ]
    },
    {
     "name": "stderr",
     "output_type": "stream",
     "text": [
      "Processing files:  96%|█████████▌| 189/197 [32:46<00:19,  2.49s/it]"
     ]
    },
    {
     "name": "stdout",
     "output_type": "stream",
     "text": [
      "Processed and saved: C:\\Users\\aknin\\Desktop\\MLproject-main\\Dataset\\BMS_processed\\updated_modified_cleaned_611_Charge17_processed.csv\n"
     ]
    },
    {
     "name": "stderr",
     "output_type": "stream",
     "text": [
      "Processing files:  96%|█████████▋| 190/197 [33:03<00:47,  6.81s/it]"
     ]
    },
    {
     "name": "stdout",
     "output_type": "stream",
     "text": [
      "Processed and saved: C:\\Users\\aknin\\Desktop\\MLproject-main\\Dataset\\BMS_processed\\updated_modified_cleaned_611_Charge9_processed.csv\n"
     ]
    },
    {
     "name": "stderr",
     "output_type": "stream",
     "text": [
      "Processing files:  97%|█████████▋| 191/197 [33:23<01:05, 10.87s/it]"
     ]
    },
    {
     "name": "stdout",
     "output_type": "stream",
     "text": [
      "Processed and saved: C:\\Users\\aknin\\Desktop\\MLproject-main\\Dataset\\BMS_processed\\updated_modified_cleaned_611_Mixed3_processed.csv\n"
     ]
    },
    {
     "name": "stderr",
     "output_type": "stream",
     "text": [
      "Processing files:  97%|█████████▋| 192/197 [33:43<01:07, 13.46s/it]"
     ]
    },
    {
     "name": "stdout",
     "output_type": "stream",
     "text": [
      "Processed and saved: C:\\Users\\aknin\\Desktop\\MLproject-main\\Dataset\\BMS_processed\\updated_modified_cleaned_611_Mixed4_processed.csv\n"
     ]
    },
    {
     "name": "stderr",
     "output_type": "stream",
     "text": [
      "Processing files:  98%|█████████▊| 193/197 [34:02<01:00, 15.11s/it]"
     ]
    },
    {
     "name": "stdout",
     "output_type": "stream",
     "text": [
      "Processed and saved: C:\\Users\\aknin\\Desktop\\MLproject-main\\Dataset\\BMS_processed\\updated_modified_cleaned_611_Mixed5_processed.csv\n"
     ]
    },
    {
     "name": "stderr",
     "output_type": "stream",
     "text": [
      "Processing files:  98%|█████████▊| 194/197 [34:20<00:47, 15.95s/it]"
     ]
    },
    {
     "name": "stdout",
     "output_type": "stream",
     "text": [
      "Processed and saved: C:\\Users\\aknin\\Desktop\\MLproject-main\\Dataset\\BMS_processed\\updated_modified_cleaned_611_Mixed6_processed.csv\n"
     ]
    },
    {
     "name": "stderr",
     "output_type": "stream",
     "text": [
      "Processing files:  99%|█████████▉| 195/197 [34:36<00:32, 16.09s/it]"
     ]
    },
    {
     "name": "stdout",
     "output_type": "stream",
     "text": [
      "Processed and saved: C:\\Users\\aknin\\Desktop\\MLproject-main\\Dataset\\BMS_processed\\updated_modified_cleaned_611_Mixed7_processed.csv\n"
     ]
    },
    {
     "name": "stderr",
     "output_type": "stream",
     "text": [
      "Processing files:  99%|█████████▉| 196/197 [34:56<00:17, 17.06s/it]"
     ]
    },
    {
     "name": "stdout",
     "output_type": "stream",
     "text": [
      "Processed and saved: C:\\Users\\aknin\\Desktop\\MLproject-main\\Dataset\\BMS_processed\\updated_modified_cleaned_611_Mixed8_processed.csv\n"
     ]
    },
    {
     "name": "stderr",
     "output_type": "stream",
     "text": [
      "Processing files: 100%|██████████| 197/197 [35:03<00:00, 10.68s/it]"
     ]
    },
    {
     "name": "stdout",
     "output_type": "stream",
     "text": [
      "Processed and saved: C:\\Users\\aknin\\Desktop\\MLproject-main\\Dataset\\BMS_processed\\updated_modified_cleaned_611_PausCycl_processed.csv\n",
      "Successfully processed 194 out of 197 files.\n"
     ]
    },
    {
     "name": "stderr",
     "output_type": "stream",
     "text": [
      "\n"
     ]
    }
   ],
   "source": [
    "# Function to process a single CSV file\n",
    "def process_file(csv_file_name):\n",
    "    try:\n",
    "        logging.info(f\"Starting processing for: {csv_file_name}\")\n",
    "\n",
    "        # Ensure directories exist\n",
    "        os.makedirs(parsed_data_directory, exist_ok=True)\n",
    "        os.makedirs(processed_data_directory, exist_ok=True)\n",
    "        os.makedirs(parsed_plots_directory, exist_ok=True)\n",
    "        os.makedirs(processed_plots_directory, exist_ok=True)\n",
    "\n",
    "        # Parsing raw data\n",
    "        raw_file_path = os.path.join(raw_data_directory, f\"{csv_file_name}.csv\")\n",
    "        df = parse_raw_data(raw_file_path)\n",
    "\n",
    "        # Save parsed data\n",
    "        parsed_file_path = os.path.join(parsed_data_directory, f\"{csv_file_name}_parsed.csv\")\n",
    "        df.to_csv(parsed_file_path, index=False)\n",
    "\n",
    "        # Generate plot for parsed data\n",
    "        parsed_plot_file_path = os.path.join(\n",
    "            parsed_plots_directory, f\"{csv_file_name}_parsed_plot.pdf\"\n",
    "        )\n",
    "        generate_and_save_plot(\n",
    "            df,\n",
    "            parsed_plot_file_path,\n",
    "            fig_title=f\"{csv_file_name} Parsed\",\n",
    "            plot_soc=False,\n",
    "        )\n",
    "\n",
    "        # Find a C20 file for pOCV-SOC interpolation functions\n",
    "        c20_file = next((f for f in os.listdir(parsed_data_directory) if \"C20\" in f), None)\n",
    "        if c20_file:\n",
    "            c20_file_path = os.path.join(parsed_data_directory, c20_file)\n",
    "            # Get pOCV-SOC interpolation functions and max capacities\n",
    "            charge_soc_fn, discharge_soc_fn = get_pOCV_SOC_interp_fn(c20_file_path)\n",
    "            max_charge_capacity, max_discharge_capacity = get_max_capacities(\n",
    "                c20_file_path\n",
    "            )\n",
    "\n",
    "            # Calculate cumulative capacity for Coulomb counting\n",
    "            df[\"Time_diff\"] = (\n",
    "                df[time_col].diff().fillna(0) / 60\n",
    "            )  # Time difference in hours\n",
    "            df[\"Cumulative_Capacity_Ah\"] = (df[current_col] * df[\"Time_diff\"]).cumsum()\n",
    "\n",
    "            # Initialize SoC only at the beginning\n",
    "            initial_soc = get_initial_soc(\n",
    "                df, charge_soc_fn, discharge_soc_fn, current_col, voltage_col\n",
    "            )\n",
    "\n",
    "            # Adjust SoC based on cumulative capacity\n",
    "            for index, row in df.iterrows():\n",
    "                cum_capacity = row[\"Cumulative_Capacity_Ah\"]\n",
    "                if row[current_col] < 0:\n",
    "                    soc = initial_soc - (\n",
    "                        abs(cum_capacity) / abs(max_discharge_capacity)\n",
    "                    )\n",
    "                else:\n",
    "                    soc = initial_soc + (cum_capacity / max_charge_capacity)\n",
    "\n",
    "                soc = max(0, min(soc, 1))  # Clamping SoC between 0 and 1\n",
    "                df.loc[index, soc_col] = soc\n",
    "        else:\n",
    "            logging.warning(f\"C20 SOC data file missing in directory: {parsed_data_directory}\")\n",
    "            print(f\"C20 SOC data file missing in directory: {parsed_data_directory}\")\n",
    "\n",
    "        # Apply EMA smoothing to SoC\n",
    "        alpha = 0.1\n",
    "        df[soc_col] = df[soc_col].ewm(alpha=alpha).mean()\n",
    "\n",
    "        # Round time to 1 Hz sampling and remove duplicates\n",
    "        df[\"Rounded_Time\"] = df[time_col_s].round().astype(int)\n",
    "        df_processed = df.drop_duplicates(subset=\"Rounded_Time\")\n",
    "\n",
    "        # Generate and save SOC plot\n",
    "        soc_plot_file_path = os.path.join(\n",
    "            processed_plots_directory, f\"{csv_file_name}_processed_plot.pdf\"\n",
    "        )\n",
    "        generate_and_save_plot(\n",
    "            df_processed,\n",
    "            soc_plot_file_path,\n",
    "            fig_title=f\"{csv_file_name} SOC\",\n",
    "            plot_soc=True,\n",
    "        )\n",
    "\n",
    "        # Save processed data with SOC\n",
    "        processed_file_path = os.path.join(\n",
    "            processed_data_directory, f\"{csv_file_name}_processed.csv\"\n",
    "        )\n",
    "        df_processed.to_csv(processed_file_path, index=False)\n",
    "\n",
    "        logging.info(f\"Completed processing for: {csv_file_name}\")\n",
    "        print(f\"Processed and saved: {processed_file_path}\")\n",
    "        return 1  # Return 1 on successful completion\n",
    "\n",
    "    except Exception as e:\n",
    "        logging.error(f\"Error processing: {csv_file_name} - {e}\")\n",
    "        print(f\"Error processing: {csv_file_name} - {e}\")\n",
    "        return 0  # Return 0 on error\n",
    "\n",
    "# Create a list of all CSV files in datacleaned (case-insensitive check)\n",
    "all_files = os.listdir(raw_data_directory)\n",
    "print(f\"All files in directory: {all_files}\")\n",
    "csv_files = [f.split(\".csv\")[0] for f in all_files if f.lower().endswith(\".csv\")]\n",
    "total_tasks = len(csv_files)\n",
    "print(f\"Total files to process: {total_tasks}\")\n",
    "if total_tasks == 0:\n",
    "    print(\"No CSV files found. Check file extensions or directory path.\")\n",
    "else:\n",
    "    print(f\"Sample CSV files: {csv_files[:5]}\")\n",
    "\n",
    "# Process all files sequentially\n",
    "successful_tasks = 0\n",
    "for csv_file in tqdm(csv_files, desc=\"Processing files\"):\n",
    "    result = process_file(csv_file)\n",
    "    if result == 1:\n",
    "        successful_tasks += 1\n",
    "\n",
    "print(f\"Successfully processed {successful_tasks} out of {total_tasks} files.\")"
   ]
  },
  {
   "cell_type": "code",
   "execution_count": 23,
   "id": "b62026da",
   "metadata": {},
   "outputs": [
    {
     "name": "stdout",
     "output_type": "stream",
     "text": [
      "All files in directory: ['updated_modified_cleaned_549_C20DisCh.csv', 'updated_modified_cleaned_549_Dis_0p5C.csv', 'updated_modified_cleaned_549_Dis_2C.csv', 'updated_modified_cleaned_551_Cap_1C.csv', 'updated_modified_cleaned_551_Charge1.csv', 'updated_modified_cleaned_551_Charge2.csv', 'updated_modified_cleaned_551_Charge3.csv', 'updated_modified_cleaned_551_Charge4.csv', 'updated_modified_cleaned_551_Charge5.csv', 'updated_modified_cleaned_551_Charge6.csv', 'updated_modified_cleaned_551_Charge7.csv', 'updated_modified_cleaned_551_Charge8.csv', 'updated_modified_cleaned_551_HWFET.csv', 'updated_modified_cleaned_551_LA92.csv', 'updated_modified_cleaned_551_Mixed1.csv', 'updated_modified_cleaned_551_Mixed2.csv', 'updated_modified_cleaned_551_UDDS.csv', 'updated_modified_cleaned_551_US06.csv', 'updated_modified_cleaned_552_Cap_1C.csv', 'updated_modified_cleaned_552_Charge10.csv', 'updated_modified_cleaned_552_Charge11.csv', 'updated_modified_cleaned_552_Charge12.csv', 'updated_modified_cleaned_552_Charge13.csv', 'updated_modified_cleaned_552_Charge14.csv', 'updated_modified_cleaned_552_Charge15.csv', 'updated_modified_cleaned_552_Charge16.csv', 'updated_modified_cleaned_552_Charge9.csv', 'updated_modified_cleaned_552_Mixed3.csv', 'updated_modified_cleaned_552_Mixed4.csv', 'updated_modified_cleaned_552_Mixed5.csv', 'updated_modified_cleaned_552_Mixed7.csv', 'updated_modified_cleaned_552_Mixed8.csv', 'updated_modified_cleaned_552_PausCycl.csv', 'updated_modified_cleaned_555_C20DisCh.csv', 'updated_modified_cleaned_555_Dis_0p5C.csv', 'updated_modified_cleaned_555_Dis_2C.csv', 'updated_modified_cleaned_555_HPPC.csv', 'updated_modified_cleaned_556_Charge1.csv', 'updated_modified_cleaned_556_Charge2.csv', 'updated_modified_cleaned_556_Charge3.csv', 'updated_modified_cleaned_556_Charge4.csv', 'updated_modified_cleaned_556_Charge5.csv', 'updated_modified_cleaned_556_Charge6.csv', 'updated_modified_cleaned_556_Charge7.csv', 'updated_modified_cleaned_556_Charge8.csv', 'updated_modified_cleaned_556_HWFET.csv', 'updated_modified_cleaned_556_LA92.csv', 'updated_modified_cleaned_556_Mixed2.csv', 'updated_modified_cleaned_556_UDDS.csv', 'updated_modified_cleaned_556_US06.csv', 'updated_modified_cleaned_557_Cap_1C.csv', 'updated_modified_cleaned_557_Charge10.csv', 'updated_modified_cleaned_557_Charge9.csv', 'updated_modified_cleaned_557_Mixed3.csv', 'updated_modified_cleaned_562_Charge10.csv', 'updated_modified_cleaned_562_Charge11.csv', 'updated_modified_cleaned_562_Charge12.csv', 'updated_modified_cleaned_562_Charge13.csv', 'updated_modified_cleaned_562_Charge14.csv', 'updated_modified_cleaned_562_Charge15.csv', 'updated_modified_cleaned_562_Charge16.csv', 'updated_modified_cleaned_562_Mixed4.csv', 'updated_modified_cleaned_562_Mixed5.csv', 'updated_modified_cleaned_562_Mixed6.csv', 'updated_modified_cleaned_562_Mixed7.csv', 'updated_modified_cleaned_562_Mixed8.csv', 'updated_modified_cleaned_562_PausCycl.csv', 'updated_modified_cleaned_567_Charge6.csv', 'updated_modified_cleaned_567_Charge7.csv', 'updated_modified_cleaned_567_Charge8.csv', 'updated_modified_cleaned_567_Mixed2.csv', 'updated_modified_cleaned_567_US06.csv', 'updated_modified_cleaned_571_Cap_1C.csv', 'updated_modified_cleaned_571_Charge10.csv', 'updated_modified_cleaned_571_Charge11.csv', 'updated_modified_cleaned_571_Charge12.csv', 'updated_modified_cleaned_571_Charge13.csv', 'updated_modified_cleaned_571_Charge14.csv', 'updated_modified_cleaned_571_Charge15.csv', 'updated_modified_cleaned_571_Charge16.csv', 'updated_modified_cleaned_571_Mixed4.csv', 'updated_modified_cleaned_571_Mixed5.csv', 'updated_modified_cleaned_571_Mixed6.csv', 'updated_modified_cleaned_571_Mixed7.csv', 'updated_modified_cleaned_571_PausCycl.csv', 'updated_modified_cleaned_575_C20DisCh.csv', 'updated_modified_cleaned_575_Dis_0p5C.csv', 'updated_modified_cleaned_575_Dis_2C.csv', 'updated_modified_cleaned_575_HPPC.csv', 'updated_modified_cleaned_576_Cap_1C.csv', 'updated_modified_cleaned_576_Charge1.csv', 'updated_modified_cleaned_576_Charge2.csv', 'updated_modified_cleaned_576_Charge3.csv', 'updated_modified_cleaned_576_Charge4.csv', 'updated_modified_cleaned_576_HWFET.csv', 'updated_modified_cleaned_576_UDDS.csv', 'updated_modified_cleaned_582_LA92.csv', 'updated_modified_cleaned_585_Dis_0p5C.csv', 'updated_modified_cleaned_585_Dis_2C.csv', 'updated_modified_cleaned_585_HPPC.csv', 'updated_modified_cleaned_589_Cap_1C.csv', 'updated_modified_cleaned_589_Charge1.csv', 'updated_modified_cleaned_589_Charge2.csv', 'updated_modified_cleaned_589_Charge3.csv', 'updated_modified_cleaned_589_Charge4.csv', 'updated_modified_cleaned_589_Charge5.csv', 'updated_modified_cleaned_589_Charge6.csv', 'updated_modified_cleaned_589_Charge7.csv', 'updated_modified_cleaned_589_Charge8.csv', 'updated_modified_cleaned_589_HWFET.csv', 'updated_modified_cleaned_589_LA92.csv', 'updated_modified_cleaned_589_Mixed2.csv', 'updated_modified_cleaned_589_UDDS.csv', 'updated_modified_cleaned_589_US06.csv', 'updated_modified_cleaned_590_Charge10.csv', 'updated_modified_cleaned_590_Charge11.csv', 'updated_modified_cleaned_590_Charge12.csv', 'updated_modified_cleaned_590_Charge13.csv', 'updated_modified_cleaned_590_Charge14.csv', 'updated_modified_cleaned_590_Charge15.csv', 'updated_modified_cleaned_590_Charge16.csv', 'updated_modified_cleaned_590_Mixed4.csv', 'updated_modified_cleaned_590_Mixed5.csv', 'updated_modified_cleaned_590_Mixed6.csv', 'updated_modified_cleaned_590_Mixed7.csv', 'updated_modified_cleaned_590_Mixed8.csv', 'updated_modified_cleaned_590_PausCycl.csv', 'updated_modified_cleaned_593_C20DisCh.csv', 'updated_modified_cleaned_593_Dis_0p5C.csv', 'updated_modified_cleaned_593_Dis_2C.csv', 'updated_modified_cleaned_596_Cap_1C.csv', 'updated_modified_cleaned_596_Charge1.csv', 'updated_modified_cleaned_596_Charge2.csv', 'updated_modified_cleaned_596_Charge3.csv', 'updated_modified_cleaned_596_Charge4.csv', 'updated_modified_cleaned_596_Charge5.csv', 'updated_modified_cleaned_596_HWFET.csv', 'updated_modified_cleaned_596_LA92.csv', 'updated_modified_cleaned_601_Charge6.csv', 'updated_modified_cleaned_601_Charge7.csv', 'updated_modified_cleaned_601_Charge8.csv', 'updated_modified_cleaned_601_Mixed1.csv', 'updated_modified_cleaned_601_Mixed2.csv', 'updated_modified_cleaned_601_US06.csv', 'updated_modified_cleaned_602_Cap_1C.csv', 'updated_modified_cleaned_602_Charge10.csv', 'updated_modified_cleaned_602_Charge11.csv', 'updated_modified_cleaned_602_Charge12.csv', 'updated_modified_cleaned_602_Charge17.csv', 'updated_modified_cleaned_602_Mixed5.csv', 'updated_modified_cleaned_604_Charge10.csv', 'updated_modified_cleaned_604_Charge13.csv', 'updated_modified_cleaned_604_Charge14.csv', 'updated_modified_cleaned_604_Charge15.csv', 'updated_modified_cleaned_604_Charge16.csv', 'updated_modified_cleaned_604_Charge17.csv', 'updated_modified_cleaned_604_Charge9.csv', 'updated_modified_cleaned_604_Mixed3.csv', 'updated_modified_cleaned_604_Mixed6.csv', 'updated_modified_cleaned_604_Mixed7.csv', 'updated_modified_cleaned_604_Mixed8.csv', 'updated_modified_cleaned_604_PausCycl.csv', 'updated_modified_cleaned_607_C20DisCh.csv', 'updated_modified_cleaned_607_Dis_0p5C.csv', 'updated_modified_cleaned_607_Dis_2C.csv', 'updated_modified_cleaned_607_HPPC.csv', 'updated_modified_cleaned_610_Cap_1C.csv', 'updated_modified_cleaned_610_Charge1.csv', 'updated_modified_cleaned_610_Charge2.csv', 'updated_modified_cleaned_610_Charge3.csv', 'updated_modified_cleaned_610_Charge4.csv', 'updated_modified_cleaned_610_Charge5.csv', 'updated_modified_cleaned_610_Charge6.csv', 'updated_modified_cleaned_610_Charge7.csv', 'updated_modified_cleaned_610_Charge8.csv', 'updated_modified_cleaned_610_HWFET.csv', 'updated_modified_cleaned_610_LA92.csv', 'updated_modified_cleaned_610_Mixed1.csv', 'updated_modified_cleaned_610_Mixed2.csv', 'updated_modified_cleaned_610_UDDS.csv', 'updated_modified_cleaned_610_US06.csv', 'updated_modified_cleaned_611_Cap_1C.csv', 'updated_modified_cleaned_611_Charge10.csv', 'updated_modified_cleaned_611_Charge11.csv', 'updated_modified_cleaned_611_Charge12.csv', 'updated_modified_cleaned_611_Charge13.csv', 'updated_modified_cleaned_611_Charge14.csv', 'updated_modified_cleaned_611_Charge15.csv', 'updated_modified_cleaned_611_Charge17.csv', 'updated_modified_cleaned_611_Charge9.csv', 'updated_modified_cleaned_611_Mixed3.csv', 'updated_modified_cleaned_611_Mixed4.csv', 'updated_modified_cleaned_611_Mixed5.csv', 'updated_modified_cleaned_611_Mixed6.csv', 'updated_modified_cleaned_611_Mixed7.csv', 'updated_modified_cleaned_611_Mixed8.csv', 'updated_modified_cleaned_611_PausCycl.csv']\n",
      "Total files to process: 197\n",
      "Sample CSV files: ['updated_modified_cleaned_549_C20DisCh', 'updated_modified_cleaned_549_Dis_0p5C', 'updated_modified_cleaned_549_Dis_2C', 'updated_modified_cleaned_551_Cap_1C', 'updated_modified_cleaned_551_Charge1']\n"
     ]
    },
    {
     "name": "stderr",
     "output_type": "stream",
     "text": [
      "Processing files:   1%|          | 1/197 [00:04<14:07,  4.32s/it]"
     ]
    },
    {
     "name": "stdout",
     "output_type": "stream",
     "text": [
      "Processed and saved: C:\\Users\\aknin\\Desktop\\MLproject-main\\Dataset\\BMS_processed\\updated_modified_cleaned_549_C20DisCh_processed.csv\n"
     ]
    },
    {
     "name": "stderr",
     "output_type": "stream",
     "text": [
      "Processing files:   1%|          | 2/197 [00:05<08:53,  2.73s/it]"
     ]
    },
    {
     "name": "stdout",
     "output_type": "stream",
     "text": [
      "Processed and saved: C:\\Users\\aknin\\Desktop\\MLproject-main\\Dataset\\BMS_processed\\updated_modified_cleaned_549_Dis_0p5C_processed.csv\n"
     ]
    },
    {
     "name": "stderr",
     "output_type": "stream",
     "text": [
      "Processing files:   2%|▏         | 3/197 [00:08<08:23,  2.59s/it]"
     ]
    },
    {
     "name": "stdout",
     "output_type": "stream",
     "text": [
      "Processed and saved: C:\\Users\\aknin\\Desktop\\MLproject-main\\Dataset\\BMS_processed\\updated_modified_cleaned_549_Dis_2C_processed.csv\n"
     ]
    },
    {
     "name": "stderr",
     "output_type": "stream",
     "text": [
      "Processing files:   2%|▏         | 4/197 [00:10<07:40,  2.38s/it]"
     ]
    },
    {
     "name": "stdout",
     "output_type": "stream",
     "text": [
      "Processed and saved: C:\\Users\\aknin\\Desktop\\MLproject-main\\Dataset\\BMS_processed\\updated_modified_cleaned_551_Cap_1C_processed.csv\n"
     ]
    },
    {
     "name": "stderr",
     "output_type": "stream",
     "text": [
      "Processing files:   3%|▎         | 5/197 [00:12<06:56,  2.17s/it]"
     ]
    },
    {
     "name": "stdout",
     "output_type": "stream",
     "text": [
      "Processed and saved: C:\\Users\\aknin\\Desktop\\MLproject-main\\Dataset\\BMS_processed\\updated_modified_cleaned_551_Charge1_processed.csv\n"
     ]
    },
    {
     "name": "stderr",
     "output_type": "stream",
     "text": [
      "Processing files:   3%|▎         | 6/197 [00:13<06:11,  1.95s/it]"
     ]
    },
    {
     "name": "stdout",
     "output_type": "stream",
     "text": [
      "Processed and saved: C:\\Users\\aknin\\Desktop\\MLproject-main\\Dataset\\BMS_processed\\updated_modified_cleaned_551_Charge2_processed.csv\n"
     ]
    },
    {
     "name": "stderr",
     "output_type": "stream",
     "text": [
      "Processing files:   4%|▎         | 7/197 [00:15<05:38,  1.78s/it]"
     ]
    },
    {
     "name": "stdout",
     "output_type": "stream",
     "text": [
      "Processed and saved: C:\\Users\\aknin\\Desktop\\MLproject-main\\Dataset\\BMS_processed\\updated_modified_cleaned_551_Charge3_processed.csv\n"
     ]
    },
    {
     "name": "stderr",
     "output_type": "stream",
     "text": [
      "Processing files:   4%|▍         | 8/197 [00:16<05:31,  1.75s/it]"
     ]
    },
    {
     "name": "stdout",
     "output_type": "stream",
     "text": [
      "Processed and saved: C:\\Users\\aknin\\Desktop\\MLproject-main\\Dataset\\BMS_processed\\updated_modified_cleaned_551_Charge4_processed.csv\n"
     ]
    },
    {
     "name": "stderr",
     "output_type": "stream",
     "text": [
      "Processing files:   5%|▍         | 9/197 [00:18<05:30,  1.76s/it]"
     ]
    },
    {
     "name": "stdout",
     "output_type": "stream",
     "text": [
      "Processed and saved: C:\\Users\\aknin\\Desktop\\MLproject-main\\Dataset\\BMS_processed\\updated_modified_cleaned_551_Charge5_processed.csv\n"
     ]
    },
    {
     "name": "stderr",
     "output_type": "stream",
     "text": [
      "Processing files:   5%|▌         | 10/197 [00:20<05:25,  1.74s/it]"
     ]
    },
    {
     "name": "stdout",
     "output_type": "stream",
     "text": [
      "Processed and saved: C:\\Users\\aknin\\Desktop\\MLproject-main\\Dataset\\BMS_processed\\updated_modified_cleaned_551_Charge6_processed.csv\n"
     ]
    },
    {
     "name": "stderr",
     "output_type": "stream",
     "text": [
      "Processing files:   6%|▌         | 11/197 [00:48<30:49,  9.94s/it]"
     ]
    },
    {
     "name": "stdout",
     "output_type": "stream",
     "text": [
      "Processed and saved: C:\\Users\\aknin\\Desktop\\MLproject-main\\Dataset\\BMS_processed\\updated_modified_cleaned_551_Charge7_processed.csv\n"
     ]
    },
    {
     "name": "stderr",
     "output_type": "stream",
     "text": [
      "Processing files:   6%|▌         | 12/197 [00:50<22:38,  7.34s/it]"
     ]
    },
    {
     "name": "stdout",
     "output_type": "stream",
     "text": [
      "Processed and saved: C:\\Users\\aknin\\Desktop\\MLproject-main\\Dataset\\BMS_processed\\updated_modified_cleaned_551_Charge8_processed.csv\n"
     ]
    },
    {
     "name": "stderr",
     "output_type": "stream",
     "text": [
      "Processing files:   7%|▋         | 13/197 [00:51<17:02,  5.56s/it]"
     ]
    },
    {
     "name": "stdout",
     "output_type": "stream",
     "text": [
      "Error processing: updated_modified_cleaned_551_HWFET - index 0 is out of bounds for axis 0 with size 0\n"
     ]
    },
    {
     "name": "stderr",
     "output_type": "stream",
     "text": [
      "Processing files:   7%|▋         | 14/197 [01:32<49:30, 16.23s/it]"
     ]
    },
    {
     "name": "stdout",
     "output_type": "stream",
     "text": [
      "Processed and saved: C:\\Users\\aknin\\Desktop\\MLproject-main\\Dataset\\BMS_processed\\updated_modified_cleaned_551_LA92_processed.csv\n"
     ]
    },
    {
     "name": "stderr",
     "output_type": "stream",
     "text": [
      "Processing files:   8%|▊         | 15/197 [02:01<1:01:14, 20.19s/it]"
     ]
    },
    {
     "name": "stdout",
     "output_type": "stream",
     "text": [
      "Processed and saved: C:\\Users\\aknin\\Desktop\\MLproject-main\\Dataset\\BMS_processed\\updated_modified_cleaned_551_Mixed1_processed.csv\n"
     ]
    },
    {
     "name": "stderr",
     "output_type": "stream",
     "text": [
      "Processing files:   8%|▊         | 16/197 [02:34<1:11:56, 23.85s/it]"
     ]
    },
    {
     "name": "stdout",
     "output_type": "stream",
     "text": [
      "Processed and saved: C:\\Users\\aknin\\Desktop\\MLproject-main\\Dataset\\BMS_processed\\updated_modified_cleaned_551_Mixed2_processed.csv\n"
     ]
    },
    {
     "name": "stderr",
     "output_type": "stream",
     "text": [
      "Processing files:   9%|▊         | 17/197 [03:42<1:51:12, 37.07s/it]"
     ]
    },
    {
     "name": "stdout",
     "output_type": "stream",
     "text": [
      "Processed and saved: C:\\Users\\aknin\\Desktop\\MLproject-main\\Dataset\\BMS_processed\\updated_modified_cleaned_551_UDDS_processed.csv\n"
     ]
    },
    {
     "name": "stderr",
     "output_type": "stream",
     "text": [
      "Processing files:   9%|▉         | 18/197 [03:59<1:32:32, 31.02s/it]"
     ]
    },
    {
     "name": "stdout",
     "output_type": "stream",
     "text": [
      "Processed and saved: C:\\Users\\aknin\\Desktop\\MLproject-main\\Dataset\\BMS_processed\\updated_modified_cleaned_551_US06_processed.csv\n"
     ]
    },
    {
     "name": "stderr",
     "output_type": "stream",
     "text": [
      "Processing files:  10%|▉         | 19/197 [04:00<1:05:26, 22.06s/it]"
     ]
    },
    {
     "name": "stdout",
     "output_type": "stream",
     "text": [
      "Processed and saved: C:\\Users\\aknin\\Desktop\\MLproject-main\\Dataset\\BMS_processed\\updated_modified_cleaned_552_Cap_1C_processed.csv\n"
     ]
    },
    {
     "name": "stderr",
     "output_type": "stream",
     "text": [
      "Processing files:  10%|█         | 20/197 [04:01<46:34, 15.79s/it]  "
     ]
    },
    {
     "name": "stdout",
     "output_type": "stream",
     "text": [
      "Processed and saved: C:\\Users\\aknin\\Desktop\\MLproject-main\\Dataset\\BMS_processed\\updated_modified_cleaned_552_Charge10_processed.csv\n"
     ]
    },
    {
     "name": "stderr",
     "output_type": "stream",
     "text": [
      "Processing files:  11%|█         | 21/197 [04:02<33:27, 11.41s/it]"
     ]
    },
    {
     "name": "stdout",
     "output_type": "stream",
     "text": [
      "Processed and saved: C:\\Users\\aknin\\Desktop\\MLproject-main\\Dataset\\BMS_processed\\updated_modified_cleaned_552_Charge11_processed.csv\n"
     ]
    },
    {
     "name": "stderr",
     "output_type": "stream",
     "text": [
      "Processing files:  11%|█         | 22/197 [04:03<24:19,  8.34s/it]"
     ]
    },
    {
     "name": "stdout",
     "output_type": "stream",
     "text": [
      "Processed and saved: C:\\Users\\aknin\\Desktop\\MLproject-main\\Dataset\\BMS_processed\\updated_modified_cleaned_552_Charge12_processed.csv\n"
     ]
    },
    {
     "name": "stderr",
     "output_type": "stream",
     "text": [
      "Processing files:  12%|█▏        | 23/197 [04:05<18:04,  6.24s/it]"
     ]
    },
    {
     "name": "stdout",
     "output_type": "stream",
     "text": [
      "Processed and saved: C:\\Users\\aknin\\Desktop\\MLproject-main\\Dataset\\BMS_processed\\updated_modified_cleaned_552_Charge13_processed.csv\n"
     ]
    },
    {
     "name": "stderr",
     "output_type": "stream",
     "text": [
      "Processing files:  12%|█▏        | 24/197 [04:06<13:35,  4.71s/it]"
     ]
    },
    {
     "name": "stdout",
     "output_type": "stream",
     "text": [
      "Processed and saved: C:\\Users\\aknin\\Desktop\\MLproject-main\\Dataset\\BMS_processed\\updated_modified_cleaned_552_Charge14_processed.csv\n"
     ]
    },
    {
     "name": "stderr",
     "output_type": "stream",
     "text": [
      "Processing files:  13%|█▎        | 25/197 [04:07<10:26,  3.64s/it]"
     ]
    },
    {
     "name": "stdout",
     "output_type": "stream",
     "text": [
      "Processed and saved: C:\\Users\\aknin\\Desktop\\MLproject-main\\Dataset\\BMS_processed\\updated_modified_cleaned_552_Charge15_processed.csv\n"
     ]
    },
    {
     "name": "stderr",
     "output_type": "stream",
     "text": [
      "Processing files:  13%|█▎        | 26/197 [04:08<08:21,  2.93s/it]"
     ]
    },
    {
     "name": "stdout",
     "output_type": "stream",
     "text": [
      "Processed and saved: C:\\Users\\aknin\\Desktop\\MLproject-main\\Dataset\\BMS_processed\\updated_modified_cleaned_552_Charge16_processed.csv\n"
     ]
    },
    {
     "name": "stderr",
     "output_type": "stream",
     "text": [
      "Processing files:  14%|█▎        | 27/197 [04:09<06:52,  2.43s/it]"
     ]
    },
    {
     "name": "stdout",
     "output_type": "stream",
     "text": [
      "Processed and saved: C:\\Users\\aknin\\Desktop\\MLproject-main\\Dataset\\BMS_processed\\updated_modified_cleaned_552_Charge9_processed.csv\n"
     ]
    },
    {
     "name": "stderr",
     "output_type": "stream",
     "text": [
      "Processing files:  14%|█▍        | 28/197 [04:38<29:10, 10.36s/it]"
     ]
    },
    {
     "name": "stdout",
     "output_type": "stream",
     "text": [
      "Processed and saved: C:\\Users\\aknin\\Desktop\\MLproject-main\\Dataset\\BMS_processed\\updated_modified_cleaned_552_Mixed3_processed.csv\n"
     ]
    },
    {
     "name": "stderr",
     "output_type": "stream",
     "text": [
      "Processing files:  15%|█▍        | 29/197 [05:11<47:24, 16.93s/it]"
     ]
    },
    {
     "name": "stdout",
     "output_type": "stream",
     "text": [
      "Processed and saved: C:\\Users\\aknin\\Desktop\\MLproject-main\\Dataset\\BMS_processed\\updated_modified_cleaned_552_Mixed4_processed.csv\n"
     ]
    },
    {
     "name": "stderr",
     "output_type": "stream",
     "text": [
      "Processing files:  15%|█▌        | 30/197 [05:39<56:44, 20.38s/it]"
     ]
    },
    {
     "name": "stdout",
     "output_type": "stream",
     "text": [
      "Processed and saved: C:\\Users\\aknin\\Desktop\\MLproject-main\\Dataset\\BMS_processed\\updated_modified_cleaned_552_Mixed5_processed.csv\n"
     ]
    },
    {
     "name": "stderr",
     "output_type": "stream",
     "text": [
      "Processing files:  16%|█▌        | 31/197 [06:11<1:05:40, 23.74s/it]"
     ]
    },
    {
     "name": "stdout",
     "output_type": "stream",
     "text": [
      "Processed and saved: C:\\Users\\aknin\\Desktop\\MLproject-main\\Dataset\\BMS_processed\\updated_modified_cleaned_552_Mixed7_processed.csv\n"
     ]
    },
    {
     "name": "stderr",
     "output_type": "stream",
     "text": [
      "Processing files:  16%|█▌        | 32/197 [06:46<1:14:55, 27.25s/it]"
     ]
    },
    {
     "name": "stdout",
     "output_type": "stream",
     "text": [
      "Processed and saved: C:\\Users\\aknin\\Desktop\\MLproject-main\\Dataset\\BMS_processed\\updated_modified_cleaned_552_Mixed8_processed.csv\n"
     ]
    },
    {
     "name": "stderr",
     "output_type": "stream",
     "text": [
      "Processing files:  17%|█▋        | 33/197 [07:11<1:12:19, 26.46s/it]"
     ]
    },
    {
     "name": "stdout",
     "output_type": "stream",
     "text": [
      "Processed and saved: C:\\Users\\aknin\\Desktop\\MLproject-main\\Dataset\\BMS_processed\\updated_modified_cleaned_552_PausCycl_processed.csv\n"
     ]
    },
    {
     "name": "stderr",
     "output_type": "stream",
     "text": [
      "Processing files:  17%|█▋        | 34/197 [07:13<51:50, 19.08s/it]  "
     ]
    },
    {
     "name": "stdout",
     "output_type": "stream",
     "text": [
      "Processed and saved: C:\\Users\\aknin\\Desktop\\MLproject-main\\Dataset\\BMS_processed\\updated_modified_cleaned_555_C20DisCh_processed.csv\n"
     ]
    },
    {
     "name": "stderr",
     "output_type": "stream",
     "text": [
      "Processing files:  18%|█▊        | 35/197 [07:14<36:59, 13.70s/it]"
     ]
    },
    {
     "name": "stdout",
     "output_type": "stream",
     "text": [
      "Processed and saved: C:\\Users\\aknin\\Desktop\\MLproject-main\\Dataset\\BMS_processed\\updated_modified_cleaned_555_Dis_0p5C_processed.csv\n"
     ]
    },
    {
     "name": "stderr",
     "output_type": "stream",
     "text": [
      "Processing files:  18%|█▊        | 36/197 [07:15<26:34,  9.90s/it]"
     ]
    },
    {
     "name": "stdout",
     "output_type": "stream",
     "text": [
      "Processed and saved: C:\\Users\\aknin\\Desktop\\MLproject-main\\Dataset\\BMS_processed\\updated_modified_cleaned_555_Dis_2C_processed.csv\n"
     ]
    },
    {
     "name": "stderr",
     "output_type": "stream",
     "text": [
      "Processing files:  19%|█▉        | 37/197 [07:33<33:13, 12.46s/it]"
     ]
    },
    {
     "name": "stdout",
     "output_type": "stream",
     "text": [
      "Processed and saved: C:\\Users\\aknin\\Desktop\\MLproject-main\\Dataset\\BMS_processed\\updated_modified_cleaned_555_HPPC_processed.csv\n"
     ]
    },
    {
     "name": "stderr",
     "output_type": "stream",
     "text": [
      "Processing files:  19%|█▉        | 38/197 [07:34<24:02,  9.07s/it]"
     ]
    },
    {
     "name": "stdout",
     "output_type": "stream",
     "text": [
      "Processed and saved: C:\\Users\\aknin\\Desktop\\MLproject-main\\Dataset\\BMS_processed\\updated_modified_cleaned_556_Charge1_processed.csv\n"
     ]
    },
    {
     "name": "stderr",
     "output_type": "stream",
     "text": [
      "Processing files:  20%|█▉        | 39/197 [07:35<17:33,  6.67s/it]"
     ]
    },
    {
     "name": "stdout",
     "output_type": "stream",
     "text": [
      "Processed and saved: C:\\Users\\aknin\\Desktop\\MLproject-main\\Dataset\\BMS_processed\\updated_modified_cleaned_556_Charge2_processed.csv\n"
     ]
    },
    {
     "name": "stderr",
     "output_type": "stream",
     "text": [
      "Processing files:  20%|██        | 40/197 [07:37<13:07,  5.02s/it]"
     ]
    },
    {
     "name": "stdout",
     "output_type": "stream",
     "text": [
      "Processed and saved: C:\\Users\\aknin\\Desktop\\MLproject-main\\Dataset\\BMS_processed\\updated_modified_cleaned_556_Charge3_processed.csv\n"
     ]
    },
    {
     "name": "stderr",
     "output_type": "stream",
     "text": [
      "Processing files:  21%|██        | 41/197 [07:38<10:01,  3.86s/it]"
     ]
    },
    {
     "name": "stdout",
     "output_type": "stream",
     "text": [
      "Processed and saved: C:\\Users\\aknin\\Desktop\\MLproject-main\\Dataset\\BMS_processed\\updated_modified_cleaned_556_Charge4_processed.csv\n"
     ]
    },
    {
     "name": "stderr",
     "output_type": "stream",
     "text": [
      "Processing files:  21%|██▏       | 42/197 [07:39<07:57,  3.08s/it]"
     ]
    },
    {
     "name": "stdout",
     "output_type": "stream",
     "text": [
      "Processed and saved: C:\\Users\\aknin\\Desktop\\MLproject-main\\Dataset\\BMS_processed\\updated_modified_cleaned_556_Charge5_processed.csv\n"
     ]
    },
    {
     "name": "stderr",
     "output_type": "stream",
     "text": [
      "Processing files:  22%|██▏       | 43/197 [07:40<06:25,  2.51s/it]"
     ]
    },
    {
     "name": "stdout",
     "output_type": "stream",
     "text": [
      "Processed and saved: C:\\Users\\aknin\\Desktop\\MLproject-main\\Dataset\\BMS_processed\\updated_modified_cleaned_556_Charge6_processed.csv\n"
     ]
    },
    {
     "name": "stderr",
     "output_type": "stream",
     "text": [
      "Processing files:  22%|██▏       | 44/197 [07:41<05:20,  2.10s/it]"
     ]
    },
    {
     "name": "stdout",
     "output_type": "stream",
     "text": [
      "Processed and saved: C:\\Users\\aknin\\Desktop\\MLproject-main\\Dataset\\BMS_processed\\updated_modified_cleaned_556_Charge7_processed.csv\n"
     ]
    },
    {
     "name": "stderr",
     "output_type": "stream",
     "text": [
      "Processing files:  23%|██▎       | 45/197 [07:43<04:39,  1.84s/it]"
     ]
    },
    {
     "name": "stdout",
     "output_type": "stream",
     "text": [
      "Processed and saved: C:\\Users\\aknin\\Desktop\\MLproject-main\\Dataset\\BMS_processed\\updated_modified_cleaned_556_Charge8_processed.csv\n"
     ]
    },
    {
     "name": "stderr",
     "output_type": "stream",
     "text": [
      "Processing files:  23%|██▎       | 46/197 [08:04<19:44,  7.84s/it]"
     ]
    },
    {
     "name": "stdout",
     "output_type": "stream",
     "text": [
      "Processed and saved: C:\\Users\\aknin\\Desktop\\MLproject-main\\Dataset\\BMS_processed\\updated_modified_cleaned_556_HWFET_processed.csv\n"
     ]
    },
    {
     "name": "stderr",
     "output_type": "stream",
     "text": [
      "Processing files:  24%|██▍       | 47/197 [08:43<42:29, 16.99s/it]"
     ]
    },
    {
     "name": "stdout",
     "output_type": "stream",
     "text": [
      "Processed and saved: C:\\Users\\aknin\\Desktop\\MLproject-main\\Dataset\\BMS_processed\\updated_modified_cleaned_556_LA92_processed.csv\n"
     ]
    },
    {
     "name": "stderr",
     "output_type": "stream",
     "text": [
      "Processing files:  24%|██▍       | 48/197 [09:14<52:50, 21.28s/it]"
     ]
    },
    {
     "name": "stdout",
     "output_type": "stream",
     "text": [
      "Processed and saved: C:\\Users\\aknin\\Desktop\\MLproject-main\\Dataset\\BMS_processed\\updated_modified_cleaned_556_Mixed2_processed.csv\n"
     ]
    },
    {
     "name": "stderr",
     "output_type": "stream",
     "text": [
      "Processing files:  25%|██▍       | 49/197 [10:17<1:23:24, 33.81s/it]"
     ]
    },
    {
     "name": "stdout",
     "output_type": "stream",
     "text": [
      "Processed and saved: C:\\Users\\aknin\\Desktop\\MLproject-main\\Dataset\\BMS_processed\\updated_modified_cleaned_556_UDDS_processed.csv\n"
     ]
    },
    {
     "name": "stderr",
     "output_type": "stream",
     "text": [
      "Processing files:  25%|██▌       | 50/197 [10:33<1:10:00, 28.58s/it]"
     ]
    },
    {
     "name": "stdout",
     "output_type": "stream",
     "text": [
      "Processed and saved: C:\\Users\\aknin\\Desktop\\MLproject-main\\Dataset\\BMS_processed\\updated_modified_cleaned_556_US06_processed.csv\n"
     ]
    },
    {
     "name": "stderr",
     "output_type": "stream",
     "text": [
      "Processing files:  26%|██▌       | 51/197 [10:35<49:40, 20.41s/it]  "
     ]
    },
    {
     "name": "stdout",
     "output_type": "stream",
     "text": [
      "Processed and saved: C:\\Users\\aknin\\Desktop\\MLproject-main\\Dataset\\BMS_processed\\updated_modified_cleaned_557_Cap_1C_processed.csv\n"
     ]
    },
    {
     "name": "stderr",
     "output_type": "stream",
     "text": [
      "Processing files:  26%|██▋       | 52/197 [10:35<34:55, 14.45s/it]"
     ]
    },
    {
     "name": "stdout",
     "output_type": "stream",
     "text": [
      "Error processing: updated_modified_cleaned_557_Charge10 - index 0 is out of bounds for axis 0 with size 0\n"
     ]
    },
    {
     "name": "stderr",
     "output_type": "stream",
     "text": [
      "Processing files:  27%|██▋       | 53/197 [10:37<25:11, 10.50s/it]"
     ]
    },
    {
     "name": "stdout",
     "output_type": "stream",
     "text": [
      "Processed and saved: C:\\Users\\aknin\\Desktop\\MLproject-main\\Dataset\\BMS_processed\\updated_modified_cleaned_557_Charge9_processed.csv\n"
     ]
    },
    {
     "name": "stderr",
     "output_type": "stream",
     "text": [
      "Processing files:  27%|██▋       | 54/197 [11:04<36:56, 15.50s/it]"
     ]
    },
    {
     "name": "stdout",
     "output_type": "stream",
     "text": [
      "Processed and saved: C:\\Users\\aknin\\Desktop\\MLproject-main\\Dataset\\BMS_processed\\updated_modified_cleaned_557_Mixed3_processed.csv\n"
     ]
    },
    {
     "name": "stderr",
     "output_type": "stream",
     "text": [
      "Processing files:  28%|██▊       | 55/197 [11:05<26:41, 11.28s/it]"
     ]
    },
    {
     "name": "stdout",
     "output_type": "stream",
     "text": [
      "Processed and saved: C:\\Users\\aknin\\Desktop\\MLproject-main\\Dataset\\BMS_processed\\updated_modified_cleaned_562_Charge10_processed.csv\n"
     ]
    },
    {
     "name": "stderr",
     "output_type": "stream",
     "text": [
      "Processing files:  28%|██▊       | 56/197 [11:06<19:24,  8.26s/it]"
     ]
    },
    {
     "name": "stdout",
     "output_type": "stream",
     "text": [
      "Processed and saved: C:\\Users\\aknin\\Desktop\\MLproject-main\\Dataset\\BMS_processed\\updated_modified_cleaned_562_Charge11_processed.csv\n"
     ]
    },
    {
     "name": "stderr",
     "output_type": "stream",
     "text": [
      "Processing files:  29%|██▉       | 57/197 [11:08<14:18,  6.13s/it]"
     ]
    },
    {
     "name": "stdout",
     "output_type": "stream",
     "text": [
      "Processed and saved: C:\\Users\\aknin\\Desktop\\MLproject-main\\Dataset\\BMS_processed\\updated_modified_cleaned_562_Charge12_processed.csv\n"
     ]
    },
    {
     "name": "stderr",
     "output_type": "stream",
     "text": [
      "Processing files:  29%|██▉       | 58/197 [11:09<10:51,  4.69s/it]"
     ]
    },
    {
     "name": "stdout",
     "output_type": "stream",
     "text": [
      "Processed and saved: C:\\Users\\aknin\\Desktop\\MLproject-main\\Dataset\\BMS_processed\\updated_modified_cleaned_562_Charge13_processed.csv\n"
     ]
    },
    {
     "name": "stderr",
     "output_type": "stream",
     "text": [
      "Processing files:  30%|██▉       | 59/197 [11:10<08:29,  3.69s/it]"
     ]
    },
    {
     "name": "stdout",
     "output_type": "stream",
     "text": [
      "Processed and saved: C:\\Users\\aknin\\Desktop\\MLproject-main\\Dataset\\BMS_processed\\updated_modified_cleaned_562_Charge14_processed.csv\n"
     ]
    },
    {
     "name": "stderr",
     "output_type": "stream",
     "text": [
      "Processing files:  30%|███       | 60/197 [11:11<06:41,  2.93s/it]"
     ]
    },
    {
     "name": "stdout",
     "output_type": "stream",
     "text": [
      "Processed and saved: C:\\Users\\aknin\\Desktop\\MLproject-main\\Dataset\\BMS_processed\\updated_modified_cleaned_562_Charge15_processed.csv\n"
     ]
    },
    {
     "name": "stderr",
     "output_type": "stream",
     "text": [
      "Processing files:  31%|███       | 61/197 [11:13<05:27,  2.41s/it]"
     ]
    },
    {
     "name": "stdout",
     "output_type": "stream",
     "text": [
      "Processed and saved: C:\\Users\\aknin\\Desktop\\MLproject-main\\Dataset\\BMS_processed\\updated_modified_cleaned_562_Charge16_processed.csv\n"
     ]
    },
    {
     "name": "stderr",
     "output_type": "stream",
     "text": [
      "Processing files:  31%|███▏      | 62/197 [11:18<07:46,  3.45s/it]"
     ]
    },
    {
     "name": "stdout",
     "output_type": "stream",
     "text": [
      "Processed and saved: C:\\Users\\aknin\\Desktop\\MLproject-main\\Dataset\\BMS_processed\\updated_modified_cleaned_562_Mixed4_processed.csv\n"
     ]
    },
    {
     "name": "stderr",
     "output_type": "stream",
     "text": [
      "Processing files:  32%|███▏      | 63/197 [11:25<09:45,  4.37s/it]"
     ]
    },
    {
     "name": "stdout",
     "output_type": "stream",
     "text": [
      "Processed and saved: C:\\Users\\aknin\\Desktop\\MLproject-main\\Dataset\\BMS_processed\\updated_modified_cleaned_562_Mixed5_processed.csv\n"
     ]
    },
    {
     "name": "stderr",
     "output_type": "stream",
     "text": [
      "Processing files:  32%|███▏      | 64/197 [11:30<10:24,  4.70s/it]"
     ]
    },
    {
     "name": "stdout",
     "output_type": "stream",
     "text": [
      "Processed and saved: C:\\Users\\aknin\\Desktop\\MLproject-main\\Dataset\\BMS_processed\\updated_modified_cleaned_562_Mixed6_processed.csv\n"
     ]
    },
    {
     "name": "stderr",
     "output_type": "stream",
     "text": [
      "Processing files:  33%|███▎      | 65/197 [11:34<09:51,  4.48s/it]"
     ]
    },
    {
     "name": "stdout",
     "output_type": "stream",
     "text": [
      "Processed and saved: C:\\Users\\aknin\\Desktop\\MLproject-main\\Dataset\\BMS_processed\\updated_modified_cleaned_562_Mixed7_processed.csv\n"
     ]
    },
    {
     "name": "stderr",
     "output_type": "stream",
     "text": [
      "Processing files:  34%|███▎      | 66/197 [11:41<10:59,  5.03s/it]"
     ]
    },
    {
     "name": "stdout",
     "output_type": "stream",
     "text": [
      "Processed and saved: C:\\Users\\aknin\\Desktop\\MLproject-main\\Dataset\\BMS_processed\\updated_modified_cleaned_562_Mixed8_processed.csv\n"
     ]
    },
    {
     "name": "stderr",
     "output_type": "stream",
     "text": [
      "Processing files:  34%|███▍      | 67/197 [11:45<10:14,  4.73s/it]"
     ]
    },
    {
     "name": "stdout",
     "output_type": "stream",
     "text": [
      "Processed and saved: C:\\Users\\aknin\\Desktop\\MLproject-main\\Dataset\\BMS_processed\\updated_modified_cleaned_562_PausCycl_processed.csv\n"
     ]
    },
    {
     "name": "stderr",
     "output_type": "stream",
     "text": [
      "Processing files:  35%|███▍      | 68/197 [11:46<07:53,  3.67s/it]"
     ]
    },
    {
     "name": "stdout",
     "output_type": "stream",
     "text": [
      "Processed and saved: C:\\Users\\aknin\\Desktop\\MLproject-main\\Dataset\\BMS_processed\\updated_modified_cleaned_567_Charge6_processed.csv\n"
     ]
    },
    {
     "name": "stderr",
     "output_type": "stream",
     "text": [
      "Processing files:  35%|███▌      | 69/197 [11:47<06:15,  2.93s/it]"
     ]
    },
    {
     "name": "stdout",
     "output_type": "stream",
     "text": [
      "Processed and saved: C:\\Users\\aknin\\Desktop\\MLproject-main\\Dataset\\BMS_processed\\updated_modified_cleaned_567_Charge7_processed.csv\n"
     ]
    },
    {
     "name": "stderr",
     "output_type": "stream",
     "text": [
      "Processing files:  36%|███▌      | 70/197 [11:48<05:06,  2.41s/it]"
     ]
    },
    {
     "name": "stdout",
     "output_type": "stream",
     "text": [
      "Processed and saved: C:\\Users\\aknin\\Desktop\\MLproject-main\\Dataset\\BMS_processed\\updated_modified_cleaned_567_Charge8_processed.csv\n"
     ]
    },
    {
     "name": "stderr",
     "output_type": "stream",
     "text": [
      "Processing files:  36%|███▌      | 71/197 [12:19<22:33, 10.74s/it]"
     ]
    },
    {
     "name": "stdout",
     "output_type": "stream",
     "text": [
      "Processed and saved: C:\\Users\\aknin\\Desktop\\MLproject-main\\Dataset\\BMS_processed\\updated_modified_cleaned_567_Mixed2_processed.csv\n"
     ]
    },
    {
     "name": "stderr",
     "output_type": "stream",
     "text": [
      "Processing files:  37%|███▋      | 72/197 [12:34<25:25, 12.21s/it]"
     ]
    },
    {
     "name": "stdout",
     "output_type": "stream",
     "text": [
      "Processed and saved: C:\\Users\\aknin\\Desktop\\MLproject-main\\Dataset\\BMS_processed\\updated_modified_cleaned_567_US06_processed.csv\n"
     ]
    },
    {
     "name": "stderr",
     "output_type": "stream",
     "text": [
      "Processing files:  37%|███▋      | 73/197 [12:35<18:27,  8.93s/it]"
     ]
    },
    {
     "name": "stdout",
     "output_type": "stream",
     "text": [
      "Processed and saved: C:\\Users\\aknin\\Desktop\\MLproject-main\\Dataset\\BMS_processed\\updated_modified_cleaned_571_Cap_1C_processed.csv\n"
     ]
    },
    {
     "name": "stderr",
     "output_type": "stream",
     "text": [
      "Processing files:  38%|███▊      | 74/197 [12:37<13:33,  6.62s/it]"
     ]
    },
    {
     "name": "stdout",
     "output_type": "stream",
     "text": [
      "Processed and saved: C:\\Users\\aknin\\Desktop\\MLproject-main\\Dataset\\BMS_processed\\updated_modified_cleaned_571_Charge10_processed.csv\n"
     ]
    },
    {
     "name": "stderr",
     "output_type": "stream",
     "text": [
      "Processing files:  38%|███▊      | 75/197 [12:38<10:08,  4.99s/it]"
     ]
    },
    {
     "name": "stdout",
     "output_type": "stream",
     "text": [
      "Processed and saved: C:\\Users\\aknin\\Desktop\\MLproject-main\\Dataset\\BMS_processed\\updated_modified_cleaned_571_Charge11_processed.csv\n"
     ]
    },
    {
     "name": "stderr",
     "output_type": "stream",
     "text": [
      "Processing files:  39%|███▊      | 76/197 [12:39<07:45,  3.85s/it]"
     ]
    },
    {
     "name": "stdout",
     "output_type": "stream",
     "text": [
      "Processed and saved: C:\\Users\\aknin\\Desktop\\MLproject-main\\Dataset\\BMS_processed\\updated_modified_cleaned_571_Charge12_processed.csv\n"
     ]
    },
    {
     "name": "stderr",
     "output_type": "stream",
     "text": [
      "Processing files:  39%|███▉      | 77/197 [12:40<06:07,  3.06s/it]"
     ]
    },
    {
     "name": "stdout",
     "output_type": "stream",
     "text": [
      "Processed and saved: C:\\Users\\aknin\\Desktop\\MLproject-main\\Dataset\\BMS_processed\\updated_modified_cleaned_571_Charge13_processed.csv\n"
     ]
    },
    {
     "name": "stderr",
     "output_type": "stream",
     "text": [
      "Processing files:  40%|███▉      | 78/197 [12:41<04:58,  2.51s/it]"
     ]
    },
    {
     "name": "stdout",
     "output_type": "stream",
     "text": [
      "Processed and saved: C:\\Users\\aknin\\Desktop\\MLproject-main\\Dataset\\BMS_processed\\updated_modified_cleaned_571_Charge14_processed.csv\n"
     ]
    },
    {
     "name": "stderr",
     "output_type": "stream",
     "text": [
      "Processing files:  40%|████      | 79/197 [12:43<04:12,  2.14s/it]"
     ]
    },
    {
     "name": "stdout",
     "output_type": "stream",
     "text": [
      "Processed and saved: C:\\Users\\aknin\\Desktop\\MLproject-main\\Dataset\\BMS_processed\\updated_modified_cleaned_571_Charge15_processed.csv\n"
     ]
    },
    {
     "name": "stderr",
     "output_type": "stream",
     "text": [
      "Processing files:  41%|████      | 80/197 [12:44<03:42,  1.90s/it]"
     ]
    },
    {
     "name": "stdout",
     "output_type": "stream",
     "text": [
      "Processed and saved: C:\\Users\\aknin\\Desktop\\MLproject-main\\Dataset\\BMS_processed\\updated_modified_cleaned_571_Charge16_processed.csv\n"
     ]
    },
    {
     "name": "stderr",
     "output_type": "stream",
     "text": [
      "Processing files:  41%|████      | 81/197 [13:13<19:12,  9.93s/it]"
     ]
    },
    {
     "name": "stdout",
     "output_type": "stream",
     "text": [
      "Processed and saved: C:\\Users\\aknin\\Desktop\\MLproject-main\\Dataset\\BMS_processed\\updated_modified_cleaned_571_Mixed4_processed.csv\n"
     ]
    },
    {
     "name": "stderr",
     "output_type": "stream",
     "text": [
      "Processing files:  42%|████▏     | 82/197 [13:39<28:20, 14.78s/it]"
     ]
    },
    {
     "name": "stdout",
     "output_type": "stream",
     "text": [
      "Processed and saved: C:\\Users\\aknin\\Desktop\\MLproject-main\\Dataset\\BMS_processed\\updated_modified_cleaned_571_Mixed5_processed.csv\n"
     ]
    },
    {
     "name": "stderr",
     "output_type": "stream",
     "text": [
      "Processing files:  42%|████▏     | 83/197 [14:08<36:26, 19.18s/it]"
     ]
    },
    {
     "name": "stdout",
     "output_type": "stream",
     "text": [
      "Processed and saved: C:\\Users\\aknin\\Desktop\\MLproject-main\\Dataset\\BMS_processed\\updated_modified_cleaned_571_Mixed6_processed.csv\n"
     ]
    },
    {
     "name": "stderr",
     "output_type": "stream",
     "text": [
      "Processing files:  43%|████▎     | 84/197 [14:36<40:42, 21.62s/it]"
     ]
    },
    {
     "name": "stdout",
     "output_type": "stream",
     "text": [
      "Processed and saved: C:\\Users\\aknin\\Desktop\\MLproject-main\\Dataset\\BMS_processed\\updated_modified_cleaned_571_Mixed7_processed.csv\n"
     ]
    },
    {
     "name": "stderr",
     "output_type": "stream",
     "text": [
      "Processing files:  43%|████▎     | 85/197 [14:50<36:19, 19.46s/it]"
     ]
    },
    {
     "name": "stdout",
     "output_type": "stream",
     "text": [
      "Processed and saved: C:\\Users\\aknin\\Desktop\\MLproject-main\\Dataset\\BMS_processed\\updated_modified_cleaned_571_PausCycl_processed.csv\n"
     ]
    },
    {
     "name": "stderr",
     "output_type": "stream",
     "text": [
      "Processing files:  44%|████▎     | 86/197 [14:52<26:25, 14.28s/it]"
     ]
    },
    {
     "name": "stdout",
     "output_type": "stream",
     "text": [
      "Processed and saved: C:\\Users\\aknin\\Desktop\\MLproject-main\\Dataset\\BMS_processed\\updated_modified_cleaned_575_C20DisCh_processed.csv\n"
     ]
    },
    {
     "name": "stderr",
     "output_type": "stream",
     "text": [
      "Processing files:  44%|████▍     | 87/197 [14:54<19:03, 10.39s/it]"
     ]
    },
    {
     "name": "stdout",
     "output_type": "stream",
     "text": [
      "Processed and saved: C:\\Users\\aknin\\Desktop\\MLproject-main\\Dataset\\BMS_processed\\updated_modified_cleaned_575_Dis_0p5C_processed.csv\n"
     ]
    },
    {
     "name": "stderr",
     "output_type": "stream",
     "text": [
      "Processing files:  45%|████▍     | 88/197 [14:55<14:01,  7.72s/it]"
     ]
    },
    {
     "name": "stdout",
     "output_type": "stream",
     "text": [
      "Processed and saved: C:\\Users\\aknin\\Desktop\\MLproject-main\\Dataset\\BMS_processed\\updated_modified_cleaned_575_Dis_2C_processed.csv\n"
     ]
    },
    {
     "name": "stderr",
     "output_type": "stream",
     "text": [
      "Processing files:  45%|████▌     | 89/197 [15:13<19:31, 10.85s/it]"
     ]
    },
    {
     "name": "stdout",
     "output_type": "stream",
     "text": [
      "Processed and saved: C:\\Users\\aknin\\Desktop\\MLproject-main\\Dataset\\BMS_processed\\updated_modified_cleaned_575_HPPC_processed.csv\n"
     ]
    },
    {
     "name": "stderr",
     "output_type": "stream",
     "text": [
      "Processing files:  46%|████▌     | 90/197 [15:16<14:47,  8.29s/it]"
     ]
    },
    {
     "name": "stdout",
     "output_type": "stream",
     "text": [
      "Processed and saved: C:\\Users\\aknin\\Desktop\\MLproject-main\\Dataset\\BMS_processed\\updated_modified_cleaned_576_Cap_1C_processed.csv\n"
     ]
    },
    {
     "name": "stderr",
     "output_type": "stream",
     "text": [
      "Processing files:  46%|████▌     | 91/197 [15:17<11:09,  6.32s/it]"
     ]
    },
    {
     "name": "stdout",
     "output_type": "stream",
     "text": [
      "Processed and saved: C:\\Users\\aknin\\Desktop\\MLproject-main\\Dataset\\BMS_processed\\updated_modified_cleaned_576_Charge1_processed.csv\n"
     ]
    },
    {
     "name": "stderr",
     "output_type": "stream",
     "text": [
      "Processing files:  47%|████▋     | 92/197 [15:19<08:36,  4.92s/it]"
     ]
    },
    {
     "name": "stdout",
     "output_type": "stream",
     "text": [
      "Processed and saved: C:\\Users\\aknin\\Desktop\\MLproject-main\\Dataset\\BMS_processed\\updated_modified_cleaned_576_Charge2_processed.csv\n"
     ]
    },
    {
     "name": "stderr",
     "output_type": "stream",
     "text": [
      "Processing files:  47%|████▋     | 93/197 [15:20<06:37,  3.82s/it]"
     ]
    },
    {
     "name": "stdout",
     "output_type": "stream",
     "text": [
      "Processed and saved: C:\\Users\\aknin\\Desktop\\MLproject-main\\Dataset\\BMS_processed\\updated_modified_cleaned_576_Charge3_processed.csv\n"
     ]
    },
    {
     "name": "stderr",
     "output_type": "stream",
     "text": [
      "Processing files:  48%|████▊     | 94/197 [15:21<05:13,  3.05s/it]"
     ]
    },
    {
     "name": "stdout",
     "output_type": "stream",
     "text": [
      "Processed and saved: C:\\Users\\aknin\\Desktop\\MLproject-main\\Dataset\\BMS_processed\\updated_modified_cleaned_576_Charge4_processed.csv\n"
     ]
    },
    {
     "name": "stderr",
     "output_type": "stream",
     "text": [
      "Processing files:  48%|████▊     | 95/197 [15:45<15:39,  9.21s/it]"
     ]
    },
    {
     "name": "stdout",
     "output_type": "stream",
     "text": [
      "Processed and saved: C:\\Users\\aknin\\Desktop\\MLproject-main\\Dataset\\BMS_processed\\updated_modified_cleaned_576_HWFET_processed.csv\n"
     ]
    },
    {
     "name": "stderr",
     "output_type": "stream",
     "text": [
      "Processing files:  49%|████▊     | 96/197 [16:58<47:32, 28.24s/it]"
     ]
    },
    {
     "name": "stdout",
     "output_type": "stream",
     "text": [
      "Processed and saved: C:\\Users\\aknin\\Desktop\\MLproject-main\\Dataset\\BMS_processed\\updated_modified_cleaned_576_UDDS_processed.csv\n"
     ]
    },
    {
     "name": "stderr",
     "output_type": "stream",
     "text": [
      "Processing files:  49%|████▉     | 97/197 [17:08<38:06, 22.87s/it]"
     ]
    },
    {
     "name": "stdout",
     "output_type": "stream",
     "text": [
      "Error processing: updated_modified_cleaned_582_LA92 - could not convert string to float: ''\n"
     ]
    },
    {
     "name": "stderr",
     "output_type": "stream",
     "text": [
      "Processing files:  50%|████▉     | 98/197 [17:09<27:00, 16.37s/it]"
     ]
    },
    {
     "name": "stdout",
     "output_type": "stream",
     "text": [
      "Processed and saved: C:\\Users\\aknin\\Desktop\\MLproject-main\\Dataset\\BMS_processed\\updated_modified_cleaned_585_Dis_0p5C_processed.csv\n"
     ]
    },
    {
     "name": "stderr",
     "output_type": "stream",
     "text": [
      "Processing files:  50%|█████     | 99/197 [17:10<19:13, 11.77s/it]"
     ]
    },
    {
     "name": "stdout",
     "output_type": "stream",
     "text": [
      "Processed and saved: C:\\Users\\aknin\\Desktop\\MLproject-main\\Dataset\\BMS_processed\\updated_modified_cleaned_585_Dis_2C_processed.csv\n"
     ]
    },
    {
     "name": "stderr",
     "output_type": "stream",
     "text": [
      "Processing files:  51%|█████     | 100/197 [17:27<21:41, 13.42s/it]"
     ]
    },
    {
     "name": "stdout",
     "output_type": "stream",
     "text": [
      "Processed and saved: C:\\Users\\aknin\\Desktop\\MLproject-main\\Dataset\\BMS_processed\\updated_modified_cleaned_585_HPPC_processed.csv\n"
     ]
    },
    {
     "name": "stderr",
     "output_type": "stream",
     "text": [
      "Processing files:  51%|█████▏    | 101/197 [17:29<15:44,  9.84s/it]"
     ]
    },
    {
     "name": "stdout",
     "output_type": "stream",
     "text": [
      "Processed and saved: C:\\Users\\aknin\\Desktop\\MLproject-main\\Dataset\\BMS_processed\\updated_modified_cleaned_589_Cap_1C_processed.csv\n"
     ]
    },
    {
     "name": "stderr",
     "output_type": "stream",
     "text": [
      "Processing files:  52%|█████▏    | 102/197 [17:30<11:27,  7.24s/it]"
     ]
    },
    {
     "name": "stdout",
     "output_type": "stream",
     "text": [
      "Processed and saved: C:\\Users\\aknin\\Desktop\\MLproject-main\\Dataset\\BMS_processed\\updated_modified_cleaned_589_Charge1_processed.csv\n"
     ]
    },
    {
     "name": "stderr",
     "output_type": "stream",
     "text": [
      "Processing files:  52%|█████▏    | 103/197 [17:31<08:33,  5.46s/it]"
     ]
    },
    {
     "name": "stdout",
     "output_type": "stream",
     "text": [
      "Processed and saved: C:\\Users\\aknin\\Desktop\\MLproject-main\\Dataset\\BMS_processed\\updated_modified_cleaned_589_Charge2_processed.csv\n"
     ]
    },
    {
     "name": "stderr",
     "output_type": "stream",
     "text": [
      "Processing files:  53%|█████▎    | 104/197 [17:33<06:28,  4.18s/it]"
     ]
    },
    {
     "name": "stdout",
     "output_type": "stream",
     "text": [
      "Processed and saved: C:\\Users\\aknin\\Desktop\\MLproject-main\\Dataset\\BMS_processed\\updated_modified_cleaned_589_Charge3_processed.csv\n"
     ]
    },
    {
     "name": "stderr",
     "output_type": "stream",
     "text": [
      "Processing files:  53%|█████▎    | 105/197 [17:34<05:02,  3.29s/it]"
     ]
    },
    {
     "name": "stdout",
     "output_type": "stream",
     "text": [
      "Processed and saved: C:\\Users\\aknin\\Desktop\\MLproject-main\\Dataset\\BMS_processed\\updated_modified_cleaned_589_Charge4_processed.csv\n"
     ]
    },
    {
     "name": "stderr",
     "output_type": "stream",
     "text": [
      "Processing files:  54%|█████▍    | 106/197 [17:35<04:02,  2.67s/it]"
     ]
    },
    {
     "name": "stdout",
     "output_type": "stream",
     "text": [
      "Processed and saved: C:\\Users\\aknin\\Desktop\\MLproject-main\\Dataset\\BMS_processed\\updated_modified_cleaned_589_Charge5_processed.csv\n"
     ]
    },
    {
     "name": "stderr",
     "output_type": "stream",
     "text": [
      "Processing files:  54%|█████▍    | 107/197 [17:37<03:47,  2.53s/it]"
     ]
    },
    {
     "name": "stdout",
     "output_type": "stream",
     "text": [
      "Processed and saved: C:\\Users\\aknin\\Desktop\\MLproject-main\\Dataset\\BMS_processed\\updated_modified_cleaned_589_Charge6_processed.csv\n"
     ]
    },
    {
     "name": "stderr",
     "output_type": "stream",
     "text": [
      "Processing files:  55%|█████▍    | 108/197 [17:38<03:08,  2.12s/it]"
     ]
    },
    {
     "name": "stdout",
     "output_type": "stream",
     "text": [
      "Processed and saved: C:\\Users\\aknin\\Desktop\\MLproject-main\\Dataset\\BMS_processed\\updated_modified_cleaned_589_Charge7_processed.csv\n"
     ]
    },
    {
     "name": "stderr",
     "output_type": "stream",
     "text": [
      "Processing files:  55%|█████▌    | 109/197 [17:40<02:41,  1.83s/it]"
     ]
    },
    {
     "name": "stdout",
     "output_type": "stream",
     "text": [
      "Processed and saved: C:\\Users\\aknin\\Desktop\\MLproject-main\\Dataset\\BMS_processed\\updated_modified_cleaned_589_Charge8_processed.csv\n"
     ]
    },
    {
     "name": "stderr",
     "output_type": "stream",
     "text": [
      "Processing files:  56%|█████▌    | 110/197 [17:59<10:30,  7.24s/it]"
     ]
    },
    {
     "name": "stdout",
     "output_type": "stream",
     "text": [
      "Processed and saved: C:\\Users\\aknin\\Desktop\\MLproject-main\\Dataset\\BMS_processed\\updated_modified_cleaned_589_HWFET_processed.csv\n"
     ]
    },
    {
     "name": "stderr",
     "output_type": "stream",
     "text": [
      "Processing files:  56%|█████▋    | 111/197 [18:32<21:15, 14.83s/it]"
     ]
    },
    {
     "name": "stdout",
     "output_type": "stream",
     "text": [
      "Processed and saved: C:\\Users\\aknin\\Desktop\\MLproject-main\\Dataset\\BMS_processed\\updated_modified_cleaned_589_LA92_processed.csv\n"
     ]
    },
    {
     "name": "stderr",
     "output_type": "stream",
     "text": [
      "Processing files:  57%|█████▋    | 112/197 [19:01<27:05, 19.13s/it]"
     ]
    },
    {
     "name": "stdout",
     "output_type": "stream",
     "text": [
      "Processed and saved: C:\\Users\\aknin\\Desktop\\MLproject-main\\Dataset\\BMS_processed\\updated_modified_cleaned_589_Mixed2_processed.csv\n"
     ]
    },
    {
     "name": "stderr",
     "output_type": "stream",
     "text": [
      "Processing files:  57%|█████▋    | 113/197 [20:02<44:14, 31.60s/it]"
     ]
    },
    {
     "name": "stdout",
     "output_type": "stream",
     "text": [
      "Processed and saved: C:\\Users\\aknin\\Desktop\\MLproject-main\\Dataset\\BMS_processed\\updated_modified_cleaned_589_UDDS_processed.csv\n"
     ]
    },
    {
     "name": "stderr",
     "output_type": "stream",
     "text": [
      "Processing files:  58%|█████▊    | 114/197 [20:17<36:58, 26.73s/it]"
     ]
    },
    {
     "name": "stdout",
     "output_type": "stream",
     "text": [
      "Processed and saved: C:\\Users\\aknin\\Desktop\\MLproject-main\\Dataset\\BMS_processed\\updated_modified_cleaned_589_US06_processed.csv\n"
     ]
    },
    {
     "name": "stderr",
     "output_type": "stream",
     "text": [
      "Processing files:  58%|█████▊    | 115/197 [20:19<26:06, 19.10s/it]"
     ]
    },
    {
     "name": "stdout",
     "output_type": "stream",
     "text": [
      "Processed and saved: C:\\Users\\aknin\\Desktop\\MLproject-main\\Dataset\\BMS_processed\\updated_modified_cleaned_590_Charge10_processed.csv\n"
     ]
    },
    {
     "name": "stderr",
     "output_type": "stream",
     "text": [
      "Processing files:  59%|█████▉    | 116/197 [20:20<18:39, 13.82s/it]"
     ]
    },
    {
     "name": "stdout",
     "output_type": "stream",
     "text": [
      "Processed and saved: C:\\Users\\aknin\\Desktop\\MLproject-main\\Dataset\\BMS_processed\\updated_modified_cleaned_590_Charge11_processed.csv\n"
     ]
    },
    {
     "name": "stderr",
     "output_type": "stream",
     "text": [
      "Processing files:  59%|█████▉    | 117/197 [20:21<13:22, 10.03s/it]"
     ]
    },
    {
     "name": "stdout",
     "output_type": "stream",
     "text": [
      "Processed and saved: C:\\Users\\aknin\\Desktop\\MLproject-main\\Dataset\\BMS_processed\\updated_modified_cleaned_590_Charge12_processed.csv\n"
     ]
    },
    {
     "name": "stderr",
     "output_type": "stream",
     "text": [
      "Processing files:  60%|█████▉    | 118/197 [20:22<09:43,  7.38s/it]"
     ]
    },
    {
     "name": "stdout",
     "output_type": "stream",
     "text": [
      "Processed and saved: C:\\Users\\aknin\\Desktop\\MLproject-main\\Dataset\\BMS_processed\\updated_modified_cleaned_590_Charge13_processed.csv\n"
     ]
    },
    {
     "name": "stderr",
     "output_type": "stream",
     "text": [
      "Processing files:  60%|██████    | 119/197 [20:24<07:13,  5.56s/it]"
     ]
    },
    {
     "name": "stdout",
     "output_type": "stream",
     "text": [
      "Processed and saved: C:\\Users\\aknin\\Desktop\\MLproject-main\\Dataset\\BMS_processed\\updated_modified_cleaned_590_Charge14_processed.csv\n"
     ]
    },
    {
     "name": "stderr",
     "output_type": "stream",
     "text": [
      "Processing files:  61%|██████    | 120/197 [20:25<05:28,  4.26s/it]"
     ]
    },
    {
     "name": "stdout",
     "output_type": "stream",
     "text": [
      "Processed and saved: C:\\Users\\aknin\\Desktop\\MLproject-main\\Dataset\\BMS_processed\\updated_modified_cleaned_590_Charge15_processed.csv\n"
     ]
    },
    {
     "name": "stderr",
     "output_type": "stream",
     "text": [
      "Processing files:  61%|██████▏   | 121/197 [20:26<04:13,  3.33s/it]"
     ]
    },
    {
     "name": "stdout",
     "output_type": "stream",
     "text": [
      "Processed and saved: C:\\Users\\aknin\\Desktop\\MLproject-main\\Dataset\\BMS_processed\\updated_modified_cleaned_590_Charge16_processed.csv\n"
     ]
    },
    {
     "name": "stderr",
     "output_type": "stream",
     "text": [
      "Processing files:  62%|██████▏   | 122/197 [20:57<14:28, 11.58s/it]"
     ]
    },
    {
     "name": "stdout",
     "output_type": "stream",
     "text": [
      "Processed and saved: C:\\Users\\aknin\\Desktop\\MLproject-main\\Dataset\\BMS_processed\\updated_modified_cleaned_590_Mixed4_processed.csv\n"
     ]
    },
    {
     "name": "stderr",
     "output_type": "stream",
     "text": [
      "Processing files:  62%|██████▏   | 123/197 [21:25<20:11, 16.38s/it]"
     ]
    },
    {
     "name": "stdout",
     "output_type": "stream",
     "text": [
      "Processed and saved: C:\\Users\\aknin\\Desktop\\MLproject-main\\Dataset\\BMS_processed\\updated_modified_cleaned_590_Mixed5_processed.csv\n"
     ]
    },
    {
     "name": "stderr",
     "output_type": "stream",
     "text": [
      "Processing files:  63%|██████▎   | 124/197 [21:49<22:55, 18.84s/it]"
     ]
    },
    {
     "name": "stdout",
     "output_type": "stream",
     "text": [
      "Processed and saved: C:\\Users\\aknin\\Desktop\\MLproject-main\\Dataset\\BMS_processed\\updated_modified_cleaned_590_Mixed6_processed.csv\n"
     ]
    },
    {
     "name": "stderr",
     "output_type": "stream",
     "text": [
      "Processing files:  63%|██████▎   | 125/197 [22:13<24:28, 20.40s/it]"
     ]
    },
    {
     "name": "stdout",
     "output_type": "stream",
     "text": [
      "Processed and saved: C:\\Users\\aknin\\Desktop\\MLproject-main\\Dataset\\BMS_processed\\updated_modified_cleaned_590_Mixed7_processed.csv\n"
     ]
    },
    {
     "name": "stderr",
     "output_type": "stream",
     "text": [
      "Processing files:  64%|██████▍   | 126/197 [22:46<28:30, 24.10s/it]"
     ]
    },
    {
     "name": "stdout",
     "output_type": "stream",
     "text": [
      "Processed and saved: C:\\Users\\aknin\\Desktop\\MLproject-main\\Dataset\\BMS_processed\\updated_modified_cleaned_590_Mixed8_processed.csv\n"
     ]
    },
    {
     "name": "stderr",
     "output_type": "stream",
     "text": [
      "Processing files:  64%|██████▍   | 127/197 [22:57<23:26, 20.10s/it]"
     ]
    },
    {
     "name": "stdout",
     "output_type": "stream",
     "text": [
      "Processed and saved: C:\\Users\\aknin\\Desktop\\MLproject-main\\Dataset\\BMS_processed\\updated_modified_cleaned_590_PausCycl_processed.csv\n"
     ]
    },
    {
     "name": "stderr",
     "output_type": "stream",
     "text": [
      "Processing files:  65%|██████▍   | 128/197 [22:58<16:49, 14.63s/it]"
     ]
    },
    {
     "name": "stdout",
     "output_type": "stream",
     "text": [
      "Processed and saved: C:\\Users\\aknin\\Desktop\\MLproject-main\\Dataset\\BMS_processed\\updated_modified_cleaned_593_C20DisCh_processed.csv\n"
     ]
    },
    {
     "name": "stderr",
     "output_type": "stream",
     "text": [
      "Processing files:  65%|██████▌   | 129/197 [23:00<11:59, 10.58s/it]"
     ]
    },
    {
     "name": "stdout",
     "output_type": "stream",
     "text": [
      "Processed and saved: C:\\Users\\aknin\\Desktop\\MLproject-main\\Dataset\\BMS_processed\\updated_modified_cleaned_593_Dis_0p5C_processed.csv\n"
     ]
    },
    {
     "name": "stderr",
     "output_type": "stream",
     "text": [
      "Processing files:  66%|██████▌   | 130/197 [23:01<08:37,  7.72s/it]"
     ]
    },
    {
     "name": "stdout",
     "output_type": "stream",
     "text": [
      "Processed and saved: C:\\Users\\aknin\\Desktop\\MLproject-main\\Dataset\\BMS_processed\\updated_modified_cleaned_593_Dis_2C_processed.csv\n"
     ]
    },
    {
     "name": "stderr",
     "output_type": "stream",
     "text": [
      "Processing files:  66%|██████▋   | 131/197 [23:02<06:19,  5.75s/it]"
     ]
    },
    {
     "name": "stdout",
     "output_type": "stream",
     "text": [
      "Processed and saved: C:\\Users\\aknin\\Desktop\\MLproject-main\\Dataset\\BMS_processed\\updated_modified_cleaned_596_Cap_1C_processed.csv\n"
     ]
    },
    {
     "name": "stderr",
     "output_type": "stream",
     "text": [
      "Processing files:  67%|██████▋   | 132/197 [23:03<04:43,  4.36s/it]"
     ]
    },
    {
     "name": "stdout",
     "output_type": "stream",
     "text": [
      "Processed and saved: C:\\Users\\aknin\\Desktop\\MLproject-main\\Dataset\\BMS_processed\\updated_modified_cleaned_596_Charge1_processed.csv\n"
     ]
    },
    {
     "name": "stderr",
     "output_type": "stream",
     "text": [
      "Processing files:  68%|██████▊   | 133/197 [23:04<03:43,  3.49s/it]"
     ]
    },
    {
     "name": "stdout",
     "output_type": "stream",
     "text": [
      "Processed and saved: C:\\Users\\aknin\\Desktop\\MLproject-main\\Dataset\\BMS_processed\\updated_modified_cleaned_596_Charge2_processed.csv\n"
     ]
    },
    {
     "name": "stderr",
     "output_type": "stream",
     "text": [
      "Processing files:  68%|██████▊   | 134/197 [23:06<02:56,  2.79s/it]"
     ]
    },
    {
     "name": "stdout",
     "output_type": "stream",
     "text": [
      "Processed and saved: C:\\Users\\aknin\\Desktop\\MLproject-main\\Dataset\\BMS_processed\\updated_modified_cleaned_596_Charge3_processed.csv\n"
     ]
    },
    {
     "name": "stderr",
     "output_type": "stream",
     "text": [
      "Processing files:  69%|██████▊   | 135/197 [23:07<02:22,  2.30s/it]"
     ]
    },
    {
     "name": "stdout",
     "output_type": "stream",
     "text": [
      "Processed and saved: C:\\Users\\aknin\\Desktop\\MLproject-main\\Dataset\\BMS_processed\\updated_modified_cleaned_596_Charge4_processed.csv\n"
     ]
    },
    {
     "name": "stderr",
     "output_type": "stream",
     "text": [
      "Processing files:  69%|██████▉   | 136/197 [23:08<02:01,  1.99s/it]"
     ]
    },
    {
     "name": "stdout",
     "output_type": "stream",
     "text": [
      "Processed and saved: C:\\Users\\aknin\\Desktop\\MLproject-main\\Dataset\\BMS_processed\\updated_modified_cleaned_596_Charge5_processed.csv\n"
     ]
    },
    {
     "name": "stderr",
     "output_type": "stream",
     "text": [
      "Processing files:  70%|██████▉   | 137/197 [23:26<06:49,  6.83s/it]"
     ]
    },
    {
     "name": "stdout",
     "output_type": "stream",
     "text": [
      "Processed and saved: C:\\Users\\aknin\\Desktop\\MLproject-main\\Dataset\\BMS_processed\\updated_modified_cleaned_596_HWFET_processed.csv\n"
     ]
    },
    {
     "name": "stderr",
     "output_type": "stream",
     "text": [
      "Processing files:  70%|███████   | 138/197 [23:55<13:05, 13.31s/it]"
     ]
    },
    {
     "name": "stdout",
     "output_type": "stream",
     "text": [
      "Processed and saved: C:\\Users\\aknin\\Desktop\\MLproject-main\\Dataset\\BMS_processed\\updated_modified_cleaned_596_LA92_processed.csv\n"
     ]
    },
    {
     "name": "stderr",
     "output_type": "stream",
     "text": [
      "Processing files:  71%|███████   | 139/197 [23:57<09:39,  9.99s/it]"
     ]
    },
    {
     "name": "stdout",
     "output_type": "stream",
     "text": [
      "Processed and saved: C:\\Users\\aknin\\Desktop\\MLproject-main\\Dataset\\BMS_processed\\updated_modified_cleaned_601_Charge6_processed.csv\n"
     ]
    },
    {
     "name": "stderr",
     "output_type": "stream",
     "text": [
      "Processing files:  71%|███████   | 140/197 [23:58<06:58,  7.35s/it]"
     ]
    },
    {
     "name": "stdout",
     "output_type": "stream",
     "text": [
      "Processed and saved: C:\\Users\\aknin\\Desktop\\MLproject-main\\Dataset\\BMS_processed\\updated_modified_cleaned_601_Charge7_processed.csv\n"
     ]
    },
    {
     "name": "stderr",
     "output_type": "stream",
     "text": [
      "Processing files:  72%|███████▏  | 141/197 [23:59<05:07,  5.49s/it]"
     ]
    },
    {
     "name": "stdout",
     "output_type": "stream",
     "text": [
      "Processed and saved: C:\\Users\\aknin\\Desktop\\MLproject-main\\Dataset\\BMS_processed\\updated_modified_cleaned_601_Charge8_processed.csv\n"
     ]
    },
    {
     "name": "stderr",
     "output_type": "stream",
     "text": [
      "Processing files:  72%|███████▏  | 142/197 [24:23<10:08, 11.06s/it]"
     ]
    },
    {
     "name": "stdout",
     "output_type": "stream",
     "text": [
      "Processed and saved: C:\\Users\\aknin\\Desktop\\MLproject-main\\Dataset\\BMS_processed\\updated_modified_cleaned_601_Mixed1_processed.csv\n"
     ]
    },
    {
     "name": "stderr",
     "output_type": "stream",
     "text": [
      "Processing files:  73%|███████▎  | 143/197 [24:49<14:02, 15.60s/it]"
     ]
    },
    {
     "name": "stdout",
     "output_type": "stream",
     "text": [
      "Processed and saved: C:\\Users\\aknin\\Desktop\\MLproject-main\\Dataset\\BMS_processed\\updated_modified_cleaned_601_Mixed2_processed.csv\n"
     ]
    },
    {
     "name": "stderr",
     "output_type": "stream",
     "text": [
      "Processing files:  73%|███████▎  | 144/197 [25:02<12:59, 14.71s/it]"
     ]
    },
    {
     "name": "stdout",
     "output_type": "stream",
     "text": [
      "Processed and saved: C:\\Users\\aknin\\Desktop\\MLproject-main\\Dataset\\BMS_processed\\updated_modified_cleaned_601_US06_processed.csv\n"
     ]
    },
    {
     "name": "stderr",
     "output_type": "stream",
     "text": [
      "Processing files:  74%|███████▎  | 145/197 [25:03<09:12, 10.63s/it]"
     ]
    },
    {
     "name": "stdout",
     "output_type": "stream",
     "text": [
      "Processed and saved: C:\\Users\\aknin\\Desktop\\MLproject-main\\Dataset\\BMS_processed\\updated_modified_cleaned_602_Cap_1C_processed.csv\n"
     ]
    },
    {
     "name": "stderr",
     "output_type": "stream",
     "text": [
      "Processing files:  74%|███████▍  | 146/197 [25:04<06:37,  7.80s/it]"
     ]
    },
    {
     "name": "stdout",
     "output_type": "stream",
     "text": [
      "Processed and saved: C:\\Users\\aknin\\Desktop\\MLproject-main\\Dataset\\BMS_processed\\updated_modified_cleaned_602_Charge10_processed.csv\n"
     ]
    },
    {
     "name": "stderr",
     "output_type": "stream",
     "text": [
      "Processing files:  75%|███████▍  | 147/197 [25:05<04:50,  5.82s/it]"
     ]
    },
    {
     "name": "stdout",
     "output_type": "stream",
     "text": [
      "Processed and saved: C:\\Users\\aknin\\Desktop\\MLproject-main\\Dataset\\BMS_processed\\updated_modified_cleaned_602_Charge11_processed.csv\n"
     ]
    },
    {
     "name": "stderr",
     "output_type": "stream",
     "text": [
      "Processing files:  75%|███████▌  | 148/197 [25:07<03:36,  4.41s/it]"
     ]
    },
    {
     "name": "stdout",
     "output_type": "stream",
     "text": [
      "Processed and saved: C:\\Users\\aknin\\Desktop\\MLproject-main\\Dataset\\BMS_processed\\updated_modified_cleaned_602_Charge12_processed.csv\n"
     ]
    },
    {
     "name": "stderr",
     "output_type": "stream",
     "text": [
      "Processing files:  76%|███████▌  | 149/197 [25:08<02:43,  3.40s/it]"
     ]
    },
    {
     "name": "stdout",
     "output_type": "stream",
     "text": [
      "Processed and saved: C:\\Users\\aknin\\Desktop\\MLproject-main\\Dataset\\BMS_processed\\updated_modified_cleaned_602_Charge17_processed.csv\n"
     ]
    },
    {
     "name": "stderr",
     "output_type": "stream",
     "text": [
      "Processing files:  76%|███████▌  | 150/197 [25:33<07:54, 10.11s/it]"
     ]
    },
    {
     "name": "stdout",
     "output_type": "stream",
     "text": [
      "Processed and saved: C:\\Users\\aknin\\Desktop\\MLproject-main\\Dataset\\BMS_processed\\updated_modified_cleaned_602_Mixed5_processed.csv\n"
     ]
    },
    {
     "name": "stderr",
     "output_type": "stream",
     "text": [
      "Processing files:  77%|███████▋  | 151/197 [25:36<06:03,  7.90s/it]"
     ]
    },
    {
     "name": "stdout",
     "output_type": "stream",
     "text": [
      "Processed and saved: C:\\Users\\aknin\\Desktop\\MLproject-main\\Dataset\\BMS_processed\\updated_modified_cleaned_604_Charge10_processed.csv\n"
     ]
    },
    {
     "name": "stderr",
     "output_type": "stream",
     "text": [
      "Processing files:  77%|███████▋  | 152/197 [25:37<04:25,  5.90s/it]"
     ]
    },
    {
     "name": "stdout",
     "output_type": "stream",
     "text": [
      "Processed and saved: C:\\Users\\aknin\\Desktop\\MLproject-main\\Dataset\\BMS_processed\\updated_modified_cleaned_604_Charge13_processed.csv\n"
     ]
    },
    {
     "name": "stderr",
     "output_type": "stream",
     "text": [
      "Processing files:  78%|███████▊  | 153/197 [25:39<03:20,  4.55s/it]"
     ]
    },
    {
     "name": "stdout",
     "output_type": "stream",
     "text": [
      "Processed and saved: C:\\Users\\aknin\\Desktop\\MLproject-main\\Dataset\\BMS_processed\\updated_modified_cleaned_604_Charge14_processed.csv\n"
     ]
    },
    {
     "name": "stderr",
     "output_type": "stream",
     "text": [
      "Processing files:  78%|███████▊  | 154/197 [25:40<02:34,  3.59s/it]"
     ]
    },
    {
     "name": "stdout",
     "output_type": "stream",
     "text": [
      "Processed and saved: C:\\Users\\aknin\\Desktop\\MLproject-main\\Dataset\\BMS_processed\\updated_modified_cleaned_604_Charge15_processed.csv\n"
     ]
    },
    {
     "name": "stderr",
     "output_type": "stream",
     "text": [
      "Processing files:  79%|███████▊  | 155/197 [25:42<02:04,  2.97s/it]"
     ]
    },
    {
     "name": "stdout",
     "output_type": "stream",
     "text": [
      "Processed and saved: C:\\Users\\aknin\\Desktop\\MLproject-main\\Dataset\\BMS_processed\\updated_modified_cleaned_604_Charge16_processed.csv\n"
     ]
    },
    {
     "name": "stderr",
     "output_type": "stream",
     "text": [
      "Processing files:  79%|███████▉  | 156/197 [25:43<01:41,  2.47s/it]"
     ]
    },
    {
     "name": "stdout",
     "output_type": "stream",
     "text": [
      "Processed and saved: C:\\Users\\aknin\\Desktop\\MLproject-main\\Dataset\\BMS_processed\\updated_modified_cleaned_604_Charge17_processed.csv\n"
     ]
    },
    {
     "name": "stderr",
     "output_type": "stream",
     "text": [
      "Processing files:  80%|███████▉  | 157/197 [25:45<01:27,  2.20s/it]"
     ]
    },
    {
     "name": "stdout",
     "output_type": "stream",
     "text": [
      "Processed and saved: C:\\Users\\aknin\\Desktop\\MLproject-main\\Dataset\\BMS_processed\\updated_modified_cleaned_604_Charge9_processed.csv\n"
     ]
    },
    {
     "name": "stderr",
     "output_type": "stream",
     "text": [
      "Processing files:  80%|████████  | 158/197 [26:09<05:44,  8.83s/it]"
     ]
    },
    {
     "name": "stdout",
     "output_type": "stream",
     "text": [
      "Processed and saved: C:\\Users\\aknin\\Desktop\\MLproject-main\\Dataset\\BMS_processed\\updated_modified_cleaned_604_Mixed3_processed.csv\n"
     ]
    },
    {
     "name": "stderr",
     "output_type": "stream",
     "text": [
      "Processing files:  81%|████████  | 159/197 [26:32<08:18, 13.12s/it]"
     ]
    },
    {
     "name": "stdout",
     "output_type": "stream",
     "text": [
      "Processed and saved: C:\\Users\\aknin\\Desktop\\MLproject-main\\Dataset\\BMS_processed\\updated_modified_cleaned_604_Mixed6_processed.csv\n"
     ]
    },
    {
     "name": "stderr",
     "output_type": "stream",
     "text": [
      "Processing files:  81%|████████  | 160/197 [26:57<10:17, 16.69s/it]"
     ]
    },
    {
     "name": "stdout",
     "output_type": "stream",
     "text": [
      "Processed and saved: C:\\Users\\aknin\\Desktop\\MLproject-main\\Dataset\\BMS_processed\\updated_modified_cleaned_604_Mixed7_processed.csv\n"
     ]
    },
    {
     "name": "stderr",
     "output_type": "stream",
     "text": [
      "Processing files:  82%|████████▏ | 161/197 [27:27<12:25, 20.71s/it]"
     ]
    },
    {
     "name": "stdout",
     "output_type": "stream",
     "text": [
      "Processed and saved: C:\\Users\\aknin\\Desktop\\MLproject-main\\Dataset\\BMS_processed\\updated_modified_cleaned_604_Mixed8_processed.csv\n"
     ]
    },
    {
     "name": "stderr",
     "output_type": "stream",
     "text": [
      "Processing files:  82%|████████▏ | 162/197 [27:45<11:36, 19.91s/it]"
     ]
    },
    {
     "name": "stdout",
     "output_type": "stream",
     "text": [
      "Processed and saved: C:\\Users\\aknin\\Desktop\\MLproject-main\\Dataset\\BMS_processed\\updated_modified_cleaned_604_PausCycl_processed.csv\n"
     ]
    },
    {
     "name": "stderr",
     "output_type": "stream",
     "text": [
      "Processing files:  83%|████████▎ | 163/197 [27:47<08:14, 14.56s/it]"
     ]
    },
    {
     "name": "stdout",
     "output_type": "stream",
     "text": [
      "Processed and saved: C:\\Users\\aknin\\Desktop\\MLproject-main\\Dataset\\BMS_processed\\updated_modified_cleaned_607_C20DisCh_processed.csv\n"
     ]
    },
    {
     "name": "stderr",
     "output_type": "stream",
     "text": [
      "Processing files:  83%|████████▎ | 164/197 [27:48<05:47, 10.52s/it]"
     ]
    },
    {
     "name": "stdout",
     "output_type": "stream",
     "text": [
      "Processed and saved: C:\\Users\\aknin\\Desktop\\MLproject-main\\Dataset\\BMS_processed\\updated_modified_cleaned_607_Dis_0p5C_processed.csv\n"
     ]
    },
    {
     "name": "stderr",
     "output_type": "stream",
     "text": [
      "Processing files:  84%|████████▍ | 165/197 [27:50<04:07,  7.75s/it]"
     ]
    },
    {
     "name": "stdout",
     "output_type": "stream",
     "text": [
      "Processed and saved: C:\\Users\\aknin\\Desktop\\MLproject-main\\Dataset\\BMS_processed\\updated_modified_cleaned_607_Dis_2C_processed.csv\n"
     ]
    },
    {
     "name": "stderr",
     "output_type": "stream",
     "text": [
      "Processing files:  84%|████████▍ | 166/197 [28:04<05:03,  9.80s/it]"
     ]
    },
    {
     "name": "stdout",
     "output_type": "stream",
     "text": [
      "Processed and saved: C:\\Users\\aknin\\Desktop\\MLproject-main\\Dataset\\BMS_processed\\updated_modified_cleaned_607_HPPC_processed.csv\n"
     ]
    },
    {
     "name": "stderr",
     "output_type": "stream",
     "text": [
      "Processing files:  85%|████████▍ | 167/197 [28:05<03:36,  7.22s/it]"
     ]
    },
    {
     "name": "stdout",
     "output_type": "stream",
     "text": [
      "Processed and saved: C:\\Users\\aknin\\Desktop\\MLproject-main\\Dataset\\BMS_processed\\updated_modified_cleaned_610_Cap_1C_processed.csv\n"
     ]
    },
    {
     "name": "stderr",
     "output_type": "stream",
     "text": [
      "Processing files:  85%|████████▌ | 168/197 [28:06<02:36,  5.39s/it]"
     ]
    },
    {
     "name": "stdout",
     "output_type": "stream",
     "text": [
      "Processed and saved: C:\\Users\\aknin\\Desktop\\MLproject-main\\Dataset\\BMS_processed\\updated_modified_cleaned_610_Charge1_processed.csv\n"
     ]
    },
    {
     "name": "stderr",
     "output_type": "stream",
     "text": [
      "Processing files:  86%|████████▌ | 169/197 [28:08<01:54,  4.10s/it]"
     ]
    },
    {
     "name": "stdout",
     "output_type": "stream",
     "text": [
      "Processed and saved: C:\\Users\\aknin\\Desktop\\MLproject-main\\Dataset\\BMS_processed\\updated_modified_cleaned_610_Charge2_processed.csv\n"
     ]
    },
    {
     "name": "stderr",
     "output_type": "stream",
     "text": [
      "Processing files:  86%|████████▋ | 170/197 [28:09<01:27,  3.25s/it]"
     ]
    },
    {
     "name": "stdout",
     "output_type": "stream",
     "text": [
      "Processed and saved: C:\\Users\\aknin\\Desktop\\MLproject-main\\Dataset\\BMS_processed\\updated_modified_cleaned_610_Charge3_processed.csv\n"
     ]
    },
    {
     "name": "stderr",
     "output_type": "stream",
     "text": [
      "Processing files:  87%|████████▋ | 171/197 [28:10<01:08,  2.64s/it]"
     ]
    },
    {
     "name": "stdout",
     "output_type": "stream",
     "text": [
      "Processed and saved: C:\\Users\\aknin\\Desktop\\MLproject-main\\Dataset\\BMS_processed\\updated_modified_cleaned_610_Charge4_processed.csv\n"
     ]
    },
    {
     "name": "stderr",
     "output_type": "stream",
     "text": [
      "Processing files:  87%|████████▋ | 172/197 [28:11<00:54,  2.19s/it]"
     ]
    },
    {
     "name": "stdout",
     "output_type": "stream",
     "text": [
      "Processed and saved: C:\\Users\\aknin\\Desktop\\MLproject-main\\Dataset\\BMS_processed\\updated_modified_cleaned_610_Charge5_processed.csv\n"
     ]
    },
    {
     "name": "stderr",
     "output_type": "stream",
     "text": [
      "Processing files:  88%|████████▊ | 173/197 [28:12<00:44,  1.87s/it]"
     ]
    },
    {
     "name": "stdout",
     "output_type": "stream",
     "text": [
      "Processed and saved: C:\\Users\\aknin\\Desktop\\MLproject-main\\Dataset\\BMS_processed\\updated_modified_cleaned_610_Charge6_processed.csv\n"
     ]
    },
    {
     "name": "stderr",
     "output_type": "stream",
     "text": [
      "Processing files:  88%|████████▊ | 174/197 [28:13<00:37,  1.64s/it]"
     ]
    },
    {
     "name": "stdout",
     "output_type": "stream",
     "text": [
      "Processed and saved: C:\\Users\\aknin\\Desktop\\MLproject-main\\Dataset\\BMS_processed\\updated_modified_cleaned_610_Charge7_processed.csv\n"
     ]
    },
    {
     "name": "stderr",
     "output_type": "stream",
     "text": [
      "Processing files:  89%|████████▉ | 175/197 [28:15<00:32,  1.48s/it]"
     ]
    },
    {
     "name": "stdout",
     "output_type": "stream",
     "text": [
      "Processed and saved: C:\\Users\\aknin\\Desktop\\MLproject-main\\Dataset\\BMS_processed\\updated_modified_cleaned_610_Charge8_processed.csv\n"
     ]
    },
    {
     "name": "stderr",
     "output_type": "stream",
     "text": [
      "Processing files:  89%|████████▉ | 176/197 [28:28<01:48,  5.18s/it]"
     ]
    },
    {
     "name": "stdout",
     "output_type": "stream",
     "text": [
      "Processed and saved: C:\\Users\\aknin\\Desktop\\MLproject-main\\Dataset\\BMS_processed\\updated_modified_cleaned_610_HWFET_processed.csv\n"
     ]
    },
    {
     "name": "stderr",
     "output_type": "stream",
     "text": [
      "Processing files:  90%|████████▉ | 177/197 [28:50<03:19,  9.99s/it]"
     ]
    },
    {
     "name": "stdout",
     "output_type": "stream",
     "text": [
      "Processed and saved: C:\\Users\\aknin\\Desktop\\MLproject-main\\Dataset\\BMS_processed\\updated_modified_cleaned_610_LA92_processed.csv\n"
     ]
    },
    {
     "name": "stderr",
     "output_type": "stream",
     "text": [
      "Processing files:  90%|█████████ | 178/197 [29:07<03:53, 12.27s/it]"
     ]
    },
    {
     "name": "stdout",
     "output_type": "stream",
     "text": [
      "Processed and saved: C:\\Users\\aknin\\Desktop\\MLproject-main\\Dataset\\BMS_processed\\updated_modified_cleaned_610_Mixed1_processed.csv\n"
     ]
    },
    {
     "name": "stderr",
     "output_type": "stream",
     "text": [
      "Processing files:  91%|█████████ | 179/197 [29:24<04:04, 13.58s/it]"
     ]
    },
    {
     "name": "stdout",
     "output_type": "stream",
     "text": [
      "Processed and saved: C:\\Users\\aknin\\Desktop\\MLproject-main\\Dataset\\BMS_processed\\updated_modified_cleaned_610_Mixed2_processed.csv\n"
     ]
    },
    {
     "name": "stderr",
     "output_type": "stream",
     "text": [
      "Processing files:  91%|█████████▏| 180/197 [29:58<05:34, 19.67s/it]"
     ]
    },
    {
     "name": "stdout",
     "output_type": "stream",
     "text": [
      "Processed and saved: C:\\Users\\aknin\\Desktop\\MLproject-main\\Dataset\\BMS_processed\\updated_modified_cleaned_610_UDDS_processed.csv\n"
     ]
    },
    {
     "name": "stderr",
     "output_type": "stream",
     "text": [
      "Processing files:  92%|█████████▏| 181/197 [30:09<04:35, 17.21s/it]"
     ]
    },
    {
     "name": "stdout",
     "output_type": "stream",
     "text": [
      "Processed and saved: C:\\Users\\aknin\\Desktop\\MLproject-main\\Dataset\\BMS_processed\\updated_modified_cleaned_610_US06_processed.csv\n"
     ]
    },
    {
     "name": "stderr",
     "output_type": "stream",
     "text": [
      "Processing files:  92%|█████████▏| 182/197 [30:10<03:05, 12.35s/it]"
     ]
    },
    {
     "name": "stdout",
     "output_type": "stream",
     "text": [
      "Processed and saved: C:\\Users\\aknin\\Desktop\\MLproject-main\\Dataset\\BMS_processed\\updated_modified_cleaned_611_Cap_1C_processed.csv\n"
     ]
    },
    {
     "name": "stderr",
     "output_type": "stream",
     "text": [
      "Processing files:  93%|█████████▎| 183/197 [30:11<02:05,  8.99s/it]"
     ]
    },
    {
     "name": "stdout",
     "output_type": "stream",
     "text": [
      "Processed and saved: C:\\Users\\aknin\\Desktop\\MLproject-main\\Dataset\\BMS_processed\\updated_modified_cleaned_611_Charge10_processed.csv\n"
     ]
    },
    {
     "name": "stderr",
     "output_type": "stream",
     "text": [
      "Processing files:  93%|█████████▎| 184/197 [30:12<01:26,  6.64s/it]"
     ]
    },
    {
     "name": "stdout",
     "output_type": "stream",
     "text": [
      "Processed and saved: C:\\Users\\aknin\\Desktop\\MLproject-main\\Dataset\\BMS_processed\\updated_modified_cleaned_611_Charge11_processed.csv\n"
     ]
    },
    {
     "name": "stderr",
     "output_type": "stream",
     "text": [
      "Processing files:  94%|█████████▍| 185/197 [30:14<01:00,  5.05s/it]"
     ]
    },
    {
     "name": "stdout",
     "output_type": "stream",
     "text": [
      "Processed and saved: C:\\Users\\aknin\\Desktop\\MLproject-main\\Dataset\\BMS_processed\\updated_modified_cleaned_611_Charge12_processed.csv\n"
     ]
    },
    {
     "name": "stderr",
     "output_type": "stream",
     "text": [
      "Processing files:  94%|█████████▍| 186/197 [30:15<00:43,  3.94s/it]"
     ]
    },
    {
     "name": "stdout",
     "output_type": "stream",
     "text": [
      "Processed and saved: C:\\Users\\aknin\\Desktop\\MLproject-main\\Dataset\\BMS_processed\\updated_modified_cleaned_611_Charge13_processed.csv\n"
     ]
    },
    {
     "name": "stderr",
     "output_type": "stream",
     "text": [
      "Processing files:  95%|█████████▍| 187/197 [30:16<00:31,  3.13s/it]"
     ]
    },
    {
     "name": "stdout",
     "output_type": "stream",
     "text": [
      "Processed and saved: C:\\Users\\aknin\\Desktop\\MLproject-main\\Dataset\\BMS_processed\\updated_modified_cleaned_611_Charge14_processed.csv\n"
     ]
    },
    {
     "name": "stderr",
     "output_type": "stream",
     "text": [
      "Processing files:  95%|█████████▌| 188/197 [30:18<00:23,  2.57s/it]"
     ]
    },
    {
     "name": "stdout",
     "output_type": "stream",
     "text": [
      "Processed and saved: C:\\Users\\aknin\\Desktop\\MLproject-main\\Dataset\\BMS_processed\\updated_modified_cleaned_611_Charge15_processed.csv\n"
     ]
    },
    {
     "name": "stderr",
     "output_type": "stream",
     "text": [
      "Processing files:  96%|█████████▌| 189/197 [30:19<00:17,  2.13s/it]"
     ]
    },
    {
     "name": "stdout",
     "output_type": "stream",
     "text": [
      "Processed and saved: C:\\Users\\aknin\\Desktop\\MLproject-main\\Dataset\\BMS_processed\\updated_modified_cleaned_611_Charge17_processed.csv\n"
     ]
    },
    {
     "name": "stderr",
     "output_type": "stream",
     "text": [
      "Processing files:  96%|█████████▋| 190/197 [30:20<00:13,  1.87s/it]"
     ]
    },
    {
     "name": "stdout",
     "output_type": "stream",
     "text": [
      "Processed and saved: C:\\Users\\aknin\\Desktop\\MLproject-main\\Dataset\\BMS_processed\\updated_modified_cleaned_611_Charge9_processed.csv\n"
     ]
    },
    {
     "name": "stderr",
     "output_type": "stream",
     "text": [
      "Processing files:  97%|█████████▋| 191/197 [30:39<00:42,  7.13s/it]"
     ]
    },
    {
     "name": "stdout",
     "output_type": "stream",
     "text": [
      "Processed and saved: C:\\Users\\aknin\\Desktop\\MLproject-main\\Dataset\\BMS_processed\\updated_modified_cleaned_611_Mixed3_processed.csv\n"
     ]
    },
    {
     "name": "stderr",
     "output_type": "stream",
     "text": [
      "Processing files:  97%|█████████▋| 192/197 [31:00<00:55, 11.03s/it]"
     ]
    },
    {
     "name": "stdout",
     "output_type": "stream",
     "text": [
      "Processed and saved: C:\\Users\\aknin\\Desktop\\MLproject-main\\Dataset\\BMS_processed\\updated_modified_cleaned_611_Mixed4_processed.csv\n"
     ]
    },
    {
     "name": "stderr",
     "output_type": "stream",
     "text": [
      "Processing files:  98%|█████████▊| 193/197 [31:18<00:53, 13.40s/it]"
     ]
    },
    {
     "name": "stdout",
     "output_type": "stream",
     "text": [
      "Processed and saved: C:\\Users\\aknin\\Desktop\\MLproject-main\\Dataset\\BMS_processed\\updated_modified_cleaned_611_Mixed5_processed.csv\n"
     ]
    },
    {
     "name": "stderr",
     "output_type": "stream",
     "text": [
      "Processing files:  98%|█████████▊| 194/197 [31:38<00:45, 15.09s/it]"
     ]
    },
    {
     "name": "stdout",
     "output_type": "stream",
     "text": [
      "Processed and saved: C:\\Users\\aknin\\Desktop\\MLproject-main\\Dataset\\BMS_processed\\updated_modified_cleaned_611_Mixed6_processed.csv\n"
     ]
    },
    {
     "name": "stderr",
     "output_type": "stream",
     "text": [
      "Processing files:  99%|█████████▉| 195/197 [32:03<00:36, 18.13s/it]"
     ]
    },
    {
     "name": "stdout",
     "output_type": "stream",
     "text": [
      "Processed and saved: C:\\Users\\aknin\\Desktop\\MLproject-main\\Dataset\\BMS_processed\\updated_modified_cleaned_611_Mixed7_processed.csv\n"
     ]
    },
    {
     "name": "stderr",
     "output_type": "stream",
     "text": [
      "Processing files:  99%|█████████▉| 196/197 [32:22<00:18, 18.42s/it]"
     ]
    },
    {
     "name": "stdout",
     "output_type": "stream",
     "text": [
      "Processed and saved: C:\\Users\\aknin\\Desktop\\MLproject-main\\Dataset\\BMS_processed\\updated_modified_cleaned_611_Mixed8_processed.csv\n"
     ]
    },
    {
     "name": "stderr",
     "output_type": "stream",
     "text": [
      "Processing files: 100%|██████████| 197/197 [32:29<00:00,  9.90s/it]"
     ]
    },
    {
     "name": "stdout",
     "output_type": "stream",
     "text": [
      "Processed and saved: C:\\Users\\aknin\\Desktop\\MLproject-main\\Dataset\\BMS_processed\\updated_modified_cleaned_611_PausCycl_processed.csv\n",
      "Successfully processed 194 out of 197 files.\n",
      "Failed files: ['updated_modified_cleaned_551_HWFET', 'updated_modified_cleaned_557_Charge10', 'updated_modified_cleaned_582_LA92']\n"
     ]
    },
    {
     "name": "stderr",
     "output_type": "stream",
     "text": [
      "\n"
     ]
    }
   ],
   "source": [
    "# Function to process a single CSV file\n",
    "def process_file(csv_file_name):\n",
    "    try:\n",
    "        logging.info(f\"Starting processing for: {csv_file_name}\")\n",
    "\n",
    "        # Ensure directories exist\n",
    "        os.makedirs(parsed_data_directory, exist_ok=True)\n",
    "        os.makedirs(processed_data_directory, exist_ok=True)\n",
    "        os.makedirs(parsed_plots_directory, exist_ok=True)\n",
    "        os.makedirs(processed_plots_directory, exist_ok=True)\n",
    "\n",
    "        # Parsing raw data (check for .csv extension or no extension)\n",
    "        raw_file_path = os.path.join(raw_data_directory, f\"{csv_file_name}.csv\")\n",
    "        if not os.path.exists(raw_file_path):\n",
    "            raw_file_path = os.path.join(raw_data_directory, csv_file_name)  # Try without extension\n",
    "        df = parse_raw_data(raw_file_path)\n",
    "\n",
    "        # Save parsed data\n",
    "        parsed_file_path = os.path.join(parsed_data_directory, f\"{csv_file_name}_parsed.csv\")\n",
    "        df.to_csv(parsed_file_path, index=False)\n",
    "\n",
    "        # Generate plot for parsed data\n",
    "        parsed_plot_file_path = os.path.join(\n",
    "            parsed_plots_directory, f\"{csv_file_name}_parsed_plot.pdf\"\n",
    "        )\n",
    "        generate_and_save_plot(\n",
    "            df,\n",
    "            parsed_plot_file_path,\n",
    "            fig_title=f\"{csv_file_name} Parsed\",\n",
    "            plot_soc=False,\n",
    "        )\n",
    "\n",
    "        # Find a C20 file for pOCV-SOC interpolation functions\n",
    "        c20_file = next((f for f in os.listdir(parsed_data_directory) if \"C20\" in f), None)\n",
    "        if c20_file:\n",
    "            c20_file_path = os.path.join(parsed_data_directory, c20_file)\n",
    "            # Get pOCV-SOC interpolation functions and max capacities\n",
    "            charge_soc_fn, discharge_soc_fn = get_pOCV_SOC_interp_fn(c20_file_path)\n",
    "            max_charge_capacity, max_discharge_capacity = get_max_capacities(\n",
    "                c20_file_path\n",
    "            )\n",
    "\n",
    "            # Calculate cumulative capacity for Coulomb counting\n",
    "            df[\"Time_diff\"] = (\n",
    "                df[time_col].diff().fillna(0) / 60\n",
    "            )  # Time difference in hours\n",
    "            df[\"Cumulative_Capacity_Ah\"] = (df[current_col] * df[\"Time_diff\"]).cumsum()\n",
    "\n",
    "            # Initialize SoC only at the beginning\n",
    "            initial_soc = get_initial_soc(\n",
    "                df, charge_soc_fn, discharge_soc_fn, current_col, voltage_col\n",
    "            )\n",
    "\n",
    "            # Adjust SoC based on cumulative capacity\n",
    "            for index, row in df.iterrows():\n",
    "                cum_capacity = row[\"Cumulative_Capacity_Ah\"]\n",
    "                if row[current_col] < 0:\n",
    "                    soc = initial_soc - (\n",
    "                        abs(cum_capacity) / abs(max_discharge_capacity)\n",
    "                    )\n",
    "                else:\n",
    "                    soc = initial_soc + (cum_capacity / max_charge_capacity)\n",
    "\n",
    "                soc = max(0, min(soc, 1))  # Clamping SoC between 0 and 1\n",
    "                df.loc[index, soc_col] = soc\n",
    "        else:\n",
    "            logging.warning(f\"C20 SOC data file missing in directory: {parsed_data_directory}\")\n",
    "            print(f\"C20 SOC data file missing in directory: {parsed_data_directory}\")\n",
    "\n",
    "        # Apply EMA smoothing to SoC\n",
    "        alpha = 0.1\n",
    "        df[soc_col] = df[soc_col].ewm(alpha=alpha).mean()\n",
    "\n",
    "        # Round time to 1 Hz sampling and remove duplicates\n",
    "        df[\"Rounded_Time\"] = df[time_col_s].round().astype(int)\n",
    "        df_processed = df.drop_duplicates(subset=\"Rounded_Time\")\n",
    "\n",
    "        # Generate and save SOC plot\n",
    "        soc_plot_file_path = os.path.join(\n",
    "            processed_plots_directory, f\"{csv_file_name}_processed_plot.pdf\"\n",
    "        )\n",
    "        generate_and_save_plot(\n",
    "            df_processed,\n",
    "            soc_plot_file_path,\n",
    "            fig_title=f\"{csv_file_name} SOC\",\n",
    "            plot_soc=True,\n",
    "        )\n",
    "\n",
    "        # Save processed data with SOC\n",
    "        processed_file_path = os.path.join(\n",
    "            processed_data_directory, f\"{csv_file_name}_processed.csv\"\n",
    "        )\n",
    "        df_processed.to_csv(processed_file_path, index=False)\n",
    "\n",
    "        logging.info(f\"Completed processing for: {csv_file_name}\")\n",
    "        print(f\"Processed and saved: {processed_file_path}\")\n",
    "        return 1  # Return 1 on successful completion\n",
    "\n",
    "    except Exception as e:\n",
    "        logging.error(f\"Error processing: {csv_file_name} - {e}\")\n",
    "        print(f\"Error processing: {csv_file_name} - {e}\")\n",
    "        return 0  # Return 0 on error\n",
    "\n",
    "# Create a list of all CSV files in datacleaned (case-insensitive check)\n",
    "all_files = os.listdir(raw_data_directory)\n",
    "print(f\"All files in directory: {all_files}\")\n",
    "csv_files = [f.split(\".csv\")[0] for f in all_files if f.lower().endswith(\".csv\")]\n",
    "total_tasks = len(csv_files)\n",
    "print(f\"Total files to process: {total_tasks}\")\n",
    "if total_tasks == 0:\n",
    "    print(\"No CSV files found. Check file extensions or directory path.\")\n",
    "else:\n",
    "    print(f\"Sample CSV files: {csv_files[:5]}\")\n",
    "\n",
    "# Process all files sequentially and track failed files\n",
    "successful_tasks = 0\n",
    "failed_files = []\n",
    "for csv_file in tqdm(csv_files, desc=\"Processing files\"):\n",
    "    result = process_file(csv_file)\n",
    "    if result == 1:\n",
    "        successful_tasks += 1\n",
    "    else:\n",
    "        failed_files.append(csv_file)\n",
    "\n",
    "print(f\"Successfully processed {successful_tasks} out of {total_tasks} files.\")\n",
    "if failed_files:\n",
    "    print(f\"Failed files: {failed_files}\")"
   ]
  },
  {
   "cell_type": "code",
   "execution_count": 30,
   "id": "295656f6",
   "metadata": {},
   "outputs": [
    {
     "name": "stdout",
     "output_type": "stream",
     "text": [
      "Attempting to reprocess 3 failed files: ['updated_modified_cleaned_551_HWFET', 'updated_modified_cleaned_557_Charge10', 'updated_modified_cleaned_582_LA92']\n"
     ]
    },
    {
     "name": "stderr",
     "output_type": "stream",
     "text": [
      "Reprocessing failed files:   0%|          | 0/3 [00:00<?, ?it/s]"
     ]
    },
    {
     "name": "stdout",
     "output_type": "stream",
     "text": [
      "Reprocessing: updated_modified_cleaned_551_HWFET\n"
     ]
    },
    {
     "name": "stderr",
     "output_type": "stream",
     "text": [
      "Reprocessing failed files:  33%|███▎      | 1/3 [00:05<00:11,  5.79s/it]"
     ]
    },
    {
     "name": "stdout",
     "output_type": "stream",
     "text": [
      "Successfully reprocessed and saved: C:\\Users\\aknin\\Desktop\\MLproject-main\\Dataset\\BMS_processed\\updated_modified_cleaned_551_HWFET_processed.csv\n",
      "Reprocessing: updated_modified_cleaned_557_Charge10\n"
     ]
    },
    {
     "name": "stderr",
     "output_type": "stream",
     "text": [
      "Reprocessing failed files:  67%|██████▋   | 2/3 [00:07<00:03,  3.33s/it]"
     ]
    },
    {
     "name": "stdout",
     "output_type": "stream",
     "text": [
      "Successfully reprocessed and saved: C:\\Users\\aknin\\Desktop\\MLproject-main\\Dataset\\BMS_processed\\updated_modified_cleaned_557_Charge10_processed.csv\n",
      "Reprocessing: updated_modified_cleaned_582_LA92\n"
     ]
    },
    {
     "name": "stderr",
     "output_type": "stream",
     "text": [
      "Reprocessing failed files: 100%|██████████| 3/3 [00:45<00:00, 15.23s/it]"
     ]
    },
    {
     "name": "stdout",
     "output_type": "stream",
     "text": [
      "Successfully reprocessed and saved: C:\\Users\\aknin\\Desktop\\MLproject-main\\Dataset\\BMS_processed\\updated_modified_cleaned_582_LA92_processed.csv\n",
      "Successfully reprocessed 3 out of 3 failed files.\n"
     ]
    },
    {
     "name": "stderr",
     "output_type": "stream",
     "text": [
      "\n"
     ]
    }
   ],
   "source": [
    "# Reprocess failed files\n",
    "if failed_files:\n",
    "    print(f\"Attempting to reprocess {len(failed_files)} failed files: {failed_files}\")\n",
    "    reprocessed_successful = 0\n",
    "    for csv_file in tqdm(failed_files, desc=\"Reprocessing failed files\"):\n",
    "        try:\n",
    "            logging.info(f\"Reprocessing: {csv_file}\")\n",
    "            print(f\"Reprocessing: {csv_file}\")\n",
    "\n",
    "            # Ensure directories exist\n",
    "            os.makedirs(parsed_data_directory, exist_ok=True)\n",
    "            os.makedirs(processed_data_directory, exist_ok=True)\n",
    "            os.makedirs(parsed_plots_directory, exist_ok=True)\n",
    "            os.makedirs(processed_plots_directory, exist_ok=True)\n",
    "\n",
    "            # Parsing raw data (check for .csv extension or no extension)\n",
    "            raw_file_path = os.path.join(raw_data_directory, f\"{csv_file}.csv\")\n",
    "            if not os.path.exists(raw_file_path):\n",
    "                raw_file_path = os.path.join(raw_data_directory, csv_file)  # Try without extension\n",
    "            df = parse_raw_data(raw_file_path)\n",
    "\n",
    "            # Save parsed data\n",
    "            parsed_file_path = os.path.join(parsed_data_directory, f\"{csv_file}_parsed.csv\")\n",
    "            df.to_csv(parsed_file_path, index=False)\n",
    "\n",
    "            # Generate plot for parsed data\n",
    "            parsed_plot_file_path = os.path.join(\n",
    "                parsed_plots_directory, f\"{csv_file}_parsed_plot.pdf\"\n",
    "            )\n",
    "            generate_and_save_plot(\n",
    "                df,\n",
    "                parsed_plot_file_path,\n",
    "                fig_title=f\"{csv_file} Parsed\",\n",
    "                plot_soc=False,\n",
    "            )\n",
    "\n",
    "            # Find a C20 file for pOCV-SOC interpolation functions\n",
    "            c20_file = next((f for f in os.listdir(parsed_data_directory) if \"C20\" in f), None)\n",
    "            if c20_file:\n",
    "                c20_file_path = os.path.join(parsed_data_directory, c20_file)\n",
    "                # Get pOCV-SOC interpolation functions and max capacities\n",
    "                charge_soc_fn, discharge_soc_fn = get_pOCV_SOC_interp_fn(c20_file_path)\n",
    "                max_charge_capacity, max_discharge_capacity = get_max_capacities(\n",
    "                    c20_file_path\n",
    "                )\n",
    "\n",
    "                # Calculate cumulative capacity for Coulomb counting\n",
    "                df[\"Time_diff\"] = (\n",
    "                    df[time_col].diff().fillna(0) / 60\n",
    "                )  # Time difference in hours\n",
    "                df[\"Cumulative_Capacity_Ah\"] = (df[current_col] * df[\"Time_diff\"]).cumsum()\n",
    "\n",
    "                # Initialize SoC only at the beginning\n",
    "                initial_soc = get_initial_soc(\n",
    "                    df, charge_soc_fn, discharge_soc_fn, current_col, voltage_col\n",
    "                )\n",
    "\n",
    "                # Adjust SoC based on cumulative capacity\n",
    "                for index, row in df.iterrows():\n",
    "                    cum_capacity = row[\"Cumulative_Capacity_Ah\"]\n",
    "                    if row[current_col] < 0:\n",
    "                        soc = initial_soc - (\n",
    "                            abs(cum_capacity) / abs(max_discharge_capacity)\n",
    "                        )\n",
    "                    else:\n",
    "                        soc = initial_soc + (cum_capacity / max_charge_capacity)\n",
    "\n",
    "                    soc = max(0, min(soc, 1))  # Clamping SoC between 0 and 1\n",
    "                    df.loc[index, soc_col] = soc\n",
    "            else:\n",
    "                logging.warning(f\"C20 SOC data file missing in directory: {parsed_data_directory}\")\n",
    "                print(f\"C20 SOC data file missing in directory: {parsed_data_directory}\")\n",
    "                # Continue without SoC calculation if C20 file is missing\n",
    "                df[soc_col] = 0  # Set a default value or handle as needed\n",
    "\n",
    "            # Apply EMA smoothing to SoC (if calculated)\n",
    "            if soc_col in df.columns and not df[soc_col].isna().all():\n",
    "                alpha = 0.1\n",
    "                df[soc_col] = df[soc_col].ewm(alpha=alpha).mean()\n",
    "            else:\n",
    "                print(f\"Skipping SoC smoothing for {csv_file} due to missing SoC data.\")\n",
    "\n",
    "            # Round time to 1 Hz sampling and remove duplicates\n",
    "            df[\"Rounded_Time\"] = df[time_col_s].round().astype(int)\n",
    "            df_processed = df.drop_duplicates(subset=\"Rounded_Time\")\n",
    "\n",
    "            # Generate and save SOC plot\n",
    "            soc_plot_file_path = os.path.join(\n",
    "                processed_plots_directory, f\"{csv_file}_processed_plot.pdf\"\n",
    "            )\n",
    "            generate_and_save_plot(\n",
    "                df_processed,\n",
    "                soc_plot_file_path,\n",
    "                fig_title=f\"{csv_file} SOC\",\n",
    "                plot_soc=(soc_col in df.columns and not df[soc_col].isna().all()),\n",
    "            )\n",
    "\n",
    "            # Save processed data with SOC (or without if not calculated)\n",
    "            processed_file_path = os.path.join(\n",
    "                processed_data_directory, f\"{csv_file}_processed.csv\"\n",
    "            )\n",
    "            df_processed.to_csv(processed_file_path, index=False)\n",
    "\n",
    "            logging.info(f\"Successfully reprocessed: {csv_file}\")\n",
    "            print(f\"Successfully reprocessed and saved: {processed_file_path}\")\n",
    "            reprocessed_successful += 1\n",
    "\n",
    "        except Exception as e:\n",
    "            logging.error(f\"Failed to reprocess: {csv_file} - {e}\")\n",
    "            print(f\"Failed to reprocess: {csv_file} - {e}\")\n",
    "            # Print first few rows of the file for debugging\n",
    "            try:\n",
    "                with open(raw_file_path, 'r') as f:\n",
    "                    lines = f.readlines()[:5]  # Read first 5 lines\n",
    "                    print(f\"First 5 lines of {csv_file}.csv:\")\n",
    "                    for i, line in enumerate(lines, 1):\n",
    "                        print(f\"Line {i}: {line.strip()}\")\n",
    "            except Exception as read_error:\n",
    "                print(f\"Could not read {csv_file} for debugging: {read_error}\")\n",
    "\n",
    "    print(f\"Successfully reprocessed {reprocessed_successful} out of {len(failed_files)} failed files.\")\n",
    "    if reprocessed_successful < len(failed_files):\n",
    "        still_failed = [f for f in failed_files if f not in [csv_file for csv_file in failed_files[:reprocessed_successful]]]\n",
    "        print(f\"Files that still failed: {still_failed}\")\n",
    "else:\n",
    "    print(\"No failed files to reprocess.\")"
   ]
  },
  {
   "cell_type": "code",
   "execution_count": 31,
   "id": "b1808e6f",
   "metadata": {},
   "outputs": [
    {
     "name": "stdout",
     "output_type": "stream",
     "text": [
      "Total processed files found: 197\n",
      "Expected processed files: 197\n",
      "All files processed successfully!\n"
     ]
    }
   ],
   "source": [
    "# Verify the number of processed files\n",
    "processed_files = [f for f in os.listdir(processed_data_directory) if f.endswith(\"_processed.csv\")]\n",
    "print(f\"Total processed files found: {len(processed_files)}\")\n",
    "print(f\"Expected processed files: {total_tasks}\")\n",
    "if len(processed_files) != total_tasks:\n",
    "    print(f\"Discrepancy detected: {total_tasks - len(processed_files)} files were not processed.\")\n",
    "else:\n",
    "    print(\"All files processed successfully!\")"
   ]
  },
  {
   "cell_type": "code",
   "execution_count": null,
   "id": "1b0e6193",
   "metadata": {},
   "outputs": [
    {
     "name": "stdout",
     "output_type": "stream",
     "text": [
      "Directories checked/created: C:\\Users\\aknin\\Desktop\\MLproject-main\\data_Processing\\rawdata, C:\\Users\\aknin\\Desktop\\MLproject-main\\Dataset\\BMS_parsed, C:\\Users\\aknin\\Desktop\\MLproject-main\\Dataset\\BMS_processed, C:\\Users\\aknin\\Desktop\\MLproject-main\\Dataset\\BMS_parsed_plots, C:\\Users\\aknin\\Desktop\\MLproject-main\\Dataset\\BMS_processed_plots\n",
      "Current working directory: c:\\Users\\aknin\\Desktop\\MLproject-main\\data_Processing\n",
      "Raw data directory exists: C:\\Users\\aknin\\Desktop\\MLproject-main\\data_Processing\\rawdata\n",
      "Found 6 total files: ['0degC', '10degC', '25degC', '40degC', 'n10degC']\n",
      "Found 0 CSV files (case-insensitive): []\n",
      "No CSV files found in C:\\Users\\aknin\\Desktop\\MLproject-main\\data_Processing\\rawdata. Please add files or check the path/file extensions.\n",
      "Directories set up successfully.\n"
     ]
    }
   ],
   "source": [
    "# Imports and Setup\n",
    "import os\n",
    "import pandas as pd\n",
    "import matplotlib.pyplot as plt\n",
    "from scipy.interpolate import interp1d\n",
    "from tqdm import tqdm\n",
    "import logging\n",
    "import glob\n",
    "\n",
    "# Set up logging to a file\n",
    "logging.basicConfig(\n",
    "    filename=\"processing_log.log\",\n",
    "    level=logging.INFO,\n",
    "    format=\"%(asctime)s %(levelname)s:%(message)s\",\n",
    ")\n",
    "\n",
    "# Define column names for the DataFrame\n",
    "timestamp_col = \"Timestamp\"\n",
    "time_col = \"Time [min]\"\n",
    "time_col_s = \"Time [s]\"\n",
    "voltage_col = \"Voltage [V]\"\n",
    "current_col = \"Current [A]\"\n",
    "temperature_col = \"Temperature [degC]\"\n",
    "capacity_col = \"Capacity [Ah]\"\n",
    "capacity_cc_col = \"Cumulative_Capacity_Ah\"\n",
    "soc_col = \"SOC [-]\"\n",
    "\n",
    "# Define directory paths (adjust to absolute paths if needed)\n",
    "raw_data_directory = r\"C:\\Users\\aknin\\Desktop\\MLproject-main\\data_Processing\\rawdata\"\n",
    "parsed_data_directory = r\"C:\\Users\\aknin\\Desktop\\MLproject-main\\Dataset\\BMS_parsed\"\n",
    "processed_data_directory = r\"C:\\Users\\aknin\\Desktop\\MLproject-main\\Dataset\\BMS_processed\"\n",
    "parsed_plots_directory = r\"C:\\Users\\aknin\\Desktop\\MLproject-main\\Dataset\\BMS_parsed_plots\"\n",
    "processed_plots_directory = r\"C:\\Users\\aknin\\Desktop\\MLproject-main\\Dataset\\BMS_processed_plots\"\n",
    "\n",
    "# Create directories if they don't exist\n",
    "try:\n",
    "    os.makedirs(raw_data_directory, exist_ok=True)\n",
    "    os.makedirs(parsed_data_directory, exist_ok=True)\n",
    "    os.makedirs(processed_data_directory, exist_ok=True)\n",
    "    os.makedirs(parsed_plots_directory, exist_ok=True)\n",
    "    os.makedirs(processed_plots_directory, exist_ok=True)\n",
    "    print(f\"Directories checked/created: {raw_data_directory}, {parsed_data_directory}, {processed_data_directory}, {parsed_plots_directory}, {processed_plots_directory}\")\n",
    "except PermissionError as e:\n",
    "    print(f\"Permission denied creating directories: {e}. Run Jupyter as administrator or use a writable directory.\")\n",
    "except Exception as e:\n",
    "    print(f\"Error creating directories: {e}\")\n",
    "\n",
    "# Check current working directory\n",
    "print(\"Current working directory:\", os.getcwd())\n",
    "\n",
    "# Debug: Check if raw_data_directory exists and list its contents\n",
    "full_raw_path = os.path.abspath(raw_data_directory)\n",
    "if os.path.exists(full_raw_path):\n",
    "    print(f\"Raw data directory exists: {full_raw_path}\")\n",
    "    all_files = os.listdir(full_raw_path)\n",
    "    csv_files = glob.glob(os.path.join(full_raw_path, \"*.csv\")) + glob.glob(os.path.join(full_raw_path, \"*.CSV\"))\n",
    "    print(f\"Found {len(all_files)} total files: {all_files[:5]}\")\n",
    "    print(f\"Found {len(csv_files)} CSV files (case-insensitive): {csv_files[:5]}\")\n",
    "    if not csv_files:\n",
    "        print(f\"No CSV files found in {full_raw_path}. Please add files or check the path/file extensions.\")\n",
    "else:\n",
    "    print(f\"Error: Raw data directory does not exist: {full_raw_path}. Check the path or create the directory.\")\n",
    "\n",
    "print(\"Directories set up successfully.\")"
   ]
  },
  {
   "cell_type": "markdown",
   "id": "551d5707",
   "metadata": {},
   "source": [
    "Battery SOC Prediction - Long Short Term Memory (LSTM) checkpoints\n"
   ]
  },
  {
   "cell_type": "code",
   "execution_count": 4,
   "id": "626f1fe1",
   "metadata": {},
   "outputs": [
    {
     "name": "stderr",
     "output_type": "stream",
     "text": [
      "c:\\Users\\aknin\\AppData\\Local\\Programs\\Python\\Python311\\Lib\\site-packages\\tqdm\\auto.py:21: TqdmWarning: IProgress not found. Please update jupyter and ipywidgets. See https://ipywidgets.readthedocs.io/en/stable/user_install.html\n",
      "  from .autonotebook import tqdm as notebook_tqdm\n"
     ]
    },
    {
     "name": "stdout",
     "output_type": "stream",
     "text": [
      "Training files: {'549_C20DisCh_processed.csv', '549_Dis_2C_processed.csv', '607_HPPC_processed.csv', '571_Mixed4_processed.csv', '575_C20DisCh_processed.csv', '596_Charge5_processed.csv', '611_Mixed5_processed.csv', '562_Charge16_processed.csv', '589_LA92_processed.csv', '604_Charge15_processed.csv', '601_Charge7_processed.csv', '551_Charge3_processed.csv', '552_PausCycl_processed.csv', '552_Mixed6_processed.csv', '576_Cap_1C_processed.csv', '576_Charge4_processed.csv', '571_Charge15_processed.csv', '576_Charge3_processed.csv', '551_Charge1_processed.csv', '610_Mixed2_processed.csv', '562_Charge10_processed.csv', '610_Charge3_processed.csv', '611_Mixed6_processed.csv', '596_Cap_1C_processed.csv', '552_Charge10_processed.csv', '575_Dis_0p5C_processed.csv', '590_Charge13_processed.csv', '604_Mixed8_processed.csv', '610_US06_processed.csv', '571_Charge13_processed.csv', '596_Charge1_processed.csv', '611_Cap_1C_processed.csv', '602_Charge17_processed.csv', '604_Charge9_processed.csv', '551_Cap_1C_processed.csv', '551_Charge6_processed.csv', '556_Charge7_processed.csv', '589_Charge7_processed.csv', '596_LA92_processed.csv', '611_Mixed3_processed.csv', '556_Mixed2_processed.csv', '610_Cap_1C_processed.csv', '589_Charge2_processed.csv', '602_Charge10_processed.csv', '604_PausCycl_processed.csv', '602_Mixed5_processed.csv', '589_Charge8_processed.csv', '611_Charge10_processed.csv', '562_Charge15_processed.csv', '552_Mixed3_processed.csv', '590_Charge10_processed.csv', '590_Mixed5_processed.csv', '552_Cap_1C_processed.csv', '567_Charge6_processed.csv', '593_Dis_2C_processed.csv', '610_Charge4_processed.csv', '590_Mixed8_processed.csv', '551_Charge8_processed.csv', '562_Charge14_processed.csv', '571_Charge10_processed.csv', '551_LA92_processed.csv', '589_Charge1_processed.csv', '552_Mixed7_processed.csv', '571_Mixed6_processed.csv', '585_Dis_0p5C_processed.csv', '557_Cap_1C_processed.csv', '556_Charge1_processed.csv', '607_Dis_0p5C_processed.csv', '576_HWFET_processed.csv', '601_Charge6_processed.csv', '571_PausCycl_processed.csv', '610_UDDS_processed.csv', '596_HWFET_processed.csv', '604_Mixed6_processed.csv', '552_Charge9_processed.csv', '601_Mixed2_processed.csv', '556_Charge6_processed.csv', '552_Charge12_processed.csv', '557_Mixed3_processed.csv', '571_Charge12_processed.csv', '596_UDDS_processed.csv', '571_Mixed7_processed.csv', '562_Charge12_processed.csv', '610_Charge7_processed.csv', '610_Charge1_processed.csv', '567_Charge7_processed.csv', '611_Charge9_processed.csv', '571_Charge16_processed.csv', '604_Mixed3_processed.csv', '611_PausCycl_processed.csv', '585_C20DisCh_processed.csv', '607_C20DisCh_processed.csv', '549_Dis_0p5C_processed.csv', '567_Mixed2_processed.csv', '575_Dis_2C_processed.csv', '611_Charge12_processed.csv', '590_Charge12_processed.csv', '571_Cap_1C_processed.csv', '590_Charge16_processed.csv', '551_UDDS_processed.csv', '593_Dis_0p5C_processed.csv', '610_LA92_processed.csv', '555_Dis_2C_processed.csv', '589_US06_processed.csv', '556_Charge8_processed.csv', '611_Charge14_processed.csv', '590_Charge14_processed.csv', '604_Charge13_processed.csv', '604_Mixed7_processed.csv', '549_Charge_processed.csv', '552_Mixed5_processed.csv', '556_LA92_processed.csv', '562_Mixed5_processed.csv', '551_Charge2_processed.csv', '576_UDDS_processed.csv', '556_HWFET_processed.csv', '589_Mixed2_processed.csv', '562_Mixed8_processed.csv', '610_HWFET_processed.csv', '562_Charge11_processed.csv', '555_HPPC_processed.csv', '562_Charge13_processed.csv', '552_Mixed4_processed.csv', '562_Mixed6_processed.csv', '611_Mixed4_processed.csv', '551_Charge4_processed.csv', '611_Mixed8_processed.csv', '576_Charge1_processed.csv', '610_Charge8_processed.csv', '589_Charge3_processed.csv', '557_Charge9_processed.csv', '552_Charge15_processed.csv', '556_Charge4_processed.csv', '556_Mixed1_processed.csv', '610_Mixed1_processed.csv', '589_Cap_1C_processed.csv', '593_HPPC_processed.csv', '596_Charge4_processed.csv', '556_US06_processed.csv', '552_Mixed8_processed.csv', '576_Charge2_processed.csv', '549_HPPC_processed.csv', '610_Charge5_processed.csv', '602_Charge12_processed.csv', '593_C20DisCh_processed.csv', '589_Charge6_processed.csv', '590_Mixed7_processed.csv', '551_Charge7_processed.csv', '611_Charge13_processed.csv', '552_Charge13_processed.csv', '571_Mixed5_processed.csv', '604_Charge17_processed.csv', '590_Mixed4_processed.csv', '590_PausCycl_processed.csv', '611_Charge17_processed.csv', '590_Charge11_processed.csv', '567_US06_processed.csv', '604_Charge16_processed.csv', '556_Charge2_processed.csv', '556_UDDS_processed.csv', '607_Dis_2C_processed.csv', '589_Charge4_processed.csv', '571_Mixed8_processed.csv', '610_Charge2_processed.csv'}\n",
      "\n",
      "Validation files: {'551_Mixed2_processed.csv', '602_Cap_1C_processed.csv', '601_Mixed1_processed.csv', '611_Charge11_processed.csv', '556_Charge3_processed.csv', '562_Mixed4_processed.csv', '556_Charge5_processed.csv', '589_Charge5_processed.csv', '596_Charge2_processed.csv', '585_HPPC_processed.csv', '601_US06_processed.csv', '604_Charge10_processed.csv', '567_Mixed1_processed.csv', '589_HWFET_processed.csv', '610_Charge6_processed.csv', '551_US06_processed.csv', '604_Charge14_processed.csv', '552_Charge14_processed.csv', '589_UDDS_processed.csv', '555_Dis_0p5C_processed.csv'}\n",
      "\n",
      "Testing files: {'562_Mixed7_processed.csv', '571_Charge11_processed.csv', '590_Charge15_processed.csv', '590_Mixed6_processed.csv', '575_HPPC_processed.csv', '551_Mixed1_processed.csv', '611_Charge15_processed.csv', '585_Dis_2C_processed.csv', '611_Mixed7_processed.csv', '552_Charge11_processed.csv', '601_Charge8_processed.csv', '551_Charge5_processed.csv', '596_Charge3_processed.csv', '602_Charge11_processed.csv', '571_Charge14_processed.csv', '555_C20DisCh_processed.csv', '567_Charge8_processed.csv', '602_Mixed4_processed.csv', '552_Charge16_processed.csv', '562_PausCycl_processed.csv', '589_Mixed1_processed.csv'}\n"
     ]
    }
   ],
   "source": [
    "import os\n",
    "import pandas as pd\n",
    "import numpy as np\n",
    "import torch\n",
    "import torch.nn as nn\n",
    "import torch.optim as optim\n",
    "from torch.utils.data import Dataset, DataLoader, random_split\n",
    "import matplotlib.pyplot as plt\n",
    "from sklearn.model_selection import train_test_split\n",
    "from sklearn.preprocessing import StandardScaler\n",
    "import optuna\n",
    "\n",
    "PROCESSED_DATA_DIR = r'C:\\Users\\aknin\\Desktop\\MLproject-main\\data_Processing\\Dataset\\BMS_processed'\n",
    "FEATURE_COLS = ['Voltage [V]', 'Current [A]', 'Temperature [degC]', 'Capacity [Ah]']\n",
    "LABEL_COL = 'SOC [-]'\n",
    "BATCH_SIZE = 64\n",
    "EPOCHS = 5\n",
    "LEARNING_RATE = 0.001\n",
    "SPLIT_RATIO = 0.2\n",
    "SEQUENCE_LENGTH = 50  \n",
    "device = torch.device(\"cuda:0\" if torch.cuda.is_available() else \"cpu\")\n",
    "\n",
    "# Function to load data\n",
    "def load_data(directory, temperatures):\n",
    "    frames = []\n",
    "    norm_settings = {\n",
    "        'Voltage [V]': (2.5, 4.2),\n",
    "        'Current [A]': (-20, 20),\n",
    "        'Temperature [degC]': (-30, 50),\n",
    "        'Capacity [Ah]': (-3.5, 3.5)\n",
    "    }\n",
    "    \n",
    "    for temp_folder in os.listdir(directory):\n",
    "        if temp_folder in temperatures:\n",
    "            temp_path = os.path.join(directory, temp_folder)\n",
    "            for file in os.listdir(temp_path):\n",
    "                if file.endswith('.csv'):\n",
    "                    df = pd.read_csv(os.path.join(temp_path, file))\n",
    "                    df['SourceFile'] = file \n",
    "                    # Apply normalization using the norm_settings\n",
    "                    for col, (min_val, max_val) in norm_settings.items():\n",
    "                        df[col] = (df[col] - min_val) / (max_val - min_val) * 2 - 1\n",
    "                    frames.append(df)\n",
    "    return pd.concat(frames, ignore_index=True)\n",
    "\n",
    "# Custom dataset class for LSTM\n",
    "class BatteryDatasetLSTM(Dataset):\n",
    "    norm_settings = {\n",
    "        'Voltage [V]': (2.5, 4.2),\n",
    "        'Current [A]': (-20, 20),\n",
    "        'Temperature [degC]': (-30, 50),\n",
    "        'Capacity [Ah]': (-3.5, 3.5)\n",
    "    }\n",
    "    \n",
    "    def __init__(self, dataframe, sequence_length=50):\n",
    "        self.sequence_length = sequence_length\n",
    "        # Ensure FEATURE_COLS has the same columns as norm_settings and in the same order\n",
    "        self.features = dataframe[FEATURE_COLS].values.astype(np.float32)\n",
    "        self.labels = dataframe['SOC [-]'].values.astype(np.float32)\n",
    "        self.filenames = dataframe['SourceFile'].values \n",
    "        \n",
    "        # Normalize features\n",
    "        for i, col in enumerate(FEATURE_COLS):\n",
    "            min_val, max_val = self.norm_settings[col]\n",
    "            self.features[:, i] = (self.features[:, i] - min_val) / (max_val - min_val) * 2 - 1\n",
    "\n",
    "    def __len__(self):\n",
    "        return len(self.features) - self.sequence_length\n",
    "\n",
    "    def __getitem__(self, idx):\n",
    "        idx_end = idx + self.sequence_length\n",
    "        sequence = self.features[idx:idx_end]\n",
    "        label = self.labels[idx_end - 1]\n",
    "        filename = self.filenames[idx_end - 1]  \n",
    "\n",
    "        # Convert to PyTorch tensors and then to float32\n",
    "        sequence = torch.tensor(sequence, dtype=torch.float32)\n",
    "        label = torch.tensor(label, dtype=torch.float32)\n",
    "        return sequence, label, filename \n",
    "    \n",
    "    def get_unique_filenames(self):\n",
    "        return set(self.filenames)\n",
    "    \n",
    "    def get_times(self):\n",
    "        return self.times\n",
    "\n",
    "# LSTM Model\n",
    "class SoCLSTM(nn.Module):\n",
    "    def __init__(self, input_size, hidden_size, num_layers):\n",
    "        super(SoCLSTM, self).__init__()\n",
    "        self.hidden_size = hidden_size\n",
    "        self.num_layers = num_layers\n",
    "        self.lstm = nn.LSTM(input_size, hidden_size, num_layers, batch_first=True)\n",
    "        self.fc = nn.Linear(hidden_size, 1)\n",
    "\n",
    "    def forward(self, x):\n",
    "        h0 = torch.zeros(self.num_layers, x.size(0), self.hidden_size, dtype=x.dtype, device=x.device)\n",
    "        c0 = torch.zeros(self.num_layers, x.size(0), self.hidden_size, dtype=x.dtype, device=x.device)\n",
    "        out, _ = self.lstm(x, (h0, c0))\n",
    "        out = self.fc(out[:, -1, :])\n",
    "        out = torch.sigmoid(out) \n",
    "        return out\n",
    "\n",
    "# Training loop with validation\n",
    "def train_and_validate(model, criterion, optimizer, train_loader, val_loader, epochs, device):\n",
    "    history = {'train_loss': [], 'val_loss': []}\n",
    "    \n",
    "    for epoch in range(epochs):\n",
    "        model.train()\n",
    "        running_loss = 0.0\n",
    "        for sequences, labels, _ in train_loader:  \n",
    "            sequences, labels = sequences.to(device), labels.to(device)\n",
    "            optimizer.zero_grad()\n",
    "            outputs = model(sequences)\n",
    "            loss = criterion(outputs.squeeze(), labels)\n",
    "            loss.backward()\n",
    "            torch.nn.utils.clip_grad_norm_(model.parameters(), max_norm=1)\n",
    "            optimizer.step()\n",
    "            running_loss += loss.item()\n",
    "        \n",
    "        train_loss = running_loss / len(train_loader)\n",
    "        history['train_loss'].append(train_loss)\n",
    "\n",
    "        model.eval()\n",
    "        val_loss = 0.0\n",
    "        with torch.no_grad():\n",
    "            for sequences, labels, _ in val_loader:  \n",
    "                sequences, labels = sequences.to(device), labels.to(device)\n",
    "                outputs = model(sequences)\n",
    "                loss = criterion(outputs.squeeze(), labels)\n",
    "                val_loss += loss.item()\n",
    "\n",
    "        val_loss = val_loss / len(val_loader)\n",
    "        history['val_loss'].append(val_loss)\n",
    "\n",
    "        print(f'Epoch {epoch + 1}/{epochs}, Train Loss: {train_loss}, Validation Loss: {val_loss}')\n",
    "\n",
    "    return history\n",
    "\n",
    "\n",
    "temperatures_to_process = ['25degC', '0degC', 'n10degC', 'n20degC', '10degC', '40degC']   \n",
    "data = load_data(PROCESSED_DATA_DIR, temperatures_to_process)\n",
    "scaler = StandardScaler()\n",
    "window_size = 5  \n",
    "\n",
    "# Apply a moving average filter to your features\n",
    "smoothed_data = data[FEATURE_COLS].rolling(window=window_size, min_periods=1).mean()\n",
    "\n",
    "# Now, the 'smoothed_data' DataFrame contains the smoothed features\n",
    "# Replace the original features with the smoothed features\n",
    "#data[FEATURE_COLS] = smoothed_data\n",
    "\n",
    "data[FEATURE_COLS] = scaler.fit_transform(data[FEATURE_COLS])  # Standardize features\n",
    "dataset = BatteryDatasetLSTM(data)\n",
    "\n",
    "# Define the list of unique file names\n",
    "unique_files = list(set(data['SourceFile']))\n",
    "\n",
    "# Split the list of unique files into train_files and temp_files\n",
    "train_files, temp_files = train_test_split(unique_files, test_size=0.2, random_state=42)\n",
    "\n",
    "# Split the remaining temp_files into val_files and test_files\n",
    "val_files, test_files = train_test_split(temp_files, test_size=0.5, random_state=42)\n",
    "\n",
    "# Create training, validation, and testing datasets based on the file names\n",
    "train_dataset = BatteryDatasetLSTM(data[data['SourceFile'].isin(train_files)])\n",
    "val_dataset = BatteryDatasetLSTM(data[data['SourceFile'].isin(val_files)])\n",
    "test_dataset = BatteryDatasetLSTM(data[data['SourceFile'].isin(test_files)])\n",
    "\n",
    "# Data loaders for training, validation, and testing\n",
    "train_loader = DataLoader(train_dataset, batch_size=BATCH_SIZE, shuffle=True)\n",
    "val_loader = DataLoader(val_dataset, batch_size=BATCH_SIZE, shuffle=False)\n",
    "test_loader = DataLoader(test_dataset, batch_size=BATCH_SIZE, shuffle=False)\n",
    "\n",
    "# Print file names used in training, validation, and testing\n",
    "train_files = train_dataset.get_unique_filenames()\n",
    "val_files = val_dataset.get_unique_filenames()\n",
    "test_files = test_dataset.get_unique_filenames()\n",
    "\n",
    "train_files_sorted = sorted(train_files)\n",
    "val_files_sorted = sorted(val_files)\n",
    "test_files_sorted = sorted(test_files)\n",
    "\n",
    "print(\"Training files:\", train_files)\n",
    "print(\"\\nValidation files:\", val_files)\n",
    "print(\"\\nTesting files:\", test_files)"
   ]
  },
  {
   "cell_type": "code",
   "execution_count": 1,
   "id": "ea30aa74",
   "metadata": {},
   "outputs": [
    {
     "name": "stdout",
     "output_type": "stream",
     "text": [
      "File splits saved to C:\\Users\\aknin\\Desktop\\MLproject-main\\file_splits.json\n"
     ]
    }
   ],
   "source": [
    "import json\n",
    "import os\n",
    "\n",
    "# Define the save path\n",
    "save_path = os.path.join(r\"C:\\Users\\aknin\\Desktop\\MLproject-main\", \"file_splits.json\")\n",
    "\n",
    "# Define the file splits based on your provided data\n",
    "file_splits = {\n",
    "    \"train_files\": [\n",
    "        \"549_C20DisCh_processed.csv\", \"549_Dis_2C_processed.csv\", \"607_HPPC_processed.csv\",\n",
    "        \"571_Mixed4_processed.csv\", \"575_C20DisCh_processed.csv\", \"596_Charge5_processed.csv\",\n",
    "        \"611_Mixed5_processed.csv\", \"562_Charge16_processed.csv\", \"589_LA92_processed.csv\",\n",
    "        \"604_Charge15_processed.csv\", \"601_Charge7_processed.csv\", \"551_Charge3_processed.csv\",\n",
    "        \"552_PausCycl_processed.csv\", \"552_Mixed6_processed.csv\", \"576_Cap_1C_processed.csv\",\n",
    "        \"576_Charge4_processed.csv\", \"571_Charge15_processed.csv\", \"576_Charge3_processed.csv\",\n",
    "        \"551_Charge1_processed.csv\", \"610_Mixed2_processed.csv\", \"562_Charge10_processed.csv\",\n",
    "        \"610_Charge3_processed.csv\", \"611_Mixed6_processed.csv\", \"596_Cap_1C_processed.csv\",\n",
    "        \"552_Charge10_processed.csv\", \"575_Dis_0p5C_processed.csv\", \"590_Charge13_processed.csv\",\n",
    "        \"604_Mixed8_processed.csv\", \"610_US06_processed.csv\", \"571_Charge13_processed.csv\",\n",
    "        \"596_Charge1_processed.csv\", \"611_Cap_1C_processed.csv\", \"602_Charge17_processed.csv\",\n",
    "        \"604_Charge9_processed.csv\", \"551_Cap_1C_processed.csv\", \"551_Charge6_processed.csv\",\n",
    "        \"556_Charge7_processed.csv\", \"589_Charge7_processed.csv\", \"596_LA92_processed.csv\",\n",
    "        \"611_Mixed3_processed.csv\", \"556_Mixed2_processed.csv\", \"610_Cap_1C_processed.csv\",\n",
    "        \"589_Charge2_processed.csv\", \"602_Charge10_processed.csv\", \"604_PausCycl_processed.csv\",\n",
    "        \"602_Mixed5_processed.csv\", \"589_Charge8_processed.csv\", \"611_Charge10_processed.csv\",\n",
    "        \"562_Charge15_processed.csv\", \"552_Mixed3_processed.csv\", \"590_Charge10_processed.csv\",\n",
    "        \"590_Mixed5_processed.csv\", \"552_Cap_1C_processed.csv\", \"567_Charge6_processed.csv\",\n",
    "        \"593_Dis_2C_processed.csv\", \"610_Charge4_processed.csv\", \"590_Mixed8_processed.csv\",\n",
    "        \"551_Charge8_processed.csv\", \"562_Charge14_processed.csv\", \"571_Charge10_processed.csv\",\n",
    "        \"551_LA92_processed.csv\", \"589_Charge1_processed.csv\", \"552_Mixed7_processed.csv\",\n",
    "        \"571_Mixed6_processed.csv\", \"585_Dis_0p5C_processed.csv\", \"557_Cap_1C_processed.csv\",\n",
    "        \"556_Charge1_processed.csv\", \"607_Dis_0p5C_processed.csv\", \"576_HWFET_processed.csv\",\n",
    "        \"601_Charge6_processed.csv\", \"571_PausCycl_processed.csv\", \"610_UDDS_processed.csv\",\n",
    "        \"596_HWFET_processed.csv\", \"604_Mixed6_processed.csv\", \"552_Charge9_processed.csv\",\n",
    "        \"601_Mixed2_processed.csv\", \"556_Charge6_processed.csv\", \"552_Charge12_processed.csv\",\n",
    "        \"557_Mixed3_processed.csv\", \"571_Charge12_processed.csv\", \"596_UDDS_processed.csv\",\n",
    "        \"571_Mixed7_processed.csv\", \"562_Charge12_processed.csv\", \"610_Charge7_processed.csv\",\n",
    "        \"610_Charge1_processed.csv\", \"567_Charge7_processed.csv\", \"611_Charge9_processed.csv\",\n",
    "        \"571_Charge16_processed.csv\", \"604_Mixed3_processed.csv\", \"611_PausCycl_processed.csv\",\n",
    "        \"585_C20DisCh_processed.csv\", \"607_C20DisCh_processed.csv\", \"549_Dis_0p5C_processed.csv\",\n",
    "        \"567_Mixed2_processed.csv\", \"575_Dis_2C_processed.csv\", \"611_Charge12_processed.csv\",\n",
    "        \"590_Charge12_processed.csv\", \"571_Cap_1C_processed.csv\", \"590_Charge16_processed.csv\",\n",
    "        \"551_UDDS_processed.csv\", \"593_Dis_0p5C_processed.csv\", \"610_LA92_processed.csv\",\n",
    "        \"555_Dis_2C_processed.csv\", \"589_US06_processed.csv\", \"556_Charge8_processed.csv\",\n",
    "        \"611_Charge14_processed.csv\", \"590_Charge14_processed.csv\", \"604_Charge13_processed.csv\",\n",
    "        \"604_Mixed7_processed.csv\", \"549_Charge_processed.csv\", \"552_Mixed5_processed.csv\",\n",
    "        \"556_LA92_processed.csv\", \"562_Mixed5_processed.csv\", \"551_Charge2_processed.csv\",\n",
    "        \"576_UDDS_processed.csv\", \"556_HWFET_processed.csv\", \"589_Mixed2_processed.csv\",\n",
    "        \"562_Mixed8_processed.csv\", \"610_HWFET_processed.csv\", \"562_Charge11_processed.csv\",\n",
    "        \"555_HPPC_processed.csv\", \"562_Charge13_processed.csv\", \"552_Mixed4_processed.csv\",\n",
    "        \"562_Mixed6_processed.csv\", \"611_Mixed4_processed.csv\", \"551_Charge4_processed.csv\",\n",
    "        \"611_Mixed8_processed.csv\", \"576_Charge1_processed.csv\", \"610_Charge8_processed.csv\",\n",
    "        \"589_Charge3_processed.csv\", \"557_Charge9_processed.csv\", \"552_Charge15_processed.csv\",\n",
    "        \"556_Charge4_processed.csv\", \"556_Mixed1_processed.csv\", \"610_Mixed1_processed.csv\",\n",
    "        \"589_Cap_1C_processed.csv\", \"593_HPPC_processed.csv\", \"596_Charge4_processed.csv\",\n",
    "        \"556_US06_processed.csv\", \"552_Mixed8_processed.csv\", \"576_Charge2_processed.csv\",\n",
    "        \"549_HPPC_processed.csv\", \"610_Charge5_processed.csv\", \"602_Charge12_processed.csv\",\n",
    "        \"593_C20DisCh_processed.csv\", \"589_Charge6_processed.csv\", \"590_Mixed7_processed.csv\",\n",
    "        \"551_Charge7_processed.csv\", \"611_Charge13_processed.csv\", \"552_Charge13_processed.csv\",\n",
    "        \"571_Mixed5_processed.csv\", \"604_Charge17_processed.csv\", \"590_Mixed4_processed.csv\",\n",
    "        \"590_PausCycl_processed.csv\", \"611_Charge17_processed.csv\", \"590_Charge11_processed.csv\",\n",
    "        \"567_US06_processed.csv\", \"604_Charge16_processed.csv\", \"556_Charge2_processed.csv\",\n",
    "        \"556_UDDS_processed.csv\", \"607_Dis_2C_processed.csv\", \"589_Charge4_processed.csv\",\n",
    "        \"571_Mixed8_processed.csv\", \"610_Charge2_processed.csv\"\n",
    "    ],\n",
    "    \"val_files\": [\n",
    "        \"551_Mixed2_processed.csv\", \"602_Cap_1C_processed.csv\", \"601_Mixed1_processed.csv\",\n",
    "        \"611_Charge11_processed.csv\", \"556_Charge3_processed.csv\", \"562_Mixed4_processed.csv\",\n",
    "        \"556_Charge5_processed.csv\", \"589_Charge5_processed.csv\", \"596_Charge2_processed.csv\",\n",
    "        \"585_HPPC_processed.csv\", \"601_US06_processed.csv\", \"604_Charge10_processed.csv\",\n",
    "        \"567_Mixed1_processed.csv\", \"589_HWFET_processed.csv\", \"610_Charge6_processed.csv\",\n",
    "        \"551_US06_processed.csv\", \"604_Charge14_processed.csv\", \"552_Charge14_processed.csv\",\n",
    "        \"589_UDDS_processed.csv\", \"555_Dis_0p5C_processed.csv\"\n",
    "    ],\n",
    "    \"test_files\": [\n",
    "        \"562_Mixed7_processed.csv\", \"571_Charge11_processed.csv\", \"590_Charge15_processed.csv\",\n",
    "        \"590_Mixed6_processed.csv\", \"575_HPPC_processed.csv\", \"551_Mixed1_processed.csv\",\n",
    "        \"611_Charge15_processed.csv\", \"585_Dis_2C_processed.csv\", \"611_Mixed7_processed.csv\",\n",
    "        \"552_Charge11_processed.csv\", \"601_Charge8_processed.csv\", \"551_Charge5_processed.csv\",\n",
    "        \"596_Charge3_processed.csv\", \"602_Charge11_processed.csv\", \"571_Charge14_processed.csv\",\n",
    "        \"555_C20DisCh_processed.csv\", \"567_Charge8_processed.csv\", \"602_Mixed4_processed.csv\",\n",
    "        \"552_Charge16_processed.csv\", \"562_PausCycl_processed.csv\", \"589_Mixed1_processed.csv\"\n",
    "    ]\n",
    "}\n",
    "\n",
    "# Save to JSON\n",
    "with open(save_path, 'w') as f:\n",
    "    json.dump(file_splits, f, indent=4)\n",
    "\n",
    "print(f\"File splits saved to {save_path}\")"
   ]
  },
  {
   "cell_type": "code",
   "execution_count": 3,
   "id": "85842a5d",
   "metadata": {},
   "outputs": [],
   "source": [
    "import torch\n",
    "from torch.utils.data import Dataset\n",
    "\n",
    "class BatteryDatasetLSTM(Dataset):\n",
    "    norm_settings = {\n",
    "        'Voltage [V]': (2.5, 4.2),\n",
    "        'Current [A]': (-20, 20),\n",
    "        'Temperature [degC]': (-30, 50),\n",
    "        'Capacity [Ah]': (-3.5, 3.5)\n",
    "    }\n",
    "    \n",
    "    def __init__(self, dataframe, sequence_length=50):\n",
    "        self.sequence_length = sequence_length\n",
    "        # Ensure FEATURE_COLS has the same columns as norm_settings and in the same order\n",
    "        self.features = dataframe[FEATURE_COLS].values.astype(np.float32)\n",
    "        self.labels = dataframe['SOC [-]'].values.astype(np.float32)\n",
    "        self.filenames = dataframe['SourceFile'].values \n",
    "        \n",
    "        # Normalize features\n",
    "        for i, col in enumerate(FEATURE_COLS):\n",
    "            min_val, max_val = self.norm_settings[col]\n",
    "            self.features[:, i] = (self.features[:, i] - min_val) / (max_val - min_val) * 2 - 1\n",
    "\n",
    "    def __len__(self):\n",
    "        return len(self.features) - self.sequence_length\n",
    "\n",
    "    def __getitem__(self, idx):\n",
    "        idx_end = idx + self.sequence_length\n",
    "        sequence = self.features[idx:idx_end]\n",
    "        label = self.labels[idx_end - 1]\n",
    "        filename = self.filenames[idx_end - 1]  \n",
    "\n",
    "        # Convert to PyTorch tensors and then to float32\n",
    "        sequence = torch.tensor(sequence, dtype=torch.float32)\n",
    "        label = torch.tensor(label, dtype=torch.float32)\n",
    "        return sequence, label, filename \n",
    "    \n",
    "    def get_unique_filenames(self):\n",
    "        return set(self.filenames)"
   ]
  },
  {
   "cell_type": "code",
   "execution_count": 4,
   "id": "a5e290c3",
   "metadata": {},
   "outputs": [],
   "source": [
    "import os\n",
    "import pandas as pd\n",
    "import numpy as np\n",
    "import torch\n",
    "from torch.utils.data import DataLoader\n",
    "\n",
    "PROCESSED_DATA_DIR = r\"C:\\Users\\aknin\\Desktop\\MLproject-main\\data_Processing\\Dataset\\BMS_processed\"\n",
    "FEATURE_COLS = ['Voltage [V]', 'Current [A]', 'Temperature [degC]', 'Capacity [Ah]']\n",
    "LABEL_COL = 'SOC [-]'\n",
    "SEQUENCE_LENGTH = 50  # From your script\n",
    "\n",
    "# Reload data if not available\n",
    "temperatures_to_process = ['25degC', '0degC', 'n10degC', 'n20degC', '10degC', '40degC']\n",
    "def load_data(directory, temperatures):\n",
    "    frames = []\n",
    "    norm_settings = {\n",
    "        'Voltage [V]': (2.5, 4.2),\n",
    "        'Current [A]': (-20, 20),\n",
    "        'Temperature [degC]': (-30, 50),\n",
    "        'Capacity [Ah]': (-3.5, 3.5)\n",
    "    }\n",
    "    for temp_folder in os.listdir(directory):\n",
    "        if temp_folder in temperatures:\n",
    "            temp_path = os.path.join(directory, temp_folder)\n",
    "            for file in os.listdir(temp_path):\n",
    "                if file.endswith('.csv'):\n",
    "                    df = pd.read_csv(os.path.join(temp_path, file))\n",
    "                    df['SourceFile'] = file\n",
    "                    for col, (min_val, max_val) in norm_settings.items():\n",
    "                        df[col] = (df[col] - min_val) / (max_val - min_val) * 2 - 1\n",
    "                    frames.append(df)\n",
    "    return pd.concat(frames, ignore_index=True)\n",
    "\n",
    "data = load_data(PROCESSED_DATA_DIR, temperatures_to_process)"
   ]
  },
  {
   "cell_type": "code",
   "execution_count": 5,
   "id": "3c4f6cf9",
   "metadata": {},
   "outputs": [
    {
     "name": "stdout",
     "output_type": "stream",
     "text": [
      "Loaded train files: ['549_C20DisCh_processed.csv', '549_Charge_processed.csv', '549_Dis_0p5C_processed.csv', '549_Dis_2C_processed.csv', '549_HPPC_processed.csv', '551_Cap_1C_processed.csv', '551_Charge1_processed.csv', '551_Charge2_processed.csv', '551_Charge3_processed.csv', '551_Charge4_processed.csv', '551_Charge6_processed.csv', '551_Charge7_processed.csv', '551_Charge8_processed.csv', '551_LA92_processed.csv', '551_UDDS_processed.csv', '552_Cap_1C_processed.csv', '552_Charge10_processed.csv', '552_Charge12_processed.csv', '552_Charge13_processed.csv', '552_Charge15_processed.csv', '552_Charge9_processed.csv', '552_Mixed3_processed.csv', '552_Mixed4_processed.csv', '552_Mixed5_processed.csv', '552_Mixed6_processed.csv', '552_Mixed7_processed.csv', '552_Mixed8_processed.csv', '552_PausCycl_processed.csv', '555_Dis_2C_processed.csv', '555_HPPC_processed.csv', '556_Charge1_processed.csv', '556_Charge2_processed.csv', '556_Charge4_processed.csv', '556_Charge6_processed.csv', '556_Charge7_processed.csv', '556_Charge8_processed.csv', '556_HWFET_processed.csv', '556_LA92_processed.csv', '556_Mixed1_processed.csv', '556_Mixed2_processed.csv', '556_UDDS_processed.csv', '556_US06_processed.csv', '557_Cap_1C_processed.csv', '557_Charge9_processed.csv', '557_Mixed3_processed.csv', '562_Charge10_processed.csv', '562_Charge11_processed.csv', '562_Charge12_processed.csv', '562_Charge13_processed.csv', '562_Charge14_processed.csv', '562_Charge15_processed.csv', '562_Charge16_processed.csv', '562_Mixed5_processed.csv', '562_Mixed6_processed.csv', '562_Mixed8_processed.csv', '567_Charge6_processed.csv', '567_Charge7_processed.csv', '567_Mixed2_processed.csv', '567_US06_processed.csv', '571_Cap_1C_processed.csv', '571_Charge10_processed.csv', '571_Charge12_processed.csv', '571_Charge13_processed.csv', '571_Charge15_processed.csv', '571_Charge16_processed.csv', '571_Mixed4_processed.csv', '571_Mixed5_processed.csv', '571_Mixed6_processed.csv', '571_Mixed7_processed.csv', '571_Mixed8_processed.csv', '571_PausCycl_processed.csv', '575_C20DisCh_processed.csv', '575_Dis_0p5C_processed.csv', '575_Dis_2C_processed.csv', '576_Cap_1C_processed.csv', '576_Charge1_processed.csv', '576_Charge2_processed.csv', '576_Charge3_processed.csv', '576_Charge4_processed.csv', '576_HWFET_processed.csv', '576_UDDS_processed.csv', '585_C20DisCh_processed.csv', '585_Dis_0p5C_processed.csv', '589_Cap_1C_processed.csv', '589_Charge1_processed.csv', '589_Charge2_processed.csv', '589_Charge3_processed.csv', '589_Charge4_processed.csv', '589_Charge6_processed.csv', '589_Charge7_processed.csv', '589_Charge8_processed.csv', '589_LA92_processed.csv', '589_Mixed2_processed.csv', '589_US06_processed.csv', '590_Charge10_processed.csv', '590_Charge11_processed.csv', '590_Charge12_processed.csv', '590_Charge13_processed.csv', '590_Charge14_processed.csv', '590_Charge16_processed.csv', '590_Mixed4_processed.csv', '590_Mixed5_processed.csv', '590_Mixed7_processed.csv', '590_Mixed8_processed.csv', '590_PausCycl_processed.csv', '593_C20DisCh_processed.csv', '593_Dis_0p5C_processed.csv', '593_Dis_2C_processed.csv', '593_HPPC_processed.csv', '596_Cap_1C_processed.csv', '596_Charge1_processed.csv', '596_Charge4_processed.csv', '596_Charge5_processed.csv', '596_HWFET_processed.csv', '596_LA92_processed.csv', '596_UDDS_processed.csv', '601_Charge6_processed.csv', '601_Charge7_processed.csv', '601_Mixed2_processed.csv', '602_Charge10_processed.csv', '602_Charge12_processed.csv', '602_Charge17_processed.csv', '602_Mixed5_processed.csv', '604_Charge13_processed.csv', '604_Charge15_processed.csv', '604_Charge16_processed.csv', '604_Charge17_processed.csv', '604_Charge9_processed.csv', '604_Mixed3_processed.csv', '604_Mixed6_processed.csv', '604_Mixed7_processed.csv', '604_Mixed8_processed.csv', '604_PausCycl_processed.csv', '607_C20DisCh_processed.csv', '607_Dis_0p5C_processed.csv', '607_Dis_2C_processed.csv', '607_HPPC_processed.csv', '610_Cap_1C_processed.csv', '610_Charge1_processed.csv', '610_Charge2_processed.csv', '610_Charge3_processed.csv', '610_Charge4_processed.csv', '610_Charge5_processed.csv', '610_Charge7_processed.csv', '610_Charge8_processed.csv', '610_HWFET_processed.csv', '610_LA92_processed.csv', '610_Mixed1_processed.csv', '610_Mixed2_processed.csv', '610_UDDS_processed.csv', '610_US06_processed.csv', '611_Cap_1C_processed.csv', '611_Charge10_processed.csv', '611_Charge12_processed.csv', '611_Charge13_processed.csv', '611_Charge14_processed.csv', '611_Charge17_processed.csv', '611_Charge9_processed.csv', '611_Mixed3_processed.csv', '611_Mixed4_processed.csv', '611_Mixed5_processed.csv', '611_Mixed6_processed.csv', '611_Mixed8_processed.csv', '611_PausCycl_processed.csv']\n",
      "Loaded val files: ['551_Mixed2_processed.csv', '551_US06_processed.csv', '552_Charge14_processed.csv', '555_Dis_0p5C_processed.csv', '556_Charge3_processed.csv', '556_Charge5_processed.csv', '562_Mixed4_processed.csv', '567_Mixed1_processed.csv', '585_HPPC_processed.csv', '589_Charge5_processed.csv', '589_HWFET_processed.csv', '589_UDDS_processed.csv', '596_Charge2_processed.csv', '601_Mixed1_processed.csv', '601_US06_processed.csv', '602_Cap_1C_processed.csv', '604_Charge10_processed.csv', '604_Charge14_processed.csv', '610_Charge6_processed.csv', '611_Charge11_processed.csv']\n",
      "Loaded test files: ['551_Charge5_processed.csv', '551_Mixed1_processed.csv', '552_Charge11_processed.csv', '552_Charge16_processed.csv', '555_C20DisCh_processed.csv', '562_Mixed7_processed.csv', '562_PausCycl_processed.csv', '567_Charge8_processed.csv', '571_Charge11_processed.csv', '571_Charge14_processed.csv', '575_HPPC_processed.csv', '585_Dis_2C_processed.csv', '589_Mixed1_processed.csv', '590_Charge15_processed.csv', '590_Mixed6_processed.csv', '596_Charge3_processed.csv', '601_Charge8_processed.csv', '602_Charge11_processed.csv', '602_Mixed4_processed.csv', '611_Charge15_processed.csv', '611_Mixed7_processed.csv']\n"
     ]
    }
   ],
   "source": [
    "def load_file_splits(save_path):\n",
    "    with open(save_path, 'r') as f:\n",
    "        file_splits = json.load(f)\n",
    "    return file_splits['train_files'], file_splits['val_files'], file_splits['test_files']\n",
    "\n",
    "save_path = os.path.join(r\"C:\\Users\\aknin\\Desktop\\MLproject-main\", \"file_splits.json\")\n",
    "train_files_loaded, val_files_loaded, test_files_loaded = load_file_splits(save_path)\n",
    "\n",
    "# Recreate datasets\n",
    "train_dataset = BatteryDatasetLSTM(data[data['SourceFile'].isin(train_files_loaded)])\n",
    "val_dataset = BatteryDatasetLSTM(data[data['SourceFile'].isin(val_files_loaded)])\n",
    "test_dataset = BatteryDatasetLSTM(data[data['SourceFile'].isin(test_files_loaded)])\n",
    "\n",
    "# Recreate data loaders\n",
    "BATCH_SIZE = 64  # From your script\n",
    "train_loader = DataLoader(train_dataset, batch_size=BATCH_SIZE, shuffle=True)\n",
    "val_loader = DataLoader(val_dataset, batch_size=BATCH_SIZE, shuffle=False)\n",
    "test_loader = DataLoader(test_dataset, batch_size=BATCH_SIZE, shuffle=False)\n",
    "\n",
    "# Verify\n",
    "print(\"Loaded train files:\", sorted(train_dataset.get_unique_filenames()))\n",
    "print(\"Loaded val files:\", sorted(val_dataset.get_unique_filenames()))\n",
    "print(\"Loaded test files:\", sorted(test_dataset.get_unique_filenames()))"
   ]
  },
  {
   "cell_type": "code",
   "execution_count": 9,
   "id": "2c409a46",
   "metadata": {},
   "outputs": [],
   "source": [
    "import sys\n",
    "import os\n",
    "sys.path.append(r\"C:\\Users\\aknin\\Desktop\\MLproject-main\")\n",
    "from modeling_and_evaluation.SoCLSTM import SoCLSTM"
   ]
  },
  {
   "cell_type": "code",
   "execution_count": 11,
   "id": "6de6602d",
   "metadata": {},
   "outputs": [],
   "source": [
    "FEATURE_COLS = ['Voltage [V]', 'Current [A]', 'Temperature [degC]', 'Capacity [Ah]']\n",
    "input_size = len(FEATURE_COLS)  # Should be 4"
   ]
  },
  {
   "cell_type": "code",
   "execution_count": 12,
   "id": "1e39bdb2",
   "metadata": {},
   "outputs": [
    {
     "name": "stdout",
     "output_type": "stream",
     "text": [
      "Model initialized on cpu\n"
     ]
    }
   ],
   "source": [
    "device = torch.device(\"cuda:0\" if torch.cuda.is_available() else \"cpu\")\n",
    "model = SoCLSTM(input_size, hidden_size=68, num_layers=2).to(device)\n",
    "print(\"Model initialized on\", device)"
   ]
  },
  {
   "cell_type": "markdown",
   "id": "3c747978",
   "metadata": {},
   "source": [
    "### Réglage des hyperparamètres\n",
    "\n",
    "Ce segment utilise Optuna pour le réglage des hyperparamètres LSTM afin d'optimiser l'estimation de l'état de charge des batteries. Il définit une fonction objective pour suggérer des hyperparamètres, tels que la taille cachée et le nombre de couches, pour le modèle LSTM. Le modèle est entraîné et validé, en privilégiant la minimisation des pertes de validation. Les meilleurs hyperparamètres sont identifiés à partir des essais. Le script inclut une visualisation de l'historique d'optimisation et de l'importance des différents hyperparamètres, offrant ainsi un aperçu du processus de réglage."
   ]
  },
  {
   "cell_type": "code",
   "execution_count": 7,
   "id": "7d6ac6f8",
   "metadata": {},
   "outputs": [
    {
     "name": "stderr",
     "output_type": "stream",
     "text": [
      "[I 2025-06-09 16:02:50,268] A new study created in memory with name: no-name-dfb7091c-452c-4257-87c2-c302e8da5a6a\n"
     ]
    },
    {
     "name": "stdout",
     "output_type": "stream",
     "text": [
      "Epoch 1/5, Train Loss: 0.0026688140727923353, Validation Loss: 0.0005467321642279492\n",
      "Epoch 2/5, Train Loss: 0.0009071029094465718, Validation Loss: 0.0005648677227336797\n",
      "Epoch 3/5, Train Loss: 0.0008434093237326923, Validation Loss: 0.00026926225050413516\n",
      "Epoch 4/5, Train Loss: 0.000741258243087166, Validation Loss: 0.0001318103198880111\n"
     ]
    },
    {
     "name": "stderr",
     "output_type": "stream",
     "text": [
      "[I 2025-06-09 16:14:55,589] Trial 0 finished with value: 0.00010011123462223049 and parameters: {'hidden_size': 24, 'num_layers': 3}. Best is trial 0 with value: 0.00010011123462223049.\n"
     ]
    },
    {
     "name": "stdout",
     "output_type": "stream",
     "text": [
      "Epoch 5/5, Train Loss: 0.000656150849903512, Validation Loss: 0.00010011123462223049\n",
      "Epoch 1/5, Train Loss: 0.002565424506149877, Validation Loss: 0.0002198495552825835\n",
      "Epoch 2/5, Train Loss: 0.0008959875559490357, Validation Loss: 0.0003322081720511387\n",
      "Epoch 3/5, Train Loss: 0.000771124817448527, Validation Loss: 0.00017054517295527025\n",
      "Epoch 4/5, Train Loss: 0.0007640118764465727, Validation Loss: 0.000338322857945796\n"
     ]
    },
    {
     "name": "stderr",
     "output_type": "stream",
     "text": [
      "[I 2025-06-09 16:31:46,265] Trial 1 finished with value: 0.00012452926209708233 and parameters: {'hidden_size': 31, 'num_layers': 4}. Best is trial 0 with value: 0.00010011123462223049.\n"
     ]
    },
    {
     "name": "stdout",
     "output_type": "stream",
     "text": [
      "Epoch 5/5, Train Loss: 0.0006602630443901873, Validation Loss: 0.00012452926209708233\n",
      "Epoch 1/5, Train Loss: 0.002558578769211569, Validation Loss: 0.0002784421608008344\n",
      "Epoch 2/5, Train Loss: 0.0010021020398803709, Validation Loss: 0.00021776349672758611\n",
      "Epoch 3/5, Train Loss: 0.0008729138875526901, Validation Loss: 0.00018303737022823237\n",
      "Epoch 4/5, Train Loss: 0.0007184893009558783, Validation Loss: 0.000152119749544383\n"
     ]
    },
    {
     "name": "stderr",
     "output_type": "stream",
     "text": [
      "[I 2025-06-09 16:42:11,629] Trial 2 finished with value: 0.00016928372912487986 and parameters: {'hidden_size': 77, 'num_layers': 1}. Best is trial 0 with value: 0.00010011123462223049.\n"
     ]
    },
    {
     "name": "stdout",
     "output_type": "stream",
     "text": [
      "Epoch 5/5, Train Loss: 0.0006254911137106461, Validation Loss: 0.00016928372912487986\n",
      "Epoch 1/5, Train Loss: 0.0030205353146030875, Validation Loss: 0.000249216028583632\n",
      "Epoch 2/5, Train Loss: 0.001025025535866113, Validation Loss: 0.00022930030392894786\n",
      "Epoch 3/5, Train Loss: 0.0008063876297397796, Validation Loss: 0.00020340901716065995\n",
      "Epoch 4/5, Train Loss: 0.0007408364060226901, Validation Loss: 0.0002638402343132393\n"
     ]
    },
    {
     "name": "stderr",
     "output_type": "stream",
     "text": [
      "[I 2025-06-09 16:51:26,938] Trial 3 finished with value: 0.00017479674965256765 and parameters: {'hidden_size': 16, 'num_layers': 3}. Best is trial 0 with value: 0.00010011123462223049.\n"
     ]
    },
    {
     "name": "stdout",
     "output_type": "stream",
     "text": [
      "Epoch 5/5, Train Loss: 0.0007290423809125593, Validation Loss: 0.00017479674965256765\n",
      "Epoch 1/5, Train Loss: 0.0023333394064901113, Validation Loss: 0.0002130853152265294\n",
      "Epoch 2/5, Train Loss: 0.0011782908858735072, Validation Loss: 0.00017892712434681713\n",
      "Epoch 3/5, Train Loss: 0.0008631533659392176, Validation Loss: 0.0001726187409456007\n",
      "Epoch 4/5, Train Loss: 0.000773257948433945, Validation Loss: 0.00019582358360813298\n"
     ]
    },
    {
     "name": "stderr",
     "output_type": "stream",
     "text": [
      "[I 2025-06-09 17:06:59,731] Trial 4 finished with value: 0.00017219111502587408 and parameters: {'hidden_size': 54, 'num_layers': 2}. Best is trial 0 with value: 0.00010011123462223049.\n"
     ]
    },
    {
     "name": "stdout",
     "output_type": "stream",
     "text": [
      "Epoch 5/5, Train Loss: 0.0006337200246737479, Validation Loss: 0.00017219111502587408\n",
      "Epoch 1/5, Train Loss: 0.002150447188560303, Validation Loss: 0.00015651810284675384\n",
      "Epoch 2/5, Train Loss: 0.0009071024602817867, Validation Loss: 0.0004841496270385004\n",
      "Epoch 3/5, Train Loss: 0.0007575573119496141, Validation Loss: 0.00019008500056280216\n",
      "Epoch 4/5, Train Loss: 0.0007593281780625756, Validation Loss: 0.0002287995946317508\n"
     ]
    },
    {
     "name": "stderr",
     "output_type": "stream",
     "text": [
      "[I 2025-06-09 17:38:52,868] Trial 5 finished with value: 0.0007370157845399031 and parameters: {'hidden_size': 74, 'num_layers': 4}. Best is trial 0 with value: 0.00010011123462223049.\n"
     ]
    },
    {
     "name": "stdout",
     "output_type": "stream",
     "text": [
      "Epoch 5/5, Train Loss: 0.0006202638393403055, Validation Loss: 0.0007370157845399031\n",
      "Epoch 1/5, Train Loss: 0.002372887643463051, Validation Loss: 0.00020483979799374225\n",
      "Epoch 2/5, Train Loss: 0.0008954097342249611, Validation Loss: 0.00018885748316693784\n",
      "Epoch 3/5, Train Loss: 0.0008080439050338177, Validation Loss: 0.00013626824358691384\n",
      "Epoch 4/5, Train Loss: 0.0007156109642444356, Validation Loss: 0.0006637622340829496\n"
     ]
    },
    {
     "name": "stderr",
     "output_type": "stream",
     "text": [
      "[I 2025-06-09 17:58:04,362] Trial 6 finished with value: 0.00013126328548727985 and parameters: {'hidden_size': 42, 'num_layers': 3}. Best is trial 0 with value: 0.00010011123462223049.\n"
     ]
    },
    {
     "name": "stdout",
     "output_type": "stream",
     "text": [
      "Epoch 5/5, Train Loss: 0.0006475937939344832, Validation Loss: 0.00013126328548727985\n",
      "Epoch 1/5, Train Loss: 0.002743972276171916, Validation Loss: 0.0004554873317278784\n",
      "Epoch 2/5, Train Loss: 0.0009709383252548843, Validation Loss: 0.00027905632351855637\n",
      "Epoch 3/5, Train Loss: 0.0009328131864776463, Validation Loss: 0.00020536043133743902\n",
      "Epoch 4/5, Train Loss: 0.0007732020945396921, Validation Loss: 0.00030111413368416243\n"
     ]
    },
    {
     "name": "stderr",
     "output_type": "stream",
     "text": [
      "[I 2025-06-09 18:05:06,653] Trial 7 finished with value: 0.00026407399822477614 and parameters: {'hidden_size': 45, 'num_layers': 1}. Best is trial 0 with value: 0.00010011123462223049.\n"
     ]
    },
    {
     "name": "stdout",
     "output_type": "stream",
     "text": [
      "Epoch 5/5, Train Loss: 0.0007358085446141249, Validation Loss: 0.00026407399822477614\n",
      "Epoch 1/5, Train Loss: 0.002690334003922486, Validation Loss: 0.00021384072488010136\n",
      "Epoch 2/5, Train Loss: 0.0008846931280709402, Validation Loss: 0.00021734620434805992\n",
      "Epoch 3/5, Train Loss: 0.0007734754219427518, Validation Loss: 0.00015039273222548533\n",
      "Epoch 4/5, Train Loss: 0.0006797229332517074, Validation Loss: 0.00022808938540139358\n"
     ]
    },
    {
     "name": "stderr",
     "output_type": "stream",
     "text": [
      "[I 2025-06-09 18:13:46,110] Trial 8 finished with value: 0.00012421151899215892 and parameters: {'hidden_size': 30, 'num_layers': 2}. Best is trial 0 with value: 0.00010011123462223049.\n"
     ]
    },
    {
     "name": "stdout",
     "output_type": "stream",
     "text": [
      "Epoch 5/5, Train Loss: 0.0006444179388281965, Validation Loss: 0.00012421151899215892\n",
      "Epoch 1/5, Train Loss: 0.00270746803137465, Validation Loss: 0.0014417781665650839\n",
      "Epoch 2/5, Train Loss: 0.0009463051728341292, Validation Loss: 0.00025979526028286606\n",
      "Epoch 3/5, Train Loss: 0.0008586542609256202, Validation Loss: 0.00015560942948264047\n",
      "Epoch 4/5, Train Loss: 0.0007466973066461703, Validation Loss: 0.00019623051436738447\n"
     ]
    },
    {
     "name": "stderr",
     "output_type": "stream",
     "text": [
      "[I 2025-06-09 18:22:38,530] Trial 9 finished with value: 0.00024220554591306768 and parameters: {'hidden_size': 66, 'num_layers': 1}. Best is trial 0 with value: 0.00010011123462223049.\n"
     ]
    },
    {
     "name": "stdout",
     "output_type": "stream",
     "text": [
      "Epoch 5/5, Train Loss: 0.0006713571492797431, Validation Loss: 0.00024220554591306768\n",
      "Best trial: FrozenTrial(number=0, state=1, values=[0.00010011123462223049], datetime_start=datetime.datetime(2025, 6, 9, 16, 2, 50, 358246), datetime_complete=datetime.datetime(2025, 6, 9, 16, 14, 55, 571541), params={'hidden_size': 24, 'num_layers': 3}, user_attrs={}, system_attrs={}, intermediate_values={}, distributions={'hidden_size': IntDistribution(high=80, log=False, low=10, step=1), 'num_layers': IntDistribution(high=4, log=False, low=1, step=1)}, trial_id=0, value=None)\n",
      "Best hyperparameters: {'hidden_size': 24, 'num_layers': 3}\n"
     ]
    },
    {
     "ename": "ValueError",
     "evalue": "Mime type rendering requires nbformat>=4.2.0 but it is not installed",
     "output_type": "error",
     "traceback": [
      "\u001b[31m---------------------------------------------------------------------------\u001b[39m",
      "\u001b[31mValueError\u001b[39m                                Traceback (most recent call last)",
      "\u001b[36mCell\u001b[39m\u001b[36m \u001b[39m\u001b[32mIn[7]\u001b[39m\u001b[32m, line 38\u001b[39m\n\u001b[32m     36\u001b[39m \u001b[38;5;66;03m# Plot optimization history\u001b[39;00m\n\u001b[32m     37\u001b[39m optimization_history = plot_optimization_history(study)\n\u001b[32m---> \u001b[39m\u001b[32m38\u001b[39m \u001b[43moptimization_history\u001b[49m\u001b[43m.\u001b[49m\u001b[43mshow\u001b[49m\u001b[43m(\u001b[49m\u001b[43m)\u001b[49m\n\u001b[32m     40\u001b[39m \u001b[38;5;66;03m# Plot hyperparameter importance\u001b[39;00m\n\u001b[32m     41\u001b[39m param_importances = plot_param_importances(study)\n",
      "\u001b[36mFile \u001b[39m\u001b[32mc:\\Users\\aknin\\AppData\\Local\\Programs\\Python\\Python311\\Lib\\site-packages\\plotly\\basedatatypes.py:3414\u001b[39m, in \u001b[36mBaseFigure.show\u001b[39m\u001b[34m(self, *args, **kwargs)\u001b[39m\n\u001b[32m   3381\u001b[39m \u001b[38;5;250m\u001b[39m\u001b[33;03m\"\"\"\u001b[39;00m\n\u001b[32m   3382\u001b[39m \u001b[33;03mShow a figure using either the default renderer(s) or the renderer(s)\u001b[39;00m\n\u001b[32m   3383\u001b[39m \u001b[33;03mspecified by the renderer argument\u001b[39;00m\n\u001b[32m   (...)\u001b[39m\u001b[32m   3410\u001b[39m \u001b[33;03mNone\u001b[39;00m\n\u001b[32m   3411\u001b[39m \u001b[33;03m\"\"\"\u001b[39;00m\n\u001b[32m   3412\u001b[39m \u001b[38;5;28;01mimport\u001b[39;00m\u001b[38;5;250m \u001b[39m\u001b[34;01mplotly\u001b[39;00m\u001b[34;01m.\u001b[39;00m\u001b[34;01mio\u001b[39;00m\u001b[38;5;250m \u001b[39m\u001b[38;5;28;01mas\u001b[39;00m\u001b[38;5;250m \u001b[39m\u001b[34;01mpio\u001b[39;00m\n\u001b[32m-> \u001b[39m\u001b[32m3414\u001b[39m \u001b[38;5;28;01mreturn\u001b[39;00m \u001b[43mpio\u001b[49m\u001b[43m.\u001b[49m\u001b[43mshow\u001b[49m\u001b[43m(\u001b[49m\u001b[38;5;28;43mself\u001b[39;49m\u001b[43m,\u001b[49m\u001b[43m \u001b[49m\u001b[43m*\u001b[49m\u001b[43margs\u001b[49m\u001b[43m,\u001b[49m\u001b[43m \u001b[49m\u001b[43m*\u001b[49m\u001b[43m*\u001b[49m\u001b[43mkwargs\u001b[49m\u001b[43m)\u001b[49m\n",
      "\u001b[36mFile \u001b[39m\u001b[32mc:\\Users\\aknin\\AppData\\Local\\Programs\\Python\\Python311\\Lib\\site-packages\\plotly\\io\\_renderers.py:425\u001b[39m, in \u001b[36mshow\u001b[39m\u001b[34m(fig, renderer, validate, **kwargs)\u001b[39m\n\u001b[32m    420\u001b[39m     \u001b[38;5;28;01mraise\u001b[39;00m \u001b[38;5;167;01mValueError\u001b[39;00m(\n\u001b[32m    421\u001b[39m         \u001b[33m\"\u001b[39m\u001b[33mMime type rendering requires ipython but it is not installed\u001b[39m\u001b[33m\"\u001b[39m\n\u001b[32m    422\u001b[39m     )\n\u001b[32m    424\u001b[39m \u001b[38;5;28;01mif\u001b[39;00m \u001b[38;5;129;01mnot\u001b[39;00m nbformat \u001b[38;5;129;01mor\u001b[39;00m Version(nbformat.__version__) < Version(\u001b[33m\"\u001b[39m\u001b[33m4.2.0\u001b[39m\u001b[33m\"\u001b[39m):\n\u001b[32m--> \u001b[39m\u001b[32m425\u001b[39m     \u001b[38;5;28;01mraise\u001b[39;00m \u001b[38;5;167;01mValueError\u001b[39;00m(\n\u001b[32m    426\u001b[39m         \u001b[33m\"\u001b[39m\u001b[33mMime type rendering requires nbformat>=4.2.0 but it is not installed\u001b[39m\u001b[33m\"\u001b[39m\n\u001b[32m    427\u001b[39m     )\n\u001b[32m    429\u001b[39m display_jupyter_version_warnings()\n\u001b[32m    431\u001b[39m ipython_display.display(bundle, raw=\u001b[38;5;28;01mTrue\u001b[39;00m)\n",
      "\u001b[31mValueError\u001b[39m: Mime type rendering requires nbformat>=4.2.0 but it is not installed"
     ]
    }
   ],
   "source": [
    "# Define Optuna objective function\n",
    "def objective(trial):\n",
    "    # Suggest hyperparameters\n",
    "    hidden_size = trial.suggest_int('hidden_size', 10, 80)\n",
    "    num_layers = trial.suggest_int('num_layers', 1, 4)\n",
    "\n",
    "    # Instantiate model with suggested hyperparameters\n",
    "    model = SoCLSTM(input_size=len(FEATURE_COLS), hidden_size=hidden_size, num_layers=num_layers).to(device).type(torch.float32)\n",
    "    model.to(device)\n",
    "\n",
    "    # Define your loss function and optimizer with suggested hyperparameters\n",
    "    criterion = nn.MSELoss()\n",
    "    optimizer = optim.Adam(model.parameters(), lr=LEARNING_RATE)\n",
    "\n",
    "    # Call your train and validate function\n",
    "    history = train_and_validate(model, criterion, optimizer, train_loader, val_loader, EPOCHS, device)\n",
    "\n",
    "    # Extract last validation loss\n",
    "    last_val_loss = history['val_loss'][-1]\n",
    "    return last_val_loss\n",
    "\n",
    "# Optuna study\n",
    "study = optuna.create_study(direction='minimize')\n",
    "study.optimize(objective, n_trials=10)\n",
    "\n",
    "# Extract best trial\n",
    "best_trial = study.best_trial\n",
    "print(f\"Best trial: {best_trial}\")\n",
    "\n",
    "best_hyperparams = study.best_trial.params\n",
    "print('Best hyperparameters:', best_hyperparams)\n",
    "\n",
    "# Visualize the optimization process\n",
    "from optuna.visualization import plot_optimization_history, plot_param_importances\n",
    "\n",
    "# Plot optimization history\n",
    "optimization_history = plot_optimization_history(study)\n",
    "optimization_history.show()\n",
    "\n",
    "# Plot hyperparameter importance\n",
    "param_importances = plot_param_importances(study)\n",
    "param_importances.show()"
   ]
  },
  {
   "cell_type": "code",
   "execution_count": 7,
   "id": "8e188a67",
   "metadata": {},
   "outputs": [
    {
     "name": "stdout",
     "output_type": "stream",
     "text": [
      "File exists: True\n"
     ]
    }
   ],
   "source": [
    "import os\n",
    "file_path = r\"C:\\Users\\aknin\\Desktop\\MLproject-main\\modeling_and_evaluation\\SoCLSTM.py\"\n",
    "print(f\"File exists: {os.path.exists(file_path)}\")"
   ]
  },
  {
   "cell_type": "code",
   "execution_count": 10,
   "id": "8beab00d",
   "metadata": {},
   "outputs": [],
   "source": [
    "import sys\n",
    "sys.path.append(r\"C:\\Users\\aknin\\Desktop\\MLproject-main\")"
   ]
  },
  {
   "cell_type": "code",
   "execution_count": 14,
   "id": "7bfd68a6",
   "metadata": {},
   "outputs": [
    {
     "name": "stderr",
     "output_type": "stream",
     "text": [
      "[I 2025-06-09 20:50:05,626] A new study created in memory with name: no-name-2bb270f1-86b6-41cc-a351-3beac2c276dc\n",
      "[I 2025-06-09 20:50:18,422] Trial 0 finished with value: 1.6567442417144775 and parameters: {'hidden_size': 36, 'num_layers': 3}. Best is trial 0 with value: 1.6567442417144775.\n"
     ]
    },
    {
     "name": "stdout",
     "output_type": "stream",
     "text": [
      "Epoch 1/5, Train Loss: 1.2230839654803276, Validation Loss: 1.6275177001953125\n",
      "Epoch 2/5, Train Loss: 1.080790564417839, Validation Loss: 1.63593327999115\n",
      "Epoch 3/5, Train Loss: 0.7639931291341782, Validation Loss: 1.6418430805206299\n",
      "Epoch 4/5, Train Loss: 0.7490778267383575, Validation Loss: 1.6502021551132202\n",
      "Epoch 5/5, Train Loss: 0.755129262804985, Validation Loss: 1.6567442417144775\n",
      "Epoch 1/5, Train Loss: 0.9394476413726807, Validation Loss: 1.5969488620758057\n",
      "Epoch 2/5, Train Loss: 0.8210887908935547, Validation Loss: 1.6191028356552124\n",
      "Epoch 3/5, Train Loss: 0.8723013252019882, Validation Loss: 1.6267077922821045\n"
     ]
    },
    {
     "name": "stderr",
     "output_type": "stream",
     "text": [
      "[I 2025-06-09 20:50:19,020] Trial 1 finished with value: 1.6339256763458252 and parameters: {'hidden_size': 68, 'num_layers': 4}. Best is trial 1 with value: 1.6339256763458252.\n"
     ]
    },
    {
     "name": "stdout",
     "output_type": "stream",
     "text": [
      "Epoch 4/5, Train Loss: 0.7325452566146851, Validation Loss: 1.631909728050232\n",
      "Epoch 5/5, Train Loss: 0.6997665725648403, Validation Loss: 1.6339256763458252\n",
      "Epoch 1/5, Train Loss: 0.833823949098587, Validation Loss: 1.6142795085906982\n",
      "Epoch 2/5, Train Loss: 0.8658260852098465, Validation Loss: 1.6332283020019531\n"
     ]
    },
    {
     "name": "stderr",
     "output_type": "stream",
     "text": [
      "[I 2025-06-09 20:50:19,260] Trial 2 finished with value: 1.5755045413970947 and parameters: {'hidden_size': 66, 'num_layers': 2}. Best is trial 2 with value: 1.5755045413970947.\n"
     ]
    },
    {
     "name": "stdout",
     "output_type": "stream",
     "text": [
      "Epoch 3/5, Train Loss: 0.760563313961029, Validation Loss: 1.610182523727417\n",
      "Epoch 4/5, Train Loss: 0.7266106382012367, Validation Loss: 1.5877431631088257\n",
      "Epoch 5/5, Train Loss: 0.8269938677549362, Validation Loss: 1.5755045413970947\n",
      "Epoch 1/5, Train Loss: 0.826327919960022, Validation Loss: 1.6015310287475586\n"
     ]
    },
    {
     "name": "stderr",
     "output_type": "stream",
     "text": [
      "[I 2025-06-09 20:50:19,612] Trial 3 finished with value: 1.6334435939788818 and parameters: {'hidden_size': 44, 'num_layers': 4}. Best is trial 2 with value: 1.5755045413970947.\n"
     ]
    },
    {
     "name": "stdout",
     "output_type": "stream",
     "text": [
      "Epoch 2/5, Train Loss: 0.9213897138834, Validation Loss: 1.601651906967163\n",
      "Epoch 3/5, Train Loss: 0.7329908944666386, Validation Loss: 1.6058740615844727\n",
      "Epoch 4/5, Train Loss: 0.9435869306325912, Validation Loss: 1.6175823211669922\n",
      "Epoch 5/5, Train Loss: 0.9036864787340164, Validation Loss: 1.6334435939788818\n",
      "Epoch 1/5, Train Loss: 0.8384131565690041, Validation Loss: 1.5606634616851807\n",
      "Epoch 2/5, Train Loss: 0.7371267825365067, Validation Loss: 1.5736815929412842\n",
      "Epoch 3/5, Train Loss: 0.9819037169218063, Validation Loss: 1.5873632431030273\n",
      "Epoch 4/5, Train Loss: 0.8890042901039124, Validation Loss: 1.5926964282989502\n"
     ]
    },
    {
     "name": "stderr",
     "output_type": "stream",
     "text": [
      "[I 2025-06-09 20:50:19,972] Trial 4 finished with value: 1.6119520664215088 and parameters: {'hidden_size': 52, 'num_layers': 4}. Best is trial 2 with value: 1.5755045413970947.\n",
      "[I 2025-06-09 20:50:20,119] Trial 5 finished with value: 1.5765548944473267 and parameters: {'hidden_size': 80, 'num_layers': 1}. Best is trial 2 with value: 1.5755045413970947.\n"
     ]
    },
    {
     "name": "stdout",
     "output_type": "stream",
     "text": [
      "Epoch 5/5, Train Loss: 0.7722238674759865, Validation Loss: 1.6119520664215088\n",
      "Epoch 1/5, Train Loss: 0.9239439815282822, Validation Loss: 1.5598018169403076\n",
      "Epoch 2/5, Train Loss: 1.1526995152235031, Validation Loss: 1.5652542114257812\n",
      "Epoch 3/5, Train Loss: 0.9251448214054108, Validation Loss: 1.5744792222976685\n",
      "Epoch 4/5, Train Loss: 0.9542546421289444, Validation Loss: 1.5780062675476074\n",
      "Epoch 5/5, Train Loss: 0.8191368132829666, Validation Loss: 1.5765548944473267\n",
      "Epoch 1/5, Train Loss: 0.7495318204164505, Validation Loss: 1.6249204874038696\n",
      "Epoch 2/5, Train Loss: 0.9447445720434189, Validation Loss: 1.6090686321258545\n",
      "Epoch 3/5, Train Loss: 0.7607261389493942, Validation Loss: 1.5969579219818115\n",
      "Epoch 4/5, Train Loss: 0.7856968864798546, Validation Loss: 1.5871660709381104\n"
     ]
    },
    {
     "name": "stderr",
     "output_type": "stream",
     "text": [
      "[I 2025-06-09 20:50:20,476] Trial 6 finished with value: 1.5875613689422607 and parameters: {'hidden_size': 52, 'num_layers': 4}. Best is trial 2 with value: 1.5755045413970947.\n"
     ]
    },
    {
     "name": "stdout",
     "output_type": "stream",
     "text": [
      "Epoch 5/5, Train Loss: 0.7173517867922783, Validation Loss: 1.5875613689422607\n",
      "Epoch 1/5, Train Loss: 1.0031947046518326, Validation Loss: 1.5619988441467285\n",
      "Epoch 2/5, Train Loss: 0.8728363364934921, Validation Loss: 1.5788475275039673\n",
      "Epoch 3/5, Train Loss: 0.8760300129652023, Validation Loss: 1.5970392227172852\n"
     ]
    },
    {
     "name": "stderr",
     "output_type": "stream",
     "text": [
      "[I 2025-06-09 20:50:20,777] Trial 7 finished with value: 1.650294542312622 and parameters: {'hidden_size': 77, 'num_layers': 2}. Best is trial 2 with value: 1.5755045413970947.\n"
     ]
    },
    {
     "name": "stdout",
     "output_type": "stream",
     "text": [
      "Epoch 4/5, Train Loss: 1.1139142215251923, Validation Loss: 1.6229861974716187\n",
      "Epoch 5/5, Train Loss: 0.7080232948064804, Validation Loss: 1.650294542312622\n",
      "Epoch 1/5, Train Loss: 0.711587443947792, Validation Loss: 1.5994398593902588\n",
      "Epoch 2/5, Train Loss: 0.9628378301858902, Validation Loss: 1.602579116821289\n"
     ]
    },
    {
     "name": "stderr",
     "output_type": "stream",
     "text": [
      "[I 2025-06-09 20:50:21,112] Trial 8 finished with value: 1.6033871173858643 and parameters: {'hidden_size': 42, 'num_layers': 4}. Best is trial 2 with value: 1.5755045413970947.\n"
     ]
    },
    {
     "name": "stdout",
     "output_type": "stream",
     "text": [
      "Epoch 3/5, Train Loss: 0.7928638309240341, Validation Loss: 1.5979959964752197\n",
      "Epoch 4/5, Train Loss: 0.7712457776069641, Validation Loss: 1.598811149597168\n",
      "Epoch 5/5, Train Loss: 0.7651002034544945, Validation Loss: 1.6033871173858643\n",
      "Epoch 1/5, Train Loss: 1.1484167277812958, Validation Loss: 1.5650737285614014\n"
     ]
    },
    {
     "name": "stderr",
     "output_type": "stream",
     "text": [
      "[I 2025-06-09 20:50:21,394] Trial 9 finished with value: 1.5988489389419556 and parameters: {'hidden_size': 51, 'num_layers': 3}. Best is trial 2 with value: 1.5755045413970947.\n"
     ]
    },
    {
     "name": "stdout",
     "output_type": "stream",
     "text": [
      "Epoch 2/5, Train Loss: 1.0047186464071274, Validation Loss: 1.5802388191223145\n",
      "Epoch 3/5, Train Loss: 0.7715436518192291, Validation Loss: 1.586380958557129\n",
      "Epoch 4/5, Train Loss: 0.7680148631334305, Validation Loss: 1.5947215557098389\n",
      "Epoch 5/5, Train Loss: 0.9860396981239319, Validation Loss: 1.5988489389419556\n",
      "Best trial: FrozenTrial(number=2, state=1, values=[1.5755045413970947], datetime_start=datetime.datetime(2025, 6, 9, 20, 50, 19, 20520), datetime_complete=datetime.datetime(2025, 6, 9, 20, 50, 19, 260542), params={'hidden_size': 66, 'num_layers': 2}, user_attrs={}, system_attrs={}, intermediate_values={}, distributions={'hidden_size': IntDistribution(high=80, log=False, low=10, step=1), 'num_layers': IntDistribution(high=4, log=False, low=1, step=1)}, trial_id=2, value=None)\n",
      "Best hyperparameters: {'hidden_size': 66, 'num_layers': 2}\n"
     ]
    }
   ],
   "source": [
    "import optuna\n",
    "from modeling_and_evaluation.SoCLSTM import SoCLSTM\n",
    "import torch\n",
    "import torch.nn as nn\n",
    "import torch.optim as optim\n",
    "\n",
    "# Define device\n",
    "device = torch.device(\"cuda\" if torch.cuda.is_available() else \"cpu\")\n",
    "\n",
    "# Define objective function\n",
    "def objective(trial):\n",
    "    hidden_size = trial.suggest_int('hidden_size', 10, 80)\n",
    "    num_layers = trial.suggest_int('num_layers', 1, 4)\n",
    "    model = SoCLSTM(input_size=len(FEATURE_COLS), hidden_size=hidden_size, num_layers=num_layers).to(device).type(torch.float32)\n",
    "    criterion = nn.MSELoss()\n",
    "    optimizer = optim.Adam(model.parameters(), lr=LEARNING_RATE)\n",
    "    history = train_and_validate(model, criterion, optimizer, train_loader, val_loader, EPOCHS, device)\n",
    "    return history['val_loss'][-1]\n",
    "\n",
    "# Create and run study\n",
    "study = optuna.create_study(direction='minimize')\n",
    "study.optimize(objective, n_trials=10)\n",
    "print(f\"Best trial: {study.best_trial}\")\n",
    "print(f\"Best hyperparameters: {study.best_trial.params}\")"
   ]
  },
  {
   "cell_type": "code",
   "execution_count": 15,
   "id": "6036b6d3",
   "metadata": {},
   "outputs": [],
   "source": [
    "from optuna.visualization import plot_optimization_history, plot_param_importances\n",
    "\n",
    "optimization_history = plot_optimization_history(study)\n",
    "optimization_history.write_image(\"optimization_history.png\")\n",
    "\n",
    "param_importances = plot_param_importances(study)\n",
    "param_importances.write_image(\"param_importances.png\")"
   ]
  },
  {
   "cell_type": "code",
   "execution_count": 16,
   "id": "26a1b721",
   "metadata": {},
   "outputs": [],
   "source": [
    "# Load or define your data (adjust based on data_parsing.py)\n",
    "import torch\n",
    "from torch.utils.data import DataLoader, TensorDataset\n",
    "import numpy as np\n",
    "\n",
    "# Example FEATURE_COLS (match your dataset)\n",
    "FEATURE_COLS = [\"Voltage [V]\", \"Current [A]\", \"Temperature [degC]\"]  # Adjust as needed\n",
    "\n",
    "# Placeholder data (replace with your actual data)\n",
    "X_train = torch.randn(100, 20, len(FEATURE_COLS))  # 100 samples, 20 timesteps, 3 features\n",
    "y_train = torch.randn(100, 1)  # 100 target SoC values\n",
    "X_val = torch.randn(20, 20, len(FEATURE_COLS))\n",
    "y_val = torch.randn(20, 1)\n",
    "\n",
    "train_dataset = TensorDataset(X_train, y_train)\n",
    "val_dataset = TensorDataset(X_val, y_val)\n",
    "train_loader = DataLoader(train_dataset, batch_size=32, shuffle=True)\n",
    "val_loader = DataLoader(val_dataset, batch_size=32, shuffle=False)\n",
    "\n",
    "EPOCHS = 5\n",
    "LEARNING_RATE = 0.001\n",
    "\n",
    "# Define train_and_validate (match your earlier implementation)\n",
    "def train_and_validate(model, criterion, optimizer, train_loader, val_loader, epochs, device):\n",
    "    history = {'train_loss': [], 'val_loss': []}\n",
    "    for epoch in range(epochs):\n",
    "        model.train()\n",
    "        train_loss = 0\n",
    "        for inputs, targets in train_loader:\n",
    "            inputs, targets = inputs.to(device), targets.to(device)\n",
    "            optimizer.zero_grad()\n",
    "            outputs = model(inputs)\n",
    "            loss = criterion(outputs, targets)\n",
    "            loss.backward()\n",
    "            optimizer.step()\n",
    "            train_loss += loss.item()\n",
    "        train_loss /= len(train_loader)\n",
    "\n",
    "        model.eval()\n",
    "        val_loss = 0\n",
    "        with torch.no_grad():\n",
    "            for inputs, targets in val_loader:\n",
    "                inputs, targets = inputs.to(device), targets.to(device)\n",
    "                outputs = model(inputs)\n",
    "                loss = criterion(outputs, targets)\n",
    "                val_loss += loss.item()\n",
    "        val_loss /= len(val_loader)\n",
    "        history['train_loss'].append(train_loss)\n",
    "        history['val_loss'].append(val_loss)\n",
    "        print(f\"Epoch {epoch+1}/{epochs}, Train Loss: {train_loss}, Validation Loss: {val_loss}\")\n",
    "    return history"
   ]
  },
  {
   "cell_type": "code",
   "execution_count": 18,
   "id": "7618856e",
   "metadata": {},
   "outputs": [
    {
     "name": "stderr",
     "output_type": "stream",
     "text": [
      "[I 2025-06-09 20:58:14,522] A new study created in memory with name: no-name-331f5c75-a59e-4444-896b-4a86c76f4740\n",
      "[I 2025-06-09 20:58:15,263] Trial 0 finished with value: 0.7770326733589172 and parameters: {'hidden_size': 38, 'num_layers': 1}. Best is trial 0 with value: 0.7770326733589172.\n"
     ]
    },
    {
     "name": "stdout",
     "output_type": "stream",
     "text": [
      "Epoch 1/5, Train Loss: 0.9969430714845657, Validation Loss: 0.7545653581619263\n",
      "Epoch 2/5, Train Loss: 1.0415310561656952, Validation Loss: 0.757246196269989\n",
      "Epoch 3/5, Train Loss: 1.10359725356102, Validation Loss: 0.7617101669311523\n",
      "Epoch 4/5, Train Loss: 0.9921722561120987, Validation Loss: 0.7684513330459595\n",
      "Epoch 5/5, Train Loss: 0.939381405711174, Validation Loss: 0.7770326733589172\n",
      "Epoch 1/5, Train Loss: 0.8665536269545555, Validation Loss: 0.8681052923202515\n",
      "Epoch 2/5, Train Loss: 1.022034615278244, Validation Loss: 0.8601976633071899\n",
      "Epoch 3/5, Train Loss: 1.2403448522090912, Validation Loss: 0.8572484850883484\n",
      "Epoch 4/5, Train Loss: 0.8475590609014034, Validation Loss: 0.8554812669754028\n"
     ]
    },
    {
     "name": "stderr",
     "output_type": "stream",
     "text": [
      "[I 2025-06-09 20:58:15,375] Trial 1 finished with value: 0.8531511425971985 and parameters: {'hidden_size': 16, 'num_layers': 1}. Best is trial 0 with value: 0.7770326733589172.\n",
      "[I 2025-06-09 20:58:15,537] Trial 2 finished with value: 0.7634643316268921 and parameters: {'hidden_size': 46, 'num_layers': 1}. Best is trial 2 with value: 0.7634643316268921.\n"
     ]
    },
    {
     "name": "stdout",
     "output_type": "stream",
     "text": [
      "Epoch 5/5, Train Loss: 0.9843000769615173, Validation Loss: 0.8531511425971985\n",
      "Epoch 1/5, Train Loss: 0.8486003689467907, Validation Loss: 0.766358494758606\n",
      "Epoch 2/5, Train Loss: 1.2787269055843353, Validation Loss: 0.7730487585067749\n",
      "Epoch 3/5, Train Loss: 0.9217665195465088, Validation Loss: 0.7699886560440063\n",
      "Epoch 4/5, Train Loss: 0.9879402220249176, Validation Loss: 0.7658437490463257\n",
      "Epoch 5/5, Train Loss: 0.9719992876052856, Validation Loss: 0.7634643316268921\n"
     ]
    },
    {
     "name": "stderr",
     "output_type": "stream",
     "text": [
      "[I 2025-06-09 20:58:15,797] Trial 3 finished with value: 0.7868053317070007 and parameters: {'hidden_size': 25, 'num_layers': 1}. Best is trial 2 with value: 0.7634643316268921.\n"
     ]
    },
    {
     "name": "stdout",
     "output_type": "stream",
     "text": [
      "Epoch 1/5, Train Loss: 0.9692386537790298, Validation Loss: 0.770464301109314\n",
      "Epoch 2/5, Train Loss: 0.8273818381130695, Validation Loss: 0.7749841809272766\n",
      "Epoch 3/5, Train Loss: 0.9198439419269562, Validation Loss: 0.7777841687202454\n",
      "Epoch 4/5, Train Loss: 1.1317337900400162, Validation Loss: 0.782178521156311\n",
      "Epoch 5/5, Train Loss: 1.0013890117406845, Validation Loss: 0.7868053317070007\n",
      "Epoch 1/5, Train Loss: 0.982809841632843, Validation Loss: 0.7313884496688843\n",
      "Epoch 2/5, Train Loss: 0.9636806398630142, Validation Loss: 0.7418021559715271\n",
      "Epoch 3/5, Train Loss: 1.3366981446743011, Validation Loss: 0.7563169598579407\n"
     ]
    },
    {
     "name": "stderr",
     "output_type": "stream",
     "text": [
      "[I 2025-06-09 20:58:15,958] Trial 4 finished with value: 0.7906454801559448 and parameters: {'hidden_size': 69, 'num_layers': 1}. Best is trial 2 with value: 0.7634643316268921.\n"
     ]
    },
    {
     "name": "stdout",
     "output_type": "stream",
     "text": [
      "Epoch 4/5, Train Loss: 1.0509862154722214, Validation Loss: 0.7724083662033081\n",
      "Epoch 5/5, Train Loss: 0.9391439855098724, Validation Loss: 0.7906454801559448\n",
      "Epoch 1/5, Train Loss: 1.0866429060697556, Validation Loss: 0.7576386332511902\n",
      "Epoch 2/5, Train Loss: 1.0226963758468628, Validation Loss: 0.7621944546699524\n",
      "Epoch 3/5, Train Loss: 1.067331686615944, Validation Loss: 0.7652961611747742\n",
      "Epoch 4/5, Train Loss: 1.0532615184783936, Validation Loss: 0.7694384455680847\n",
      "Epoch 5/5, Train Loss: 0.9074809104204178, Validation Loss: 0.7729114294052124\n"
     ]
    },
    {
     "name": "stderr",
     "output_type": "stream",
     "text": [
      "[I 2025-06-09 20:58:16,113] Trial 5 finished with value: 0.7729114294052124 and parameters: {'hidden_size': 47, 'num_layers': 1}. Best is trial 2 with value: 0.7634643316268921.\n",
      "[I 2025-06-09 20:58:16,325] Trial 6 finished with value: 0.7664874196052551 and parameters: {'hidden_size': 48, 'num_layers': 2}. Best is trial 2 with value: 0.7634643316268921.\n"
     ]
    },
    {
     "name": "stdout",
     "output_type": "stream",
     "text": [
      "Epoch 1/5, Train Loss: 0.939437985420227, Validation Loss: 0.7379463911056519\n",
      "Epoch 2/5, Train Loss: 1.13779117166996, Validation Loss: 0.7473132014274597\n",
      "Epoch 3/5, Train Loss: 0.9746932834386826, Validation Loss: 0.7550228834152222\n",
      "Epoch 4/5, Train Loss: 1.266318067908287, Validation Loss: 0.7586977481842041\n",
      "Epoch 5/5, Train Loss: 0.9845521152019501, Validation Loss: 0.7664874196052551\n",
      "Epoch 1/5, Train Loss: 1.2464762926101685, Validation Loss: 0.6993511915206909\n",
      "Epoch 2/5, Train Loss: 0.9462195783853531, Validation Loss: 0.7028356790542603\n"
     ]
    },
    {
     "name": "stderr",
     "output_type": "stream",
     "text": [
      "[I 2025-06-09 20:58:16,435] Trial 7 finished with value: 0.7123374938964844 and parameters: {'hidden_size': 16, 'num_layers': 1}. Best is trial 7 with value: 0.7123374938964844.\n"
     ]
    },
    {
     "name": "stdout",
     "output_type": "stream",
     "text": [
      "Epoch 3/5, Train Loss: 1.006543681025505, Validation Loss: 0.7062603235244751\n",
      "Epoch 4/5, Train Loss: 1.168866440653801, Validation Loss: 0.7091206908226013\n",
      "Epoch 5/5, Train Loss: 1.012331336736679, Validation Loss: 0.7123374938964844\n",
      "Epoch 1/5, Train Loss: 0.9090750813484192, Validation Loss: 0.7291051745414734\n",
      "Epoch 2/5, Train Loss: 1.0659359097480774, Validation Loss: 0.739983081817627\n",
      "Epoch 3/5, Train Loss: 1.068706676363945, Validation Loss: 0.7543398141860962\n"
     ]
    },
    {
     "name": "stderr",
     "output_type": "stream",
     "text": [
      "[I 2025-06-09 20:58:16,656] Trial 8 finished with value: 0.7657679915428162 and parameters: {'hidden_size': 33, 'num_layers': 2}. Best is trial 7 with value: 0.7123374938964844.\n"
     ]
    },
    {
     "name": "stdout",
     "output_type": "stream",
     "text": [
      "Epoch 4/5, Train Loss: 1.0765322744846344, Validation Loss: 0.7633712291717529\n",
      "Epoch 5/5, Train Loss: 1.0100755989551544, Validation Loss: 0.7657679915428162\n",
      "Epoch 1/5, Train Loss: 1.3400865346193314, Validation Loss: 0.7256637811660767\n",
      "Epoch 2/5, Train Loss: 0.9618389457464218, Validation Loss: 0.726131796836853\n",
      "Epoch 3/5, Train Loss: 0.9517516195774078, Validation Loss: 0.7279360890388489\n",
      "Epoch 4/5, Train Loss: 0.9620402455329895, Validation Loss: 0.7306686639785767\n"
     ]
    },
    {
     "name": "stderr",
     "output_type": "stream",
     "text": [
      "[I 2025-06-09 20:58:16,823] Trial 9 finished with value: 0.7339820265769958 and parameters: {'hidden_size': 21, 'num_layers': 2}. Best is trial 7 with value: 0.7123374938964844.\n"
     ]
    },
    {
     "name": "stdout",
     "output_type": "stream",
     "text": [
      "Epoch 5/5, Train Loss: 1.04623344540596, Validation Loss: 0.7339820265769958\n",
      "Best trial: FrozenTrial(number=7, state=1, values=[0.7123374938964844], datetime_start=datetime.datetime(2025, 6, 9, 20, 58, 16, 332660), datetime_complete=datetime.datetime(2025, 6, 9, 20, 58, 16, 435922), params={'hidden_size': 16, 'num_layers': 1}, user_attrs={}, system_attrs={}, intermediate_values={}, distributions={'hidden_size': IntDistribution(high=80, log=False, low=10, step=1), 'num_layers': IntDistribution(high=4, log=False, low=1, step=1)}, trial_id=7, value=None)\n",
      "Best hyperparameters: {'hidden_size': 16, 'num_layers': 1}\n"
     ]
    }
   ],
   "source": [
    "import optuna\n",
    "from modeling_and_evaluation.SoCLSTM import SoCLSTM\n",
    "import torch\n",
    "import torch.nn as nn\n",
    "import torch.optim as optim\n",
    "\n",
    "# Define device\n",
    "device = torch.device(\"cuda\" if torch.cuda.is_available() else \"cpu\")\n",
    "\n",
    "# Define objective function\n",
    "def objective(trial):\n",
    "    hidden_size = trial.suggest_int('hidden_size', 10, 80)\n",
    "    num_layers = trial.suggest_int('num_layers', 1, 4)\n",
    "    model = SoCLSTM(input_size=len(FEATURE_COLS), hidden_size=hidden_size, num_layers=num_layers).to(device).type(torch.float32)\n",
    "    criterion = nn.MSELoss()\n",
    "    optimizer = optim.Adam(model.parameters(), lr=LEARNING_RATE)\n",
    "    history = train_and_validate(model, criterion, optimizer, train_loader, val_loader, EPOCHS, device)\n",
    "    return history['val_loss'][-1]\n",
    "\n",
    "# Create and run study\n",
    "study = optuna.create_study(direction='minimize')\n",
    "study.optimize(objective, n_trials=10)\n",
    "print(f\"Best trial: {study.best_trial}\")\n",
    "print(f\"Best hyperparameters: {study.best_trial.params}\")"
   ]
  },
  {
   "cell_type": "code",
   "execution_count": 20,
   "id": "9576a7be",
   "metadata": {},
   "outputs": [],
   "source": [
    "from optuna.visualization import plot_optimization_history, plot_param_importances\n",
    "\n",
    "optimization_history = plot_optimization_history(study)\n",
    "optimization_history.write_image(\"optimization_history.png\")\n",
    "\n",
    "param_importances = plot_param_importances(study)\n",
    "param_importances.write_image(\"param_importances.png\")"
   ]
  },
  {
   "cell_type": "markdown",
   "id": "250dd076",
   "metadata": {},
   "source": [
    "### Training\n",
    "This notebook section initializes an LSTM model with the best hyperparameters obtained from Optuna optimization, sets up the loss function and optimizer, and then trains and validates the model. It plots the training and validation loss across epochs to visualize model performance. Finally, the trained model is saved to a file. This process allows for effective tuning and assessment of the LSTM model's performance in estimating the state of charge of batteries."
   ]
  },
  {
   "cell_type": "code",
   "execution_count": 22,
   "id": "dfe5e435",
   "metadata": {},
   "outputs": [
    {
     "data": {
      "image/png": "[encoded data removed]",
      "text/plain": [
       "<Figure size 1000x500 with 1 Axes>"
      ]
     },
     "metadata": {},
     "output_type": "display_data"
    }
   ],
   "source": [
    "# Plot training history\n",
    "import matplotlib.pyplot as plt\n",
    "plt.figure(figsize=(10, 5))\n",
    "plt.plot(history['train_loss'], label='Train Loss')\n",
    "plt.plot(history['val_loss'], label='Validation Loss')\n",
    "plt.xlabel('Epoch')\n",
    "plt.ylabel('Loss')\n",
    "plt.title('Training and Validation Loss Over Epochs')\n",
    "plt.legend()\n",
    "plt.grid(True)\n",
    "plt.show()  # Ensure this line is executed"
   ]
  },
  {
   "cell_type": "code",
   "execution_count": 23,
   "id": "ae7e4e96",
   "metadata": {},
   "outputs": [],
   "source": [
    "model = SoCLSTM(input_size=len(FEATURE_COLS), hidden_size=hidden_size, num_layers=num_layers).to(device).type(torch.float32)\n",
    "optimizer = optim.Adam(model.parameters(), lr=LEARNING_RATE, weight_decay=1e-5)  # Add L2 regularization"
   ]
  },
  {
   "cell_type": "code",
   "execution_count": 24,
   "id": "9cec68fc",
   "metadata": {},
   "outputs": [
    {
     "name": "stdout",
     "output_type": "stream",
     "text": [
      "Epoch 1/10, Train Loss: 1.0073629021644592, Validation Loss: 0.7367315292358398\n",
      "Epoch 2/10, Train Loss: 0.9301614016294479, Validation Loss: 0.7454158663749695\n",
      "Epoch 3/10, Train Loss: 1.1283199042081833, Validation Loss: 0.752783477306366\n",
      "Epoch 4/10, Train Loss: 0.9296843111515045, Validation Loss: 0.7638329267501831\n",
      "Epoch 5/10, Train Loss: 1.0051554143428802, Validation Loss: 0.773844301700592\n",
      "Epoch 6/10, Train Loss: 0.9285813719034195, Validation Loss: 0.7838608026504517\n",
      "Epoch 7/10, Train Loss: 0.9609651118516922, Validation Loss: 0.7853894233703613\n",
      "Epoch 8/10, Train Loss: 0.8568594455718994, Validation Loss: 0.7819007039070129\n",
      "Epoch 9/10, Train Loss: 1.0280162245035172, Validation Loss: 0.7807154059410095\n",
      "Epoch 10/10, Train Loss: 0.9678289741277695, Validation Loss: 0.7813061475753784\n"
     ]
    }
   ],
   "source": [
    "# Initialize with best trial\n",
    "best_trial = {'hidden_size': 24, 'num_layers': 3}\n",
    "hidden_size = best_trial['hidden_size']\n",
    "num_layers = best_trial['num_layers']\n",
    "\n",
    "BATCH_SIZE = 64\n",
    "EPOCHS = 10\n",
    "LEARNING_RATE = 0.001\n",
    "\n",
    "model = SoCLSTM(input_size=len(FEATURE_COLS), hidden_size=hidden_size, num_layers=num_layers).to(device).type(torch.float32)\n",
    "model.to(device)\n",
    "optimizer = optim.Adam(model.parameters(), lr=LEARNING_RATE, weight_decay=1e-5)\n",
    "criterion = nn.MSELoss()\n",
    "\n",
    "# Train and validate\n",
    "history = train_and_validate(model, criterion, optimizer, train_loader, val_loader, EPOCHS, device)\n",
    "\n",
    "# Plot and save\n",
    "plt.figure(figsize=(10, 5))\n",
    "plt.plot(history['train_loss'], label='Train Loss')\n",
    "plt.plot(history['val_loss'], label='Validation Loss')\n",
    "plt.xlabel('Epoch')\n",
    "plt.ylabel('Loss')\n",
    "plt.title('Training and Validation Loss Over Epochs')\n",
    "plt.legend()\n",
    "plt.grid(True)\n",
    "plt.savefig('training_history_best.png')\n",
    "plt.close()\n",
    "\n",
    "# Save the model\n",
    "model_path = \"soc_lstm_model_best.pth\"\n",
    "torch.save({'model_state_dict': model.state_dict(), 'input_size': len(FEATURE_COLS)}, model_path)"
   ]
  },
  {
   "cell_type": "code",
   "execution_count": 26,
   "id": "600c6eec",
   "metadata": {},
   "outputs": [],
   "source": [
    "import torch\n",
    "from torch.utils.data import DataLoader, TensorDataset\n",
    "\n",
    "# Assuming FEATURE_COLS is defined (e.g., [\"Voltage [V]\", \"Current [A]\", \"Temperature [degC]\"])\n",
    "# Placeholder test data (replace with your actual test data)\n",
    "X_test = torch.randn(20, 20, len(FEATURE_COLS))  # 20 samples, 20 timesteps, 3 features\n",
    "y_test = torch.randn(20, 1)  # 20 target SoC values\n",
    "\n",
    "test_dataset = TensorDataset(X_test, y_test)\n",
    "test_loader = DataLoader(test_dataset, batch_size=64, shuffle=False)  # Match BATCH_SIZE"
   ]
  },
  {
   "cell_type": "code",
   "execution_count": 27,
   "id": "bb385555",
   "metadata": {},
   "outputs": [
    {
     "name": "stdout",
     "output_type": "stream",
     "text": [
      "Test Loss: 0.3777492046356201\n"
     ]
    }
   ],
   "source": [
    "# Ensure model is loaded or trained\n",
    "model.eval()\n",
    "test_loss = 0\n",
    "with torch.no_grad():\n",
    "    for inputs, targets in test_loader:\n",
    "        inputs, targets = inputs.to(device), targets.to(device)\n",
    "        outputs = model(inputs)\n",
    "        loss = criterion(outputs, targets)\n",
    "        test_loss += loss.item()\n",
    "test_loss /= len(test_loader)\n",
    "print(f\"Test Loss: {test_loss}\")"
   ]
  },
  {
   "cell_type": "code",
   "execution_count": 28,
   "id": "987b738b",
   "metadata": {},
   "outputs": [
    {
     "name": "stdout",
     "output_type": "stream",
     "text": [
      "Input shape: torch.Size([20, 20, 3])\n",
      "Target shape: torch.Size([20, 1])\n"
     ]
    }
   ],
   "source": [
    "for inputs, targets in test_loader:\n",
    "    print(\"Input shape:\", inputs.shape)\n",
    "    print(\"Target shape:\", targets.shape)\n",
    "    break"
   ]
  },
  {
   "cell_type": "code",
   "execution_count": 30,
   "id": "2c012438",
   "metadata": {},
   "outputs": [
    {
     "name": "stdout",
     "output_type": "stream",
     "text": [
      "False\n"
     ]
    }
   ],
   "source": [
    "import os\n",
    "print(os.path.exists(\"soc_lstm_model.pth\"))"
   ]
  },
  {
   "cell_type": "code",
   "execution_count": 31,
   "id": "81691b5e",
   "metadata": {},
   "outputs": [
    {
     "name": "stdout",
     "output_type": "stream",
     "text": [
      "Found at: C:\\Users\\aknin\\Desktop\\MLproject-main\\modeling_and_evaluation\\soc_lstm_model.pth\n"
     ]
    }
   ],
   "source": [
    "for root, dirs, files in os.walk(\"C:\\\\Users\\\\aknin\\\\Desktop\\\\MLproject-main\"):\n",
    "    if \"soc_lstm_model.pth\" in files:\n",
    "        print(f\"Found at: {os.path.join(root, 'soc_lstm_model.pth')}\")"
   ]
  },
  {
   "cell_type": "code",
   "execution_count": 32,
   "id": "683afd87",
   "metadata": {},
   "outputs": [
    {
     "name": "stdout",
     "output_type": "stream",
     "text": [
      "Epoch 1/10, Train Loss: 0.9074491262435913, Validation Loss: 0.7290367484092712\n",
      "Epoch 2/10, Train Loss: 1.1785510778427124, Validation Loss: 0.7328656911849976\n",
      "Epoch 3/10, Train Loss: 1.2254697382450104, Validation Loss: 0.742550253868103\n",
      "Epoch 4/10, Train Loss: 1.0838375985622406, Validation Loss: 0.7576358914375305\n",
      "Epoch 5/10, Train Loss: 0.9499440640211105, Validation Loss: 0.7771689295768738\n",
      "Epoch 6/10, Train Loss: 0.9164397120475769, Validation Loss: 0.783075749874115\n",
      "Epoch 7/10, Train Loss: 1.0411387234926224, Validation Loss: 0.7803492546081543\n",
      "Epoch 8/10, Train Loss: 0.9048990607261658, Validation Loss: 0.7865902185440063\n",
      "Epoch 9/10, Train Loss: 1.0415885001420975, Validation Loss: 0.7915652990341187\n",
      "Epoch 10/10, Train Loss: 0.9167449027299881, Validation Loss: 0.786307156085968\n",
      "Training completed. History: {'train_loss': [0.9074491262435913, 1.1785510778427124, 1.2254697382450104, 1.0838375985622406, 0.9499440640211105, 0.9164397120475769, 1.0411387234926224, 0.9048990607261658, 1.0415885001420975, 0.9167449027299881], 'val_loss': [0.7290367484092712, 0.7328656911849976, 0.742550253868103, 0.7576358914375305, 0.7771689295768738, 0.783075749874115, 0.7803492546081543, 0.7865902185440063, 0.7915652990341187, 0.786307156085968]}\n",
      "Model saved to soc_lstm_model.pth\n"
     ]
    }
   ],
   "source": [
    "import torch\n",
    "import torch.nn as nn\n",
    "import torch.optim as optim\n",
    "from modeling_and_evaluation.SoCLSTM import SoCLSTM\n",
    "\n",
    "# Define device\n",
    "device = torch.device(\"cuda\" if torch.cuda.is_available() else \"cpu\")\n",
    "\n",
    "# Best hyperparameters\n",
    "best_trial = {'hidden_size': 24, 'num_layers': 3}\n",
    "hidden_size = best_trial['hidden_size']\n",
    "num_layers = best_trial['num_layers']\n",
    "\n",
    "BATCH_SIZE = 64\n",
    "EPOCHS = 10\n",
    "LEARNING_RATE = 0.001\n",
    "\n",
    "# Assume FEATURE_COLS, train_loader, val_loader, and train_and_validate are defined\n",
    "model = SoCLSTM(input_size=len(FEATURE_COLS), hidden_size=hidden_size, num_layers=num_layers).to(device).type(torch.float32)\n",
    "optimizer = optim.Adam(model.parameters(), lr=LEARNING_RATE, weight_decay=1e-5)  # Add regularization\n",
    "criterion = nn.MSELoss()\n",
    "\n",
    "# Train and validate\n",
    "history = train_and_validate(model, criterion, optimizer, train_loader, val_loader, EPOCHS, device)\n",
    "print(\"Training completed. History:\", history)\n",
    "\n",
    "# Save the model\n",
    "model_path = \"soc_lstm_model.pth\"\n",
    "torch.save({'model_state_dict': model.state_dict(), 'input_size': len(FEATURE_COLS)}, model_path)\n",
    "print(f\"Model saved to {model_path}\")"
   ]
  },
  {
   "cell_type": "code",
   "execution_count": 33,
   "id": "5c0d9a6e",
   "metadata": {},
   "outputs": [
    {
     "name": "stdout",
     "output_type": "stream",
     "text": [
      "Model loaded successfully\n"
     ]
    }
   ],
   "source": [
    "model_path = \"soc_lstm_model.pth\"\n",
    "checkpoint = torch.load(model_path)\n",
    "model.load_state_dict(checkpoint['model_state_dict'])\n",
    "model.to(device).eval()\n",
    "print(\"Model loaded successfully\")"
   ]
  },
  {
   "cell_type": "code",
   "execution_count": 36,
   "id": "0530b22b",
   "metadata": {},
   "outputs": [],
   "source": [
    "import torch\n",
    "from torch.utils.data import DataLoader, TensorDataset\n",
    "\n",
    "# Assuming FEATURE_COLS is defined (e.g., [\"Voltage [V]\", \"Current [A]\", \"Temperature [degC]\"])\n",
    "# Placeholder test data (replace with your actual test data)\n",
    "X_test = torch.randn(20, 20, len(FEATURE_COLS))  # 20 samples, 20 timesteps, 3 features\n",
    "y_test = torch.randn(20, 1)  # 20 target SoC values\n",
    "\n",
    "test_dataset = TensorDataset(X_test, y_test)\n",
    "test_loader = DataLoader(test_dataset, batch_size=64, shuffle=False)  # Match BATCH_SIZE from training"
   ]
  },
  {
   "cell_type": "code",
   "execution_count": 37,
   "id": "90030e1f",
   "metadata": {},
   "outputs": [
    {
     "name": "stdout",
     "output_type": "stream",
     "text": [
      "Input shape: torch.Size([20, 20, 3])\n",
      "Target shape: torch.Size([20, 1])\n"
     ]
    }
   ],
   "source": [
    "for inputs, targets in test_loader:\n",
    "    print(\"Input shape:\", inputs.shape)\n",
    "    print(\"Target shape:\", targets.shape)\n",
    "    break"
   ]
  },
  {
   "cell_type": "code",
   "execution_count": 39,
   "id": "09d123ad",
   "metadata": {},
   "outputs": [
    {
     "name": "stdout",
     "output_type": "stream",
     "text": [
      "Test Loss: 0.821444034576416\n"
     ]
    }
   ],
   "source": [
    "import torch\n",
    "import torch.nn as nn\n",
    "from modeling_and_evaluation.SoCLSTM import SoCLSTM\n",
    "\n",
    "# Ensure device and criterion are defined\n",
    "device = torch.device(\"cuda\" if torch.cuda.is_available() else \"cpu\")\n",
    "criterion = nn.MSELoss()\n",
    "\n",
    "# Model already loaded (confirmed as \"Model loaded successfully\")\n",
    "model.eval()\n",
    "test_loss = 0\n",
    "with torch.no_grad():\n",
    "    for inputs, targets in test_loader:\n",
    "        inputs, targets = inputs.to(device), targets.to(device)\n",
    "        outputs = model(inputs)\n",
    "        loss = criterion(outputs, targets)\n",
    "        test_loss += loss.item()\n",
    "test_loss /= len(test_loader)\n",
    "print(f\"Test Loss: {test_loss}\")"
   ]
  },
  {
   "cell_type": "code",
   "execution_count": 14,
   "id": "96c511f5",
   "metadata": {},
   "outputs": [
    {
     "name": "stdout",
     "output_type": "stream",
     "text": [
      "Epoch 1/5, Train Loss: 0.005805040516789347, Validation Loss: 0.0013241567707097948\n",
      "Epoch 2/5, Train Loss: 0.0017775316380413068, Validation Loss: 0.0005270749953919214\n",
      "Epoch 3/5, Train Loss: 0.001389017478265665, Validation Loss: 0.0005528243786100653\n",
      "Epoch 4/5, Train Loss: 0.001306890693829844, Validation Loss: 0.00037715880931212675\n",
      "Epoch 5/5, Train Loss: 0.0012082330193167905, Validation Loss: 0.0003438680939161117\n"
     ]
    }
   ],
   "source": [
    "import torch.nn as nn\n",
    "import torch.optim as optim\n",
    "\n",
    "criterion = nn.MSELoss()\n",
    "optimizer = optim.Adam(model.parameters(), lr=0.001, weight_decay=1e-5)\n",
    "EPOCHS = 5\n",
    "\n",
    "def train_and_validate(model, criterion, optimizer, train_loader, val_loader, epochs, device):\n",
    "    history = {'train_loss': [], 'val_loss': []}\n",
    "    for epoch in range(epochs):\n",
    "        model.train()\n",
    "        running_loss = 0.0\n",
    "        for sequences, labels, _ in train_loader:\n",
    "            sequences, labels = sequences.to(device), labels.to(device)\n",
    "            optimizer.zero_grad()\n",
    "            outputs = model(sequences)\n",
    "            loss = criterion(outputs.squeeze(), labels)\n",
    "            loss.backward()\n",
    "            torch.nn.utils.clip_grad_norm_(model.parameters(), max_norm=1)\n",
    "            optimizer.step()\n",
    "            running_loss += loss.item()\n",
    "        train_loss = running_loss / len(train_loader)\n",
    "        history['train_loss'].append(train_loss)\n",
    "\n",
    "        model.eval()\n",
    "        val_loss = 0.0\n",
    "        with torch.no_grad():\n",
    "            for sequences, labels, _ in val_loader:\n",
    "                sequences, labels = sequences.to(device), labels.to(device)\n",
    "                outputs = model(sequences)\n",
    "                loss = criterion(outputs.squeeze(), labels)\n",
    "                val_loss += loss.item()\n",
    "        val_loss = val_loss / len(val_loader)\n",
    "        history['val_loss'].append(val_loss)\n",
    "        print(f'Epoch {epoch + 1}/{epochs}, Train Loss: {train_loss}, Validation Loss: {val_loss}')\n",
    "    return history\n",
    "\n",
    "history = train_and_validate(model, criterion, optimizer, train_loader, val_loader, EPOCHS, device)"
   ]
  },
  {
   "cell_type": "markdown",
   "id": "8c09c5c0",
   "metadata": {},
   "source": [
    "EVALUATION\n"
   ]
  },
  {
   "cell_type": "code",
   "execution_count": 15,
   "id": "aef7abce",
   "metadata": {},
   "outputs": [
    {
     "name": "stdout",
     "output_type": "stream",
     "text": [
      "Evaluation completed\n"
     ]
    }
   ],
   "source": [
    "def test_model(model, test_loader, device):\n",
    "    model.eval()\n",
    "    test_results = {}\n",
    "    with torch.no_grad():\n",
    "        for inputs, labels, filenames in test_loader:\n",
    "            inputs, labels = inputs.to(device), labels.to(device)\n",
    "            outputs = model(inputs)\n",
    "            predictions = outputs.cpu().view(-1).numpy()\n",
    "            labels = labels.cpu().view(-1).numpy()\n",
    "            for filename, pred, label in zip(filenames, predictions, labels):\n",
    "                if filename not in test_results:\n",
    "                    test_results[filename] = {'predictions': [], 'labels': []}\n",
    "                test_results[filename]['predictions'].append(pred.item())\n",
    "                test_results[filename]['labels'].append(label)\n",
    "    return test_results\n",
    "\n",
    "def plot_soc_over_time(test_results):\n",
    "    import matplotlib.pyplot as plt\n",
    "    for filename, data in test_results.items():\n",
    "        predictions, labels = data['predictions'], data['labels']\n",
    "        plt.figure(figsize=(12, 6))\n",
    "        plt.plot(labels, label='True SOC', color='blue')\n",
    "        plt.plot(predictions, label='Predicted SOC', color='red')\n",
    "        plt.title(f'Test File: {filename}')\n",
    "        plt.xlabel('Time')\n",
    "        plt.ylabel('SOC')\n",
    "        plt.ylim(0, 1)\n",
    "        plt.legend()\n",
    "        plt.grid(True)\n",
    "        plt.savefig(f\"{filename}_soc_plot.png\")\n",
    "        plt.close()\n",
    "\n",
    "test_results = test_model(model, test_loader, device)\n",
    "plot_soc_over_time(test_results)\n",
    "print(\"Evaluation completed\")"
   ]
  },
  {
   "cell_type": "code",
   "execution_count": 16,
   "id": "a0b14b96",
   "metadata": {},
   "outputs": [
    {
     "name": "stdout",
     "output_type": "stream",
     "text": [
      "Test MSE: 0.0009101879881020901, Test MAE: 0.01273180937967979\n"
     ]
    }
   ],
   "source": [
    "def test_model(model, test_loader, device):\n",
    "    model.eval()\n",
    "    test_results = {}\n",
    "    with torch.no_grad():\n",
    "        for inputs, labels, filenames in test_loader:\n",
    "            inputs, labels = inputs.to(device), labels.to(device)\n",
    "            outputs = model(inputs)\n",
    "            predictions = outputs.cpu().view(-1).numpy()\n",
    "            labels = labels.cpu().view(-1).numpy()\n",
    "            for filename, pred, label in zip(filenames, predictions, labels):\n",
    "                if filename not in test_results:\n",
    "                    test_results[filename] = {'predictions': [], 'labels': []}\n",
    "                test_results[filename]['predictions'].append(pred.item())\n",
    "                test_results[filename]['labels'].append(label)\n",
    "    return test_results\n",
    "\n",
    "test_results = test_model(model, test_loader, device)\n",
    "\n",
    "# Compute MSE and MAE\n",
    "from sklearn.metrics import mean_squared_error, mean_absolute_error\n",
    "all_predictions = []\n",
    "all_labels = []\n",
    "for data in test_results.values():\n",
    "    all_predictions.extend(data['predictions'])\n",
    "    all_labels.extend(data['labels'])\n",
    "mse = mean_squared_error(all_labels, all_predictions)\n",
    "mae = mean_absolute_error(all_labels, all_predictions)\n",
    "print(f\"Test MSE: {mse}, Test MAE: {mae}\")"
   ]
  },
  {
   "cell_type": "code",
   "execution_count": 17,
   "id": "e106b2ed",
   "metadata": {},
   "outputs": [
    {
     "name": "stdout",
     "output_type": "stream",
     "text": [
      "Plots saved to project directory\n"
     ]
    }
   ],
   "source": [
    "def plot_soc_over_time(test_results):\n",
    "    import matplotlib.pyplot as plt\n",
    "    for filename, data in test_results.items():\n",
    "        predictions, labels = data['predictions'], data['labels']\n",
    "        plt.figure(figsize=(12, 6))\n",
    "        plt.plot(labels, label='True SOC', color='blue')\n",
    "        plt.plot(predictions, label='Predicted SOC', color='red')\n",
    "        plt.title(f'Test File: {filename}')\n",
    "        plt.xlabel('Time')\n",
    "        plt.ylabel('SOC')\n",
    "        plt.ylim(0, 1)\n",
    "        plt.legend()\n",
    "        plt.grid(True)\n",
    "        plt.savefig(os.path.join(r\"C:\\Users\\aknin\\Desktop\\MLproject-main\", f\"{filename}_soc_plot.png\"))\n",
    "        plt.close()\n",
    "\n",
    "plot_soc_over_time(test_results)\n",
    "print(\"Plots saved to project directory\")"
   ]
  },
  {
   "cell_type": "markdown",
   "id": "65164ce7",
   "metadata": {},
   "source": [
    "Saving the model"
   ]
  },
  {
   "cell_type": "code",
   "execution_count": 4,
   "id": "1636105c",
   "metadata": {},
   "outputs": [
    {
     "name": "stdout",
     "output_type": "stream",
     "text": [
      "SoCLSTM imported successfully\n"
     ]
    }
   ],
   "source": [
    "import torch\n",
    "import os\n",
    "import sys\n",
    "\n",
    "# Add the project directory to the Python path\n",
    "project_dir = r\"C:\\Users\\aknin\\Desktop\\MLproject-main\"\n",
    "sys.path.append(project_dir)\n",
    "\n",
    "# Import the SoCLSTM class\n",
    "from modeling_and_evaluation.SoCLSTM import SoCLSTM\n",
    "\n",
    "print(\"SoCLSTM imported successfully\")"
   ]
  },
  {
   "cell_type": "code",
   "execution_count": 5,
   "id": "c8a863cf",
   "metadata": {},
   "outputs": [
    {
     "name": "stdout",
     "output_type": "stream",
     "text": [
      "Directory contents: ['.ipynb_checkpoints', 'SoCLSTM.py', 'SoC_Estimation_LSTM.ipynb', '__pycache__']\n"
     ]
    }
   ],
   "source": [
    "import os\n",
    "dir_path = os.path.join(r\"C:\\Users\\aknin\\Desktop\\MLproject-main\", \"modeling_and_evaluation\")\n",
    "print(\"Directory contents:\", os.listdir(dir_path) if os.path.exists(dir_path) else \"Directory not found\")"
   ]
  },
  {
   "cell_type": "code",
   "execution_count": 6,
   "id": "cdd61054",
   "metadata": {},
   "outputs": [
    {
     "name": "stdout",
     "output_type": "stream",
     "text": [
      "Model saved to C:\\Users\\aknin\\Desktop\\MLproject-main\\soc_lstm_model_best.pth\n"
     ]
    }
   ],
   "source": [
    "# Define constants\n",
    "FEATURE_COLS = ['Voltage [V]', 'Current [A]', 'Temperature [degC]', 'Capacity [Ah]']\n",
    "input_size = len(FEATURE_COLS)\n",
    "device = torch.device(\"cuda:0\" if torch.cuda.is_available() else \"cpu\")\n",
    "\n",
    "# Initialize or load the model (replace with your trained model if available)\n",
    "model = SoCLSTM(input_size, hidden_size=68, num_layers=2).to(device)\n",
    "# If trained, load state dict (uncomment and adjust if needed)\n",
    "# model_path = os.path.join(project_dir, \"soc_lstm_model_best.pth\")\n",
    "# checkpoint = torch.load(model_path, map_location=device)\n",
    "# model.load_state_dict(checkpoint['model_state_dict'])\n",
    "# model.eval()\n",
    "\n",
    "# Save the model\n",
    "model_path = os.path.join(project_dir, \"soc_lstm_model_best.pth\")\n",
    "torch.save({\n",
    "    'model_state_dict': model.state_dict(),\n",
    "    'input_size': input_size,\n",
    "    'hidden_size': 68,\n",
    "    'num_layers': 2,\n",
    "    'sequence_length': 50\n",
    "}, model_path)\n",
    "\n",
    "print(f\"Model saved to {model_path}\")"
   ]
  },
  {
   "cell_type": "code",
   "execution_count": 7,
   "id": "41480d66",
   "metadata": {},
   "outputs": [
    {
     "name": "stdout",
     "output_type": "stream",
     "text": [
      "Model loaded successfully\n",
      "Sample new_data.csv created at C:\\Users\\aknin\\Desktop\\MLproject-main\\new_data\\new_data.csv\n"
     ]
    },
    {
     "name": "stderr",
     "output_type": "stream",
     "text": [
      "C:\\Users\\aknin\\AppData\\Local\\Temp\\ipykernel_23784\\1844420167.py:33: UserWarning: Creating a tensor from a list of numpy.ndarrays is extremely slow. Please consider converting the list to a single numpy.ndarray with numpy.array() before converting to a tensor. (Triggered internally at C:\\actions-runner\\_work\\pytorch\\pytorch\\pytorch\\torch\\csrc\\utils\\tensor_new.cpp:257.)\n",
      "  sequences = torch.tensor(sequences, dtype=torch.float32)\n"
     ]
    },
    {
     "name": "stdout",
     "output_type": "stream",
     "text": [
      "New Data - MSE: 0.6209080815315247, MAE: 0.7879359126091003\n",
      "Number of predictions: 3\n"
     ]
    }
   ],
   "source": [
    "def load_model(model_path, device):\n",
    "    checkpoint = torch.load(model_path, map_location=device)\n",
    "    model = SoCLSTM(\n",
    "        input_size=checkpoint['input_size'],\n",
    "        hidden_size=checkpoint['hidden_size'],\n",
    "        num_layers=checkpoint['num_layers']\n",
    "    ).to(device)\n",
    "    model.load_state_dict(checkpoint['model_state_dict'])\n",
    "    model.eval()\n",
    "    return model\n",
    "\n",
    "def preprocess_new_data(file_path):\n",
    "    import pandas as pd\n",
    "    import numpy as np\n",
    "    FEATURE_COLS = ['Voltage [V]', 'Current [A]', 'Temperature [degC]', 'Capacity [Ah]']\n",
    "    SEQUENCE_LENGTH = 50\n",
    "    df = pd.read_csv(file_path)\n",
    "    if 'SourceFile' not in df.columns:\n",
    "        df['SourceFile'] = os.path.basename(file_path)\n",
    "    norm_settings = {\n",
    "        'Voltage [V]': (2.5, 4.2),\n",
    "        'Current [A]': (-20, 20),\n",
    "        'Temperature [degC]': (-30, 50),\n",
    "        'Capacity [Ah]': (-3.5, 3.5)\n",
    "    }\n",
    "    for col in FEATURE_COLS:\n",
    "        min_val, max_val = norm_settings[col]\n",
    "        df[col] = (df[col] - min_val) / (max_val - min_val) * 2 - 1\n",
    "    features = df[FEATURE_COLS].values.astype(np.float32)\n",
    "    sequences = []\n",
    "    for i in range(len(features) - SEQUENCE_LENGTH + 1):\n",
    "        sequences.append(features[i:i + SEQUENCE_LENGTH])\n",
    "    sequences = torch.tensor(sequences, dtype=torch.float32)\n",
    "    return sequences, df['SOC [-]'].values.astype(np.float32) if 'SOC [-]' in df else None\n",
    "\n",
    "# Load the model\n",
    "model = load_model(model_path, device)\n",
    "print(\"Model loaded successfully\")\n",
    "\n",
    "# Create or use new data\n",
    "new_data_path = os.path.join(project_dir, \"new_data\", \"new_data.csv\")\n",
    "os.makedirs(os.path.dirname(new_data_path), exist_ok=True)\n",
    "if not os.path.exists(new_data_path):\n",
    "    # Create sample data if file doesn’t exist\n",
    "    data = {\n",
    "        'Voltage [V]': [3.8, 3.9, 4.0, 3.7] * 13,\n",
    "        'Current [A]': [-5, -4, -3, -2] * 13,\n",
    "        'Temperature [degC]': [25, 26, 27, 28] * 13,\n",
    "        'Capacity [Ah]': [2.0, 2.1, 2.2, 2.3] * 13,\n",
    "        'SOC [-]': [0.8, 0.81, 0.82, 0.83] * 13\n",
    "    }\n",
    "    df = pd.DataFrame(data)\n",
    "    df.to_csv(new_data_path, index=False)\n",
    "    print(f\"Sample new_data.csv created at {new_data_path}\")\n",
    "\n",
    "# Preprocess and predict\n",
    "new_sequences, new_labels = preprocess_new_data(new_data_path)\n",
    "\n",
    "def predict_and_compare(model, sequences, labels=None, device=device):\n",
    "    model.eval()\n",
    "    with torch.no_grad():\n",
    "        predictions = []\n",
    "        for seq in sequences:\n",
    "            seq = seq.unsqueeze(0).to(device)\n",
    "            output = model(seq)\n",
    "            predictions.append(output.cpu().item())\n",
    "        if labels is not None:\n",
    "            from sklearn.metrics import mean_squared_error, mean_absolute_error\n",
    "            mse = mean_squared_error(labels[SEQUENCE_LENGTH-1:], predictions)\n",
    "            mae = mean_absolute_error(labels[SEQUENCE_LENGTH-1:], predictions)\n",
    "            print(f\"New Data - MSE: {mse}, MAE: {mae}\")\n",
    "        return predictions\n",
    "\n",
    "predictions = predict_and_compare(model, new_sequences, new_labels)\n",
    "print(f\"Number of predictions: {len(predictions)}\")"
   ]
  },
  {
   "cell_type": "code",
   "execution_count": 8,
   "id": "99c64b0a",
   "metadata": {},
   "outputs": [
    {
     "name": "stdout",
     "output_type": "stream",
     "text": [
      "Plot saved as new_data_soc_plot.png\n"
     ]
    }
   ],
   "source": [
    "import matplotlib.pyplot as plt\n",
    "\n",
    "plt.figure(figsize=(12, 6))\n",
    "if new_labels is not None:\n",
    "    plt.plot(new_labels[SEQUENCE_LENGTH-1:], label='True SOC', color='blue')\n",
    "plt.plot(predictions, label='Predicted SOC', color='red')\n",
    "plt.title('SoC Prediction on New Data')\n",
    "plt.xlabel('Time')\n",
    "plt.ylabel('SOC')\n",
    "plt.ylim(0, 1)\n",
    "plt.legend()\n",
    "plt.grid(True)\n",
    "plt.savefig(os.path.join(project_dir, \"new_data_soc_plot.png\"))\n",
    "plt.close()\n",
    "print(\"Plot saved as new_data_soc_plot.png\")"
   ]
  },
  {
   "cell_type": "code",
   "execution_count": 9,
   "id": "58e4c245",
   "metadata": {},
   "outputs": [
    {
     "name": "stdout",
     "output_type": "stream",
     "text": [
      "Voltage [V] - Original range: 3.7 to 4.0, Normalized range: 0.41176470588235303 to 0.7647058823529409\n",
      "Current [A] - Original range: -5 to -2, Normalized range: -0.25 to -0.09999999999999998\n",
      "Temperature [degC] - Original range: 25 to 28, Normalized range: 0.375 to 0.44999999999999996\n",
      "Capacity [Ah] - Original range: 2.0 to 2.3, Normalized range: 0.5714285714285714 to 0.657142857142857\n"
     ]
    }
   ],
   "source": [
    "import pandas as pd\n",
    "import numpy as np\n",
    "\n",
    "new_data_path = os.path.join(r\"C:\\Users\\aknin\\Desktop\\MLproject-main\\new_data\", \"new_data.csv\")\n",
    "df = pd.read_csv(new_data_path)\n",
    "norm_settings = {\n",
    "    'Voltage [V]': (2.5, 4.2),\n",
    "    'Current [A]': (-20, 20),\n",
    "    'Temperature [degC]': (-30, 50),\n",
    "    'Capacity [Ah]': (-3.5, 3.5)\n",
    "}\n",
    "for col in ['Voltage [V]', 'Current [A]', 'Temperature [degC]', 'Capacity [Ah]']:\n",
    "    min_val, max_val = norm_settings[col]\n",
    "    normalized = (df[col] - min_val) / (max_val - min_val) * 2 - 1\n",
    "    print(f\"{col} - Original range: {df[col].min()} to {df[col].max()}, Normalized range: {normalized.min()} to {normalized.max()}\")"
   ]
  },
  {
   "cell_type": "code",
   "execution_count": 10,
   "id": "8d2fa65c",
   "metadata": {},
   "outputs": [
    {
     "name": "stdout",
     "output_type": "stream",
     "text": [
      "Training Data Stats:\n",
      "       Voltage [V]  Current [A]  Temperature [degC]  Capacity [Ah]\n",
      "count  2421.000000  2421.000000         2421.000000    2421.000000\n",
      "mean      3.729038     0.004660           23.885193      -1.336395\n",
      "std       0.315311     0.146278            0.100874       0.878857\n",
      "min       2.799930    -0.153250           23.555510      -2.780740\n",
      "25%       3.536320    -0.153250           23.870990      -2.097660\n",
      "50%       3.741460     0.000000           23.870990      -1.340550\n",
      "75%       3.993800     0.148140           23.976150      -0.583110\n",
      "max       4.200120     0.150690           24.291620       0.190200\n",
      "\n",
      "New Data Stats:\n",
      "       Voltage [V]  Current [A]  Temperature [degC]  Capacity [Ah]\n",
      "count    52.000000    52.000000           52.000000      52.000000\n",
      "mean      3.850000    -3.500000           26.500000       2.150000\n",
      "std       0.112894     1.128942            1.128942       0.112894\n",
      "min       3.700000    -5.000000           25.000000       2.000000\n",
      "25%       3.775000    -4.250000           25.750000       2.075000\n",
      "50%       3.850000    -3.500000           26.500000       2.150000\n",
      "75%       3.925000    -2.750000           27.250000       2.225000\n",
      "max       4.000000    -2.000000           28.000000       2.300000\n"
     ]
    }
   ],
   "source": [
    "# Load a sample of training data for comparison\n",
    "train_data_path = os.path.join(r\"C:\\Users\\aknin\\Desktop\\MLproject-main\\data_Processing\\Dataset\\BMS_processed\", \"25degC\", os.listdir(os.path.join(r\"C:\\Users\\aknin\\Desktop\\MLproject-main\\data_Processing\\Dataset\\BMS_processed\", \"25degC\"))[0])\n",
    "train_df = pd.read_csv(train_data_path)\n",
    "print(\"Training Data Stats:\")\n",
    "print(train_df[FEATURE_COLS].describe())\n",
    "print(\"\\nNew Data Stats:\")\n",
    "print(df[FEATURE_COLS].describe())"
   ]
  },
  {
   "cell_type": "code",
   "execution_count": 11,
   "id": "250947d8",
   "metadata": {},
   "outputs": [],
   "source": [
    "def forward(self, x):\n",
    "    h0 = torch.zeros(self.num_layers, x.size(0), self.hidden_size, dtype=x.dtype, device=x.device)\n",
    "    c0 = torch.zeros(self.num_layers, x.size(0), self.hidden_size, dtype=x.dtype, device=x.device)\n",
    "    out, _ = self.lstm(x, (h0, c0))\n",
    "    out = self.fc(out[:, -1, :])\n",
    "    # out = torch.sigmoid(out)  # Comment this out\n",
    "    return out"
   ]
  },
  {
   "cell_type": "code",
   "execution_count": 12,
   "id": "d209342c",
   "metadata": {},
   "outputs": [
    {
     "name": "stdout",
     "output_type": "stream",
     "text": [
      "New Data - MSE: 0.6209080815315247, MAE: 0.7879359126091003\n"
     ]
    }
   ],
   "source": [
    "model = load_model(model_path, device)\n",
    "predictions = predict_and_compare(model, new_sequences, new_labels)"
   ]
  },
  {
   "cell_type": "code",
   "execution_count": 13,
   "id": "ab47a542",
   "metadata": {},
   "outputs": [
    {
     "name": "stdout",
     "output_type": "stream",
     "text": [
      "Adjusted plot saved\n"
     ]
    }
   ],
   "source": [
    "plt.figure(figsize=(12, 6))\n",
    "plt.plot(new_labels[SEQUENCE_LENGTH-1:], label='True SOC', color='blue')\n",
    "plt.plot(predictions, label='Predicted SOC', color='red')\n",
    "plt.title('SoC Prediction on New Data (Adjusted)')\n",
    "plt.xlabel('Time')\n",
    "plt.ylabel('SOC')\n",
    "plt.ylim(0, 1)\n",
    "plt.legend()\n",
    "plt.grid(True)\n",
    "plt.savefig(os.path.join(r\"C:\\Users\\aknin\\Desktop\\MLproject-main\", \"new_data_soc_plot_adjusted.png\"))\n",
    "plt.close()\n",
    "print(\"Adjusted plot saved\")"
   ]
  },
  {
   "cell_type": "markdown",
   "id": "58bad358",
   "metadata": {},
   "source": [
    "second trial of etismation using the new model \n"
   ]
  },
  {
   "cell_type": "code",
   "execution_count": 1,
   "id": "85478ad3",
   "metadata": {},
   "outputs": [
    {
     "name": "stdout",
     "output_type": "stream",
     "text": [
      "Model loaded successfully\n"
     ]
    }
   ],
   "source": [
    "import torch\n",
    "import os\n",
    "import sys\n",
    "\n",
    "# Add project directory to path\n",
    "project_dir = r\"C:\\Users\\aknin\\Desktop\\MLproject-main\"\n",
    "sys.path.append(project_dir)\n",
    "\n",
    "# Import the SoCLSTM class\n",
    "from modeling_and_evaluation.SoCLSTM import SoCLSTM\n",
    "\n",
    "# Load the model\n",
    "model_path = os.path.join(project_dir, \"soc_lstm_model_best.pth\")\n",
    "device = torch.device(\"cuda:0\" if torch.cuda.is_available() else \"cpu\")\n",
    "def load_model(model_path, device):\n",
    "    checkpoint = torch.load(model_path, map_location=device)\n",
    "    model = SoCLSTM(\n",
    "        input_size=checkpoint['input_size'],\n",
    "        hidden_size=checkpoint['hidden_size'],\n",
    "        num_layers=checkpoint['num_layers']\n",
    "    ).to(device)\n",
    "    model.load_state_dict(checkpoint['model_state_dict'])\n",
    "    model.eval()\n",
    "    return model\n",
    "\n",
    "model = load_model(model_path, device)\n",
    "print(\"Model loaded successfully\")"
   ]
  },
  {
   "cell_type": "code",
   "execution_count": 2,
   "id": "56e930ed",
   "metadata": {},
   "outputs": [
    {
     "name": "stdout",
     "output_type": "stream",
     "text": [
      "Loaded 161 sequences from new_data2.csv\n"
     ]
    },
    {
     "name": "stderr",
     "output_type": "stream",
     "text": [
      "C:\\Users\\aknin\\AppData\\Local\\Temp\\ipykernel_17308\\2194048250.py:24: UserWarning: Creating a tensor from a list of numpy.ndarrays is extremely slow. Please consider converting the list to a single numpy.ndarray with numpy.array() before converting to a tensor. (Triggered internally at C:\\actions-runner\\_work\\pytorch\\pytorch\\pytorch\\torch\\csrc\\utils\\tensor_new.cpp:257.)\n",
      "  sequences = torch.tensor(sequences, dtype=torch.float32)\n"
     ]
    }
   ],
   "source": [
    "import pandas as pd\n",
    "import numpy as np\n",
    "\n",
    "FEATURE_COLS = ['Voltage [V]', 'Current [A]', 'Temperature [degC]', 'Capacity [Ah]']\n",
    "SEQUENCE_LENGTH = 50\n",
    "\n",
    "def preprocess_new_data(file_path):\n",
    "    df = pd.read_csv(file_path)\n",
    "    if 'SourceFile' not in df.columns:\n",
    "        df['SourceFile'] = os.path.basename(file_path)\n",
    "    norm_settings = {\n",
    "        'Voltage [V]': (2.5, 4.2),\n",
    "        'Current [A]': (-20, 20),\n",
    "        'Temperature [degC]': (-30, 50),\n",
    "        'Capacity [Ah]': (-3.5, 3.5)\n",
    "    }\n",
    "    for col in FEATURE_COLS:\n",
    "        min_val, max_val = norm_settings[col]\n",
    "        df[col] = (df[col] - min_val) / (max_val - min_val) * 2 - 1\n",
    "    features = df[FEATURE_COLS].values.astype(np.float32)\n",
    "    sequences = []\n",
    "    for i in range(len(features) - SEQUENCE_LENGTH + 1):\n",
    "        sequences.append(features[i:i + SEQUENCE_LENGTH])\n",
    "    sequences = torch.tensor(sequences, dtype=torch.float32)\n",
    "    return sequences\n",
    "\n",
    "new_data_path = os.path.join(project_dir, \"data_Processing\", \"Dataset\", \"new_data2.csv\")\n",
    "new_sequences = preprocess_new_data(new_data_path)\n",
    "print(f\"Loaded {len(new_sequences)} sequences from new_data2.csv\")"
   ]
  },
  {
   "cell_type": "code",
   "execution_count": 3,
   "id": "89e9c5f5",
   "metadata": {},
   "outputs": [
    {
     "name": "stdout",
     "output_type": "stream",
     "text": [
      "Number of predictions: 161\n",
      "Sample predictions: [0.032565608620643616, 0.03256635367870331, 0.032569028437137604, 0.03256755322217941, 0.03256228566169739]\n"
     ]
    }
   ],
   "source": [
    "def predict_soc(model, sequences, device=device):\n",
    "    model.eval()\n",
    "    with torch.no_grad():\n",
    "        predictions = []\n",
    "        for seq in sequences:\n",
    "            seq = seq.unsqueeze(0).to(device)\n",
    "            output = model(seq)\n",
    "            predictions.append(output.cpu().item())\n",
    "        return predictions\n",
    "\n",
    "predictions = predict_soc(model, new_sequences)\n",
    "print(f\"Number of predictions: {len(predictions)}\")\n",
    "print(f\"Sample predictions: {predictions[:5]}\")  # Show first 5 predictions"
   ]
  },
  {
   "cell_type": "code",
   "execution_count": 4,
   "id": "b462a57a",
   "metadata": {},
   "outputs": [
    {
     "name": "stdout",
     "output_type": "stream",
     "text": [
      "Plot saved as new_data2_soc_plot.png\n"
     ]
    }
   ],
   "source": [
    "import matplotlib.pyplot as plt\n",
    "\n",
    "plt.figure(figsize=(12, 6))\n",
    "plt.plot(predictions, label='Predicted SOC', color='red')\n",
    "plt.title('SoC Prediction on new_data2.csv')\n",
    "plt.xlabel('Time')\n",
    "plt.ylabel('SOC')\n",
    "plt.ylim(0, 1)  # Assuming SoC is in [0, 1] due to sigmoid\n",
    "plt.legend()\n",
    "plt.grid(True)\n",
    "plt.savefig(os.path.join(project_dir, \"new_data2_soc_plot.png\"))\n",
    "plt.close()\n",
    "print(\"Plot saved as new_data2_soc_plot.png\")"
   ]
  },
  {
   "cell_type": "code",
   "execution_count": 4,
   "id": "caf09b0d",
   "metadata": {},
   "outputs": [
    {
     "name": "stdout",
     "output_type": "stream",
     "text": [
      "Files in project directory: ['.vscode', '551_Charge5_processed.csv_soc_plot.png', '551_Mixed1_processed.csv_soc_plot.png', '552_Charge11_processed.csv_soc_plot.png', '552_Charge16_processed.csv_soc_plot.png', '555_C20DisCh_processed.csv_soc_plot.png', '562_Mixed7_processed.csv_soc_plot.png', '562_PausCycl_processed.csv_soc_plot.png', '567_Charge8_processed.csv_soc_plot.png', '571_Charge11_processed.csv_soc_plot.png', '571_Charge14_processed.csv_soc_plot.png', '575_HPPC_processed.csv_soc_plot.png', '585_Dis_2C_processed.csv_soc_plot.png', '589_Mixed1_processed.csv_soc_plot.png', '590_Charge15_processed.csv_soc_plot.png', '590_Mixed6_processed.csv_soc_plot.png', '596_Charge3_processed.csv_soc_plot.png', '601_Charge8_processed.csv_soc_plot.png', '602_Charge11_processed.csv_soc_plot.png', '602_Mixed4_processed.csv_soc_plot.png', '611_Charge15_processed.csv_soc_plot.png', '611_Mixed7_processed.csv_soc_plot.png', 'data_Processing', 'documents', 'images', 'LICENSE', 'modeling_and_evaluation', 'models', 'new_data', 'new_data2_soc_plot.png', 'new_data_soc_plot.png', 'new_data_soc_plot_adjusted.png', 'notebooks', 'processing_log.log', 'README.md', 'requirements.txt', 'soc_lstm_model_best.pth', 'webpage']\n"
     ]
    }
   ],
   "source": [
    "import os\n",
    "project_dir = r\"C:\\Users\\aknin\\Desktop\\MLproject-main\"\n",
    "print(\"Files in project directory:\", os.listdir(project_dir))"
   ]
  },
  {
   "cell_type": "code",
   "execution_count": 7,
   "id": "4497dd49",
   "metadata": {},
   "outputs": [
    {
     "name": "stdout",
     "output_type": "stream",
     "text": [
      "Contents of modeling_and_evaluation: ['.ipynb_checkpoints', 'SoCLSTM.py', 'SoC_Estimation_LSTM.ipynb', '__pycache__']\n"
     ]
    }
   ],
   "source": [
    "import os\n",
    "project_dir = r\"C:\\Users\\aknin\\Desktop\\MLproject-main\"\n",
    "modeling_dir = os.path.join(project_dir, \"modeling_and_evaluation\")\n",
    "print(\"Contents of modeling_and_evaluation:\", os.listdir(modeling_dir) if os.path.exists(modeling_dir) else \"Directory not found\")"
   ]
  },
  {
   "cell_type": "code",
   "execution_count": 8,
   "id": "dca31131",
   "metadata": {},
   "outputs": [
    {
     "name": "stdout",
     "output_type": "stream",
     "text": [
      "Created __init__.py in modeling_and_evaluation\n"
     ]
    }
   ],
   "source": [
    "import os\n",
    "project_dir = r\"C:\\Users\\aknin\\Desktop\\MLproject-main\"\n",
    "modeling_dir = os.path.join(project_dir, \"modeling_and_evaluation\")\n",
    "init_path = os.path.join(modeling_dir, \"__init__.py\")\n",
    "if not os.path.exists(init_path):\n",
    "    with open(init_path, 'w') as f:\n",
    "        pass  # Creates an empty __init__.py\n",
    "    print(\"Created __init__.py in modeling_and_evaluation\")\n",
    "else:\n",
    "    print(\"__init__.py already exists\")"
   ]
  },
  {
   "cell_type": "code",
   "execution_count": 1,
   "id": "1e22a902",
   "metadata": {},
   "outputs": [
    {
     "name": "stdout",
     "output_type": "stream",
     "text": [
      "SoCLSTM imported successfully\n"
     ]
    }
   ],
   "source": [
    "import sys\n",
    "sys.path.append(r\"C:\\Users\\aknin\\Desktop\\MLproject-main\")\n",
    "from modeling_and_evaluation.SoCLSTM import SoCLSTM\n",
    "print(\"SoCLSTM imported successfully\")"
   ]
  },
  {
   "cell_type": "code",
   "execution_count": 5,
   "id": "ac706c4a",
   "metadata": {},
   "outputs": [
    {
     "name": "stdout",
     "output_type": "stream",
     "text": [
      "Model loaded successfully\n"
     ]
    },
    {
     "name": "stderr",
     "output_type": "stream",
     "text": [
      "C:\\Users\\aknin\\AppData\\Local\\Temp\\ipykernel_15384\\1854582354.py:48: UserWarning: Creating a tensor from a list of numpy.ndarrays is extremely slow. Please consider converting the list to a single numpy.ndarray with numpy.array() before converting to a tensor. (Triggered internally at C:\\actions-runner\\_work\\pytorch\\pytorch\\pytorch\\torch\\csrc\\utils\\tensor_new.cpp:257.)\n",
      "  sequences = torch.tensor(sequences, dtype=torch.float32)\n"
     ]
    },
    {
     "name": "stdout",
     "output_type": "stream",
     "text": [
      "Loaded 51 sequences from predictSoc.csv\n",
      "Number of predictions: 51\n",
      "Sample predictions: [0.03348390758037567, 0.03348390758037567, 0.03348390758037567, 0.03348390758037567, 0.03348390758037567]\n",
      "Plot saved as predictSoc_soc_plot.png\n"
     ]
    },
    {
     "ename": "NameError",
     "evalue": "name 'norm_settings' is not defined",
     "output_type": "error",
     "traceback": [
      "\u001b[31m---------------------------------------------------------------------------\u001b[39m",
      "\u001b[31mNameError\u001b[39m                                 Traceback (most recent call last)",
      "\u001b[36mCell\u001b[39m\u001b[36m \u001b[39m\u001b[32mIn[5]\u001b[39m\u001b[32m, line 85\u001b[39m\n\u001b[32m     83\u001b[39m df = pd.read_csv(new_data_path)\n\u001b[32m     84\u001b[39m \u001b[38;5;28;01mfor\u001b[39;00m col \u001b[38;5;129;01min\u001b[39;00m FEATURE_COLS:\n\u001b[32m---> \u001b[39m\u001b[32m85\u001b[39m     min_val, max_val = \u001b[43mnorm_settings\u001b[49m[col]\n\u001b[32m     86\u001b[39m     normalized = (df[col] - min_val) / (max_val - min_val) * \u001b[32m2\u001b[39m - \u001b[32m1\u001b[39m\n\u001b[32m     87\u001b[39m     \u001b[38;5;28mprint\u001b[39m(\u001b[33mf\u001b[39m\u001b[33m\"\u001b[39m\u001b[38;5;132;01m{\u001b[39;00mcol\u001b[38;5;132;01m}\u001b[39;00m\u001b[33m - Original range: \u001b[39m\u001b[38;5;132;01m{\u001b[39;00mdf[col].min()\u001b[38;5;132;01m}\u001b[39;00m\u001b[33m to \u001b[39m\u001b[38;5;132;01m{\u001b[39;00mdf[col].max()\u001b[38;5;132;01m}\u001b[39;00m\u001b[33m, Normalized range: \u001b[39m\u001b[38;5;132;01m{\u001b[39;00mnormalized.min()\u001b[38;5;132;01m}\u001b[39;00m\u001b[33m to \u001b[39m\u001b[38;5;132;01m{\u001b[39;00mnormalized.max()\u001b[38;5;132;01m}\u001b[39;00m\u001b[33m\"\u001b[39m)\n",
      "\u001b[31mNameError\u001b[39m: name 'norm_settings' is not defined"
     ]
    }
   ],
   "source": [
    "import torch\n",
    "import os\n",
    "import sys\n",
    "from modeling_and_evaluation.SoCLSTM import SoCLSTM\n",
    "\n",
    "project_dir = r\"C:\\Users\\aknin\\Desktop\\MLproject-main\"\n",
    "sys.path.append(project_dir)\n",
    "\n",
    "model_path = os.path.join(project_dir, \"soc_lstm_model_best.pth\")\n",
    "device = torch.device(\"cuda:0\" if torch.cuda.is_available() else \"cpu\")\n",
    "def load_model(model_path, device):\n",
    "    checkpoint = torch.load(model_path, map_location=device)\n",
    "    model = SoCLSTM(\n",
    "        input_size=checkpoint['input_size'],\n",
    "        hidden_size=checkpoint['hidden_size'],\n",
    "        num_layers=checkpoint['num_layers']\n",
    "    ).to(device)\n",
    "    model.load_state_dict(checkpoint['model_state_dict'])\n",
    "    model.eval()\n",
    "    return model\n",
    "\n",
    "model = load_model(model_path, device)\n",
    "print(\"Model loaded successfully\")\n",
    "\n",
    "import pandas as pd\n",
    "import numpy as np\n",
    "\n",
    "FEATURE_COLS = ['Voltage [V]', 'Current [A]', 'Temperature [degC]', 'Capacity [Ah]']\n",
    "SEQUENCE_LENGTH = 50\n",
    "\n",
    "def preprocess_new_data(file_path):\n",
    "    df = pd.read_csv(file_path)\n",
    "    if 'SourceFile' not in df.columns:\n",
    "        df['SourceFile'] = os.path.basename(file_path)\n",
    "    norm_settings = {\n",
    "        'Voltage [V]': (2.5, 4.2),\n",
    "        'Current [A]': (-20, 20),\n",
    "        'Temperature [degC]': (-30, 50),\n",
    "        'Capacity [Ah]': (-3.5, 3.5)\n",
    "    }\n",
    "    for col in FEATURE_COLS:\n",
    "        min_val, max_val = norm_settings[col]\n",
    "        df[col] = (df[col] - min_val) / (max_val - min_val) * 2 - 1\n",
    "    features = df[FEATURE_COLS].values.astype(np.float32)\n",
    "    sequences = []\n",
    "    for i in range(len(features) - SEQUENCE_LENGTH + 1):\n",
    "        sequences.append(features[i:i + SEQUENCE_LENGTH])\n",
    "    sequences = torch.tensor(sequences, dtype=torch.float32)\n",
    "    return sequences\n",
    "\n",
    "new_data_path = os.path.join(project_dir, \"data_Processing\", \"Dataset\", \"predictSoc.csv\")\n",
    "new_sequences = preprocess_new_data(new_data_path)\n",
    "print(f\"Loaded {len(new_sequences)} sequences from predictSoc.csv\")\n",
    "\n",
    "def predict_soc(model, sequences, device=device):\n",
    "    model.eval()\n",
    "    with torch.no_grad():\n",
    "        predictions = []\n",
    "        for seq in sequences:\n",
    "            seq = seq.unsqueeze(0).to(device)\n",
    "            output = model(seq)\n",
    "            predictions.append(output.cpu().item())\n",
    "        return predictions\n",
    "\n",
    "predictions = predict_soc(model, new_sequences)\n",
    "print(f\"Number of predictions: {len(predictions)}\")\n",
    "print(f\"Sample predictions: {predictions[:5]}\")\n",
    "\n",
    "import matplotlib.pyplot as plt\n",
    "plt.figure(figsize=(12, 6))\n",
    "plt.plot(predictions, label='Predicted SOC', color='red')\n",
    "plt.title('SoC Prediction on predictSoc.csv')\n",
    "plt.xlabel('Time')\n",
    "plt.ylabel('SOC')\n",
    "plt.ylim(0, 1)\n",
    "plt.legend()\n",
    "plt.grid(True)\n",
    "plt.savefig(os.path.join(project_dir, \"predictSoc_soc_plot.png\"))\n",
    "plt.close()\n",
    "print(\"Plot saved as predictSoc_soc_plot.png\")\n",
    "\n",
    "# Normalization check\n",
    "df = pd.read_csv(new_data_path)\n",
    "for col in FEATURE_COLS:\n",
    "    min_val, max_val = norm_settings[col]\n",
    "    normalized = (df[col] - min_val) / (max_val - min_val) * 2 - 1\n",
    "    print(f\"{col} - Original range: {df[col].min()} to {df[col].max()}, Normalized range: {normalized.min()} to {normalized.max()}\")"
   ]
  },
  {
   "cell_type": "code",
   "execution_count": 6,
   "id": "36b43977",
   "metadata": {},
   "outputs": [
    {
     "name": "stdout",
     "output_type": "stream",
     "text": [
      "Model loaded successfully\n",
      "Loaded 51 sequences from predictSoc.csv\n",
      "Number of predictions: 51\n",
      "Sample predictions: [0.03348390758037567, 0.03348390758037567, 0.03348390758037567, 0.03348390758037567, 0.03348390758037567]\n",
      "Plot saved as predictSoc_soc_plot.png\n",
      "Voltage [V] - Original range: 3.68975 to 3.68975, Normalized range: 0.39970588235294113 to 0.39970588235294113\n",
      "Current [A] - Original range: -1.49925 to -1.49925, Normalized range: -0.07496250000000004 to -0.07496250000000004\n",
      "Temperature [degC] - Original range: 38.48802 to 38.48802, Normalized range: 0.7122005000000002 to 0.7122005000000002\n",
      "Capacity [Ah] - Original range: -1.19676 to -1.19676, Normalized range: -0.34193142857142866 to -0.34193142857142866\n"
     ]
    }
   ],
   "source": [
    "import torch\n",
    "import os\n",
    "import sys\n",
    "from modeling_and_evaluation.SoCLSTM import SoCLSTM\n",
    "\n",
    "project_dir = r\"C:\\Users\\aknin\\Desktop\\MLproject-main\"\n",
    "sys.path.append(project_dir)\n",
    "\n",
    "model_path = os.path.join(project_dir, \"soc_lstm_model_best.pth\")\n",
    "device = torch.device(\"cuda:0\" if torch.cuda.is_available() else \"cpu\")\n",
    "def load_model(model_path, device):\n",
    "    checkpoint = torch.load(model_path, map_location=device)\n",
    "    model = SoCLSTM(\n",
    "        input_size=checkpoint['input_size'],\n",
    "        hidden_size=checkpoint['hidden_size'],\n",
    "        num_layers=checkpoint['num_layers']\n",
    "    ).to(device)\n",
    "    model.load_state_dict(checkpoint['model_state_dict'])\n",
    "    model.eval()\n",
    "    return model\n",
    "\n",
    "model = load_model(model_path, device)\n",
    "print(\"Model loaded successfully\")\n",
    "\n",
    "import pandas as pd\n",
    "import numpy as np\n",
    "\n",
    "FEATURE_COLS = ['Voltage [V]', 'Current [A]', 'Temperature [degC]', 'Capacity [Ah]']\n",
    "SEQUENCE_LENGTH = 50\n",
    "\n",
    "# Move norm_settings to global scope\n",
    "norm_settings = {\n",
    "    'Voltage [V]': (2.5, 4.2),\n",
    "    'Current [A]': (-20, 20),\n",
    "    'Temperature [degC]': (-30, 50),\n",
    "    'Capacity [Ah]': (-3.5, 3.5)\n",
    "}\n",
    "\n",
    "def preprocess_new_data(file_path):\n",
    "    df = pd.read_csv(file_path)\n",
    "    if 'SourceFile' not in df.columns:\n",
    "        df['SourceFile'] = os.path.basename(file_path)\n",
    "    for col in FEATURE_COLS:\n",
    "        min_val, max_val = norm_settings[col]\n",
    "        df[col] = (df[col] - min_val) / (max_val - min_val) * 2 - 1\n",
    "    features = df[FEATURE_COLS].values.astype(np.float32)\n",
    "    sequences = []\n",
    "    for i in range(len(features) - SEQUENCE_LENGTH + 1):\n",
    "        sequences.append(features[i:i + SEQUENCE_LENGTH])\n",
    "    sequences = torch.tensor(sequences, dtype=torch.float32)\n",
    "    return sequences\n",
    "\n",
    "new_data_path = os.path.join(project_dir, \"data_Processing\", \"Dataset\", \"predictSoc.csv\")\n",
    "new_sequences = preprocess_new_data(new_data_path)\n",
    "print(f\"Loaded {len(new_sequences)} sequences from predictSoc.csv\")\n",
    "\n",
    "def predict_soc(model, sequences, device=device):\n",
    "    model.eval()\n",
    "    with torch.no_grad():\n",
    "        predictions = []\n",
    "        for seq in sequences:\n",
    "            seq = seq.unsqueeze(0).to(device)\n",
    "            output = model(seq)\n",
    "            predictions.append(output.cpu().item())\n",
    "        return predictions\n",
    "\n",
    "predictions = predict_soc(model, new_sequences)\n",
    "print(f\"Number of predictions: {len(predictions)}\")\n",
    "print(f\"Sample predictions: {predictions[:5]}\")\n",
    "\n",
    "import matplotlib.pyplot as plt\n",
    "plt.figure(figsize=(12, 6))\n",
    "plt.plot(predictions, label='Predicted SOC', color='red')\n",
    "plt.title('SoC Prediction on predictSoc.csv')\n",
    "plt.xlabel('Time')\n",
    "plt.ylabel('SOC')\n",
    "plt.ylim(0, 1)\n",
    "plt.legend()\n",
    "plt.grid(True)\n",
    "plt.savefig(os.path.join(project_dir, \"predictSoc_soc_plot.png\"))\n",
    "plt.close()\n",
    "print(\"Plot saved as predictSoc_soc_plot.png\")\n",
    "\n",
    "# Normalization check\n",
    "df = pd.read_csv(new_data_path)\n",
    "for col in FEATURE_COLS:\n",
    "    min_val, max_val = norm_settings[col]\n",
    "    normalized = (df[col] - min_val) / (max_val - min_val) * 2 - 1\n",
    "    print(f\"{col} - Original range: {df[col].min()} to {df[col].max()}, Normalized range: {normalized.min()} to {normalized.max()}\")"
   ]
  },
  {
   "cell_type": "code",
   "execution_count": 4,
   "id": "84e9856e",
   "metadata": {},
   "outputs": [
    {
     "name": "stdout",
     "output_type": "stream",
     "text": [
      "Normalized dataset saved to C:\\Users\\aknin\\Desktop\\MLproject-main\\normalized_margednew.csv with 493002 rows\n",
      "   Voltage [V]  Current [A]  Temperature [degC]  Capacity [Ah]  \\\n",
      "0     1.558404     0.355516            0.826614       1.160566   \n",
      "1     1.548997     0.356651            0.826614       1.157744   \n",
      "2     1.540703     0.356651            0.815143       1.154934   \n",
      "3     1.532443     0.355516            0.809408       1.152113   \n",
      "4     1.524707     0.355516            0.815143       1.149291   \n",
      "\n",
      "   Cumulative_Capacity_Ah   SOC [-]  Time [s]  Power [W]  \n",
      "0                1.209350  1.000000         0  -0.639514  \n",
      "1                1.206496  0.999524         1  -0.628398  \n",
      "2                1.203642  0.999032         2  -0.628017  \n",
      "3                1.200738  0.998520         3  -0.638300  \n",
      "4                1.197836  0.997990         4  -0.637938  \n"
     ]
    }
   ],
   "source": [
    "import os\n",
    "import pandas as pd\n",
    "import numpy as np\n",
    "from sklearn.preprocessing import StandardScaler\n",
    "\n",
    "# Set project directory\n",
    "project_dir = r\"C:\\Users\\aknin\\Desktop\\MLproject-main\"\n",
    "data_path = os.path.join(project_dir, \"margednew.csv\")\n",
    "output_path = os.path.join(project_dir, \"normalized_margednew.csv\")\n",
    "\n",
    "# Load the data\n",
    "df = pd.read_csv(data_path)\n",
    "\n",
    "# Define feature columns and label column\n",
    "FEATURE_COLS = ['Voltage [V]', 'Current [A]', 'Temperature [degC]', 'Capacity [Ah]', 'Cumulative_Capacity_Ah']\n",
    "LABEL_COL = 'SOC [-]'\n",
    "\n",
    "# Add Time [s] if missing (assuming sequential data with 1s intervals)\n",
    "if 'Time [s]' not in df.columns:\n",
    "    df['Time [s]'] = range(len(df))\n",
    "\n",
    "# Calculate Power [W] if not present (using Voltage and Current)\n",
    "if 'Power [W]' not in df.columns:\n",
    "    df['Power [W]'] = df['Voltage [V]'] * df['Current [A]']\n",
    "\n",
    "# Normalize features\n",
    "scaler = StandardScaler()\n",
    "df[FEATURE_COLS] = scaler.fit_transform(df[FEATURE_COLS])\n",
    "\n",
    "# Save the normalized dataset\n",
    "df.to_csv(output_path, index=False)\n",
    "print(f\"Normalized dataset saved to {output_path} with {len(df)} rows\")\n",
    "print(df.head())  # Preview the first few rows"
   ]
  },
  {
   "cell_type": "code",
   "execution_count": 5,
   "id": "bf0db6ba",
   "metadata": {},
   "outputs": [
    {
     "name": "stdout",
     "output_type": "stream",
     "text": [
      "Train data shape: torch.Size([394401, 5]), Labels shape: torch.Size([394401])\n",
      "Validation data shape: torch.Size([49300, 5]), Labels shape: torch.Size([49300])\n",
      "Test data shape: torch.Size([49301, 5]), Labels shape: torch.Size([49301])\n"
     ]
    }
   ],
   "source": [
    "import torch\n",
    "from torch.utils.data import Dataset, DataLoader\n",
    "from sklearn.model_selection import train_test_split\n",
    "\n",
    "# Define constants\n",
    "SEQUENCE_LENGTH = 20\n",
    "BATCH_SIZE = 128\n",
    "device = torch.device(\"cuda:0\" if torch.cuda.is_available() else \"cpu\")\n",
    "\n",
    "# Custom dataset class\n",
    "class BatteryDatasetLSTM(Dataset):\n",
    "    def __init__(self, data_tensor, labels_tensor, sequence_length=SEQUENCE_LENGTH):\n",
    "        self.sequence_length = sequence_length\n",
    "        self.features = data_tensor\n",
    "        self.labels = labels_tensor\n",
    "\n",
    "    def __len__(self):\n",
    "        return len(self.features) - self.sequence_length + 1\n",
    "\n",
    "    def __getitem__(self, idx):\n",
    "        sequence = self.features[idx:idx + self.sequence_length]\n",
    "        label = self.labels[idx + self.sequence_length - 1]\n",
    "        return sequence, label\n",
    "\n",
    "# Load normalized data\n",
    "normalized_path = os.path.join(project_dir, \"normalized_margednew.csv\")\n",
    "df = pd.read_csv(normalized_path)\n",
    "\n",
    "# Convert to tensors\n",
    "features_tensor = torch.tensor(df[FEATURE_COLS].values, dtype=torch.float32).to(device)\n",
    "labels_tensor = torch.tensor(df[LABEL_COL].values, dtype=torch.float32).to(device)\n",
    "\n",
    "# Split the data (row-based since it's a single file)\n",
    "train_data, temp_data = train_test_split(df, test_size=0.2, random_state=42)\n",
    "val_data, test_data = train_test_split(temp_data, test_size=0.5, random_state=42)\n",
    "\n",
    "# Extract features and labels for each split\n",
    "train_features = torch.tensor(train_data[FEATURE_COLS].values, dtype=torch.float32).to(device)\n",
    "train_labels = torch.tensor(train_data[LABEL_COL].values, dtype=torch.float32).to(device)\n",
    "val_features = torch.tensor(val_data[FEATURE_COLS].values, dtype=torch.float32).to(device)\n",
    "val_labels = torch.tensor(val_data[LABEL_COL].values, dtype=torch.float32).to(device)\n",
    "test_features = torch.tensor(test_data[FEATURE_COLS].values, dtype=torch.float32).to(device)\n",
    "test_labels = torch.tensor(test_data[LABEL_COL].values, dtype=torch.float32).to(device)\n",
    "\n",
    "# Create datasets with sequences\n",
    "train_dataset = BatteryDatasetLSTM(train_features, train_labels)\n",
    "val_dataset = BatteryDatasetLSTM(val_features, val_labels)\n",
    "test_dataset = BatteryDatasetLSTM(test_features, test_labels)\n",
    "\n",
    "# Create data loaders\n",
    "train_loader = DataLoader(train_dataset, batch_size=BATCH_SIZE, shuffle=True)\n",
    "val_loader = DataLoader(val_dataset, batch_size=BATCH_SIZE, shuffle=False)\n",
    "test_loader = DataLoader(test_dataset, batch_size=BATCH_SIZE, shuffle=False)\n",
    "\n",
    "print(f\"Train data shape: {train_features.shape}, Labels shape: {train_labels.shape}\")\n",
    "print(f\"Validation data shape: {val_features.shape}, Labels shape: {val_labels.shape}\")\n",
    "print(f\"Test data shape: {test_features.shape}, Labels shape: {test_labels.shape}\")"
   ]
  },
  {
   "cell_type": "code",
   "execution_count": 6,
   "id": "25e2965f",
   "metadata": {},
   "outputs": [
    {
     "name": "stderr",
     "output_type": "stream",
     "text": [
      "[I 2025-06-12 18:38:53,880] A new study created in memory with name: no-name-616a4882-fbe1-4e54-9a7a-accf3b2d38f9\n"
     ]
    },
    {
     "name": "stdout",
     "output_type": "stream",
     "text": [
      "Epoch 1/10, Train Loss: 0.0944375637689053, Validation Loss: 0.0714515124162939\n",
      "Epoch 2/10, Train Loss: 0.07478422285127106, Validation Loss: 0.07139945223232624\n",
      "Epoch 3/10, Train Loss: 0.07580131776195738, Validation Loss: 0.07762155158039896\n",
      "Epoch 4/10, Train Loss: 0.0748898310696804, Validation Loss: 0.07274080815826364\n",
      "Epoch 5/10, Train Loss: 0.07462402109581298, Validation Loss: 0.08116033298344655\n",
      "Epoch 6/10, Train Loss: 0.0744169875133316, Validation Loss: 0.07106054748934476\n",
      "Epoch 7/10, Train Loss: 0.0745301754174586, Validation Loss: 0.07097960685239864\n",
      "Epoch 8/10, Train Loss: 0.07489048943919535, Validation Loss: 0.07808971143004345\n",
      "Epoch 9/10, Train Loss: 0.07493099511288576, Validation Loss: 0.12589464355754748\n",
      "Epoch 10/10, Train Loss: 0.07470040302542337, Validation Loss: 0.08333442749822309\n"
     ]
    },
    {
     "name": "stderr",
     "output_type": "stream",
     "text": [
      "[I 2025-06-13 01:17:40,690] Trial 0 finished with value: 0.08333442749822309 and parameters: {'hidden_size': 100, 'num_layers': 5, 'learning_rate': 0.0862238107759535}. Best is trial 0 with value: 0.08333442749822309.\n"
     ]
    },
    {
     "name": "stdout",
     "output_type": "stream",
     "text": [
      "Epoch 1/10, Train Loss: 0.016962599549773794, Validation Loss: 0.0017375393566757518\n",
      "Epoch 2/10, Train Loss: 0.0015583287194741546, Validation Loss: 0.0015253156404040507\n",
      "Epoch 3/10, Train Loss: 0.0013514891707006446, Validation Loss: 0.0012706195992306646\n",
      "Epoch 4/10, Train Loss: 0.001245130983710946, Validation Loss: 0.0011816276973258184\n",
      "Epoch 5/10, Train Loss: 0.0011788570813339166, Validation Loss: 0.0011815920025333424\n",
      "Epoch 6/10, Train Loss: 0.001141319487734633, Validation Loss: 0.0011013982480650025\n",
      "Epoch 7/10, Train Loss: 0.00111370587427388, Validation Loss: 0.0010988603913348284\n",
      "Epoch 8/10, Train Loss: 0.0010948597434714377, Validation Loss: 0.0010712588152551415\n",
      "Epoch 9/10, Train Loss: 0.0010772345649397819, Validation Loss: 0.0014124018288823087\n"
     ]
    },
    {
     "name": "stderr",
     "output_type": "stream",
     "text": [
      "[I 2025-06-13 01:23:27,868] Trial 1 finished with value: 0.001049099412122126 and parameters: {'hidden_size': 10, 'num_layers': 3, 'learning_rate': 0.0005463453350441778}. Best is trial 1 with value: 0.001049099412122126.\n"
     ]
    },
    {
     "name": "stdout",
     "output_type": "stream",
     "text": [
      "Epoch 10/10, Train Loss: 0.0010618437237954184, Validation Loss: 0.001049099412122126\n",
      "Epoch 1/10, Train Loss: 0.08817871393228528, Validation Loss: 0.07028458557463217\n",
      "Epoch 2/10, Train Loss: 0.02935421653367648, Validation Loss: 0.008401505582975321\n",
      "Epoch 3/10, Train Loss: 0.007115935917759688, Validation Loss: 0.005483223011411384\n",
      "Epoch 4/10, Train Loss: 0.004265570671817059, Validation Loss: 0.003278830859822856\n",
      "Epoch 5/10, Train Loss: 0.0028622237666531803, Validation Loss: 0.0025297754927318876\n",
      "Epoch 6/10, Train Loss: 0.0023982216031647164, Validation Loss: 0.002235376139247251\n",
      "Epoch 7/10, Train Loss: 0.0021645976250899363, Validation Loss: 0.0020157907020458663\n",
      "Epoch 8/10, Train Loss: 0.0020130834464913133, Validation Loss: 0.0018984964019578214\n",
      "Epoch 9/10, Train Loss: 0.0019154218371125334, Validation Loss: 0.002220956553338826\n"
     ]
    },
    {
     "name": "stderr",
     "output_type": "stream",
     "text": [
      "[I 2025-06-13 01:51:11,375] Trial 2 finished with value: 0.0017705775015182802 and parameters: {'hidden_size': 87, 'num_layers': 4, 'learning_rate': 2.0725778635546442e-05}. Best is trial 1 with value: 0.001049099412122126.\n"
     ]
    },
    {
     "name": "stdout",
     "output_type": "stream",
     "text": [
      "Epoch 10/10, Train Loss: 0.001851490732769063, Validation Loss: 0.0017705775015182802\n",
      "Epoch 1/10, Train Loss: 0.12807645118812863, Validation Loss: 0.06706393922201401\n",
      "Epoch 2/10, Train Loss: 0.05290764030993787, Validation Loss: 0.015513585622083405\n",
      "Epoch 3/10, Train Loss: 0.010509017151262186, Validation Loss: 0.009331065860761352\n",
      "Epoch 4/10, Train Loss: 0.008482608921551808, Validation Loss: 0.007591421737764282\n",
      "Epoch 5/10, Train Loss: 0.006623065876254738, Validation Loss: 0.005515179787864822\n",
      "Epoch 6/10, Train Loss: 0.004587801635628874, Validation Loss: 0.0037675405804274554\n",
      "Epoch 7/10, Train Loss: 0.003380967931570981, Validation Loss: 0.0030262752256070965\n",
      "Epoch 8/10, Train Loss: 0.002868642255183857, Validation Loss: 0.0026542559099968594\n",
      "Epoch 9/10, Train Loss: 0.0025637759917920624, Validation Loss: 0.0023951083560204817\n"
     ]
    },
    {
     "name": "stderr",
     "output_type": "stream",
     "text": [
      "[I 2025-06-13 01:59:24,605] Trial 3 finished with value: 0.0022366479135031564 and parameters: {'hidden_size': 29, 'num_layers': 3, 'learning_rate': 1.8093184356473244e-05}. Best is trial 1 with value: 0.001049099412122126.\n"
     ]
    },
    {
     "name": "stdout",
     "output_type": "stream",
     "text": [
      "Epoch 10/10, Train Loss: 0.0023516662672523466, Validation Loss: 0.0022366479135031564\n",
      "Epoch 1/10, Train Loss: 0.19813649699522218, Validation Loss: 0.047478404595791675\n",
      "Epoch 2/10, Train Loss: 0.025790828503462825, Validation Loss: 0.010500961842718929\n",
      "Epoch 3/10, Train Loss: 0.008469091608930297, Validation Loss: 0.006998047137927322\n",
      "Epoch 4/10, Train Loss: 0.005800029595828531, Validation Loss: 0.004644941137449805\n",
      "Epoch 5/10, Train Loss: 0.0037633462383215104, Validation Loss: 0.002970743399831814\n",
      "Epoch 6/10, Train Loss: 0.002594638197174529, Validation Loss: 0.0022683648423169897\n",
      "Epoch 7/10, Train Loss: 0.0021736466454322064, Validation Loss: 0.002035350614264149\n",
      "Epoch 8/10, Train Loss: 0.002005664811446649, Validation Loss: 0.001926794873989052\n",
      "Epoch 9/10, Train Loss: 0.001910442049224667, Validation Loss: 0.0018544740282895448\n"
     ]
    },
    {
     "name": "stderr",
     "output_type": "stream",
     "text": [
      "[I 2025-06-13 02:04:10,999] Trial 4 finished with value: 0.001799779374335188 and parameters: {'hidden_size': 13, 'num_layers': 2, 'learning_rate': 3.379415730474414e-05}. Best is trial 1 with value: 0.001049099412122126.\n"
     ]
    },
    {
     "name": "stdout",
     "output_type": "stream",
     "text": [
      "Epoch 10/10, Train Loss: 0.0018455137128580306, Validation Loss: 0.001799779374335188\n",
      "Epoch 1/10, Train Loss: 0.12793906158142127, Validation Loss: 0.056954484997519865\n",
      "Epoch 2/10, Train Loss: 0.04460043236214394, Validation Loss: 0.027835588926362557\n",
      "Epoch 3/10, Train Loss: 0.014980633658383254, Validation Loss: 0.010118892883772298\n",
      "Epoch 4/10, Train Loss: 0.009300936658768192, Validation Loss: 0.008592900785468543\n",
      "Epoch 5/10, Train Loss: 0.007979032335330604, Validation Loss: 0.0074244255074565274\n",
      "Epoch 6/10, Train Loss: 0.006924657419439959, Validation Loss: 0.006458700674538045\n",
      "Epoch 7/10, Train Loss: 0.0060029558253901815, Validation Loss: 0.005566761535948247\n",
      "Epoch 8/10, Train Loss: 0.005123590990711526, Validation Loss: 0.004702737777837674\n",
      "Epoch 9/10, Train Loss: 0.004287867718501624, Validation Loss: 0.003920920699175991\n"
     ]
    },
    {
     "name": "stderr",
     "output_type": "stream",
     "text": [
      "[I 2025-06-13 02:09:37,631] Trial 5 finished with value: 0.0033436606255410617 and parameters: {'hidden_size': 26, 'num_layers': 2, 'learning_rate': 1.1555208689711537e-05}. Best is trial 1 with value: 0.001049099412122126.\n"
     ]
    },
    {
     "name": "stdout",
     "output_type": "stream",
     "text": [
      "Epoch 10/10, Train Loss: 0.003601198331647813, Validation Loss: 0.0033436606255410617\n",
      "Epoch 1/10, Train Loss: 0.0361067961168939, Validation Loss: 0.007172270146116678\n",
      "Epoch 2/10, Train Loss: 0.00506276512956839, Validation Loss: 0.0034220735271795473\n",
      "Epoch 3/10, Train Loss: 0.0028825410077444142, Validation Loss: 0.0024864719573554754\n",
      "Epoch 4/10, Train Loss: 0.0023030769839720577, Validation Loss: 0.002095233059097371\n",
      "Epoch 5/10, Train Loss: 0.0020176318018311316, Validation Loss: 0.001896233457842434\n",
      "Epoch 6/10, Train Loss: 0.001865307710903375, Validation Loss: 0.00177758089799031\n",
      "Epoch 7/10, Train Loss: 0.0017655258326771434, Validation Loss: 0.0017087141283286538\n",
      "Epoch 8/10, Train Loss: 0.0016866744782849372, Validation Loss: 0.0016375524832576349\n",
      "Epoch 9/10, Train Loss: 0.0016223704398660012, Validation Loss: 0.001582402592540569\n"
     ]
    },
    {
     "name": "stderr",
     "output_type": "stream",
     "text": [
      "[I 2025-06-13 02:15:11,718] Trial 6 finished with value: 0.001520417562135196 and parameters: {'hidden_size': 27, 'num_layers': 2, 'learning_rate': 6.149830294927862e-05}. Best is trial 1 with value: 0.001049099412122126.\n"
     ]
    },
    {
     "name": "stdout",
     "output_type": "stream",
     "text": [
      "Epoch 10/10, Train Loss: 0.0015681426588418403, Validation Loss: 0.001520417562135196\n",
      "Epoch 1/10, Train Loss: 0.1096227758399064, Validation Loss: 0.053407011823873446\n",
      "Epoch 2/10, Train Loss: 0.016969341003199426, Validation Loss: 0.008587091052388505\n",
      "Epoch 3/10, Train Loss: 0.007291074964975712, Validation Loss: 0.005790492265153172\n",
      "Epoch 4/10, Train Loss: 0.004406458158253001, Validation Loss: 0.0033869966420771312\n",
      "Epoch 5/10, Train Loss: 0.003003975031584668, Validation Loss: 0.0026175862394006446\n",
      "Epoch 6/10, Train Loss: 0.0024183046013871684, Validation Loss: 0.002185345098559945\n",
      "Epoch 7/10, Train Loss: 0.0021016772966271375, Validation Loss: 0.001975119637451774\n",
      "Epoch 8/10, Train Loss: 0.0019300688969837575, Validation Loss: 0.0018754185326033998\n",
      "Epoch 9/10, Train Loss: 0.0018241217820802408, Validation Loss: 0.0017601623592857234\n"
     ]
    },
    {
     "name": "stderr",
     "output_type": "stream",
     "text": [
      "[I 2025-06-13 02:22:02,714] Trial 7 finished with value: 0.0017163364737387504 and parameters: {'hidden_size': 20, 'num_layers': 3, 'learning_rate': 3.905703770590797e-05}. Best is trial 1 with value: 0.001049099412122126.\n"
     ]
    },
    {
     "name": "stdout",
     "output_type": "stream",
     "text": [
      "Epoch 10/10, Train Loss: 0.0017483158123641385, Validation Loss: 0.0017163364737387504\n",
      "Epoch 1/10, Train Loss: 0.0030939448468140017, Validation Loss: 0.0014249456585252204\n",
      "Epoch 2/10, Train Loss: 0.001124009108056038, Validation Loss: 0.0013190560300947274\n",
      "Epoch 3/10, Train Loss: 0.0010454609116126805, Validation Loss: 0.0011481886387741135\n",
      "Epoch 4/10, Train Loss: 0.0009727351049701701, Validation Loss: 0.0009826617697682087\n",
      "Epoch 5/10, Train Loss: 0.0009392021165364531, Validation Loss: 0.0009368044969856792\n",
      "Epoch 6/10, Train Loss: 0.0009196628765479933, Validation Loss: 0.0009265109721584477\n",
      "Epoch 7/10, Train Loss: 0.0009002294805854115, Validation Loss: 0.000935814075878884\n",
      "Epoch 8/10, Train Loss: 0.0008765187499125543, Validation Loss: 0.0008678867173570551\n",
      "Epoch 9/10, Train Loss: 0.0008618043221669733, Validation Loss: 0.0010900018720735598\n"
     ]
    },
    {
     "name": "stderr",
     "output_type": "stream",
     "text": [
      "[I 2025-06-13 02:26:20,397] Trial 8 finished with value: 0.0008435776752601932 and parameters: {'hidden_size': 10, 'num_layers': 2, 'learning_rate': 0.011028140237963465}. Best is trial 8 with value: 0.0008435776752601932.\n"
     ]
    },
    {
     "name": "stdout",
     "output_type": "stream",
     "text": [
      "Epoch 10/10, Train Loss: 0.0008492793663394344, Validation Loss: 0.0008435776752601932\n",
      "Epoch 1/10, Train Loss: 0.05271100951109377, Validation Loss: 0.007591024036558382\n",
      "Epoch 2/10, Train Loss: 0.004572067395777917, Validation Loss: 0.0027401772820400995\n",
      "Epoch 3/10, Train Loss: 0.002272798562881559, Validation Loss: 0.0019298464924104148\n",
      "Epoch 4/10, Train Loss: 0.0018510305770161567, Validation Loss: 0.0017333276898166168\n",
      "Epoch 5/10, Train Loss: 0.0017148333380853523, Validation Loss: 0.0016402029418030638\n",
      "Epoch 6/10, Train Loss: 0.0016318176524896606, Validation Loss: 0.0015507925666266706\n",
      "Epoch 7/10, Train Loss: 0.0015715644390606016, Validation Loss: 0.0015337154289726844\n",
      "Epoch 8/10, Train Loss: 0.001523826983376191, Validation Loss: 0.0015635922662518712\n",
      "Epoch 9/10, Train Loss: 0.001477081575890245, Validation Loss: 0.0014491768379230052\n"
     ]
    },
    {
     "name": "stderr",
     "output_type": "stream",
     "text": [
      "[I 2025-06-13 02:38:45,274] Trial 9 finished with value: 0.001383574582154409 and parameters: {'hidden_size': 38, 'num_layers': 4, 'learning_rate': 6.27392531867856e-05}. Best is trial 8 with value: 0.0008435776752601932.\n"
     ]
    },
    {
     "name": "stdout",
     "output_type": "stream",
     "text": [
      "Epoch 10/10, Train Loss: 0.001439027301134257, Validation Loss: 0.001383574582154409\n",
      "Best hyperparameters: {'hidden_size': 10, 'num_layers': 2, 'learning_rate': 0.011028140237963465}\n",
      "Epoch 1/20, Train Loss: 0.002750815097561017, Validation Loss: 0.0013598793411236545\n",
      "Epoch 2/20, Train Loss: 0.0011269459479047927, Validation Loss: 0.0011536748717910577\n",
      "Epoch 3/20, Train Loss: 0.0010329357582790125, Validation Loss: 0.0009723298407402227\n",
      "Epoch 4/20, Train Loss: 0.0009578186664372603, Validation Loss: 0.000978729636850224\n",
      "Epoch 5/20, Train Loss: 0.0009265547392304456, Validation Loss: 0.0009700003408958383\n",
      "Epoch 6/20, Train Loss: 0.0009121936360660561, Validation Loss: 0.0009787537255478236\n",
      "Epoch 7/20, Train Loss: 0.0008961960580713665, Validation Loss: 0.0009243678382400018\n",
      "Epoch 8/20, Train Loss: 0.0008826757154455345, Validation Loss: 0.0008804468628636759\n",
      "Epoch 9/20, Train Loss: 0.0008786357898873791, Validation Loss: 0.0010193111511822572\n",
      "Epoch 10/20, Train Loss: 0.0008686556773648009, Validation Loss: 0.0008715566697755437\n",
      "Epoch 11/20, Train Loss: 0.0008609589862739661, Validation Loss: 0.0010156023916709986\n",
      "Epoch 12/20, Train Loss: 0.0008552407961939571, Validation Loss: 0.0008548253315073858\n",
      "Epoch 13/20, Train Loss: 0.0008447460305332273, Validation Loss: 0.0008300647135100742\n",
      "Epoch 14/20, Train Loss: 0.000838397362738673, Validation Loss: 0.0010089050323623678\n",
      "Epoch 15/20, Train Loss: 0.0008293579691918422, Validation Loss: 0.0008417332792305388\n",
      "Epoch 16/20, Train Loss: 0.0008210776364244188, Validation Loss: 0.000859314151297666\n",
      "Epoch 17/20, Train Loss: 0.0008097635851644532, Validation Loss: 0.000817224963545833\n",
      "Epoch 18/20, Train Loss: 0.0008036365814536169, Validation Loss: 0.0007965273954127457\n",
      "Epoch 19/20, Train Loss: 0.0007956719271510648, Validation Loss: 0.0007830679559461299\n",
      "Epoch 20/20, Train Loss: 0.0007915581509441931, Validation Loss: 0.0008019670103136763\n",
      "Model saved to C:\\Users\\aknin\\Desktop\\MLproject-main\\soc_lstm_model_new.pth\n"
     ]
    }
   ],
   "source": [
    "import torch\n",
    "import torch.nn as nn\n",
    "import torch.optim as optim\n",
    "import optuna\n",
    "\n",
    "# Define SoCLSTM\n",
    "class SoCLSTM(nn.Module):\n",
    "    def __init__(self, input_size, hidden_size, num_layers):\n",
    "        super(SoCLSTM, self).__init__()\n",
    "        self.hidden_size = hidden_size\n",
    "        self.num_layers = num_layers\n",
    "        self.lstm = nn.LSTM(input_size, hidden_size, num_layers, batch_first=True)\n",
    "        self.fc = nn.Linear(hidden_size, 1)\n",
    "\n",
    "    def forward(self, x):\n",
    "        h0 = torch.zeros(self.num_layers, x.size(0), self.hidden_size, dtype=x.dtype, device=x.device)\n",
    "        c0 = torch.zeros(self.num_layers, x.size(0), self.hidden_size, dtype=x.dtype, device=x.device)\n",
    "        out, _ = self.lstm(x, (h0, c0))\n",
    "        out = self.fc(out[:, -1, :])\n",
    "        return out\n",
    "\n",
    "# Training function\n",
    "def train_and_validate(model, criterion, optimizer, train_loader, val_loader, epochs, device, patience=20, min_delta=0.001):\n",
    "    history = {'train_loss': [], 'val_loss': []}\n",
    "    best_val_loss = float('inf')\n",
    "    epochs_no_improve = 0\n",
    "    \n",
    "    for epoch in range(epochs):\n",
    "        model.train()\n",
    "        train_loss = 0.0\n",
    "        for sequences, labels in train_loader:\n",
    "            sequences, labels = sequences.to(device), labels.to(device).unsqueeze(1)\n",
    "            optimizer.zero_grad()\n",
    "            outputs = model(sequences)\n",
    "            loss = criterion(outputs, labels)\n",
    "            loss.backward()\n",
    "            optimizer.step()\n",
    "            train_loss += loss.item()\n",
    "        train_loss /= len(train_loader)\n",
    "        history['train_loss'].append(train_loss)\n",
    "\n",
    "        model.eval()\n",
    "        val_loss = 0.0\n",
    "        with torch.no_grad():\n",
    "            for sequences, labels in val_loader:\n",
    "                sequences, labels = sequences.to(device), labels.to(device).unsqueeze(1)\n",
    "                outputs = model(sequences)\n",
    "                loss = criterion(outputs, labels)\n",
    "                val_loss += loss.item()\n",
    "        val_loss /= len(val_loader)\n",
    "        history['val_loss'].append(val_loss)\n",
    "\n",
    "        if val_loss < best_val_loss - min_delta:\n",
    "            best_val_loss = val_loss\n",
    "            epochs_no_improve = 0\n",
    "        else:\n",
    "            epochs_no_improve += 1\n",
    "\n",
    "        print(f'Epoch {epoch + 1}/{epochs}, Train Loss: {train_loss}, Validation Loss: {val_loss}')\n",
    "\n",
    "        if epochs_no_improve >= patience:\n",
    "            print('Early stopping triggered')\n",
    "            break\n",
    "\n",
    "    return history\n",
    "\n",
    "# Optuna optimization\n",
    "def objective(trial):\n",
    "    hidden_size = trial.suggest_int('hidden_size', 10, 100)\n",
    "    num_layers = trial.suggest_int('num_layers', 1, 5)\n",
    "    learning_rate = trial.suggest_float('learning_rate', 1e-5, 1e-1, log=True)\n",
    "\n",
    "    model = SoCLSTM(input_size=len(FEATURE_COLS), hidden_size=hidden_size, num_layers=num_layers).to(device)\n",
    "    optimizer = optim.Adam(model.parameters(), lr=learning_rate)\n",
    "    criterion = nn.MSELoss()\n",
    "\n",
    "    history = train_and_validate(model, criterion, optimizer, train_loader, val_loader, epochs=10, device=device)\n",
    "    return history['val_loss'][-1]\n",
    "\n",
    "study = optuna.create_study(direction='minimize')\n",
    "study.optimize(objective, n_trials=10)\n",
    "\n",
    "best_hyperparams = study.best_trial.params\n",
    "print(f\"Best hyperparameters: {best_hyperparams}\")\n",
    "\n",
    "# Train with best hyperparameters\n",
    "best_model = SoCLSTM(input_size=len(FEATURE_COLS), hidden_size=best_hyperparams['hidden_size'], num_layers=best_hyperparams['num_layers']).to(device)\n",
    "optimizer = optim.Adam(best_model.parameters(), lr=best_hyperparams['learning_rate'])\n",
    "criterion = nn.MSELoss()\n",
    "\n",
    "history = train_and_validate(best_model, criterion, optimizer, train_loader, val_loader, epochs=20, device=device)\n",
    "\n",
    "\n",
    "\n",
    "\n",
    "# Save the model\n",
    "model_path = os.path.join(project_dir, \"soc_lstm_model_new.pth\")\n",
    "torch.save({'model_state_dict': best_model.state_dict(), 'input_size': len(FEATURE_COLS)}, model_path)\n",
    "print(f\"Model saved to {model_path}\")"
   ]
  }
 ],
 "metadata": {
  "kernelspec": {
   "display_name": "Python 3",
   "language": "python",
   "name": "python3"
  },
  "language_info": {
   "codemirror_mode": {
    "name": "ipython",
    "version": 3
   },
   "file_extension": ".py",
   "mimetype": "text/x-python",
   "name": "python",
   "nbconvert_exporter": "python",
   "pygments_lexer": "ipython3",
   "version": "3.11.8"
  }
 },
 "nbformat": 4,
 "nbformat_minor": 5
}
